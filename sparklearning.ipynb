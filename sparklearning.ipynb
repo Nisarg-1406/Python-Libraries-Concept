{
  "nbformat": 4,
  "nbformat_minor": 0,
  "metadata": {
    "application/vnd.databricks.v1+notebook": {
      "dashboards": [],
      "language": "python",
      "notebookName": "sparklearning",
      "notebookOrigID": 3186056934171922,
      "widgets": {}
    },
    "kernelspec": {
      "display_name": "Python 3",
      "language": "python",
      "name": "python3"
    },
    "language_info": {
      "codemirror_mode": {
        "name": "ipython",
        "version": 3
      },
      "file_extension": ".py",
      "mimetype": "text/x-python",
      "name": "python",
      "nbconvert_exporter": "python",
      "pygments_lexer": "ipython3",
      "version": "3.8.5"
    },
    "colab": {
      "name": "sparklearning.ipynb",
      "provenance": [],
      "include_colab_link": true
    }
  },
  "cells": [
    {
      "cell_type": "markdown",
      "metadata": {
        "id": "view-in-github",
        "colab_type": "text"
      },
      "source": [
        "<a href=\"https://colab.research.google.com/github/Nisarg-1406/Python-Libraries-Concept/blob/main/sparklearning.ipynb\" target=\"_parent\"><img src=\"https://colab.research.google.com/assets/colab-badge.svg\" alt=\"Open In Colab\"/></a>"
      ]
    },
    {
      "cell_type": "code",
      "metadata": {
        "application/vnd.databricks.v1+cell": {
          "inputWidgets": {},
          "nuid": "40b279ee-d3aa-46d5-9e7b-f496b0f15c67",
          "showTitle": false,
          "title": ""
        },
        "id": "BtffqYXBcJG2",
        "outputId": "77543c2f-02c7-4a62-c926-6ce50306a3aa"
      },
      "source": [
        "## Executed as sparklearning file in Databricks community edition notebook \n",
        "# Course - https://www.udemy.com/course/spark-and-python-for-big-data-with-pyspark/\n",
        "\n",
        "## TOPICS\n",
        "# SECTION 8 - SPARK DATAFRAME BASICS\n",
        "# SECTION 9 - WALMART DATA FOR SPARK DATAFRAME PROJECT \n",
        "# SECTION 10 - THEORY ABOUT MACHINE LEARNING WITH PYSPARK\n",
        "# SECTION 11 - MACHINE LEARNING WITH PYSPARK (MLib)\n",
        "# SECTION 12 - LOGISTIC REGRESSION - CLASSIFICATION\n",
        "# SECTION 13 - TREE METHODS\n",
        "# SECTION 14 - K MEANS AND CLUSTERING\n",
        "# SECTION 15 - RECOMMENDER SYSTEM\n",
        "# SECTION 16 - NATURAL LANGUAGE PROCESSING\n",
        "\n",
        "## Could not do section 17 - spark streaming with python as it inlcudes the connection of ubuntu with virtual box in which my jupyter notebook is not supporting"
      ],
      "execution_count": null,
      "outputs": [
        {
          "output_type": "display_data",
          "data": {
            "text/html": [
              "<style scoped>\n",
              "  .ansiout {\n",
              "    display: block;\n",
              "    unicode-bidi: embed;\n",
              "    white-space: pre-wrap;\n",
              "    word-wrap: break-word;\n",
              "    word-break: break-all;\n",
              "    font-family: \"Source Code Pro\", \"Menlo\", monospace;;\n",
              "    font-size: 13px;\n",
              "    color: #555;\n",
              "    margin-left: 4px;\n",
              "    line-height: 19px;\n",
              "  }\n",
              "</style>"
            ]
          },
          "metadata": {
            "tags": [],
            "application/vnd.databricks.v1+output": {
              "arguments": {},
              "data": "",
              "errorSummary": "",
              "type": "ipynbError"
            }
          }
        }
      ]
    },
    {
      "cell_type": "code",
      "metadata": {
        "application/vnd.databricks.v1+cell": {
          "inputWidgets": {},
          "nuid": "370f4958-37a1-47fe-b4a4-947143cd331f",
          "showTitle": false,
          "title": ""
        },
        "id": "hC3iZ5UbcJG-",
        "outputId": "9b73cea0-041c-4e8f-c55d-b376399d1566"
      },
      "source": [
        "## SECTION 8 - SPARK DATAFRAME BASICS\n",
        "\n",
        "# Start spark session \n",
        "from pyspark.sql import SparkSession"
      ],
      "execution_count": null,
      "outputs": [
        {
          "output_type": "display_data",
          "data": {
            "text/html": [
              "<style scoped>\n",
              "  .ansiout {\n",
              "    display: block;\n",
              "    unicode-bidi: embed;\n",
              "    white-space: pre-wrap;\n",
              "    word-wrap: break-word;\n",
              "    word-break: break-all;\n",
              "    font-family: \"Source Code Pro\", \"Menlo\", monospace;;\n",
              "    font-size: 13px;\n",
              "    color: #555;\n",
              "    margin-left: 4px;\n",
              "    line-height: 19px;\n",
              "  }\n",
              "</style>\n",
              "<div class=\"ansiout\"></div>"
            ]
          },
          "metadata": {
            "tags": [],
            "application/vnd.databricks.v1+output": {
              "addedWidgets": {},
              "arguments": {},
              "data": "<div class=\"ansiout\"></div>",
              "datasetInfos": [],
              "removedWidgets": [],
              "type": "html"
            }
          }
        }
      ]
    },
    {
      "cell_type": "code",
      "metadata": {
        "application/vnd.databricks.v1+cell": {
          "inputWidgets": {},
          "nuid": "800cf0a2-b3da-40f3-ba16-ef16aece6382",
          "showTitle": false,
          "title": ""
        },
        "id": "g09-H_nDcJHB",
        "outputId": "5875d20b-646a-4912-bc63-b65930494365"
      },
      "source": [
        "spark = SparkSession.builder.appName(\"Basics\").getOrCreate()"
      ],
      "execution_count": null,
      "outputs": [
        {
          "output_type": "display_data",
          "data": {
            "text/html": [
              "<style scoped>\n",
              "  .ansiout {\n",
              "    display: block;\n",
              "    unicode-bidi: embed;\n",
              "    white-space: pre-wrap;\n",
              "    word-wrap: break-word;\n",
              "    word-break: break-all;\n",
              "    font-family: \"Source Code Pro\", \"Menlo\", monospace;;\n",
              "    font-size: 13px;\n",
              "    color: #555;\n",
              "    margin-left: 4px;\n",
              "    line-height: 19px;\n",
              "  }\n",
              "</style>\n",
              "<div class=\"ansiout\"></div>"
            ]
          },
          "metadata": {
            "tags": [],
            "application/vnd.databricks.v1+output": {
              "addedWidgets": {},
              "arguments": {},
              "data": "<div class=\"ansiout\"></div>",
              "datasetInfos": [],
              "removedWidgets": [],
              "type": "html"
            }
          }
        }
      ]
    },
    {
      "cell_type": "code",
      "metadata": {
        "application/vnd.databricks.v1+cell": {
          "inputWidgets": {},
          "nuid": "110da708-7431-47ac-95f5-5d213dc5811a",
          "showTitle": false,
          "title": ""
        },
        "id": "cpvONeyscJHD",
        "outputId": "4a027728-697a-4671-d5a3-8e8cd2e7cdf7"
      },
      "source": [
        "df1 = spark.read.format(\"json\").load(\"dbfs:/FileStore/shared_uploads/nisargmehta2000@gmail.com/people.json\")"
      ],
      "execution_count": null,
      "outputs": [
        {
          "output_type": "display_data",
          "data": {
            "text/html": [
              "<style scoped>\n",
              "  .ansiout {\n",
              "    display: block;\n",
              "    unicode-bidi: embed;\n",
              "    white-space: pre-wrap;\n",
              "    word-wrap: break-word;\n",
              "    word-break: break-all;\n",
              "    font-family: \"Source Code Pro\", \"Menlo\", monospace;;\n",
              "    font-size: 13px;\n",
              "    color: #555;\n",
              "    margin-left: 4px;\n",
              "    line-height: 19px;\n",
              "  }\n",
              "</style>\n",
              "<div class=\"ansiout\"></div>"
            ]
          },
          "metadata": {
            "tags": [],
            "application/vnd.databricks.v1+output": {
              "addedWidgets": {},
              "arguments": {},
              "data": "<div class=\"ansiout\"></div>",
              "datasetInfos": [],
              "removedWidgets": [],
              "type": "html"
            }
          }
        }
      ]
    },
    {
      "cell_type": "code",
      "metadata": {
        "application/vnd.databricks.v1+cell": {
          "inputWidgets": {},
          "nuid": "386611ea-2bec-4e4f-abd5-dc4a91fbbb0a",
          "showTitle": false,
          "title": ""
        },
        "id": "Sv2K7CuscJHE",
        "outputId": "43ad6fd6-53c5-4180-8b8d-6c705546c22c"
      },
      "source": [
        "df1.show() #Empty values are replaced by null"
      ],
      "execution_count": null,
      "outputs": [
        {
          "output_type": "display_data",
          "data": {
            "text/html": [
              "<style scoped>\n",
              "  .ansiout {\n",
              "    display: block;\n",
              "    unicode-bidi: embed;\n",
              "    white-space: pre-wrap;\n",
              "    word-wrap: break-word;\n",
              "    word-break: break-all;\n",
              "    font-family: \"Source Code Pro\", \"Menlo\", monospace;;\n",
              "    font-size: 13px;\n",
              "    color: #555;\n",
              "    margin-left: 4px;\n",
              "    line-height: 19px;\n",
              "  }\n",
              "</style>\n",
              "<div class=\"ansiout\">+----+-------+\n",
              " age|   name|\n",
              "+----+-------+\n",
              "null|Michael|\n",
              "  30|   Andy|\n",
              "  19| Justin|\n",
              "+----+-------+\n",
              "\n",
              "</div>"
            ]
          },
          "metadata": {
            "tags": [],
            "application/vnd.databricks.v1+output": {
              "addedWidgets": {},
              "arguments": {},
              "data": "<div class=\"ansiout\">+----+-------+\n| age|   name|\n+----+-------+\n|null|Michael|\n|  30|   Andy|\n|  19| Justin|\n+----+-------+\n\n</div>",
              "datasetInfos": [],
              "removedWidgets": [],
              "type": "html"
            }
          }
        }
      ]
    },
    {
      "cell_type": "code",
      "metadata": {
        "application/vnd.databricks.v1+cell": {
          "inputWidgets": {},
          "nuid": "8af0cb8e-aeca-44b3-8909-1eecbc5f87f4",
          "showTitle": false,
          "title": ""
        },
        "id": "22K1ADEAcJHG",
        "outputId": "c9458316-cc46-4120-c562-2d23dbbaf2ca"
      },
      "source": [
        "df1.printSchema() # As it is method, therefore to have the ()"
      ],
      "execution_count": null,
      "outputs": [
        {
          "output_type": "display_data",
          "data": {
            "text/html": [
              "<style scoped>\n",
              "  .ansiout {\n",
              "    display: block;\n",
              "    unicode-bidi: embed;\n",
              "    white-space: pre-wrap;\n",
              "    word-wrap: break-word;\n",
              "    word-break: break-all;\n",
              "    font-family: \"Source Code Pro\", \"Menlo\", monospace;;\n",
              "    font-size: 13px;\n",
              "    color: #555;\n",
              "    margin-left: 4px;\n",
              "    line-height: 19px;\n",
              "  }\n",
              "</style>\n",
              "<div class=\"ansiout\">root\n",
              "-- age: long (nullable = true)\n",
              "-- name: string (nullable = true)\n",
              "\n",
              "</div>"
            ]
          },
          "metadata": {
            "tags": [],
            "application/vnd.databricks.v1+output": {
              "addedWidgets": {},
              "arguments": {},
              "data": "<div class=\"ansiout\">root\n |-- age: long (nullable = true)\n |-- name: string (nullable = true)\n\n</div>",
              "datasetInfos": [],
              "removedWidgets": [],
              "type": "html"
            }
          }
        }
      ]
    },
    {
      "cell_type": "code",
      "metadata": {
        "application/vnd.databricks.v1+cell": {
          "inputWidgets": {},
          "nuid": "e61c8189-875d-4f1c-b7a1-4e01eb29af09",
          "showTitle": false,
          "title": ""
        },
        "id": "ajcEGNTKcJHI",
        "outputId": "420352ac-21c7-4211-9932-665efaec7f19"
      },
      "source": [
        "df1.columns"
      ],
      "execution_count": null,
      "outputs": [
        {
          "output_type": "display_data",
          "data": {
            "text/html": [
              "<style scoped>\n",
              "  .ansiout {\n",
              "    display: block;\n",
              "    unicode-bidi: embed;\n",
              "    white-space: pre-wrap;\n",
              "    word-wrap: break-word;\n",
              "    word-break: break-all;\n",
              "    font-family: \"Source Code Pro\", \"Menlo\", monospace;;\n",
              "    font-size: 13px;\n",
              "    color: #555;\n",
              "    margin-left: 4px;\n",
              "    line-height: 19px;\n",
              "  }\n",
              "</style>\n",
              "<div class=\"ansiout\">Out[9]: [&#39;age&#39;, &#39;name&#39;]</div>"
            ]
          },
          "metadata": {
            "tags": [],
            "application/vnd.databricks.v1+output": {
              "addedWidgets": {},
              "arguments": {},
              "data": "<div class=\"ansiout\">Out[9]: [&#39;age&#39;, &#39;name&#39;]</div>",
              "datasetInfos": [],
              "removedWidgets": [],
              "type": "html"
            }
          }
        }
      ]
    },
    {
      "cell_type": "code",
      "metadata": {
        "application/vnd.databricks.v1+cell": {
          "inputWidgets": {},
          "nuid": "32e0519f-8f0d-4f68-8f64-b92e6e208c63",
          "showTitle": false,
          "title": ""
        },
        "id": "etWl7AVZcJHK",
        "outputId": "a099361f-2875-46de-8dde-32ddfd3ebf56"
      },
      "source": [
        "df1.describe() #Summary of Dataframe. So it calls a dataframe of column summary which has some string in it and column age which also has some string in it. "
      ],
      "execution_count": null,
      "outputs": [
        {
          "output_type": "display_data",
          "data": {
            "text/html": [
              "<style scoped>\n",
              "  .ansiout {\n",
              "    display: block;\n",
              "    unicode-bidi: embed;\n",
              "    white-space: pre-wrap;\n",
              "    word-wrap: break-word;\n",
              "    word-break: break-all;\n",
              "    font-family: \"Source Code Pro\", \"Menlo\", monospace;;\n",
              "    font-size: 13px;\n",
              "    color: #555;\n",
              "    margin-left: 4px;\n",
              "    line-height: 19px;\n",
              "  }\n",
              "</style>\n",
              "<div class=\"ansiout\">Out[10]: DataFrame[summary: string, age: string, name: string]</div>"
            ]
          },
          "metadata": {
            "tags": [],
            "application/vnd.databricks.v1+output": {
              "addedWidgets": {},
              "arguments": {},
              "data": "<div class=\"ansiout\">Out[10]: DataFrame[summary: string, age: string, name: string]</div>",
              "datasetInfos": [],
              "removedWidgets": [],
              "type": "html"
            }
          }
        }
      ]
    },
    {
      "cell_type": "code",
      "metadata": {
        "application/vnd.databricks.v1+cell": {
          "inputWidgets": {},
          "nuid": "0c89f607-27d8-4d4d-9827-bac009b00443",
          "showTitle": false,
          "title": ""
        },
        "id": "XKZXspbBcJHL",
        "outputId": "48a225d5-6986-411a-d3a3-223e5855a0ea"
      },
      "source": [
        "df1.describe().show() # To entire see the dataframe. "
      ],
      "execution_count": null,
      "outputs": [
        {
          "output_type": "display_data",
          "data": {
            "text/html": [
              "<style scoped>\n",
              "  .ansiout {\n",
              "    display: block;\n",
              "    unicode-bidi: embed;\n",
              "    white-space: pre-wrap;\n",
              "    word-wrap: break-word;\n",
              "    word-break: break-all;\n",
              "    font-family: \"Source Code Pro\", \"Menlo\", monospace;;\n",
              "    font-size: 13px;\n",
              "    color: #555;\n",
              "    margin-left: 4px;\n",
              "    line-height: 19px;\n",
              "  }\n",
              "</style>\n",
              "<div class=\"ansiout\">+-------+------------------+-------+\n",
              "summary|               age|   name|\n",
              "+-------+------------------+-------+\n",
              "  count|                 2|      3|\n",
              "   mean|              24.5|   null|\n",
              " stddev|7.7781745930520225|   null|\n",
              "    min|                19|   Andy|\n",
              "    max|                30|Michael|\n",
              "+-------+------------------+-------+\n",
              "\n",
              "</div>"
            ]
          },
          "metadata": {
            "tags": [],
            "application/vnd.databricks.v1+output": {
              "addedWidgets": {},
              "arguments": {},
              "data": "<div class=\"ansiout\">+-------+------------------+-------+\n|summary|               age|   name|\n+-------+------------------+-------+\n|  count|                 2|      3|\n|   mean|              24.5|   null|\n| stddev|7.7781745930520225|   null|\n|    min|                19|   Andy|\n|    max|                30|Michael|\n+-------+------------------+-------+\n\n</div>",
              "datasetInfos": [],
              "removedWidgets": [],
              "type": "html"
            }
          }
        }
      ]
    },
    {
      "cell_type": "code",
      "metadata": {
        "application/vnd.databricks.v1+cell": {
          "inputWidgets": {},
          "nuid": "8dc1c8b8-9aff-409f-9f69-691b6f780422",
          "showTitle": false,
          "title": ""
        },
        "id": "H3AB0zuQcJHN",
        "outputId": "f13d4c1a-9ee6-4065-b0e7-0a1da5295530"
      },
      "source": [
        "# If the data is not very nice or not sure from where the data is being taken, we need to clarify the schema of the data\n",
        "from pyspark.sql.types import StructField, StringType, IntegerType, StructType"
      ],
      "execution_count": null,
      "outputs": [
        {
          "output_type": "display_data",
          "data": {
            "text/html": [
              "<style scoped>\n",
              "  .ansiout {\n",
              "    display: block;\n",
              "    unicode-bidi: embed;\n",
              "    white-space: pre-wrap;\n",
              "    word-wrap: break-word;\n",
              "    word-break: break-all;\n",
              "    font-family: \"Source Code Pro\", \"Menlo\", monospace;;\n",
              "    font-size: 13px;\n",
              "    color: #555;\n",
              "    margin-left: 4px;\n",
              "    line-height: 19px;\n",
              "  }\n",
              "</style>\n",
              "<div class=\"ansiout\"></div>"
            ]
          },
          "metadata": {
            "tags": [],
            "application/vnd.databricks.v1+output": {
              "addedWidgets": {},
              "arguments": {},
              "data": "<div class=\"ansiout\"></div>",
              "datasetInfos": [],
              "removedWidgets": [],
              "type": "html"
            }
          }
        }
      ]
    },
    {
      "cell_type": "code",
      "metadata": {
        "application/vnd.databricks.v1+cell": {
          "inputWidgets": {},
          "nuid": "0d8b5e72-23c5-4d64-8556-f569e9841658",
          "showTitle": false,
          "title": ""
        },
        "id": "3V7LUpxVcJHO",
        "outputId": "1a2a65c5-b5a5-42bf-c385-ee799c9e9a8f"
      },
      "source": [
        "# We are creating the list in which we are taking StructField in which we are taking name as 'age' which has the instance of IntegerType OR age is of datatype integer (age was of long type in the start) and 'True' is passed beacuse if there is null value then if we do not pass true then it will give the error. Same with other StructField of name col\n",
        "data_schema = [StructField('age', IntegerType(), True), StructField('name', StringType(), True)]"
      ],
      "execution_count": null,
      "outputs": [
        {
          "output_type": "display_data",
          "data": {
            "text/html": [
              "<style scoped>\n",
              "  .ansiout {\n",
              "    display: block;\n",
              "    unicode-bidi: embed;\n",
              "    white-space: pre-wrap;\n",
              "    word-wrap: break-word;\n",
              "    word-break: break-all;\n",
              "    font-family: \"Source Code Pro\", \"Menlo\", monospace;;\n",
              "    font-size: 13px;\n",
              "    color: #555;\n",
              "    margin-left: 4px;\n",
              "    line-height: 19px;\n",
              "  }\n",
              "</style>\n",
              "<div class=\"ansiout\"></div>"
            ]
          },
          "metadata": {
            "tags": [],
            "application/vnd.databricks.v1+output": {
              "addedWidgets": {},
              "arguments": {},
              "data": "<div class=\"ansiout\"></div>",
              "datasetInfos": [],
              "removedWidgets": [],
              "type": "html"
            }
          }
        }
      ]
    },
    {
      "cell_type": "code",
      "metadata": {
        "application/vnd.databricks.v1+cell": {
          "inputWidgets": {},
          "nuid": "b7d3f9ca-df46-4d87-a642-6f6c7b59e658",
          "showTitle": false,
          "title": ""
        },
        "id": "PpbgQxrbcJHQ",
        "outputId": "ed8a9c42-bcd6-49ad-95e8-c4e8600a7354"
      },
      "source": [
        "# Putting the data schema into final struct\n",
        "final_struct = StructType(fields=data_schema) "
      ],
      "execution_count": null,
      "outputs": [
        {
          "output_type": "display_data",
          "data": {
            "text/html": [
              "<style scoped>\n",
              "  .ansiout {\n",
              "    display: block;\n",
              "    unicode-bidi: embed;\n",
              "    white-space: pre-wrap;\n",
              "    word-wrap: break-word;\n",
              "    word-break: break-all;\n",
              "    font-family: \"Source Code Pro\", \"Menlo\", monospace;;\n",
              "    font-size: 13px;\n",
              "    color: #555;\n",
              "    margin-left: 4px;\n",
              "    line-height: 19px;\n",
              "  }\n",
              "</style>\n",
              "<div class=\"ansiout\"></div>"
            ]
          },
          "metadata": {
            "tags": [],
            "application/vnd.databricks.v1+output": {
              "addedWidgets": {},
              "arguments": {},
              "data": "<div class=\"ansiout\"></div>",
              "datasetInfos": [],
              "removedWidgets": [],
              "type": "html"
            }
          }
        }
      ]
    },
    {
      "cell_type": "code",
      "metadata": {
        "application/vnd.databricks.v1+cell": {
          "inputWidgets": {},
          "nuid": "a2cfe146-93aa-48a7-b0c2-f9d710f161e3",
          "showTitle": false,
          "title": ""
        },
        "id": "3UpWbtjEcJHR",
        "outputId": "2350f91b-50ea-4d15-a03d-0720a02dd74f"
      },
      "source": [
        "df1 = spark.read.format(\"json\").load(\"dbfs:/FileStore/shared_uploads/nisargmehta2000@gmail.com/people.json\",schema=final_struct)"
      ],
      "execution_count": null,
      "outputs": [
        {
          "output_type": "display_data",
          "data": {
            "text/html": [
              "<style scoped>\n",
              "  .ansiout {\n",
              "    display: block;\n",
              "    unicode-bidi: embed;\n",
              "    white-space: pre-wrap;\n",
              "    word-wrap: break-word;\n",
              "    word-break: break-all;\n",
              "    font-family: \"Source Code Pro\", \"Menlo\", monospace;;\n",
              "    font-size: 13px;\n",
              "    color: #555;\n",
              "    margin-left: 4px;\n",
              "    line-height: 19px;\n",
              "  }\n",
              "</style>\n",
              "<div class=\"ansiout\"></div>"
            ]
          },
          "metadata": {
            "tags": [],
            "application/vnd.databricks.v1+output": {
              "addedWidgets": {},
              "arguments": {},
              "data": "<div class=\"ansiout\"></div>",
              "datasetInfos": [],
              "removedWidgets": [],
              "type": "html"
            }
          }
        }
      ]
    },
    {
      "cell_type": "code",
      "metadata": {
        "application/vnd.databricks.v1+cell": {
          "inputWidgets": {},
          "nuid": "37e028ab-aaea-41f6-b89d-20264ea71968",
          "showTitle": false,
          "title": ""
        },
        "id": "YGD7dkX1cJHS",
        "outputId": "b0294217-af7f-4dbe-a077-41ff9b12a2df"
      },
      "source": [
        "df1.printSchema()"
      ],
      "execution_count": null,
      "outputs": [
        {
          "output_type": "display_data",
          "data": {
            "text/html": [
              "<style scoped>\n",
              "  .ansiout {\n",
              "    display: block;\n",
              "    unicode-bidi: embed;\n",
              "    white-space: pre-wrap;\n",
              "    word-wrap: break-word;\n",
              "    word-break: break-all;\n",
              "    font-family: \"Source Code Pro\", \"Menlo\", monospace;;\n",
              "    font-size: 13px;\n",
              "    color: #555;\n",
              "    margin-left: 4px;\n",
              "    line-height: 19px;\n",
              "  }\n",
              "</style>\n",
              "<div class=\"ansiout\">root\n",
              "-- age: integer (nullable = true)\n",
              "-- name: string (nullable = true)\n",
              "\n",
              "</div>"
            ]
          },
          "metadata": {
            "tags": [],
            "application/vnd.databricks.v1+output": {
              "addedWidgets": {},
              "arguments": {},
              "data": "<div class=\"ansiout\">root\n |-- age: integer (nullable = true)\n |-- name: string (nullable = true)\n\n</div>",
              "datasetInfos": [],
              "removedWidgets": [],
              "type": "html"
            }
          }
        }
      ]
    },
    {
      "cell_type": "code",
      "metadata": {
        "application/vnd.databricks.v1+cell": {
          "inputWidgets": {},
          "nuid": "d9f6a8a2-7958-43c7-b8e6-c1b49a322092",
          "showTitle": false,
          "title": ""
        },
        "id": "WHazykW8cJHU",
        "outputId": "96003fcd-99cd-449e-c8e1-cf6ff59d6e50"
      },
      "source": [
        "# To get the column object\n",
        "type(df1['age'])"
      ],
      "execution_count": null,
      "outputs": [
        {
          "output_type": "display_data",
          "data": {
            "text/html": [
              "<style scoped>\n",
              "  .ansiout {\n",
              "    display: block;\n",
              "    unicode-bidi: embed;\n",
              "    white-space: pre-wrap;\n",
              "    word-wrap: break-word;\n",
              "    word-break: break-all;\n",
              "    font-family: \"Source Code Pro\", \"Menlo\", monospace;;\n",
              "    font-size: 13px;\n",
              "    color: #555;\n",
              "    margin-left: 4px;\n",
              "    line-height: 19px;\n",
              "  }\n",
              "</style>\n",
              "<div class=\"ansiout\">Out[19]: pyspark.sql.column.Column</div>"
            ]
          },
          "metadata": {
            "tags": [],
            "application/vnd.databricks.v1+output": {
              "addedWidgets": {},
              "arguments": {},
              "data": "<div class=\"ansiout\">Out[19]: pyspark.sql.column.Column</div>",
              "datasetInfos": [],
              "removedWidgets": [],
              "type": "html"
            }
          }
        }
      ]
    },
    {
      "cell_type": "code",
      "metadata": {
        "application/vnd.databricks.v1+cell": {
          "inputWidgets": {},
          "nuid": "fde66550-dabd-48cc-9b00-ea17f9fca0b5",
          "showTitle": false,
          "title": ""
        },
        "id": "XUVPQ4SCcJHV",
        "outputId": "65e5eaf3-99aa-4f40-ea9c-4f52b98edeae"
      },
      "source": [
        "# Want to get dataframe with single column - we use the select() method\n",
        "df1.select(\"age\").show()\n",
        "type(df1.select(\"age\")) # Dataframe"
      ],
      "execution_count": null,
      "outputs": [
        {
          "output_type": "display_data",
          "data": {
            "text/html": [
              "<style scoped>\n",
              "  .ansiout {\n",
              "    display: block;\n",
              "    unicode-bidi: embed;\n",
              "    white-space: pre-wrap;\n",
              "    word-wrap: break-word;\n",
              "    word-break: break-all;\n",
              "    font-family: \"Source Code Pro\", \"Menlo\", monospace;;\n",
              "    font-size: 13px;\n",
              "    color: #555;\n",
              "    margin-left: 4px;\n",
              "    line-height: 19px;\n",
              "  }\n",
              "</style>\n",
              "<div class=\"ansiout\">+----+\n",
              " age|\n",
              "+----+\n",
              "null|\n",
              "  30|\n",
              "  19|\n",
              "+----+\n",
              "\n",
              "Out[23]: pyspark.sql.dataframe.DataFrame</div>"
            ]
          },
          "metadata": {
            "tags": [],
            "application/vnd.databricks.v1+output": {
              "addedWidgets": {},
              "arguments": {},
              "data": "<div class=\"ansiout\">+----+\n| age|\n+----+\n|null|\n|  30|\n|  19|\n+----+\n\nOut[23]: pyspark.sql.dataframe.DataFrame</div>",
              "datasetInfos": [],
              "removedWidgets": [],
              "type": "html"
            }
          }
        }
      ]
    },
    {
      "cell_type": "code",
      "metadata": {
        "application/vnd.databricks.v1+cell": {
          "inputWidgets": {},
          "nuid": "867c361a-da19-4351-a0f3-cbbcaf9b9a26",
          "showTitle": false,
          "title": ""
        },
        "id": "3hKjNmXhcJHW",
        "outputId": "5c0e484e-0300-498a-bed9-606dcdc76b7a"
      },
      "source": [
        "# To get the list of row objects\n",
        "df1.head(3)[1]\n",
        "\n",
        "# There is row object and col object is the sparks ability to read from a distributed source and map that out to the distributed computing "
      ],
      "execution_count": null,
      "outputs": [
        {
          "output_type": "display_data",
          "data": {
            "text/html": [
              "<style scoped>\n",
              "  .ansiout {\n",
              "    display: block;\n",
              "    unicode-bidi: embed;\n",
              "    white-space: pre-wrap;\n",
              "    word-wrap: break-word;\n",
              "    word-break: break-all;\n",
              "    font-family: \"Source Code Pro\", \"Menlo\", monospace;;\n",
              "    font-size: 13px;\n",
              "    color: #555;\n",
              "    margin-left: 4px;\n",
              "    line-height: 19px;\n",
              "  }\n",
              "</style>\n",
              "<div class=\"ansiout\">Out[26]: Row(age=30, name=&#39;Andy&#39;)</div>"
            ]
          },
          "metadata": {
            "tags": [],
            "application/vnd.databricks.v1+output": {
              "addedWidgets": {},
              "arguments": {},
              "data": "<div class=\"ansiout\">Out[26]: Row(age=30, name=&#39;Andy&#39;)</div>",
              "datasetInfos": [],
              "removedWidgets": [],
              "type": "html"
            }
          }
        }
      ]
    },
    {
      "cell_type": "code",
      "metadata": {
        "application/vnd.databricks.v1+cell": {
          "inputWidgets": {},
          "nuid": "9cbb6e7c-b60d-4496-b8e1-fdb698e19d1d",
          "showTitle": false,
          "title": ""
        },
        "id": "Vic12iZtcJHX",
        "outputId": "b35ab7e4-b59d-4b43-d9ec-bf9348c1f295"
      },
      "source": [
        "# Select multiple columns - It returns the dataframes of 2 columns in this case\n",
        "df1.select(['age','name']).show()"
      ],
      "execution_count": null,
      "outputs": [
        {
          "output_type": "display_data",
          "data": {
            "text/html": [
              "<style scoped>\n",
              "  .ansiout {\n",
              "    display: block;\n",
              "    unicode-bidi: embed;\n",
              "    white-space: pre-wrap;\n",
              "    word-wrap: break-word;\n",
              "    word-break: break-all;\n",
              "    font-family: \"Source Code Pro\", \"Menlo\", monospace;;\n",
              "    font-size: 13px;\n",
              "    color: #555;\n",
              "    margin-left: 4px;\n",
              "    line-height: 19px;\n",
              "  }\n",
              "</style>\n",
              "<div class=\"ansiout\">+----+-------+\n",
              " age|   name|\n",
              "+----+-------+\n",
              "null|Michael|\n",
              "  30|   Andy|\n",
              "  19| Justin|\n",
              "+----+-------+\n",
              "\n",
              "</div>"
            ]
          },
          "metadata": {
            "tags": [],
            "application/vnd.databricks.v1+output": {
              "addedWidgets": {},
              "arguments": {},
              "data": "<div class=\"ansiout\">+----+-------+\n| age|   name|\n+----+-------+\n|null|Michael|\n|  30|   Andy|\n|  19| Justin|\n+----+-------+\n\n</div>",
              "datasetInfos": [],
              "removedWidgets": [],
              "type": "html"
            }
          }
        }
      ]
    },
    {
      "cell_type": "code",
      "metadata": {
        "application/vnd.databricks.v1+cell": {
          "inputWidgets": {},
          "nuid": "4a7079b5-44a1-4080-bc7b-bd3ce8286db7",
          "showTitle": false,
          "title": ""
        },
        "id": "7JJK5y1QcJHY",
        "outputId": "6a11f5b8-a3e0-40d4-8718-451d55fc22f7"
      },
      "source": [
        "# To create the new column - we use withColumn function where first parameter is the name of the column and second parameter is the existing col -> It is column.Column datatype. ALSO THIS CHANGES ARE NOT PERMENANT ON THE ORIGINAL DATAFRAME.  \n",
        "df1.withColumn('newage', df1['age']).show()\n",
        "\n",
        "df1.withColumn('double_age', df1['age']*2).show()"
      ],
      "execution_count": null,
      "outputs": [
        {
          "output_type": "display_data",
          "data": {
            "text/html": [
              "<style scoped>\n",
              "  .ansiout {\n",
              "    display: block;\n",
              "    unicode-bidi: embed;\n",
              "    white-space: pre-wrap;\n",
              "    word-wrap: break-word;\n",
              "    word-break: break-all;\n",
              "    font-family: \"Source Code Pro\", \"Menlo\", monospace;;\n",
              "    font-size: 13px;\n",
              "    color: #555;\n",
              "    margin-left: 4px;\n",
              "    line-height: 19px;\n",
              "  }\n",
              "</style>\n",
              "<div class=\"ansiout\">+----+-------+------+\n",
              " age|   name|newage|\n",
              "+----+-------+------+\n",
              "null|Michael|  null|\n",
              "  30|   Andy|    30|\n",
              "  19| Justin|    19|\n",
              "+----+-------+------+\n",
              "\n",
              "+----+-------+----------+\n",
              " age|   name|double_age|\n",
              "+----+-------+----------+\n",
              "null|Michael|      null|\n",
              "  30|   Andy|        60|\n",
              "  19| Justin|        38|\n",
              "+----+-------+----------+\n",
              "\n",
              "</div>"
            ]
          },
          "metadata": {
            "tags": [],
            "application/vnd.databricks.v1+output": {
              "addedWidgets": {},
              "arguments": {},
              "data": "<div class=\"ansiout\">+----+-------+------+\n| age|   name|newage|\n+----+-------+------+\n|null|Michael|  null|\n|  30|   Andy|    30|\n|  19| Justin|    19|\n+----+-------+------+\n\n+----+-------+----------+\n| age|   name|double_age|\n+----+-------+----------+\n|null|Michael|      null|\n|  30|   Andy|        60|\n|  19| Justin|        38|\n+----+-------+----------+\n\n</div>",
              "datasetInfos": [],
              "removedWidgets": [],
              "type": "html"
            }
          }
        }
      ]
    },
    {
      "cell_type": "code",
      "metadata": {
        "application/vnd.databricks.v1+cell": {
          "inputWidgets": {},
          "nuid": "0dfbb2ae-6389-49a3-a06f-8b21d0c2c208",
          "showTitle": false,
          "title": ""
        },
        "id": "9ScDGZgLcJHZ",
        "outputId": "2b351e84-2cfa-4086-d711-cc9da104f2ea"
      },
      "source": [
        "# To change the name of the column \n",
        "df1.withColumnRenamed('age', 'my_new_age').show()"
      ],
      "execution_count": null,
      "outputs": [
        {
          "output_type": "display_data",
          "data": {
            "text/html": [
              "<style scoped>\n",
              "  .ansiout {\n",
              "    display: block;\n",
              "    unicode-bidi: embed;\n",
              "    white-space: pre-wrap;\n",
              "    word-wrap: break-word;\n",
              "    word-break: break-all;\n",
              "    font-family: \"Source Code Pro\", \"Menlo\", monospace;;\n",
              "    font-size: 13px;\n",
              "    color: #555;\n",
              "    margin-left: 4px;\n",
              "    line-height: 19px;\n",
              "  }\n",
              "</style>\n",
              "<div class=\"ansiout\">+----------+-------+\n",
              "my_new_age|   name|\n",
              "+----------+-------+\n",
              "      null|Michael|\n",
              "        30|   Andy|\n",
              "        19| Justin|\n",
              "+----------+-------+\n",
              "\n",
              "</div>"
            ]
          },
          "metadata": {
            "tags": [],
            "application/vnd.databricks.v1+output": {
              "addedWidgets": {},
              "arguments": {},
              "data": "<div class=\"ansiout\">+----------+-------+\n|my_new_age|   name|\n+----------+-------+\n|      null|Michael|\n|        30|   Andy|\n|        19| Justin|\n+----------+-------+\n\n</div>",
              "datasetInfos": [],
              "removedWidgets": [],
              "type": "html"
            }
          }
        }
      ]
    },
    {
      "cell_type": "code",
      "metadata": {
        "application/vnd.databricks.v1+cell": {
          "inputWidgets": {},
          "nuid": "b0f5c3bf-e0e5-4337-955d-702480c1c70e",
          "showTitle": false,
          "title": ""
        },
        "id": "lednMntecJHa",
        "outputId": "3e18388a-6442-4795-a022-1d2fe1fdee52"
      },
      "source": [
        "# sql temp view - createOrReplaceTempView() -> will create the temp view and if already temp view is created then it will replace the temp view \n",
        "df1.createOrReplaceTempView('people') # with this we have registered the sql temp view"
      ],
      "execution_count": null,
      "outputs": [
        {
          "output_type": "display_data",
          "data": {
            "text/html": [
              "<style scoped>\n",
              "  .ansiout {\n",
              "    display: block;\n",
              "    unicode-bidi: embed;\n",
              "    white-space: pre-wrap;\n",
              "    word-wrap: break-word;\n",
              "    word-break: break-all;\n",
              "    font-family: \"Source Code Pro\", \"Menlo\", monospace;;\n",
              "    font-size: 13px;\n",
              "    color: #555;\n",
              "    margin-left: 4px;\n",
              "    line-height: 19px;\n",
              "  }\n",
              "</style>\n",
              "<div class=\"ansiout\"></div>"
            ]
          },
          "metadata": {
            "tags": [],
            "application/vnd.databricks.v1+output": {
              "addedWidgets": {},
              "arguments": {},
              "data": "<div class=\"ansiout\"></div>",
              "datasetInfos": [],
              "removedWidgets": [],
              "type": "html"
            }
          }
        }
      ]
    },
    {
      "cell_type": "code",
      "metadata": {
        "application/vnd.databricks.v1+cell": {
          "inputWidgets": {},
          "nuid": "f9308edd-a9a7-4074-adf0-4d78f0faa6fd",
          "showTitle": false,
          "title": ""
        },
        "id": "gqcnwbeWcJHb",
        "outputId": "6f3c568f-14c9-4903-bc40-c87c2bd888a2"
      },
      "source": [
        "# As a string, passing the direct sql queries \n",
        "results = spark.sql(\"SELECT * FROM people\")\n",
        "results.show()"
      ],
      "execution_count": null,
      "outputs": [
        {
          "output_type": "display_data",
          "data": {
            "text/html": [
              "<style scoped>\n",
              "  .ansiout {\n",
              "    display: block;\n",
              "    unicode-bidi: embed;\n",
              "    white-space: pre-wrap;\n",
              "    word-wrap: break-word;\n",
              "    word-break: break-all;\n",
              "    font-family: \"Source Code Pro\", \"Menlo\", monospace;;\n",
              "    font-size: 13px;\n",
              "    color: #555;\n",
              "    margin-left: 4px;\n",
              "    line-height: 19px;\n",
              "  }\n",
              "</style>\n",
              "<div class=\"ansiout\">+----+-------+\n",
              " age|   name|\n",
              "+----+-------+\n",
              "null|Michael|\n",
              "  30|   Andy|\n",
              "  19| Justin|\n",
              "+----+-------+\n",
              "\n",
              "</div>"
            ]
          },
          "metadata": {
            "tags": [],
            "application/vnd.databricks.v1+output": {
              "addedWidgets": {},
              "arguments": {},
              "data": "<div class=\"ansiout\">+----+-------+\n| age|   name|\n+----+-------+\n|null|Michael|\n|  30|   Andy|\n|  19| Justin|\n+----+-------+\n\n</div>",
              "datasetInfos": [],
              "removedWidgets": [],
              "type": "html"
            }
          }
        }
      ]
    },
    {
      "cell_type": "code",
      "metadata": {
        "application/vnd.databricks.v1+cell": {
          "inputWidgets": {},
          "nuid": "1c2dbb65-9ced-4f95-8a52-47015276a034",
          "showTitle": false,
          "title": ""
        },
        "id": "J57yT_WecJHc",
        "outputId": "22cdd6d7-bd8b-4306-f3d6-1b2a56737128"
      },
      "source": [
        "new_results = spark.sql(\"SELECT * FROM people WHERE age = 30\")\n",
        "new_results.show()"
      ],
      "execution_count": null,
      "outputs": [
        {
          "output_type": "display_data",
          "data": {
            "text/html": [
              "<style scoped>\n",
              "  .ansiout {\n",
              "    display: block;\n",
              "    unicode-bidi: embed;\n",
              "    white-space: pre-wrap;\n",
              "    word-wrap: break-word;\n",
              "    word-break: break-all;\n",
              "    font-family: \"Source Code Pro\", \"Menlo\", monospace;;\n",
              "    font-size: 13px;\n",
              "    color: #555;\n",
              "    margin-left: 4px;\n",
              "    line-height: 19px;\n",
              "  }\n",
              "</style>\n",
              "<div class=\"ansiout\">+---+----+\n",
              "age|name|\n",
              "+---+----+\n",
              " 30|Andy|\n",
              "+---+----+\n",
              "\n",
              "</div>"
            ]
          },
          "metadata": {
            "tags": [],
            "application/vnd.databricks.v1+output": {
              "addedWidgets": {},
              "arguments": {},
              "data": "<div class=\"ansiout\">+---+----+\n|age|name|\n+---+----+\n| 30|Andy|\n+---+----+\n\n</div>",
              "datasetInfos": [],
              "removedWidgets": [],
              "type": "html"
            }
          }
        }
      ]
    },
    {
      "cell_type": "code",
      "metadata": {
        "application/vnd.databricks.v1+cell": {
          "inputWidgets": {},
          "nuid": "4215f822-2dcd-4d4a-a8c1-30b933a8128a",
          "showTitle": false,
          "title": ""
        },
        "id": "9i0cTgCgcJHd",
        "outputId": "f1365d45-e127-4951-eb67-3fe75848a699"
      },
      "source": [
        "spark = SparkSession.builder.appName(\"ops\").getOrCreate()"
      ],
      "execution_count": null,
      "outputs": [
        {
          "output_type": "display_data",
          "data": {
            "text/html": [
              "<style scoped>\n",
              "  .ansiout {\n",
              "    display: block;\n",
              "    unicode-bidi: embed;\n",
              "    white-space: pre-wrap;\n",
              "    word-wrap: break-word;\n",
              "    word-break: break-all;\n",
              "    font-family: \"Source Code Pro\", \"Menlo\", monospace;;\n",
              "    font-size: 13px;\n",
              "    color: #555;\n",
              "    margin-left: 4px;\n",
              "    line-height: 19px;\n",
              "  }\n",
              "</style>\n",
              "<div class=\"ansiout\"></div>"
            ]
          },
          "metadata": {
            "tags": [],
            "application/vnd.databricks.v1+output": {
              "addedWidgets": {},
              "arguments": {},
              "data": "<div class=\"ansiout\"></div>",
              "datasetInfos": [],
              "removedWidgets": [],
              "type": "html"
            }
          }
        }
      ]
    },
    {
      "cell_type": "code",
      "metadata": {
        "application/vnd.databricks.v1+cell": {
          "inputWidgets": {},
          "nuid": "0e6e0962-7f43-4e08-b26b-4b49f42f34a1",
          "showTitle": false,
          "title": ""
        },
        "id": "jpWR0KBtcJHf",
        "outputId": "21e2e1e6-51a1-472f-9d2f-ebceb3778ec3"
      },
      "source": [
        "df1 = spark.read.format(\"csv\").load(\"dbfs:/FileStore/shared_uploads/nisargmehta2000@gmail.com/appl_stock.csv\", inferSchema = True, header = True) # header = True means very first row contains the column name "
      ],
      "execution_count": null,
      "outputs": [
        {
          "output_type": "display_data",
          "data": {
            "text/html": [
              "<style scoped>\n",
              "  .ansiout {\n",
              "    display: block;\n",
              "    unicode-bidi: embed;\n",
              "    white-space: pre-wrap;\n",
              "    word-wrap: break-word;\n",
              "    word-break: break-all;\n",
              "    font-family: \"Source Code Pro\", \"Menlo\", monospace;;\n",
              "    font-size: 13px;\n",
              "    color: #555;\n",
              "    margin-left: 4px;\n",
              "    line-height: 19px;\n",
              "  }\n",
              "</style>\n",
              "<div class=\"ansiout\"></div>"
            ]
          },
          "metadata": {
            "tags": [],
            "application/vnd.databricks.v1+output": {
              "addedWidgets": {},
              "arguments": {},
              "data": "<div class=\"ansiout\"></div>",
              "datasetInfos": [],
              "removedWidgets": [],
              "type": "html"
            }
          }
        }
      ]
    },
    {
      "cell_type": "code",
      "metadata": {
        "application/vnd.databricks.v1+cell": {
          "inputWidgets": {},
          "nuid": "aa32687b-694f-4900-b73f-8cf46a3e3725",
          "showTitle": false,
          "title": ""
        },
        "id": "SCDERpMtcJHg",
        "outputId": "e7007a47-cb80-4488-84af-1a3bd5d0e868"
      },
      "source": [
        "df1.printSchema()"
      ],
      "execution_count": null,
      "outputs": [
        {
          "output_type": "display_data",
          "data": {
            "text/html": [
              "<style scoped>\n",
              "  .ansiout {\n",
              "    display: block;\n",
              "    unicode-bidi: embed;\n",
              "    white-space: pre-wrap;\n",
              "    word-wrap: break-word;\n",
              "    word-break: break-all;\n",
              "    font-family: \"Source Code Pro\", \"Menlo\", monospace;;\n",
              "    font-size: 13px;\n",
              "    color: #555;\n",
              "    margin-left: 4px;\n",
              "    line-height: 19px;\n",
              "  }\n",
              "</style>\n",
              "<div class=\"ansiout\">root\n",
              "-- Date: string (nullable = true)\n",
              "-- Open: double (nullable = true)\n",
              "-- High: double (nullable = true)\n",
              "-- Low: double (nullable = true)\n",
              "-- Close: double (nullable = true)\n",
              "-- Volume: integer (nullable = true)\n",
              "-- Adj Close: double (nullable = true)\n",
              "\n",
              "</div>"
            ]
          },
          "metadata": {
            "tags": [],
            "application/vnd.databricks.v1+output": {
              "addedWidgets": {},
              "arguments": {},
              "data": "<div class=\"ansiout\">root\n |-- Date: string (nullable = true)\n |-- Open: double (nullable = true)\n |-- High: double (nullable = true)\n |-- Low: double (nullable = true)\n |-- Close: double (nullable = true)\n |-- Volume: integer (nullable = true)\n |-- Adj Close: double (nullable = true)\n\n</div>",
              "datasetInfos": [],
              "removedWidgets": [],
              "type": "html"
            }
          }
        }
      ]
    },
    {
      "cell_type": "code",
      "metadata": {
        "application/vnd.databricks.v1+cell": {
          "inputWidgets": {},
          "nuid": "8c391e00-1d96-489f-b67a-3e6967dc3c50",
          "showTitle": false,
          "title": ""
        },
        "id": "ezvYxHPMcJHh",
        "outputId": "cb2d1016-5d3b-4cd5-dc93-ba9cc010f95f"
      },
      "source": [
        "# To filter out the data - spark dataframes are built on top of the spark sql platforms \n",
        "# using sql\n",
        "# df1.filter(\"Close < 500\").show() # Shows all of the column\n",
        "# df1.filter(\"Close < 500\").select('open').show() # showing single column \n",
        "df1.filter(\"Close < 500\").select(['open','close','low']).show() # To show multiple "
      ],
      "execution_count": null,
      "outputs": [
        {
          "output_type": "display_data",
          "data": {
            "text/html": [
              "<style scoped>\n",
              "  .ansiout {\n",
              "    display: block;\n",
              "    unicode-bidi: embed;\n",
              "    white-space: pre-wrap;\n",
              "    word-wrap: break-word;\n",
              "    word-break: break-all;\n",
              "    font-family: \"Source Code Pro\", \"Menlo\", monospace;;\n",
              "    font-size: 13px;\n",
              "    color: #555;\n",
              "    margin-left: 4px;\n",
              "    line-height: 19px;\n",
              "  }\n",
              "</style>\n",
              "<div class=\"ansiout\">+------------------+------------------+------------------+\n",
              "              open|             close|               low|\n",
              "+------------------+------------------+------------------+\n",
              "        213.429998|        214.009998|212.38000099999996|\n",
              "        214.599998|        214.379993|        213.249994|\n",
              "        214.379993|        210.969995|        210.750004|\n",
              "            211.75|            210.58|        209.050005|\n",
              "        210.299994|211.98000499999998|209.06000500000002|\n",
              "212.79999700000002|210.11000299999998|        208.450005|\n",
              "209.18999499999998|        207.720001|        206.419998|\n",
              "        207.870005|        210.650002|        204.099998|\n",
              "210.11000299999998|            209.43|        209.020004|\n",
              "210.92999500000002|            205.93|        205.869999|\n",
              "        208.330002|        215.039995|        207.240004|\n",
              "        214.910006|            211.73|        209.500002|\n",
              "        212.079994|        208.069996|        207.210003|\n",
              "206.78000600000001|            197.75|            197.16|\n",
              "202.51000200000001|        203.070002|        200.190002|\n",
              "205.95000100000001|        205.940001|        202.580004|\n",
              "        206.849995|        207.880005|        199.530001|\n",
              "        204.930004|        199.289995|        198.699995|\n",
              "        201.079996|        192.060003|        190.250002|\n",
              "192.36999699999998|        194.729998|191.29999899999999|\n",
              "+------------------+------------------+------------------+\n",
              "only showing top 20 rows\n",
              "\n",
              "</div>"
            ]
          },
          "metadata": {
            "tags": [],
            "application/vnd.databricks.v1+output": {
              "addedWidgets": {},
              "arguments": {},
              "data": "<div class=\"ansiout\">+------------------+------------------+------------------+\n|              open|             close|               low|\n+------------------+------------------+------------------+\n|        213.429998|        214.009998|212.38000099999996|\n|        214.599998|        214.379993|        213.249994|\n|        214.379993|        210.969995|        210.750004|\n|            211.75|            210.58|        209.050005|\n|        210.299994|211.98000499999998|209.06000500000002|\n|212.79999700000002|210.11000299999998|        208.450005|\n|209.18999499999998|        207.720001|        206.419998|\n|        207.870005|        210.650002|        204.099998|\n|210.11000299999998|            209.43|        209.020004|\n|210.92999500000002|            205.93|        205.869999|\n|        208.330002|        215.039995|        207.240004|\n|        214.910006|            211.73|        209.500002|\n|        212.079994|        208.069996|        207.210003|\n|206.78000600000001|            197.75|            197.16|\n|202.51000200000001|        203.070002|        200.190002|\n|205.95000100000001|        205.940001|        202.580004|\n|        206.849995|        207.880005|        199.530001|\n|        204.930004|        199.289995|        198.699995|\n|        201.079996|        192.060003|        190.250002|\n|192.36999699999998|        194.729998|191.29999899999999|\n+------------------+------------------+------------------+\nonly showing top 20 rows\n\n</div>",
              "datasetInfos": [],
              "removedWidgets": [],
              "type": "html"
            }
          }
        }
      ]
    },
    {
      "cell_type": "code",
      "metadata": {
        "application/vnd.databricks.v1+cell": {
          "inputWidgets": {},
          "nuid": "9c0cd8f0-b704-4648-be5d-ea6df77a0576",
          "showTitle": false,
          "title": ""
        },
        "id": "uf6uRy6dcJHj",
        "outputId": "0c47d618-6159-4e3a-820b-87d39c0e29f1"
      },
      "source": [
        "# This syntax is same as above in which we would be taking entire Close column and use python operator for comparision \n",
        "df1.filter(df1['close'] < 500).show()"
      ],
      "execution_count": null,
      "outputs": [
        {
          "output_type": "display_data",
          "data": {
            "text/html": [
              "<style scoped>\n",
              "  .ansiout {\n",
              "    display: block;\n",
              "    unicode-bidi: embed;\n",
              "    white-space: pre-wrap;\n",
              "    word-wrap: break-word;\n",
              "    word-break: break-all;\n",
              "    font-family: \"Source Code Pro\", \"Menlo\", monospace;;\n",
              "    font-size: 13px;\n",
              "    color: #555;\n",
              "    margin-left: 4px;\n",
              "    line-height: 19px;\n",
              "  }\n",
              "</style>\n",
              "<div class=\"ansiout\">+----------+------------------+------------------+------------------+------------------+---------+------------------+\n",
              "      Date|              Open|              High|               Low|             Close|   Volume|         Adj Close|\n",
              "+----------+------------------+------------------+------------------+------------------+---------+------------------+\n",
              "2010-01-04|        213.429998|        214.499996|212.38000099999996|        214.009998|123432400|         27.727039|\n",
              "2010-01-05|        214.599998|        215.589994|        213.249994|        214.379993|150476200|27.774976000000002|\n",
              "2010-01-06|        214.379993|            215.23|        210.750004|        210.969995|138040000|27.333178000000004|\n",
              "2010-01-07|            211.75|        212.000006|        209.050005|            210.58|119282800|          27.28265|\n",
              "2010-01-08|        210.299994|        212.000006|209.06000500000002|211.98000499999998|111902700|         27.464034|\n",
              "2010-01-11|212.79999700000002|        213.000002|        208.450005|210.11000299999998|115557400|         27.221758|\n",
              "2010-01-12|209.18999499999998|209.76999500000002|        206.419998|        207.720001|148614900|          26.91211|\n",
              "2010-01-13|        207.870005|210.92999500000002|        204.099998|        210.650002|151473000|          27.29172|\n",
              "2010-01-14|210.11000299999998|210.45999700000002|        209.020004|            209.43|108223500|         27.133657|\n",
              "2010-01-15|210.92999500000002|211.59999700000003|        205.869999|            205.93|148516900|26.680197999999997|\n",
              "2010-01-19|        208.330002|215.18999900000003|        207.240004|        215.039995|182501900|27.860484999999997|\n",
              "2010-01-20|        214.910006|        215.549994|        209.500002|            211.73|153038200|         27.431644|\n",
              "2010-01-21|        212.079994|213.30999599999998|        207.210003|        208.069996|152038600|         26.957455|\n",
              "2010-01-22|206.78000600000001|        207.499996|            197.16|            197.75|220441900|         25.620401|\n",
              "2010-01-25|202.51000200000001|        204.699999|        200.190002|        203.070002|266424900|26.309658000000002|\n",
              "2010-01-26|205.95000100000001|        213.710005|        202.580004|        205.940001|466777500|         26.681494|\n",
              "2010-01-27|        206.849995|            210.58|        199.530001|        207.880005|430642100|26.932840000000002|\n",
              "2010-01-28|        204.930004|        205.500004|        198.699995|        199.289995|293375600|25.819922000000002|\n",
              "2010-01-29|        201.079996|        202.199995|        190.250002|        192.060003|311488100|         24.883208|\n",
              "2010-02-01|192.36999699999998|             196.0|191.29999899999999|        194.729998|187469100|         25.229131|\n",
              "+----------+------------------+------------------+------------------+------------------+---------+------------------+\n",
              "only showing top 20 rows\n",
              "\n",
              "</div>"
            ]
          },
          "metadata": {
            "tags": [],
            "application/vnd.databricks.v1+output": {
              "addedWidgets": {},
              "arguments": {},
              "data": "<div class=\"ansiout\">+----------+------------------+------------------+------------------+------------------+---------+------------------+\n|      Date|              Open|              High|               Low|             Close|   Volume|         Adj Close|\n+----------+------------------+------------------+------------------+------------------+---------+------------------+\n|2010-01-04|        213.429998|        214.499996|212.38000099999996|        214.009998|123432400|         27.727039|\n|2010-01-05|        214.599998|        215.589994|        213.249994|        214.379993|150476200|27.774976000000002|\n|2010-01-06|        214.379993|            215.23|        210.750004|        210.969995|138040000|27.333178000000004|\n|2010-01-07|            211.75|        212.000006|        209.050005|            210.58|119282800|          27.28265|\n|2010-01-08|        210.299994|        212.000006|209.06000500000002|211.98000499999998|111902700|         27.464034|\n|2010-01-11|212.79999700000002|        213.000002|        208.450005|210.11000299999998|115557400|         27.221758|\n|2010-01-12|209.18999499999998|209.76999500000002|        206.419998|        207.720001|148614900|          26.91211|\n|2010-01-13|        207.870005|210.92999500000002|        204.099998|        210.650002|151473000|          27.29172|\n|2010-01-14|210.11000299999998|210.45999700000002|        209.020004|            209.43|108223500|         27.133657|\n|2010-01-15|210.92999500000002|211.59999700000003|        205.869999|            205.93|148516900|26.680197999999997|\n|2010-01-19|        208.330002|215.18999900000003|        207.240004|        215.039995|182501900|27.860484999999997|\n|2010-01-20|        214.910006|        215.549994|        209.500002|            211.73|153038200|         27.431644|\n|2010-01-21|        212.079994|213.30999599999998|        207.210003|        208.069996|152038600|         26.957455|\n|2010-01-22|206.78000600000001|        207.499996|            197.16|            197.75|220441900|         25.620401|\n|2010-01-25|202.51000200000001|        204.699999|        200.190002|        203.070002|266424900|26.309658000000002|\n|2010-01-26|205.95000100000001|        213.710005|        202.580004|        205.940001|466777500|         26.681494|\n|2010-01-27|        206.849995|            210.58|        199.530001|        207.880005|430642100|26.932840000000002|\n|2010-01-28|        204.930004|        205.500004|        198.699995|        199.289995|293375600|25.819922000000002|\n|2010-01-29|        201.079996|        202.199995|        190.250002|        192.060003|311488100|         24.883208|\n|2010-02-01|192.36999699999998|             196.0|191.29999899999999|        194.729998|187469100|         25.229131|\n+----------+------------------+------------------+------------------+------------------+---------+------------------+\nonly showing top 20 rows\n\n</div>",
              "datasetInfos": [],
              "removedWidgets": [],
              "type": "html"
            }
          }
        }
      ]
    },
    {
      "cell_type": "code",
      "metadata": {
        "application/vnd.databricks.v1+cell": {
          "inputWidgets": {},
          "nuid": "4c6b0c2d-de03-41d6-9324-36d3d88fea4f",
          "showTitle": false,
          "title": ""
        },
        "id": "hbsWMM_4cJHk",
        "outputId": "e74afcbc-bee2-416e-cbf4-1a7c84ef4e47"
      },
      "source": [
        "# Suppose I wanted to grab all the rows having close price < 200$ and open price > 200$\n",
        "# df1.filter(df1['Close'] < 200 and df1['Open'] > 200) # It will generate the value error - Cannot convert column into bool: please use '&' for 'and', '|' for 'or', '~' for 'not' when building DataFrame boolean expressions.\n",
        "# df1.filter(df1['Close'] < 200 & df1['Open'] > 200) # This will also generate the error - python for java error\n",
        "\n",
        "# To fix the above error we need to pass both of parameters sepeartly\n",
        "df1.filter((df1['Close'] < 200) & (df1['Open'] > 200)).show()"
      ],
      "execution_count": null,
      "outputs": [
        {
          "output_type": "display_data",
          "data": {
            "text/html": [
              "<style scoped>\n",
              "  .ansiout {\n",
              "    display: block;\n",
              "    unicode-bidi: embed;\n",
              "    white-space: pre-wrap;\n",
              "    word-wrap: break-word;\n",
              "    word-break: break-all;\n",
              "    font-family: \"Source Code Pro\", \"Menlo\", monospace;;\n",
              "    font-size: 13px;\n",
              "    color: #555;\n",
              "    margin-left: 4px;\n",
              "    line-height: 19px;\n",
              "  }\n",
              "</style>\n",
              "<div class=\"ansiout\">+----------+------------------+----------+----------+----------+---------+------------------+\n",
              "      Date|              Open|      High|       Low|     Close|   Volume|         Adj Close|\n",
              "+----------+------------------+----------+----------+----------+---------+------------------+\n",
              "2010-01-22|206.78000600000001|207.499996|    197.16|    197.75|220441900|         25.620401|\n",
              "2010-01-28|        204.930004|205.500004|198.699995|199.289995|293375600|25.819922000000002|\n",
              "2010-01-29|        201.079996|202.199995|190.250002|192.060003|311488100|         24.883208|\n",
              "+----------+------------------+----------+----------+----------+---------+------------------+\n",
              "\n",
              "</div>"
            ]
          },
          "metadata": {
            "tags": [],
            "application/vnd.databricks.v1+output": {
              "addedWidgets": {},
              "arguments": {},
              "data": "<div class=\"ansiout\">+----------+------------------+----------+----------+----------+---------+------------------+\n|      Date|              Open|      High|       Low|     Close|   Volume|         Adj Close|\n+----------+------------------+----------+----------+----------+---------+------------------+\n|2010-01-22|206.78000600000001|207.499996|    197.16|    197.75|220441900|         25.620401|\n|2010-01-28|        204.930004|205.500004|198.699995|199.289995|293375600|25.819922000000002|\n|2010-01-29|        201.079996|202.199995|190.250002|192.060003|311488100|         24.883208|\n+----------+------------------+----------+----------+----------+---------+------------------+\n\n</div>",
              "datasetInfos": [],
              "removedWidgets": [],
              "type": "html"
            }
          }
        }
      ]
    },
    {
      "cell_type": "code",
      "metadata": {
        "application/vnd.databricks.v1+cell": {
          "inputWidgets": {},
          "nuid": "e5975771-c865-4085-b7ec-c357a6e311c7",
          "showTitle": false,
          "title": ""
        },
        "id": "MfbMwq2hcJHm",
        "outputId": "7c5548d5-9c8a-4115-c8ce-41e41665b1e0"
      },
      "source": [
        "# df1.filter(df1['Low'] == 197.16).show()\n",
        "result = df1.filter(df1['Low'] == 197.16).collect() #It shows list of row object\n",
        "# result #It shows list of row object\n",
        "row = result[0] # It provide the item\n",
        "\n",
        "# Can be converted to the dictionary\n",
        "row.asDict()"
      ],
      "execution_count": null,
      "outputs": [
        {
          "output_type": "display_data",
          "data": {
            "text/html": [
              "<style scoped>\n",
              "  .ansiout {\n",
              "    display: block;\n",
              "    unicode-bidi: embed;\n",
              "    white-space: pre-wrap;\n",
              "    word-wrap: break-word;\n",
              "    word-break: break-all;\n",
              "    font-family: \"Source Code Pro\", \"Menlo\", monospace;;\n",
              "    font-size: 13px;\n",
              "    color: #555;\n",
              "    margin-left: 4px;\n",
              "    line-height: 19px;\n",
              "  }\n",
              "</style>\n",
              "<div class=\"ansiout\">Out[55]: {&#39;Date&#39;: &#39;2010-01-22&#39;,\n",
              " &#39;Open&#39;: 206.78000600000001,\n",
              " &#39;High&#39;: 207.499996,\n",
              " &#39;Low&#39;: 197.16,\n",
              " &#39;Close&#39;: 197.75,\n",
              " &#39;Volume&#39;: 220441900,\n",
              " &#39;Adj Close&#39;: 25.620401}</div>"
            ]
          },
          "metadata": {
            "tags": [],
            "application/vnd.databricks.v1+output": {
              "addedWidgets": {},
              "arguments": {},
              "data": "<div class=\"ansiout\">Out[55]: {&#39;Date&#39;: &#39;2010-01-22&#39;,\n &#39;Open&#39;: 206.78000600000001,\n &#39;High&#39;: 207.499996,\n &#39;Low&#39;: 197.16,\n &#39;Close&#39;: 197.75,\n &#39;Volume&#39;: 220441900,\n &#39;Adj Close&#39;: 25.620401}</div>",
              "datasetInfos": [],
              "removedWidgets": [],
              "type": "html"
            }
          }
        }
      ]
    },
    {
      "cell_type": "code",
      "metadata": {
        "application/vnd.databricks.v1+cell": {
          "inputWidgets": {},
          "nuid": "e9651212-9726-4062-aecd-4c2daf545911",
          "showTitle": false,
          "title": ""
        },
        "id": "j0qCv4UOcJHn",
        "outputId": "99f8f468-b6e3-490a-a85d-367749d626d2"
      },
      "source": [
        "## SECTION 8 -GROUPBY OPERATIONS\n",
        "\n",
        "# Groupby allows to group out the rows based upon the column value. Aggregate combines the multiple rows of data as a single row o/p (Ex : to take the sum of bunch of inputs)\n",
        "spark = SparkSession.builder.appName(\"aggrs\").getOrCreate()"
      ],
      "execution_count": null,
      "outputs": [
        {
          "output_type": "display_data",
          "data": {
            "text/html": [
              "<style scoped>\n",
              "  .ansiout {\n",
              "    display: block;\n",
              "    unicode-bidi: embed;\n",
              "    white-space: pre-wrap;\n",
              "    word-wrap: break-word;\n",
              "    word-break: break-all;\n",
              "    font-family: \"Source Code Pro\", \"Menlo\", monospace;;\n",
              "    font-size: 13px;\n",
              "    color: #555;\n",
              "    margin-left: 4px;\n",
              "    line-height: 19px;\n",
              "  }\n",
              "</style>\n",
              "<div class=\"ansiout\"></div>"
            ]
          },
          "metadata": {
            "tags": [],
            "application/vnd.databricks.v1+output": {
              "addedWidgets": {},
              "arguments": {},
              "data": "<div class=\"ansiout\"></div>",
              "datasetInfos": [],
              "removedWidgets": [],
              "type": "html"
            }
          }
        }
      ]
    },
    {
      "cell_type": "code",
      "metadata": {
        "application/vnd.databricks.v1+cell": {
          "inputWidgets": {},
          "nuid": "60889057-121a-40fb-b30a-7fb5d23e0ae2",
          "showTitle": false,
          "title": ""
        },
        "id": "L9lqIcuecJHo",
        "outputId": "d443dacc-6a05-4b09-be8f-ffcf8e3b44fb"
      },
      "source": [
        "df1 = spark.read.format(\"csv\").load(\"dbfs:/FileStore/shared_uploads/nisargmehta2000@gmail.com/sales_info.csv\", inferSchema = True, header = True)"
      ],
      "execution_count": null,
      "outputs": [
        {
          "output_type": "display_data",
          "data": {
            "text/html": [
              "<style scoped>\n",
              "  .ansiout {\n",
              "    display: block;\n",
              "    unicode-bidi: embed;\n",
              "    white-space: pre-wrap;\n",
              "    word-wrap: break-word;\n",
              "    word-break: break-all;\n",
              "    font-family: \"Source Code Pro\", \"Menlo\", monospace;;\n",
              "    font-size: 13px;\n",
              "    color: #555;\n",
              "    margin-left: 4px;\n",
              "    line-height: 19px;\n",
              "  }\n",
              "</style>\n",
              "<div class=\"ansiout\"></div>"
            ]
          },
          "metadata": {
            "tags": [],
            "application/vnd.databricks.v1+output": {
              "addedWidgets": {},
              "arguments": {},
              "data": "<div class=\"ansiout\"></div>",
              "datasetInfos": [],
              "removedWidgets": [],
              "type": "html"
            }
          }
        }
      ]
    },
    {
      "cell_type": "code",
      "metadata": {
        "application/vnd.databricks.v1+cell": {
          "inputWidgets": {},
          "nuid": "9fac68a9-d5b4-46d2-ba39-5da559c6d37a",
          "showTitle": false,
          "title": ""
        },
        "id": "3QxEpvcNcJHo",
        "outputId": "2620da4e-880d-4b20-9647-48971ca43f98"
      },
      "source": [
        "df1.printSchema()"
      ],
      "execution_count": null,
      "outputs": [
        {
          "output_type": "display_data",
          "data": {
            "text/html": [
              "<style scoped>\n",
              "  .ansiout {\n",
              "    display: block;\n",
              "    unicode-bidi: embed;\n",
              "    white-space: pre-wrap;\n",
              "    word-wrap: break-word;\n",
              "    word-break: break-all;\n",
              "    font-family: \"Source Code Pro\", \"Menlo\", monospace;;\n",
              "    font-size: 13px;\n",
              "    color: #555;\n",
              "    margin-left: 4px;\n",
              "    line-height: 19px;\n",
              "  }\n",
              "</style>\n",
              "<div class=\"ansiout\">root\n",
              "-- Company: string (nullable = true)\n",
              "-- Person: string (nullable = true)\n",
              "-- Sales: double (nullable = true)\n",
              "\n",
              "</div>"
            ]
          },
          "metadata": {
            "tags": [],
            "application/vnd.databricks.v1+output": {
              "addedWidgets": {},
              "arguments": {},
              "data": "<div class=\"ansiout\">root\n |-- Company: string (nullable = true)\n |-- Person: string (nullable = true)\n |-- Sales: double (nullable = true)\n\n</div>",
              "datasetInfos": [],
              "removedWidgets": [],
              "type": "html"
            }
          }
        }
      ]
    },
    {
      "cell_type": "code",
      "metadata": {
        "application/vnd.databricks.v1+cell": {
          "inputWidgets": {},
          "nuid": "be9573ea-7d86-4a3d-ae9c-55d650caf1e7",
          "showTitle": false,
          "title": ""
        },
        "id": "ruV_CjDGcJHr",
        "outputId": "c5647620-0523-41d2-e76e-8af7635fc6ad"
      },
      "source": [
        "df1.show()"
      ],
      "execution_count": null,
      "outputs": [
        {
          "output_type": "display_data",
          "data": {
            "text/html": [
              "<style scoped>\n",
              "  .ansiout {\n",
              "    display: block;\n",
              "    unicode-bidi: embed;\n",
              "    white-space: pre-wrap;\n",
              "    word-wrap: break-word;\n",
              "    word-break: break-all;\n",
              "    font-family: \"Source Code Pro\", \"Menlo\", monospace;;\n",
              "    font-size: 13px;\n",
              "    color: #555;\n",
              "    margin-left: 4px;\n",
              "    line-height: 19px;\n",
              "  }\n",
              "</style>\n",
              "<div class=\"ansiout\">+-------+-------+-----+\n",
              "Company| Person|Sales|\n",
              "+-------+-------+-----+\n",
              "   GOOG|    Sam|200.0|\n",
              "   GOOG|Charlie|120.0|\n",
              "   GOOG|  Frank|340.0|\n",
              "   MSFT|   Tina|600.0|\n",
              "   MSFT|    Amy|124.0|\n",
              "   MSFT|Vanessa|243.0|\n",
              "     FB|   Carl|870.0|\n",
              "     FB|  Sarah|350.0|\n",
              "   APPL|   John|250.0|\n",
              "   APPL|  Linda|130.0|\n",
              "   APPL|   Mike|750.0|\n",
              "   APPL|  Chris|350.0|\n",
              "+-------+-------+-----+\n",
              "\n",
              "</div>"
            ]
          },
          "metadata": {
            "tags": [],
            "application/vnd.databricks.v1+output": {
              "addedWidgets": {},
              "arguments": {},
              "data": "<div class=\"ansiout\">+-------+-------+-----+\n|Company| Person|Sales|\n+-------+-------+-----+\n|   GOOG|    Sam|200.0|\n|   GOOG|Charlie|120.0|\n|   GOOG|  Frank|340.0|\n|   MSFT|   Tina|600.0|\n|   MSFT|    Amy|124.0|\n|   MSFT|Vanessa|243.0|\n|     FB|   Carl|870.0|\n|     FB|  Sarah|350.0|\n|   APPL|   John|250.0|\n|   APPL|  Linda|130.0|\n|   APPL|   Mike|750.0|\n|   APPL|  Chris|350.0|\n+-------+-------+-----+\n\n</div>",
              "datasetInfos": [],
              "removedWidgets": [],
              "type": "html"
            }
          }
        }
      ]
    },
    {
      "cell_type": "code",
      "metadata": {
        "application/vnd.databricks.v1+cell": {
          "inputWidgets": {},
          "nuid": "7e6b8b41-ecd6-4914-8353-db4498bac1b5",
          "showTitle": false,
          "title": ""
        },
        "id": "8n_DKx96cJHs",
        "outputId": "f6a3022f-ffa2-4072-c987-c3eda8d3d5b9"
      },
      "source": [
        "df1.groupBy(\"Company\") # Here we get the grouped data object at a location"
      ],
      "execution_count": null,
      "outputs": [
        {
          "output_type": "display_data",
          "data": {
            "text/html": [
              "<style scoped>\n",
              "  .ansiout {\n",
              "    display: block;\n",
              "    unicode-bidi: embed;\n",
              "    white-space: pre-wrap;\n",
              "    word-wrap: break-word;\n",
              "    word-break: break-all;\n",
              "    font-family: \"Source Code Pro\", \"Menlo\", monospace;;\n",
              "    font-size: 13px;\n",
              "    color: #555;\n",
              "    margin-left: 4px;\n",
              "    line-height: 19px;\n",
              "  }\n",
              "</style>\n",
              "<div class=\"ansiout\">Out[61]: &lt;pyspark.sql.group.GroupedData at 0x7fd7daf56850&gt;</div>"
            ]
          },
          "metadata": {
            "tags": [],
            "application/vnd.databricks.v1+output": {
              "addedWidgets": {},
              "arguments": {},
              "data": "<div class=\"ansiout\">Out[61]: &lt;pyspark.sql.group.GroupedData at 0x7fd7daf56850&gt;</div>",
              "datasetInfos": [],
              "removedWidgets": [],
              "type": "html"
            }
          }
        }
      ]
    },
    {
      "cell_type": "code",
      "metadata": {
        "application/vnd.databricks.v1+cell": {
          "inputWidgets": {},
          "nuid": "2f279639-ef52-4761-abe1-544fa8eded00",
          "showTitle": false,
          "title": ""
        },
        "id": "JYZ_4PtecJHt",
        "outputId": "8da17e18-c9da-4fd2-947d-edc65cb33add"
      },
      "source": [
        "# df1.groupBy('Company').mean().show() # it gives the dataframe for mean(AVG) with Company col with string datatype and sales with double datatype\n",
        "# df1.groupBy('Company').sum().show() # For sum \n",
        "df1.groupBy('Company').count().show() # For count"
      ],
      "execution_count": null,
      "outputs": [
        {
          "output_type": "display_data",
          "data": {
            "text/html": [
              "<style scoped>\n",
              "  .ansiout {\n",
              "    display: block;\n",
              "    unicode-bidi: embed;\n",
              "    white-space: pre-wrap;\n",
              "    word-wrap: break-word;\n",
              "    word-break: break-all;\n",
              "    font-family: \"Source Code Pro\", \"Menlo\", monospace;;\n",
              "    font-size: 13px;\n",
              "    color: #555;\n",
              "    margin-left: 4px;\n",
              "    line-height: 19px;\n",
              "  }\n",
              "</style>\n",
              "<div class=\"ansiout\">+-------+-----+\n",
              "Company|count|\n",
              "+-------+-----+\n",
              "   APPL|    4|\n",
              "   GOOG|    3|\n",
              "     FB|    2|\n",
              "   MSFT|    3|\n",
              "+-------+-----+\n",
              "\n",
              "</div>"
            ]
          },
          "metadata": {
            "tags": [],
            "application/vnd.databricks.v1+output": {
              "addedWidgets": {},
              "arguments": {},
              "data": "<div class=\"ansiout\">+-------+-----+\n|Company|count|\n+-------+-----+\n|   APPL|    4|\n|   GOOG|    3|\n|     FB|    2|\n|   MSFT|    3|\n+-------+-----+\n\n</div>",
              "datasetInfos": [],
              "removedWidgets": [],
              "type": "html"
            }
          }
        }
      ]
    },
    {
      "cell_type": "code",
      "metadata": {
        "application/vnd.databricks.v1+cell": {
          "inputWidgets": {},
          "nuid": "45db586b-0058-484a-8a28-c7a3f535f609",
          "showTitle": false,
          "title": ""
        },
        "id": "KGFPPZ4OcJHu",
        "outputId": "81ccef69-ec3c-4e10-a8c3-17ac33f19ff4"
      },
      "source": [
        "## SECTION 8 -AGGREGATE OPERATIONS\n",
        "\n",
        "# We can call the generalise 'agg' method that would aggregate across all row in the dataframe. (.agg) method takes dictionary as the argument. Eg : It can be add all the sales without considering the company\n",
        "df1.agg({'Sales' : 'sum'}).show() # For sum\n",
        "df1.agg({'Sales' : 'max'}).show() # For max"
      ],
      "execution_count": null,
      "outputs": [
        {
          "output_type": "display_data",
          "data": {
            "text/html": [
              "<style scoped>\n",
              "  .ansiout {\n",
              "    display: block;\n",
              "    unicode-bidi: embed;\n",
              "    white-space: pre-wrap;\n",
              "    word-wrap: break-word;\n",
              "    word-break: break-all;\n",
              "    font-family: \"Source Code Pro\", \"Menlo\", monospace;;\n",
              "    font-size: 13px;\n",
              "    color: #555;\n",
              "    margin-left: 4px;\n",
              "    line-height: 19px;\n",
              "  }\n",
              "</style>\n",
              "<div class=\"ansiout\">+----------+\n",
              "sum(Sales)|\n",
              "+----------+\n",
              "    4327.0|\n",
              "+----------+\n",
              "\n",
              "+----------+\n",
              "max(Sales)|\n",
              "+----------+\n",
              "     870.0|\n",
              "+----------+\n",
              "\n",
              "</div>"
            ]
          },
          "metadata": {
            "tags": [],
            "application/vnd.databricks.v1+output": {
              "addedWidgets": {},
              "arguments": {},
              "data": "<div class=\"ansiout\">+----------+\n|sum(Sales)|\n+----------+\n|    4327.0|\n+----------+\n\n+----------+\n|max(Sales)|\n+----------+\n|     870.0|\n+----------+\n\n</div>",
              "datasetInfos": [],
              "removedWidgets": [],
              "type": "html"
            }
          }
        }
      ]
    },
    {
      "cell_type": "code",
      "metadata": {
        "application/vnd.databricks.v1+cell": {
          "inputWidgets": {},
          "nuid": "4c00c16f-08be-46ce-9a51-b9d58a33484f",
          "showTitle": false,
          "title": ""
        },
        "id": "0lQC0OQscJHv",
        "outputId": "7c47b2d2-595d-4bca-e0a1-75157ece1713"
      },
      "source": [
        "# We can add the combination of groupby and .agg\n",
        "group_data = df1.groupBy(\"Company\")\n",
        "group_data.agg({'Sales' : 'max'}).show()"
      ],
      "execution_count": null,
      "outputs": [
        {
          "output_type": "display_data",
          "data": {
            "text/html": [
              "<style scoped>\n",
              "  .ansiout {\n",
              "    display: block;\n",
              "    unicode-bidi: embed;\n",
              "    white-space: pre-wrap;\n",
              "    word-wrap: break-word;\n",
              "    word-break: break-all;\n",
              "    font-family: \"Source Code Pro\", \"Menlo\", monospace;;\n",
              "    font-size: 13px;\n",
              "    color: #555;\n",
              "    margin-left: 4px;\n",
              "    line-height: 19px;\n",
              "  }\n",
              "</style>\n",
              "<div class=\"ansiout\">+-------+----------+\n",
              "Company|max(Sales)|\n",
              "+-------+----------+\n",
              "   APPL|     750.0|\n",
              "   GOOG|     340.0|\n",
              "     FB|     870.0|\n",
              "   MSFT|     600.0|\n",
              "+-------+----------+\n",
              "\n",
              "</div>"
            ]
          },
          "metadata": {
            "tags": [],
            "application/vnd.databricks.v1+output": {
              "addedWidgets": {},
              "arguments": {},
              "data": "<div class=\"ansiout\">+-------+----------+\n|Company|max(Sales)|\n+-------+----------+\n|   APPL|     750.0|\n|   GOOG|     340.0|\n|     FB|     870.0|\n|   MSFT|     600.0|\n+-------+----------+\n\n</div>",
              "datasetInfos": [],
              "removedWidgets": [],
              "type": "html"
            }
          }
        }
      ]
    },
    {
      "cell_type": "code",
      "metadata": {
        "application/vnd.databricks.v1+cell": {
          "inputWidgets": {},
          "nuid": "9eda79a6-403a-4777-ad51-3ab833baa3d6",
          "showTitle": false,
          "title": ""
        },
        "id": "oTRBS7VbcJHw",
        "outputId": "e09736bc-17ac-4843-a5fb-6400f1b439ad"
      },
      "source": [
        "from pyspark.sql.functions import countDistinct, avg, stddev"
      ],
      "execution_count": null,
      "outputs": [
        {
          "output_type": "display_data",
          "data": {
            "text/html": [
              "<style scoped>\n",
              "  .ansiout {\n",
              "    display: block;\n",
              "    unicode-bidi: embed;\n",
              "    white-space: pre-wrap;\n",
              "    word-wrap: break-word;\n",
              "    word-break: break-all;\n",
              "    font-family: \"Source Code Pro\", \"Menlo\", monospace;;\n",
              "    font-size: 13px;\n",
              "    color: #555;\n",
              "    margin-left: 4px;\n",
              "    line-height: 19px;\n",
              "  }\n",
              "</style>\n",
              "<div class=\"ansiout\"></div>"
            ]
          },
          "metadata": {
            "tags": [],
            "application/vnd.databricks.v1+output": {
              "addedWidgets": {},
              "arguments": {},
              "data": "<div class=\"ansiout\"></div>",
              "datasetInfos": [],
              "removedWidgets": [],
              "type": "html"
            }
          }
        }
      ]
    },
    {
      "cell_type": "code",
      "metadata": {
        "application/vnd.databricks.v1+cell": {
          "inputWidgets": {},
          "nuid": "9ae1e2ed-9504-4e5e-a06d-64a330fb05b4",
          "showTitle": false,
          "title": ""
        },
        "id": "ChqW316DcJHx",
        "outputId": "374bdd12-be60-4973-abd4-cd4adea9e6a7"
      },
      "source": [
        "df1.select(countDistinct('sales')).show() #Count distinct number of sales\n",
        "df1.select(avg('sales').alias('Average Sale')).show() # To give the name to the avg sale, we are using the function '.alias('Name to give')' "
      ],
      "execution_count": null,
      "outputs": [
        {
          "output_type": "display_data",
          "data": {
            "text/html": [
              "<style scoped>\n",
              "  .ansiout {\n",
              "    display: block;\n",
              "    unicode-bidi: embed;\n",
              "    white-space: pre-wrap;\n",
              "    word-wrap: break-word;\n",
              "    word-break: break-all;\n",
              "    font-family: \"Source Code Pro\", \"Menlo\", monospace;;\n",
              "    font-size: 13px;\n",
              "    color: #555;\n",
              "    margin-left: 4px;\n",
              "    line-height: 19px;\n",
              "  }\n",
              "</style>\n",
              "<div class=\"ansiout\">+---------------------+\n",
              "count(DISTINCT sales)|\n",
              "+---------------------+\n",
              "                   11|\n",
              "+---------------------+\n",
              "\n",
              "+-----------------+\n",
              "     Average Sale|\n",
              "+-----------------+\n",
              "360.5833333333333|\n",
              "+-----------------+\n",
              "\n",
              "</div>"
            ]
          },
          "metadata": {
            "tags": [],
            "application/vnd.databricks.v1+output": {
              "addedWidgets": {},
              "arguments": {},
              "data": "<div class=\"ansiout\">+---------------------+\n|count(DISTINCT sales)|\n+---------------------+\n|                   11|\n+---------------------+\n\n+-----------------+\n|     Average Sale|\n+-----------------+\n|360.5833333333333|\n+-----------------+\n\n</div>",
              "datasetInfos": [],
              "removedWidgets": [],
              "type": "html"
            }
          }
        }
      ]
    },
    {
      "cell_type": "code",
      "metadata": {
        "application/vnd.databricks.v1+cell": {
          "inputWidgets": {},
          "nuid": "2bc1ad6e-37b9-4698-b408-a7d1800758ab",
          "showTitle": false,
          "title": ""
        },
        "id": "e5qWwk3KcJHy",
        "outputId": "cb1b0640-1891-451e-c0c8-611648deb075"
      },
      "source": [
        "df1.select(stddev('sales')).show() # the name is stddev_samp(sales) which is not good looking and the number '250.08742410799007' is very unformated\n",
        "# therefore will format the number \n",
        "\n",
        "from pyspark.sql.functions import format_number\n",
        "\n",
        "sales_std = df1.select(stddev(\"Sales\").alias('std'))\n",
        "sales_std.select(format_number('std',2).alias('std')).show() # It will show upto 2 digits here in this case. "
      ],
      "execution_count": null,
      "outputs": [
        {
          "output_type": "display_data",
          "data": {
            "text/html": [
              "<style scoped>\n",
              "  .ansiout {\n",
              "    display: block;\n",
              "    unicode-bidi: embed;\n",
              "    white-space: pre-wrap;\n",
              "    word-wrap: break-word;\n",
              "    word-break: break-all;\n",
              "    font-family: \"Source Code Pro\", \"Menlo\", monospace;;\n",
              "    font-size: 13px;\n",
              "    color: #555;\n",
              "    margin-left: 4px;\n",
              "    line-height: 19px;\n",
              "  }\n",
              "</style>\n",
              "<div class=\"ansiout\">+------------------+\n",
              "stddev_samp(sales)|\n",
              "+------------------+\n",
              "250.08742410799007|\n",
              "+------------------+\n",
              "\n",
              "+------+\n",
              "   std|\n",
              "+------+\n",
              "250.09|\n",
              "+------+\n",
              "\n",
              "</div>"
            ]
          },
          "metadata": {
            "tags": [],
            "application/vnd.databricks.v1+output": {
              "addedWidgets": {},
              "arguments": {},
              "data": "<div class=\"ansiout\">+------------------+\n|stddev_samp(sales)|\n+------------------+\n|250.08742410799007|\n+------------------+\n\n+------+\n|   std|\n+------+\n|250.09|\n+------+\n\n</div>",
              "datasetInfos": [],
              "removedWidgets": [],
              "type": "html"
            }
          }
        }
      ]
    },
    {
      "cell_type": "code",
      "metadata": {
        "application/vnd.databricks.v1+cell": {
          "inputWidgets": {},
          "nuid": "caa7b460-5ed8-4467-bc3a-59b9beca59da",
          "showTitle": false,
          "title": ""
        },
        "id": "6YwWZi7PcJHz",
        "outputId": "e2711695-8bba-4530-996f-9eef217ade46"
      },
      "source": [
        "# if wanted to order by sales (Ascending order)\n",
        "df1.orderBy('Sales').show()"
      ],
      "execution_count": null,
      "outputs": [
        {
          "output_type": "display_data",
          "data": {
            "text/html": [
              "<style scoped>\n",
              "  .ansiout {\n",
              "    display: block;\n",
              "    unicode-bidi: embed;\n",
              "    white-space: pre-wrap;\n",
              "    word-wrap: break-word;\n",
              "    word-break: break-all;\n",
              "    font-family: \"Source Code Pro\", \"Menlo\", monospace;;\n",
              "    font-size: 13px;\n",
              "    color: #555;\n",
              "    margin-left: 4px;\n",
              "    line-height: 19px;\n",
              "  }\n",
              "</style>\n",
              "<div class=\"ansiout\">+-------+-------+-----+\n",
              "Company| Person|Sales|\n",
              "+-------+-------+-----+\n",
              "   GOOG|Charlie|120.0|\n",
              "   MSFT|    Amy|124.0|\n",
              "   APPL|  Linda|130.0|\n",
              "   GOOG|    Sam|200.0|\n",
              "   MSFT|Vanessa|243.0|\n",
              "   APPL|   John|250.0|\n",
              "   GOOG|  Frank|340.0|\n",
              "     FB|  Sarah|350.0|\n",
              "   APPL|  Chris|350.0|\n",
              "   MSFT|   Tina|600.0|\n",
              "   APPL|   Mike|750.0|\n",
              "     FB|   Carl|870.0|\n",
              "+-------+-------+-----+\n",
              "\n",
              "</div>"
            ]
          },
          "metadata": {
            "tags": [],
            "application/vnd.databricks.v1+output": {
              "addedWidgets": {},
              "arguments": {},
              "data": "<div class=\"ansiout\">+-------+-------+-----+\n|Company| Person|Sales|\n+-------+-------+-----+\n|   GOOG|Charlie|120.0|\n|   MSFT|    Amy|124.0|\n|   APPL|  Linda|130.0|\n|   GOOG|    Sam|200.0|\n|   MSFT|Vanessa|243.0|\n|   APPL|   John|250.0|\n|   GOOG|  Frank|340.0|\n|     FB|  Sarah|350.0|\n|   APPL|  Chris|350.0|\n|   MSFT|   Tina|600.0|\n|   APPL|   Mike|750.0|\n|     FB|   Carl|870.0|\n+-------+-------+-----+\n\n</div>",
              "datasetInfos": [],
              "removedWidgets": [],
              "type": "html"
            }
          }
        }
      ]
    },
    {
      "cell_type": "code",
      "metadata": {
        "application/vnd.databricks.v1+cell": {
          "inputWidgets": {},
          "nuid": "cd1cffb9-0693-4808-b9ef-901c6c2aabff",
          "showTitle": false,
          "title": ""
        },
        "id": "R0QebgVxcJH0",
        "outputId": "31de3cf0-87eb-41a8-c35b-994ec4b30a48"
      },
      "source": [
        "# To display in descending order\n",
        "df1.orderBy(df1['sales'].desc()).show()"
      ],
      "execution_count": null,
      "outputs": [
        {
          "output_type": "display_data",
          "data": {
            "text/html": [
              "<style scoped>\n",
              "  .ansiout {\n",
              "    display: block;\n",
              "    unicode-bidi: embed;\n",
              "    white-space: pre-wrap;\n",
              "    word-wrap: break-word;\n",
              "    word-break: break-all;\n",
              "    font-family: \"Source Code Pro\", \"Menlo\", monospace;;\n",
              "    font-size: 13px;\n",
              "    color: #555;\n",
              "    margin-left: 4px;\n",
              "    line-height: 19px;\n",
              "  }\n",
              "</style>\n",
              "<div class=\"ansiout\">+-------+-------+-----+\n",
              "Company| Person|Sales|\n",
              "+-------+-------+-----+\n",
              "     FB|   Carl|870.0|\n",
              "   APPL|   Mike|750.0|\n",
              "   MSFT|   Tina|600.0|\n",
              "     FB|  Sarah|350.0|\n",
              "   APPL|  Chris|350.0|\n",
              "   GOOG|  Frank|340.0|\n",
              "   APPL|   John|250.0|\n",
              "   MSFT|Vanessa|243.0|\n",
              "   GOOG|    Sam|200.0|\n",
              "   APPL|  Linda|130.0|\n",
              "   MSFT|    Amy|124.0|\n",
              "   GOOG|Charlie|120.0|\n",
              "+-------+-------+-----+\n",
              "\n",
              "</div>"
            ]
          },
          "metadata": {
            "tags": [],
            "application/vnd.databricks.v1+output": {
              "addedWidgets": {},
              "arguments": {},
              "data": "<div class=\"ansiout\">+-------+-------+-----+\n|Company| Person|Sales|\n+-------+-------+-----+\n|     FB|   Carl|870.0|\n|   APPL|   Mike|750.0|\n|   MSFT|   Tina|600.0|\n|     FB|  Sarah|350.0|\n|   APPL|  Chris|350.0|\n|   GOOG|  Frank|340.0|\n|   APPL|   John|250.0|\n|   MSFT|Vanessa|243.0|\n|   GOOG|    Sam|200.0|\n|   APPL|  Linda|130.0|\n|   MSFT|    Amy|124.0|\n|   GOOG|Charlie|120.0|\n+-------+-------+-----+\n\n</div>",
              "datasetInfos": [],
              "removedWidgets": [],
              "type": "html"
            }
          }
        }
      ]
    },
    {
      "cell_type": "code",
      "metadata": {
        "application/vnd.databricks.v1+cell": {
          "inputWidgets": {},
          "nuid": "b60b359a-e662-4b3e-95bb-dbaa809af8bb",
          "showTitle": false,
          "title": ""
        },
        "id": "pfDaFerEcJH1",
        "outputId": "5daa93c4-4b5e-4dff-cedb-72d2a6355ece"
      },
      "source": [
        "## SECTION 8 -MISSING DATA \n",
        "\n",
        "spark = SparkSession.builder.appName(\"miss\").getOrCreate()"
      ],
      "execution_count": null,
      "outputs": [
        {
          "output_type": "display_data",
          "data": {
            "text/html": [
              "<style scoped>\n",
              "  .ansiout {\n",
              "    display: block;\n",
              "    unicode-bidi: embed;\n",
              "    white-space: pre-wrap;\n",
              "    word-wrap: break-word;\n",
              "    word-break: break-all;\n",
              "    font-family: \"Source Code Pro\", \"Menlo\", monospace;;\n",
              "    font-size: 13px;\n",
              "    color: #555;\n",
              "    margin-left: 4px;\n",
              "    line-height: 19px;\n",
              "  }\n",
              "</style>\n",
              "<div class=\"ansiout\"></div>"
            ]
          },
          "metadata": {
            "tags": [],
            "application/vnd.databricks.v1+output": {
              "addedWidgets": {},
              "arguments": {},
              "data": "<div class=\"ansiout\"></div>",
              "datasetInfos": [],
              "removedWidgets": [],
              "type": "html"
            }
          }
        }
      ]
    },
    {
      "cell_type": "code",
      "metadata": {
        "application/vnd.databricks.v1+cell": {
          "inputWidgets": {},
          "nuid": "cc17a67d-33b0-4a19-a68b-004ac9e05cc9",
          "showTitle": false,
          "title": ""
        },
        "id": "uuE6ffyMcJH2",
        "outputId": "b1803432-6c74-494f-b0f1-9cfae75801ae"
      },
      "source": [
        "df1 = spark.read.format(\"csv\").load(\"dbfs:/FileStore/shared_uploads/nisargmehta2000@gmail.com/ContainsNull.csv\", inferSchema = True, header = True)"
      ],
      "execution_count": null,
      "outputs": [
        {
          "output_type": "display_data",
          "data": {
            "text/html": [
              "<style scoped>\n",
              "  .ansiout {\n",
              "    display: block;\n",
              "    unicode-bidi: embed;\n",
              "    white-space: pre-wrap;\n",
              "    word-wrap: break-word;\n",
              "    word-break: break-all;\n",
              "    font-family: \"Source Code Pro\", \"Menlo\", monospace;;\n",
              "    font-size: 13px;\n",
              "    color: #555;\n",
              "    margin-left: 4px;\n",
              "    line-height: 19px;\n",
              "  }\n",
              "</style>\n",
              "<div class=\"ansiout\"></div>"
            ]
          },
          "metadata": {
            "tags": [],
            "application/vnd.databricks.v1+output": {
              "addedWidgets": {},
              "arguments": {},
              "data": "<div class=\"ansiout\"></div>",
              "datasetInfos": [],
              "removedWidgets": [],
              "type": "html"
            }
          }
        }
      ]
    },
    {
      "cell_type": "code",
      "metadata": {
        "application/vnd.databricks.v1+cell": {
          "inputWidgets": {},
          "nuid": "6a5f340d-d84d-433d-a621-d4bd34550ebb",
          "showTitle": false,
          "title": ""
        },
        "id": "qqoctwD_cJH3",
        "outputId": "4f647751-48ad-4292-f551-64f0307e66c8"
      },
      "source": [
        "df1.show()"
      ],
      "execution_count": null,
      "outputs": [
        {
          "output_type": "display_data",
          "data": {
            "text/html": [
              "<style scoped>\n",
              "  .ansiout {\n",
              "    display: block;\n",
              "    unicode-bidi: embed;\n",
              "    white-space: pre-wrap;\n",
              "    word-wrap: break-word;\n",
              "    word-break: break-all;\n",
              "    font-family: \"Source Code Pro\", \"Menlo\", monospace;;\n",
              "    font-size: 13px;\n",
              "    color: #555;\n",
              "    margin-left: 4px;\n",
              "    line-height: 19px;\n",
              "  }\n",
              "</style>\n",
              "<div class=\"ansiout\">+----+-----+-----+\n",
              "  Id| Name|Sales|\n",
              "+----+-----+-----+\n",
              "emp1| John| null|\n",
              "emp2| null| null|\n",
              "emp3| null|345.0|\n",
              "emp4|Cindy|456.0|\n",
              "+----+-----+-----+\n",
              "\n",
              "</div>"
            ]
          },
          "metadata": {
            "tags": [],
            "application/vnd.databricks.v1+output": {
              "addedWidgets": {},
              "arguments": {},
              "data": "<div class=\"ansiout\">+----+-----+-----+\n|  Id| Name|Sales|\n+----+-----+-----+\n|emp1| John| null|\n|emp2| null| null|\n|emp3| null|345.0|\n|emp4|Cindy|456.0|\n+----+-----+-----+\n\n</div>",
              "datasetInfos": [],
              "removedWidgets": [],
              "type": "html"
            }
          }
        }
      ]
    },
    {
      "cell_type": "code",
      "metadata": {
        "application/vnd.databricks.v1+cell": {
          "inputWidgets": {},
          "nuid": "6219652c-7759-496c-bdb7-b8ba02298c51",
          "showTitle": false,
          "title": ""
        },
        "id": "CPi9Zf2hcJH5",
        "outputId": "29cbaede-d119-4d54-98e8-e738e4fe8a32"
      },
      "source": [
        "df1.na.drop().show() # to drop the row with any amount of missing data\n",
        "df1.na.drop(thresh = 2).show() # This means the particular row must have atleast 2 not null values so that row is not dropped due to null in the col of that row\n",
        "df1.na.drop(how = 'any').show() # to drop the row with any amount of missing data\n",
        "df1.na.drop(how = 'all').show() # to drop the row with all amount of missing data i.e if all are null then to drop that row\n",
        "df1.na.drop(subset = ['sales']).show() # it will drop the row if any value in sales is null, it will not matter that id and name at that row is null or not"
      ],
      "execution_count": null,
      "outputs": [
        {
          "output_type": "display_data",
          "data": {
            "text/html": [
              "<style scoped>\n",
              "  .ansiout {\n",
              "    display: block;\n",
              "    unicode-bidi: embed;\n",
              "    white-space: pre-wrap;\n",
              "    word-wrap: break-word;\n",
              "    word-break: break-all;\n",
              "    font-family: \"Source Code Pro\", \"Menlo\", monospace;;\n",
              "    font-size: 13px;\n",
              "    color: #555;\n",
              "    margin-left: 4px;\n",
              "    line-height: 19px;\n",
              "  }\n",
              "</style>\n",
              "<div class=\"ansiout\">+----+-----+-----+\n",
              "  Id| Name|Sales|\n",
              "+----+-----+-----+\n",
              "emp4|Cindy|456.0|\n",
              "+----+-----+-----+\n",
              "\n",
              "+----+-----+-----+\n",
              "  Id| Name|Sales|\n",
              "+----+-----+-----+\n",
              "emp1| John| null|\n",
              "emp3| null|345.0|\n",
              "emp4|Cindy|456.0|\n",
              "+----+-----+-----+\n",
              "\n",
              "+----+-----+-----+\n",
              "  Id| Name|Sales|\n",
              "+----+-----+-----+\n",
              "emp4|Cindy|456.0|\n",
              "+----+-----+-----+\n",
              "\n",
              "+----+-----+-----+\n",
              "  Id| Name|Sales|\n",
              "+----+-----+-----+\n",
              "emp1| John| null|\n",
              "emp2| null| null|\n",
              "emp3| null|345.0|\n",
              "emp4|Cindy|456.0|\n",
              "+----+-----+-----+\n",
              "\n",
              "+----+-----+-----+\n",
              "  Id| Name|Sales|\n",
              "+----+-----+-----+\n",
              "emp3| null|345.0|\n",
              "emp4|Cindy|456.0|\n",
              "+----+-----+-----+\n",
              "\n",
              "</div>"
            ]
          },
          "metadata": {
            "tags": [],
            "application/vnd.databricks.v1+output": {
              "addedWidgets": {},
              "arguments": {},
              "data": "<div class=\"ansiout\">+----+-----+-----+\n|  Id| Name|Sales|\n+----+-----+-----+\n|emp4|Cindy|456.0|\n+----+-----+-----+\n\n+----+-----+-----+\n|  Id| Name|Sales|\n+----+-----+-----+\n|emp1| John| null|\n|emp3| null|345.0|\n|emp4|Cindy|456.0|\n+----+-----+-----+\n\n+----+-----+-----+\n|  Id| Name|Sales|\n+----+-----+-----+\n|emp4|Cindy|456.0|\n+----+-----+-----+\n\n+----+-----+-----+\n|  Id| Name|Sales|\n+----+-----+-----+\n|emp1| John| null|\n|emp2| null| null|\n|emp3| null|345.0|\n|emp4|Cindy|456.0|\n+----+-----+-----+\n\n+----+-----+-----+\n|  Id| Name|Sales|\n+----+-----+-----+\n|emp3| null|345.0|\n|emp4|Cindy|456.0|\n+----+-----+-----+\n\n</div>",
              "datasetInfos": [],
              "removedWidgets": [],
              "type": "html"
            }
          }
        }
      ]
    },
    {
      "cell_type": "code",
      "metadata": {
        "application/vnd.databricks.v1+cell": {
          "inputWidgets": {},
          "nuid": "eafbd7fd-3f02-4654-af3c-4f99e04ca4f6",
          "showTitle": false,
          "title": ""
        },
        "id": "oGqdkaFOcJH6",
        "outputId": "342154d6-f71a-423a-a013-3c8fb2c9c971"
      },
      "source": [
        "# To fill the value in the null place\n",
        "df1.na.fill('FILL VALUE').show() # It is smart to fill the place where there is the string because in na.fill we passed a string and hence the name col where there was null value is filled with 'FILL VALUE'\n",
        "\n",
        "df1.na.fill('NO NAME', subset = 'Name').show() # here we are passing the subset as parameter\n",
        "\n",
        "df1.na.fill(0).show() # It is smart to fill the place where there is the number because in na.fill we passed a number and hence the sales col where there was null value is filled with '0'"
      ],
      "execution_count": null,
      "outputs": [
        {
          "output_type": "display_data",
          "data": {
            "text/html": [
              "<style scoped>\n",
              "  .ansiout {\n",
              "    display: block;\n",
              "    unicode-bidi: embed;\n",
              "    white-space: pre-wrap;\n",
              "    word-wrap: break-word;\n",
              "    word-break: break-all;\n",
              "    font-family: \"Source Code Pro\", \"Menlo\", monospace;;\n",
              "    font-size: 13px;\n",
              "    color: #555;\n",
              "    margin-left: 4px;\n",
              "    line-height: 19px;\n",
              "  }\n",
              "</style>\n",
              "<div class=\"ansiout\">+----+----------+-----+\n",
              "  Id|      Name|Sales|\n",
              "+----+----------+-----+\n",
              "emp1|      John| null|\n",
              "emp2|FILL VALUE| null|\n",
              "emp3|FILL VALUE|345.0|\n",
              "emp4|     Cindy|456.0|\n",
              "+----+----------+-----+\n",
              "\n",
              "+----+-------+-----+\n",
              "  Id|   Name|Sales|\n",
              "+----+-------+-----+\n",
              "emp1|   John| null|\n",
              "emp2|NO NAME| null|\n",
              "emp3|NO NAME|345.0|\n",
              "emp4|  Cindy|456.0|\n",
              "+----+-------+-----+\n",
              "\n",
              "+----+-----+-----+\n",
              "  Id| Name|Sales|\n",
              "+----+-----+-----+\n",
              "emp1| John|  0.0|\n",
              "emp2| null|  0.0|\n",
              "emp3| null|345.0|\n",
              "emp4|Cindy|456.0|\n",
              "+----+-----+-----+\n",
              "\n",
              "</div>"
            ]
          },
          "metadata": {
            "tags": [],
            "application/vnd.databricks.v1+output": {
              "addedWidgets": {},
              "arguments": {},
              "data": "<div class=\"ansiout\">+----+----------+-----+\n|  Id|      Name|Sales|\n+----+----------+-----+\n|emp1|      John| null|\n|emp2|FILL VALUE| null|\n|emp3|FILL VALUE|345.0|\n|emp4|     Cindy|456.0|\n+----+----------+-----+\n\n+----+-------+-----+\n|  Id|   Name|Sales|\n+----+-------+-----+\n|emp1|   John| null|\n|emp2|NO NAME| null|\n|emp3|NO NAME|345.0|\n|emp4|  Cindy|456.0|\n+----+-------+-----+\n\n+----+-----+-----+\n|  Id| Name|Sales|\n+----+-----+-----+\n|emp1| John|  0.0|\n|emp2| null|  0.0|\n|emp3| null|345.0|\n|emp4|Cindy|456.0|\n+----+-----+-----+\n\n</div>",
              "datasetInfos": [],
              "removedWidgets": [],
              "type": "html"
            }
          }
        }
      ]
    },
    {
      "cell_type": "code",
      "metadata": {
        "application/vnd.databricks.v1+cell": {
          "inputWidgets": {},
          "nuid": "01a1617b-2cd9-47b9-90c6-4f812b99dc69",
          "showTitle": false,
          "title": ""
        },
        "id": "ZHn5pXbFcJH7",
        "outputId": "ef9688d9-46a9-4dde-f47b-184a25535603"
      },
      "source": [
        "# To replace the null value with the mean value. \n",
        "from pyspark.sql.functions import mean\n",
        "\n",
        "mean_value = df1.select(mean(df1['sales'])).collect()\n",
        "mean_value # o/p - [Row(avg(sales)=400.5)]\n",
        "mean_sales = mean_value[0][0] # 400.5\n",
        "mean_sales\n",
        "\n",
        "df1.na.fill('mean_sales', ['sales']).show()"
      ],
      "execution_count": null,
      "outputs": [
        {
          "output_type": "display_data",
          "data": {
            "text/html": [
              "<style scoped>\n",
              "  .ansiout {\n",
              "    display: block;\n",
              "    unicode-bidi: embed;\n",
              "    white-space: pre-wrap;\n",
              "    word-wrap: break-word;\n",
              "    word-break: break-all;\n",
              "    font-family: \"Source Code Pro\", \"Menlo\", monospace;;\n",
              "    font-size: 13px;\n",
              "    color: #555;\n",
              "    margin-left: 4px;\n",
              "    line-height: 19px;\n",
              "  }\n",
              "</style>\n",
              "<div class=\"ansiout\">+----+-----+-----+\n",
              "  Id| Name|Sales|\n",
              "+----+-----+-----+\n",
              "emp1| John| null|\n",
              "emp2| null| null|\n",
              "emp3| null|345.0|\n",
              "emp4|Cindy|456.0|\n",
              "+----+-----+-----+\n",
              "\n",
              "</div>"
            ]
          },
          "metadata": {
            "tags": [],
            "application/vnd.databricks.v1+output": {
              "addedWidgets": {},
              "arguments": {},
              "data": "<div class=\"ansiout\">+----+-----+-----+\n|  Id| Name|Sales|\n+----+-----+-----+\n|emp1| John| null|\n|emp2| null| null|\n|emp3| null|345.0|\n|emp4|Cindy|456.0|\n+----+-----+-----+\n\n</div>",
              "datasetInfos": [],
              "removedWidgets": [],
              "type": "html"
            }
          }
        }
      ]
    },
    {
      "cell_type": "code",
      "metadata": {
        "application/vnd.databricks.v1+cell": {
          "inputWidgets": {},
          "nuid": "07d680e3-443a-4d0b-b1aa-8eda9fd4cc43",
          "showTitle": false,
          "title": ""
        },
        "id": "LbMDTSjgcJH8",
        "outputId": "59b280fd-89c5-45aa-e86d-a2d47e8840f9"
      },
      "source": [
        "## SECTION 8 -DATE AND TIMESTAMPS\n",
        "\n",
        "spark = SparkSession.builder.appName(\"dates\").getOrCreate()"
      ],
      "execution_count": null,
      "outputs": [
        {
          "output_type": "display_data",
          "data": {
            "text/html": [
              "<style scoped>\n",
              "  .ansiout {\n",
              "    display: block;\n",
              "    unicode-bidi: embed;\n",
              "    white-space: pre-wrap;\n",
              "    word-wrap: break-word;\n",
              "    word-break: break-all;\n",
              "    font-family: \"Source Code Pro\", \"Menlo\", monospace;;\n",
              "    font-size: 13px;\n",
              "    color: #555;\n",
              "    margin-left: 4px;\n",
              "    line-height: 19px;\n",
              "  }\n",
              "</style>\n",
              "<div class=\"ansiout\"></div>"
            ]
          },
          "metadata": {
            "tags": [],
            "application/vnd.databricks.v1+output": {
              "addedWidgets": {},
              "arguments": {},
              "data": "<div class=\"ansiout\"></div>",
              "datasetInfos": [],
              "removedWidgets": [],
              "type": "html"
            }
          }
        }
      ]
    },
    {
      "cell_type": "code",
      "metadata": {
        "application/vnd.databricks.v1+cell": {
          "inputWidgets": {},
          "nuid": "da7d8ff3-c45f-4dab-b693-8e316e331b54",
          "showTitle": false,
          "title": ""
        },
        "id": "2UfQAJ9bcJH9",
        "outputId": "ac431bfd-86a3-483a-a75d-c9ebd87f4321"
      },
      "source": [
        "df1 = spark.read.format(\"csv\").load(\"dbfs:/FileStore/shared_uploads/nisargmehta2000@gmail.com/appl_stock.csv\", inferSchema = True, header = True) # header = True means very first row contains the column name \n",
        "\n",
        "df1.head(1)"
      ],
      "execution_count": null,
      "outputs": [
        {
          "output_type": "display_data",
          "data": {
            "text/html": [
              "<style scoped>\n",
              "  .ansiout {\n",
              "    display: block;\n",
              "    unicode-bidi: embed;\n",
              "    white-space: pre-wrap;\n",
              "    word-wrap: break-word;\n",
              "    word-break: break-all;\n",
              "    font-family: \"Source Code Pro\", \"Menlo\", monospace;;\n",
              "    font-size: 13px;\n",
              "    color: #555;\n",
              "    margin-left: 4px;\n",
              "    line-height: 19px;\n",
              "  }\n",
              "</style>\n",
              "<div class=\"ansiout\">Out[104]: [Row(Date=&#39;2010-01-04&#39;, Open=213.429998, High=214.499996, Low=212.38000099999996, Close=214.009998, Volume=123432400, Adj Close=27.727039)]</div>"
            ]
          },
          "metadata": {
            "tags": [],
            "application/vnd.databricks.v1+output": {
              "addedWidgets": {},
              "arguments": {},
              "data": "<div class=\"ansiout\">Out[104]: [Row(Date=&#39;2010-01-04&#39;, Open=213.429998, High=214.499996, Low=212.38000099999996, Close=214.009998, Volume=123432400, Adj Close=27.727039)]</div>",
              "datasetInfos": [],
              "removedWidgets": [],
              "type": "html"
            }
          }
        }
      ]
    },
    {
      "cell_type": "code",
      "metadata": {
        "application/vnd.databricks.v1+cell": {
          "inputWidgets": {},
          "nuid": "3f2598da-5bac-41d0-a946-6afbca545a6f",
          "showTitle": false,
          "title": ""
        },
        "id": "RgGz2x5FcJH-",
        "outputId": "f1aea008-8ec2-4591-dc17-76b30d2ad58a"
      },
      "source": [
        "df1.select(['Date','open']).show()"
      ],
      "execution_count": null,
      "outputs": [
        {
          "output_type": "display_data",
          "data": {
            "text/html": [
              "<style scoped>\n",
              "  .ansiout {\n",
              "    display: block;\n",
              "    unicode-bidi: embed;\n",
              "    white-space: pre-wrap;\n",
              "    word-wrap: break-word;\n",
              "    word-break: break-all;\n",
              "    font-family: \"Source Code Pro\", \"Menlo\", monospace;;\n",
              "    font-size: 13px;\n",
              "    color: #555;\n",
              "    margin-left: 4px;\n",
              "    line-height: 19px;\n",
              "  }\n",
              "</style>\n",
              "<div class=\"ansiout\">+----------+------------------+\n",
              "      Date|              open|\n",
              "+----------+------------------+\n",
              "2010-01-04|        213.429998|\n",
              "2010-01-05|        214.599998|\n",
              "2010-01-06|        214.379993|\n",
              "2010-01-07|            211.75|\n",
              "2010-01-08|        210.299994|\n",
              "2010-01-11|212.79999700000002|\n",
              "2010-01-12|209.18999499999998|\n",
              "2010-01-13|        207.870005|\n",
              "2010-01-14|210.11000299999998|\n",
              "2010-01-15|210.92999500000002|\n",
              "2010-01-19|        208.330002|\n",
              "2010-01-20|        214.910006|\n",
              "2010-01-21|        212.079994|\n",
              "2010-01-22|206.78000600000001|\n",
              "2010-01-25|202.51000200000001|\n",
              "2010-01-26|205.95000100000001|\n",
              "2010-01-27|        206.849995|\n",
              "2010-01-28|        204.930004|\n",
              "2010-01-29|        201.079996|\n",
              "2010-02-01|192.36999699999998|\n",
              "+----------+------------------+\n",
              "only showing top 20 rows\n",
              "\n",
              "</div>"
            ]
          },
          "metadata": {
            "tags": [],
            "application/vnd.databricks.v1+output": {
              "addedWidgets": {},
              "arguments": {},
              "data": "<div class=\"ansiout\">+----------+------------------+\n|      Date|              open|\n+----------+------------------+\n|2010-01-04|        213.429998|\n|2010-01-05|        214.599998|\n|2010-01-06|        214.379993|\n|2010-01-07|            211.75|\n|2010-01-08|        210.299994|\n|2010-01-11|212.79999700000002|\n|2010-01-12|209.18999499999998|\n|2010-01-13|        207.870005|\n|2010-01-14|210.11000299999998|\n|2010-01-15|210.92999500000002|\n|2010-01-19|        208.330002|\n|2010-01-20|        214.910006|\n|2010-01-21|        212.079994|\n|2010-01-22|206.78000600000001|\n|2010-01-25|202.51000200000001|\n|2010-01-26|205.95000100000001|\n|2010-01-27|        206.849995|\n|2010-01-28|        204.930004|\n|2010-01-29|        201.079996|\n|2010-02-01|192.36999699999998|\n+----------+------------------+\nonly showing top 20 rows\n\n</div>",
              "datasetInfos": [],
              "removedWidgets": [],
              "type": "html"
            }
          }
        }
      ]
    },
    {
      "cell_type": "code",
      "metadata": {
        "application/vnd.databricks.v1+cell": {
          "inputWidgets": {},
          "nuid": "87c9a90b-6759-4905-baf6-87b0c95057a4",
          "showTitle": false,
          "title": ""
        },
        "id": "RLryuTrzcJH_",
        "outputId": "3899307b-d7a0-4a81-93cc-8b84af83a47c"
      },
      "source": [
        "from pyspark.sql.functions import dayofmonth, hour, dayofyear, month, year, weekofyear, format_number, date_format\n",
        "df1.select(dayofmonth(df1['Date'])).show() # Due to mismatch of datatype, we need to pass df1['Date']\n",
        "df1.select(hour(df1['Date'])).show() # hour of everyday starts at 0, rest of the hours are not shown - only first 20 rows is shown"
      ],
      "execution_count": null,
      "outputs": [
        {
          "output_type": "display_data",
          "data": {
            "text/html": [
              "<style scoped>\n",
              "  .ansiout {\n",
              "    display: block;\n",
              "    unicode-bidi: embed;\n",
              "    white-space: pre-wrap;\n",
              "    word-wrap: break-word;\n",
              "    word-break: break-all;\n",
              "    font-family: \"Source Code Pro\", \"Menlo\", monospace;;\n",
              "    font-size: 13px;\n",
              "    color: #555;\n",
              "    margin-left: 4px;\n",
              "    line-height: 19px;\n",
              "  }\n",
              "</style>\n",
              "<div class=\"ansiout\">+----------------+\n",
              "dayofmonth(Date)|\n",
              "+----------------+\n",
              "               4|\n",
              "               5|\n",
              "               6|\n",
              "               7|\n",
              "               8|\n",
              "              11|\n",
              "              12|\n",
              "              13|\n",
              "              14|\n",
              "              15|\n",
              "              19|\n",
              "              20|\n",
              "              21|\n",
              "              22|\n",
              "              25|\n",
              "              26|\n",
              "              27|\n",
              "              28|\n",
              "              29|\n",
              "               1|\n",
              "+----------------+\n",
              "only showing top 20 rows\n",
              "\n",
              "</div>"
            ]
          },
          "metadata": {
            "tags": [],
            "application/vnd.databricks.v1+output": {
              "addedWidgets": {},
              "arguments": {},
              "data": "<div class=\"ansiout\">+----------------+\n|dayofmonth(Date)|\n+----------------+\n|               4|\n|               5|\n|               6|\n|               7|\n|               8|\n|              11|\n|              12|\n|              13|\n|              14|\n|              15|\n|              19|\n|              20|\n|              21|\n|              22|\n|              25|\n|              26|\n|              27|\n|              28|\n|              29|\n|               1|\n+----------------+\nonly showing top 20 rows\n\n</div>",
              "datasetInfos": [],
              "removedWidgets": [],
              "type": "html"
            }
          }
        }
      ]
    },
    {
      "cell_type": "code",
      "metadata": {
        "application/vnd.databricks.v1+cell": {
          "inputWidgets": {},
          "nuid": "fb0f6b76-7f21-44bc-82fb-397670b5fd95",
          "showTitle": false,
          "title": ""
        },
        "id": "ycqhEtUtcJH_",
        "outputId": "ac7ccb5d-491f-463c-fce3-bd4b8b809324"
      },
      "source": [
        "newdf = df1.withColumn(\"Year\",year(df1['date']))\n",
        "\n",
        "# if wanted to find the avg(close) for every year\n",
        "result = newdf.groupBy(\"Year\").mean().select([\"Year\",\"avg(Close)\"])"
      ],
      "execution_count": null,
      "outputs": [
        {
          "output_type": "display_data",
          "data": {
            "text/html": [
              "<style scoped>\n",
              "  .ansiout {\n",
              "    display: block;\n",
              "    unicode-bidi: embed;\n",
              "    white-space: pre-wrap;\n",
              "    word-wrap: break-word;\n",
              "    word-break: break-all;\n",
              "    font-family: \"Source Code Pro\", \"Menlo\", monospace;;\n",
              "    font-size: 13px;\n",
              "    color: #555;\n",
              "    margin-left: 4px;\n",
              "    line-height: 19px;\n",
              "  }\n",
              "</style>\n",
              "<div class=\"ansiout\"></div>"
            ]
          },
          "metadata": {
            "tags": [],
            "application/vnd.databricks.v1+output": {
              "addedWidgets": {},
              "arguments": {},
              "data": "<div class=\"ansiout\"></div>",
              "datasetInfos": [],
              "removedWidgets": [],
              "type": "html"
            }
          }
        }
      ]
    },
    {
      "cell_type": "code",
      "metadata": {
        "application/vnd.databricks.v1+cell": {
          "inputWidgets": {},
          "nuid": "8fab8855-3960-4e44-9958-86d96d461609",
          "showTitle": false,
          "title": ""
        },
        "id": "OYW5Dw7ucJIA",
        "outputId": "c80bff3f-4a09-4f91-a0a0-342eb5449d16"
      },
      "source": [
        "new_result = result.withColumnRenamed(\"avg(close)\",\"Average Closing Price\")\n",
        "new_result.select(['year',format_number('Average Closing Price',2).alias(\"Avg Close\")]).show()"
      ],
      "execution_count": null,
      "outputs": [
        {
          "output_type": "display_data",
          "data": {
            "text/html": [
              "<style scoped>\n",
              "  .ansiout {\n",
              "    display: block;\n",
              "    unicode-bidi: embed;\n",
              "    white-space: pre-wrap;\n",
              "    word-wrap: break-word;\n",
              "    word-break: break-all;\n",
              "    font-family: \"Source Code Pro\", \"Menlo\", monospace;;\n",
              "    font-size: 13px;\n",
              "    color: #555;\n",
              "    margin-left: 4px;\n",
              "    line-height: 19px;\n",
              "  }\n",
              "</style>\n",
              "<div class=\"ansiout\">+----+---------+\n",
              "year|Avg Close|\n",
              "+----+---------+\n",
              "2015|   120.04|\n",
              "2013|   472.63|\n",
              "2014|   295.40|\n",
              "2012|   576.05|\n",
              "2016|   104.60|\n",
              "2010|   259.84|\n",
              "2011|   364.00|\n",
              "+----+---------+\n",
              "\n",
              "</div>"
            ]
          },
          "metadata": {
            "tags": [],
            "application/vnd.databricks.v1+output": {
              "addedWidgets": {},
              "arguments": {},
              "data": "<div class=\"ansiout\">+----+---------+\n|year|Avg Close|\n+----+---------+\n|2015|   120.04|\n|2013|   472.63|\n|2014|   295.40|\n|2012|   576.05|\n|2016|   104.60|\n|2010|   259.84|\n|2011|   364.00|\n+----+---------+\n\n</div>",
              "datasetInfos": [],
              "removedWidgets": [],
              "type": "html"
            }
          }
        }
      ]
    },
    {
      "cell_type": "code",
      "metadata": {
        "application/vnd.databricks.v1+cell": {
          "inputWidgets": {},
          "nuid": "c16eb09d-2627-49ba-8712-ccf58986af48",
          "showTitle": false,
          "title": ""
        },
        "id": "HdXxsUl3cJIB",
        "outputId": "def9afdc-85b3-4bc1-bea3-b37dcfa73d2a"
      },
      "source": [
        "## SECTION 9 - WALMART DATA FOR SPARK DATAFRAME PROJECT \n",
        "\n",
        "spark = SparkSession.builder.appName(\"dates\").getOrCreate()"
      ],
      "execution_count": null,
      "outputs": [
        {
          "output_type": "display_data",
          "data": {
            "text/html": [
              "<style scoped>\n",
              "  .ansiout {\n",
              "    display: block;\n",
              "    unicode-bidi: embed;\n",
              "    white-space: pre-wrap;\n",
              "    word-wrap: break-word;\n",
              "    word-break: break-all;\n",
              "    font-family: \"Source Code Pro\", \"Menlo\", monospace;;\n",
              "    font-size: 13px;\n",
              "    color: #555;\n",
              "    margin-left: 4px;\n",
              "    line-height: 19px;\n",
              "  }\n",
              "</style>\n",
              "<div class=\"ansiout\"></div>"
            ]
          },
          "metadata": {
            "tags": [],
            "application/vnd.databricks.v1+output": {
              "addedWidgets": {},
              "arguments": {},
              "data": "<div class=\"ansiout\"></div>",
              "datasetInfos": [],
              "removedWidgets": [],
              "type": "html"
            }
          }
        }
      ]
    },
    {
      "cell_type": "code",
      "metadata": {
        "application/vnd.databricks.v1+cell": {
          "inputWidgets": {},
          "nuid": "095e5cdd-1e90-4d61-8d27-8f3d1ad024fc",
          "showTitle": false,
          "title": ""
        },
        "id": "K6tOHCR_cJIC",
        "outputId": "11c7294e-49c0-4ad1-b372-6e1b63604ecb"
      },
      "source": [
        "df1 = spark.read.format(\"csv\").load(\"dbfs:/FileStore/shared_uploads/nisargmehta2000@gmail.com/walmart_stock.csv\", inferSchema = True, header = True)"
      ],
      "execution_count": null,
      "outputs": [
        {
          "output_type": "display_data",
          "data": {
            "text/html": [
              "<style scoped>\n",
              "  .ansiout {\n",
              "    display: block;\n",
              "    unicode-bidi: embed;\n",
              "    white-space: pre-wrap;\n",
              "    word-wrap: break-word;\n",
              "    word-break: break-all;\n",
              "    font-family: \"Source Code Pro\", \"Menlo\", monospace;;\n",
              "    font-size: 13px;\n",
              "    color: #555;\n",
              "    margin-left: 4px;\n",
              "    line-height: 19px;\n",
              "  }\n",
              "</style>\n",
              "<div class=\"ansiout\"></div>"
            ]
          },
          "metadata": {
            "tags": [],
            "application/vnd.databricks.v1+output": {
              "addedWidgets": {},
              "arguments": {},
              "data": "<div class=\"ansiout\"></div>",
              "datasetInfos": [],
              "removedWidgets": [],
              "type": "html"
            }
          }
        }
      ]
    },
    {
      "cell_type": "code",
      "metadata": {
        "application/vnd.databricks.v1+cell": {
          "inputWidgets": {},
          "nuid": "6f9d5c1d-e2cc-4f3e-a006-0380d8c8f7b1",
          "showTitle": false,
          "title": ""
        },
        "id": "ux_PhCv8cJID",
        "outputId": "dcc01fef-5ca3-4de2-9261-7c1a18dc8b6e"
      },
      "source": [
        "for row in df1.head(5):\n",
        "  print(row)"
      ],
      "execution_count": null,
      "outputs": [
        {
          "output_type": "display_data",
          "data": {
            "text/html": [
              "<style scoped>\n",
              "  .ansiout {\n",
              "    display: block;\n",
              "    unicode-bidi: embed;\n",
              "    white-space: pre-wrap;\n",
              "    word-wrap: break-word;\n",
              "    word-break: break-all;\n",
              "    font-family: \"Source Code Pro\", \"Menlo\", monospace;;\n",
              "    font-size: 13px;\n",
              "    color: #555;\n",
              "    margin-left: 4px;\n",
              "    line-height: 19px;\n",
              "  }\n",
              "</style>\n",
              "<div class=\"ansiout\">Row(Date=&#39;2012-01-03&#39;, Open=59.970001, High=61.060001, Low=59.869999, Close=60.330002, Volume=12668800, Adj Close=52.619234999999996)\n",
              "Row(Date=&#39;2012-01-04&#39;, Open=60.209998999999996, High=60.349998, Low=59.470001, Close=59.709998999999996, Volume=9593300, Adj Close=52.078475)\n",
              "Row(Date=&#39;2012-01-05&#39;, Open=59.349998, High=59.619999, Low=58.369999, Close=59.419998, Volume=12768200, Adj Close=51.825539)\n",
              "Row(Date=&#39;2012-01-06&#39;, Open=59.419998, High=59.450001, Low=58.869999, Close=59.0, Volume=8069400, Adj Close=51.45922)\n",
              "Row(Date=&#39;2012-01-09&#39;, Open=59.029999, High=59.549999, Low=58.919998, Close=59.18, Volume=6679300, Adj Close=51.616215000000004)\n",
              "</div>"
            ]
          },
          "metadata": {
            "tags": [],
            "application/vnd.databricks.v1+output": {
              "addedWidgets": {},
              "arguments": {},
              "data": "<div class=\"ansiout\">Row(Date=&#39;2012-01-03&#39;, Open=59.970001, High=61.060001, Low=59.869999, Close=60.330002, Volume=12668800, Adj Close=52.619234999999996)\nRow(Date=&#39;2012-01-04&#39;, Open=60.209998999999996, High=60.349998, Low=59.470001, Close=59.709998999999996, Volume=9593300, Adj Close=52.078475)\nRow(Date=&#39;2012-01-05&#39;, Open=59.349998, High=59.619999, Low=58.369999, Close=59.419998, Volume=12768200, Adj Close=51.825539)\nRow(Date=&#39;2012-01-06&#39;, Open=59.419998, High=59.450001, Low=58.869999, Close=59.0, Volume=8069400, Adj Close=51.45922)\nRow(Date=&#39;2012-01-09&#39;, Open=59.029999, High=59.549999, Low=58.919998, Close=59.18, Volume=6679300, Adj Close=51.616215000000004)\n</div>",
              "datasetInfos": [],
              "removedWidgets": [],
              "type": "html"
            }
          }
        }
      ]
    },
    {
      "cell_type": "code",
      "metadata": {
        "application/vnd.databricks.v1+cell": {
          "inputWidgets": {},
          "nuid": "3f7b5075-f959-4e4a-ab1a-acaa95e9ce7f",
          "showTitle": false,
          "title": ""
        },
        "id": "NFGgOBIycJIE",
        "outputId": "ee10506a-2845-4107-a0c2-576f633d4349"
      },
      "source": [
        "df1.describe().show()"
      ],
      "execution_count": null,
      "outputs": [
        {
          "output_type": "display_data",
          "data": {
            "text/html": [
              "<style scoped>\n",
              "  .ansiout {\n",
              "    display: block;\n",
              "    unicode-bidi: embed;\n",
              "    white-space: pre-wrap;\n",
              "    word-wrap: break-word;\n",
              "    word-break: break-all;\n",
              "    font-family: \"Source Code Pro\", \"Menlo\", monospace;;\n",
              "    font-size: 13px;\n",
              "    color: #555;\n",
              "    margin-left: 4px;\n",
              "    line-height: 19px;\n",
              "  }\n",
              "</style>\n",
              "<div class=\"ansiout\">+-------+----------+------------------+-----------------+-----------------+-----------------+-----------------+-----------------+\n",
              "summary|      Date|              Open|             High|              Low|            Close|           Volume|        Adj Close|\n",
              "+-------+----------+------------------+-----------------+-----------------+-----------------+-----------------+-----------------+\n",
              "  count|      1258|              1258|             1258|             1258|             1258|             1258|             1258|\n",
              "   mean|      null| 72.35785375357709|72.83938807631165| 71.9186009594594|72.38844998012726|8222093.481717011|67.23883848728146|\n",
              " stddev|      null|  6.76809024470826|6.768186808159218|6.744075756255496|6.756859163732991|  4519780.8431556|6.722609449996857|\n",
              "    min|2012-01-03|56.389998999999996|        57.060001|        56.299999|        56.419998|          2094900|        50.363689|\n",
              "    max|2016-12-30|         90.800003|        90.970001|            89.25|        90.470001|         80898100|84.91421600000001|\n",
              "+-------+----------+------------------+-----------------+-----------------+-----------------+-----------------+-----------------+\n",
              "\n",
              "</div>"
            ]
          },
          "metadata": {
            "tags": [],
            "application/vnd.databricks.v1+output": {
              "addedWidgets": {},
              "arguments": {},
              "data": "<div class=\"ansiout\">+-------+----------+------------------+-----------------+-----------------+-----------------+-----------------+-----------------+\n|summary|      Date|              Open|             High|              Low|            Close|           Volume|        Adj Close|\n+-------+----------+------------------+-----------------+-----------------+-----------------+-----------------+-----------------+\n|  count|      1258|              1258|             1258|             1258|             1258|             1258|             1258|\n|   mean|      null| 72.35785375357709|72.83938807631165| 71.9186009594594|72.38844998012726|8222093.481717011|67.23883848728146|\n| stddev|      null|  6.76809024470826|6.768186808159218|6.744075756255496|6.756859163732991|  4519780.8431556|6.722609449996857|\n|    min|2012-01-03|56.389998999999996|        57.060001|        56.299999|        56.419998|          2094900|        50.363689|\n|    max|2016-12-30|         90.800003|        90.970001|            89.25|        90.470001|         80898100|84.91421600000001|\n+-------+----------+------------------+-----------------+-----------------+-----------------+-----------------+-----------------+\n\n</div>",
              "datasetInfos": [],
              "removedWidgets": [],
              "type": "html"
            }
          }
        }
      ]
    },
    {
      "cell_type": "code",
      "metadata": {
        "application/vnd.databricks.v1+cell": {
          "inputWidgets": {},
          "nuid": "e9084f64-b730-4a47-bccc-03195bd14b22",
          "showTitle": false,
          "title": ""
        },
        "id": "Njckpx2DcJIF",
        "outputId": "eecce741-6565-4cda-ce69-3366eda2762a"
      },
      "source": [
        "# In this dataset there are many decimal points for mean and stddev. So we need to format the number to show upto 2 decimal places\n",
        "from pyspark.sql.functions import format_number"
      ],
      "execution_count": null,
      "outputs": [
        {
          "output_type": "display_data",
          "data": {
            "text/html": [
              "<style scoped>\n",
              "  .ansiout {\n",
              "    display: block;\n",
              "    unicode-bidi: embed;\n",
              "    white-space: pre-wrap;\n",
              "    word-wrap: break-word;\n",
              "    word-break: break-all;\n",
              "    font-family: \"Source Code Pro\", \"Menlo\", monospace;;\n",
              "    font-size: 13px;\n",
              "    color: #555;\n",
              "    margin-left: 4px;\n",
              "    line-height: 19px;\n",
              "  }\n",
              "</style>\n",
              "<div class=\"ansiout\"></div>"
            ]
          },
          "metadata": {
            "tags": [],
            "application/vnd.databricks.v1+output": {
              "addedWidgets": {},
              "arguments": {},
              "data": "<div class=\"ansiout\"></div>",
              "datasetInfos": [],
              "removedWidgets": [],
              "type": "html"
            }
          }
        }
      ]
    },
    {
      "cell_type": "code",
      "metadata": {
        "application/vnd.databricks.v1+cell": {
          "inputWidgets": {},
          "nuid": "de5e2508-152d-4861-8e6d-6a40c60d0a9b",
          "showTitle": false,
          "title": ""
        },
        "id": "wkWFhuF_cJIF",
        "outputId": "0fac8ef2-c592-4944-efce-18df02c0051d"
      },
      "source": [
        "result = df1.describe()\n",
        "result.select(result['summary'],format_number(result['open'].cast('float'),2).alias('Open'),format_number(result['close'].cast('float'),2).alias('close'),\n",
        "                                format_number(result['High'].cast('float'),2).alias('High'),format_number(result['low'].cast('float'),2).alias('low'),\n",
        "                                format_number(result['volume'].cast('int'),2).alias('volume')).show()"
      ],
      "execution_count": null,
      "outputs": [
        {
          "output_type": "display_data",
          "data": {
            "text/html": [
              "<style scoped>\n",
              "  .ansiout {\n",
              "    display: block;\n",
              "    unicode-bidi: embed;\n",
              "    white-space: pre-wrap;\n",
              "    word-wrap: break-word;\n",
              "    word-break: break-all;\n",
              "    font-family: \"Source Code Pro\", \"Menlo\", monospace;;\n",
              "    font-size: 13px;\n",
              "    color: #555;\n",
              "    margin-left: 4px;\n",
              "    line-height: 19px;\n",
              "  }\n",
              "</style>\n",
              "<div class=\"ansiout\">+-------+--------+--------+--------+--------+-------------+\n",
              "summary|    Open|   close|    High|     low|       volume|\n",
              "+-------+--------+--------+--------+--------+-------------+\n",
              "  count|1,258.00|1,258.00|1,258.00|1,258.00|     1,258.00|\n",
              "   mean|   72.36|   72.39|   72.84|   71.92| 8,222,093.00|\n",
              " stddev|    6.77|    6.76|    6.77|    6.74| 4,519,780.00|\n",
              "    min|   56.39|   56.42|   57.06|   56.30| 2,094,900.00|\n",
              "    max|   90.80|   90.47|   90.97|   89.25|80,898,100.00|\n",
              "+-------+--------+--------+--------+--------+-------------+\n",
              "\n",
              "</div>"
            ]
          },
          "metadata": {
            "tags": [],
            "application/vnd.databricks.v1+output": {
              "addedWidgets": {},
              "arguments": {},
              "data": "<div class=\"ansiout\">+-------+--------+--------+--------+--------+-------------+\n|summary|    Open|   close|    High|     low|       volume|\n+-------+--------+--------+--------+--------+-------------+\n|  count|1,258.00|1,258.00|1,258.00|1,258.00|     1,258.00|\n|   mean|   72.36|   72.39|   72.84|   71.92| 8,222,093.00|\n| stddev|    6.77|    6.76|    6.77|    6.74| 4,519,780.00|\n|    min|   56.39|   56.42|   57.06|   56.30| 2,094,900.00|\n|    max|   90.80|   90.47|   90.97|   89.25|80,898,100.00|\n+-------+--------+--------+--------+--------+-------------+\n\n</div>",
              "datasetInfos": [],
              "removedWidgets": [],
              "type": "html"
            }
          }
        }
      ]
    },
    {
      "cell_type": "code",
      "metadata": {
        "application/vnd.databricks.v1+cell": {
          "inputWidgets": {},
          "nuid": "9dde37a5-a11b-4ddd-97f7-c22a5e9cb24a",
          "showTitle": false,
          "title": ""
        },
        "id": "j4jMqeQ_cJIG",
        "outputId": "4a50fce2-5449-46c6-f3be-747b8520439a"
      },
      "source": [
        "# Create a new Dataframe with a column called HV Ratio that is ratio of the High price vs volume of stock traded for the day\n",
        "df2 = df1.withColumn(\"HV Ratio\", df1['high']/df1['Volume']) # here dividing the column with other column\n",
        "df2.select(\"HV Ratio\").show()"
      ],
      "execution_count": null,
      "outputs": [
        {
          "output_type": "display_data",
          "data": {
            "text/html": [
              "<style scoped>\n",
              "  .ansiout {\n",
              "    display: block;\n",
              "    unicode-bidi: embed;\n",
              "    white-space: pre-wrap;\n",
              "    word-wrap: break-word;\n",
              "    word-break: break-all;\n",
              "    font-family: \"Source Code Pro\", \"Menlo\", monospace;;\n",
              "    font-size: 13px;\n",
              "    color: #555;\n",
              "    margin-left: 4px;\n",
              "    line-height: 19px;\n",
              "  }\n",
              "</style>\n",
              "<div class=\"ansiout\">+--------------------+\n",
              "            HV Ratio|\n",
              "+--------------------+\n",
              "4.819714653321546E-6|\n",
              "6.290848613094555E-6|\n",
              "4.669412994783916E-6|\n",
              "7.367338463826307E-6|\n",
              "8.915604778943901E-6|\n",
              "8.644477436914568E-6|\n",
              "9.351828421515645E-6|\n",
              " 8.29141562102703E-6|\n",
              "7.712212102001476E-6|\n",
              "7.071764823529412E-6|\n",
              "1.015495466386981E-5|\n",
              "6.576354146362592...|\n",
              " 5.90145296180676E-6|\n",
              "8.547679455011844E-6|\n",
              "8.420709512685392E-6|\n",
              "1.041448341728929...|\n",
              "8.316075414862431E-6|\n",
              "9.721183814992126E-6|\n",
              "8.029436027707578E-6|\n",
              "6.307432259386365E-6|\n",
              "+--------------------+\n",
              "only showing top 20 rows\n",
              "\n",
              "</div>"
            ]
          },
          "metadata": {
            "tags": [],
            "application/vnd.databricks.v1+output": {
              "addedWidgets": {},
              "arguments": {},
              "data": "<div class=\"ansiout\">+--------------------+\n|            HV Ratio|\n+--------------------+\n|4.819714653321546E-6|\n|6.290848613094555E-6|\n|4.669412994783916E-6|\n|7.367338463826307E-6|\n|8.915604778943901E-6|\n|8.644477436914568E-6|\n|9.351828421515645E-6|\n| 8.29141562102703E-6|\n|7.712212102001476E-6|\n|7.071764823529412E-6|\n|1.015495466386981E-5|\n|6.576354146362592...|\n| 5.90145296180676E-6|\n|8.547679455011844E-6|\n|8.420709512685392E-6|\n|1.041448341728929...|\n|8.316075414862431E-6|\n|9.721183814992126E-6|\n|8.029436027707578E-6|\n|6.307432259386365E-6|\n+--------------------+\nonly showing top 20 rows\n\n</div>",
              "datasetInfos": [],
              "removedWidgets": [],
              "type": "html"
            }
          }
        }
      ]
    },
    {
      "cell_type": "code",
      "metadata": {
        "application/vnd.databricks.v1+cell": {
          "inputWidgets": {},
          "nuid": "a43d84a8-9e04-4356-998e-7c7fa591423f",
          "showTitle": false,
          "title": ""
        },
        "id": "ljvcDHbtcJIG",
        "outputId": "ee52b6bc-4596-464b-e380-66b95ae0ff11"
      },
      "source": [
        "# what day had the peak high in price\n",
        "df1.orderBy(df1['High'].desc()).head(1)[0][0]"
      ],
      "execution_count": null,
      "outputs": [
        {
          "output_type": "display_data",
          "data": {
            "text/html": [
              "<style scoped>\n",
              "  .ansiout {\n",
              "    display: block;\n",
              "    unicode-bidi: embed;\n",
              "    white-space: pre-wrap;\n",
              "    word-wrap: break-word;\n",
              "    word-break: break-all;\n",
              "    font-family: \"Source Code Pro\", \"Menlo\", monospace;;\n",
              "    font-size: 13px;\n",
              "    color: #555;\n",
              "    margin-left: 4px;\n",
              "    line-height: 19px;\n",
              "  }\n",
              "</style>\n",
              "<div class=\"ansiout\">Out[21]: &#39;2015-01-13&#39;</div>"
            ]
          },
          "metadata": {
            "tags": [],
            "application/vnd.databricks.v1+output": {
              "addedWidgets": {},
              "arguments": {},
              "data": "<div class=\"ansiout\">Out[21]: &#39;2015-01-13&#39;</div>",
              "datasetInfos": [],
              "removedWidgets": [],
              "type": "html"
            }
          }
        }
      ]
    },
    {
      "cell_type": "code",
      "metadata": {
        "application/vnd.databricks.v1+cell": {
          "inputWidgets": {},
          "nuid": "abc1bbb1-1d2a-4a1e-acce-5576a640d1d2",
          "showTitle": false,
          "title": ""
        },
        "id": "PeQ2FmMEcJIH",
        "outputId": "5c15f5b0-47db-472e-8fa2-3ec0a0be3d83"
      },
      "source": [
        "# what is the max and min of volume column\n",
        "from pyspark.sql.functions import min, max\n",
        "df1.select(max('volume'),min('volume')).show()"
      ],
      "execution_count": null,
      "outputs": [
        {
          "output_type": "display_data",
          "data": {
            "text/html": [
              "<style scoped>\n",
              "  .ansiout {\n",
              "    display: block;\n",
              "    unicode-bidi: embed;\n",
              "    white-space: pre-wrap;\n",
              "    word-wrap: break-word;\n",
              "    word-break: break-all;\n",
              "    font-family: \"Source Code Pro\", \"Menlo\", monospace;;\n",
              "    font-size: 13px;\n",
              "    color: #555;\n",
              "    margin-left: 4px;\n",
              "    line-height: 19px;\n",
              "  }\n",
              "</style>\n",
              "<div class=\"ansiout\">+-----------+-----------+\n",
              "max(volume)|min(volume)|\n",
              "+-----------+-----------+\n",
              "   80898100|    2094900|\n",
              "+-----------+-----------+\n",
              "\n",
              "</div>"
            ]
          },
          "metadata": {
            "tags": [],
            "application/vnd.databricks.v1+output": {
              "addedWidgets": {},
              "arguments": {},
              "data": "<div class=\"ansiout\">+-----------+-----------+\n|max(volume)|min(volume)|\n+-----------+-----------+\n|   80898100|    2094900|\n+-----------+-----------+\n\n</div>",
              "datasetInfos": [],
              "removedWidgets": [],
              "type": "html"
            }
          }
        }
      ]
    },
    {
      "cell_type": "code",
      "metadata": {
        "application/vnd.databricks.v1+cell": {
          "inputWidgets": {},
          "nuid": "3ae858c3-faeb-49a6-a511-bb06ed4126fb",
          "showTitle": false,
          "title": ""
        },
        "id": "7yMzc729cJII",
        "outputId": "f49bbf08-3dc3-4a4a-ae0e-390e337b4241"
      },
      "source": [
        "# how many days was the close lower than 60 $\n",
        "# df1.filter('Close < 60').count()\n",
        "\n",
        "# if wanted to see the result in the form of the dataframe\n",
        "from pyspark.sql.functions import count\n",
        "result = df1.filter(df1['close'] < 60)\n",
        "result.select(count('Close')).show()"
      ],
      "execution_count": null,
      "outputs": [
        {
          "output_type": "display_data",
          "data": {
            "text/html": [
              "<style scoped>\n",
              "  .ansiout {\n",
              "    display: block;\n",
              "    unicode-bidi: embed;\n",
              "    white-space: pre-wrap;\n",
              "    word-wrap: break-word;\n",
              "    word-break: break-all;\n",
              "    font-family: \"Source Code Pro\", \"Menlo\", monospace;;\n",
              "    font-size: 13px;\n",
              "    color: #555;\n",
              "    margin-left: 4px;\n",
              "    line-height: 19px;\n",
              "  }\n",
              "</style>\n",
              "<div class=\"ansiout\">+------------+\n",
              "count(Close)|\n",
              "+------------+\n",
              "          81|\n",
              "+------------+\n",
              "\n",
              "</div>"
            ]
          },
          "metadata": {
            "tags": [],
            "application/vnd.databricks.v1+output": {
              "addedWidgets": {},
              "arguments": {},
              "data": "<div class=\"ansiout\">+------------+\n|count(Close)|\n+------------+\n|          81|\n+------------+\n\n</div>",
              "datasetInfos": [],
              "removedWidgets": [],
              "type": "html"
            }
          }
        }
      ]
    },
    {
      "cell_type": "code",
      "metadata": {
        "application/vnd.databricks.v1+cell": {
          "inputWidgets": {},
          "nuid": "c9d41512-7f60-4951-936b-57515656acd7",
          "showTitle": false,
          "title": ""
        },
        "id": "IBUflVvacJII",
        "outputId": "cf6bcab0-2824-4bb8-a121-8f4f67e8c0ce"
      },
      "source": [
        "# what % of time was the high > 80$ i.e (Number of days high > 80)/(Total no of days)\n",
        "# df1.count() - Total no of days - o/p - 1258\n",
        "(df1.filter(df1['high'] > 80).count() / df1.count())*100"
      ],
      "execution_count": null,
      "outputs": [
        {
          "output_type": "display_data",
          "data": {
            "text/html": [
              "<style scoped>\n",
              "  .ansiout {\n",
              "    display: block;\n",
              "    unicode-bidi: embed;\n",
              "    white-space: pre-wrap;\n",
              "    word-wrap: break-word;\n",
              "    word-break: break-all;\n",
              "    font-family: \"Source Code Pro\", \"Menlo\", monospace;;\n",
              "    font-size: 13px;\n",
              "    color: #555;\n",
              "    margin-left: 4px;\n",
              "    line-height: 19px;\n",
              "  }\n",
              "</style>\n",
              "<div class=\"ansiout\">Out[28]: 9.141494435612083</div>"
            ]
          },
          "metadata": {
            "tags": [],
            "application/vnd.databricks.v1+output": {
              "addedWidgets": {},
              "arguments": {},
              "data": "<div class=\"ansiout\">Out[28]: 9.141494435612083</div>",
              "datasetInfos": [],
              "removedWidgets": [],
              "type": "html"
            }
          }
        }
      ]
    },
    {
      "cell_type": "code",
      "metadata": {
        "application/vnd.databricks.v1+cell": {
          "inputWidgets": {},
          "nuid": "1ec4c93a-0b75-4b53-be5c-ddd700c0cc77",
          "showTitle": false,
          "title": ""
        },
        "id": "vn5rVCkScJIJ",
        "outputId": "ef64c300-58d1-409f-fc9f-3ca9c325e09c"
      },
      "source": [
        "# what is the Pearson coorealtion between high and volume\n",
        "from pyspark.sql.functions import corr\n",
        "df1.select(corr('High','Volume')).show()"
      ],
      "execution_count": null,
      "outputs": [
        {
          "output_type": "display_data",
          "data": {
            "text/html": [
              "<style scoped>\n",
              "  .ansiout {\n",
              "    display: block;\n",
              "    unicode-bidi: embed;\n",
              "    white-space: pre-wrap;\n",
              "    word-wrap: break-word;\n",
              "    word-break: break-all;\n",
              "    font-family: \"Source Code Pro\", \"Menlo\", monospace;;\n",
              "    font-size: 13px;\n",
              "    color: #555;\n",
              "    margin-left: 4px;\n",
              "    line-height: 19px;\n",
              "  }\n",
              "</style>\n",
              "<div class=\"ansiout\">+-------------------+\n",
              " corr(High, Volume)|\n",
              "+-------------------+\n",
              "-0.3384326061737161|\n",
              "+-------------------+\n",
              "\n",
              "</div>"
            ]
          },
          "metadata": {
            "tags": [],
            "application/vnd.databricks.v1+output": {
              "addedWidgets": {},
              "arguments": {},
              "data": "<div class=\"ansiout\">+-------------------+\n| corr(High, Volume)|\n+-------------------+\n|-0.3384326061737161|\n+-------------------+\n\n</div>",
              "datasetInfos": [],
              "removedWidgets": [],
              "type": "html"
            }
          }
        }
      ]
    },
    {
      "cell_type": "code",
      "metadata": {
        "application/vnd.databricks.v1+cell": {
          "inputWidgets": {},
          "nuid": "5267a678-fffd-4294-9ef9-f6c4770a156b",
          "showTitle": false,
          "title": ""
        },
        "id": "i8YD1WZ6cJIK",
        "outputId": "3ee8ceb4-3f39-4eb8-a03a-71b8cd67cb43"
      },
      "source": [
        "# what is the max high per year\n",
        "from pyspark.sql.functions import year\n",
        "yeardf = df1.withColumn(\"Year\",year(df1['Date'])) # so here we are calling year function and passing the date column in it and not the date string\n",
        "max_df = yeardf.groupBy('year').max()\n",
        "max_df.select('year','max(high)').show()"
      ],
      "execution_count": null,
      "outputs": [
        {
          "output_type": "display_data",
          "data": {
            "text/html": [
              "<style scoped>\n",
              "  .ansiout {\n",
              "    display: block;\n",
              "    unicode-bidi: embed;\n",
              "    white-space: pre-wrap;\n",
              "    word-wrap: break-word;\n",
              "    word-break: break-all;\n",
              "    font-family: \"Source Code Pro\", \"Menlo\", monospace;;\n",
              "    font-size: 13px;\n",
              "    color: #555;\n",
              "    margin-left: 4px;\n",
              "    line-height: 19px;\n",
              "  }\n",
              "</style>\n",
              "<div class=\"ansiout\">+----+---------+\n",
              "year|max(high)|\n",
              "+----+---------+\n",
              "2015|90.970001|\n",
              "2013|81.370003|\n",
              "2014|88.089996|\n",
              "2012|77.599998|\n",
              "2016|75.190002|\n",
              "+----+---------+\n",
              "\n",
              "</div>"
            ]
          },
          "metadata": {
            "tags": [],
            "application/vnd.databricks.v1+output": {
              "addedWidgets": {},
              "arguments": {},
              "data": "<div class=\"ansiout\">+----+---------+\n|year|max(high)|\n+----+---------+\n|2015|90.970001|\n|2013|81.370003|\n|2014|88.089996|\n|2012|77.599998|\n|2016|75.190002|\n+----+---------+\n\n</div>",
              "datasetInfos": [],
              "removedWidgets": [],
              "type": "html"
            }
          }
        }
      ]
    },
    {
      "cell_type": "code",
      "metadata": {
        "application/vnd.databricks.v1+cell": {
          "inputWidgets": {},
          "nuid": "0abe42c7-6795-42d7-8efc-8a91bed7253c",
          "showTitle": false,
          "title": ""
        },
        "id": "xeu9Ao_hcJIL",
        "outputId": "0d090499-b5bc-4bee-c960-cc6695c06654"
      },
      "source": [
        "# Across all year, what is the average close price for each month\n",
        "from pyspark.sql.functions import month\n",
        "month_df = df1.withColumn(\"month\",month(df1['Date']))\n",
        "month_avg = month_df.select('Month','close').groupBy('Month').mean()\n",
        "month_avg.select('month','avg(close)').orderBy('Month').show()"
      ],
      "execution_count": null,
      "outputs": [
        {
          "output_type": "display_data",
          "data": {
            "text/html": [
              "<style scoped>\n",
              "  .ansiout {\n",
              "    display: block;\n",
              "    unicode-bidi: embed;\n",
              "    white-space: pre-wrap;\n",
              "    word-wrap: break-word;\n",
              "    word-break: break-all;\n",
              "    font-family: \"Source Code Pro\", \"Menlo\", monospace;;\n",
              "    font-size: 13px;\n",
              "    color: #555;\n",
              "    margin-left: 4px;\n",
              "    line-height: 19px;\n",
              "  }\n",
              "</style>\n",
              "<div class=\"ansiout\">+-----+-----------------+\n",
              "month|       avg(close)|\n",
              "+-----+-----------------+\n",
              "    1|71.44801958415842|\n",
              "    2|  71.306804443299|\n",
              "    3|71.77794377570092|\n",
              "    4|72.97361900952382|\n",
              "    5|72.30971688679247|\n",
              "    6| 72.4953774245283|\n",
              "    7|74.43971943925233|\n",
              "    8|73.02981855454546|\n",
              "    9|72.18411785294116|\n",
              "   10|71.57854545454543|\n",
              "   11| 72.1110893069307|\n",
              "   12|72.84792478301885|\n",
              "+-----+-----------------+\n",
              "\n",
              "</div>"
            ]
          },
          "metadata": {
            "tags": [],
            "application/vnd.databricks.v1+output": {
              "addedWidgets": {},
              "arguments": {},
              "data": "<div class=\"ansiout\">+-----+-----------------+\n|month|       avg(close)|\n+-----+-----------------+\n|    1|71.44801958415842|\n|    2|  71.306804443299|\n|    3|71.77794377570092|\n|    4|72.97361900952382|\n|    5|72.30971688679247|\n|    6| 72.4953774245283|\n|    7|74.43971943925233|\n|    8|73.02981855454546|\n|    9|72.18411785294116|\n|   10|71.57854545454543|\n|   11| 72.1110893069307|\n|   12|72.84792478301885|\n+-----+-----------------+\n\n</div>",
              "datasetInfos": [],
              "removedWidgets": [],
              "type": "html"
            }
          }
        }
      ]
    },
    {
      "cell_type": "code",
      "metadata": {
        "application/vnd.databricks.v1+cell": {
          "inputWidgets": {},
          "nuid": "0f4d2a3e-2930-4923-9f3f-6f3ecdc69f66",
          "showTitle": false,
          "title": ""
        },
        "id": "QsaFyF2mcJIL",
        "outputId": "c131a5ae-d469-4080-d638-0112d22939c3"
      },
      "source": [
        "## SECTION 10 - ONLY CONISIST OF THEORY\n",
        "## SECTION 11 - MACHINE LEARNING WITH PYSPARK (MLib)\n",
        "\n",
        "# Linear regression \n",
        "spark = SparkSession.builder.appName(\"lrex\").getOrCreate()\n",
        "from pyspark.ml.regression import LinearRegression"
      ],
      "execution_count": null,
      "outputs": [
        {
          "output_type": "display_data",
          "data": {
            "text/html": [
              "<style scoped>\n",
              "  .ansiout {\n",
              "    display: block;\n",
              "    unicode-bidi: embed;\n",
              "    white-space: pre-wrap;\n",
              "    word-wrap: break-word;\n",
              "    word-break: break-all;\n",
              "    font-family: \"Source Code Pro\", \"Menlo\", monospace;;\n",
              "    font-size: 13px;\n",
              "    color: #555;\n",
              "    margin-left: 4px;\n",
              "    line-height: 19px;\n",
              "  }\n",
              "</style>\n",
              "<div class=\"ansiout\"></div>"
            ]
          },
          "metadata": {
            "tags": [],
            "application/vnd.databricks.v1+output": {
              "addedWidgets": {},
              "arguments": {},
              "data": "<div class=\"ansiout\"></div>",
              "datasetInfos": [],
              "removedWidgets": [],
              "type": "html"
            }
          }
        }
      ]
    },
    {
      "cell_type": "code",
      "metadata": {
        "application/vnd.databricks.v1+cell": {
          "inputWidgets": {},
          "nuid": "da92d920-4419-40e4-a4af-6a447cd5d667",
          "showTitle": false,
          "title": ""
        },
        "id": "PVsWTRh6cJIM",
        "outputId": "12502d61-366c-436c-e4a3-50141e084c43"
      },
      "source": [
        "training = spark.read.format('libsvm').load('dbfs:/FileStore/shared_uploads/nisargmehta2000@gmail.com/sample_linear_regression_data.txt')  "
      ],
      "execution_count": null,
      "outputs": [
        {
          "output_type": "display_data",
          "data": {
            "text/html": [
              "<style scoped>\n",
              "  .ansiout {\n",
              "    display: block;\n",
              "    unicode-bidi: embed;\n",
              "    white-space: pre-wrap;\n",
              "    word-wrap: break-word;\n",
              "    word-break: break-all;\n",
              "    font-family: \"Source Code Pro\", \"Menlo\", monospace;;\n",
              "    font-size: 13px;\n",
              "    color: #555;\n",
              "    margin-left: 4px;\n",
              "    line-height: 19px;\n",
              "  }\n",
              "</style>\n",
              "<div class=\"ansiout\"></div>"
            ]
          },
          "metadata": {
            "tags": [],
            "application/vnd.databricks.v1+output": {
              "addedWidgets": {},
              "arguments": {},
              "data": "<div class=\"ansiout\"></div>",
              "datasetInfos": [],
              "removedWidgets": [],
              "type": "html"
            }
          }
        }
      ]
    },
    {
      "cell_type": "code",
      "metadata": {
        "application/vnd.databricks.v1+cell": {
          "inputWidgets": {},
          "nuid": "fd82ed42-afe9-4a71-ae52-6959be5e99b6",
          "showTitle": false,
          "title": ""
        },
        "id": "eA6cP2h-cJIN",
        "outputId": "99896fc5-3bde-4dc0-da28-b073f15ba318"
      },
      "source": [
        "training.show()\n",
        "# label column must have some sort of numerical label - Either the numerical regression value or numerical matching the classification grouping.\n",
        "# feature has the vector, a vector of all the features that brelong to that row"
      ],
      "execution_count": null,
      "outputs": [
        {
          "output_type": "display_data",
          "data": {
            "text/html": [
              "<style scoped>\n",
              "  .ansiout {\n",
              "    display: block;\n",
              "    unicode-bidi: embed;\n",
              "    white-space: pre-wrap;\n",
              "    word-wrap: break-word;\n",
              "    word-break: break-all;\n",
              "    font-family: \"Source Code Pro\", \"Menlo\", monospace;;\n",
              "    font-size: 13px;\n",
              "    color: #555;\n",
              "    margin-left: 4px;\n",
              "    line-height: 19px;\n",
              "  }\n",
              "</style>\n",
              "<div class=\"ansiout\">+-------------------+--------------------+\n",
              "              label|            features|\n",
              "+-------------------+--------------------+\n",
              " -9.490009878824548|(10,[0,1,2,3,4,5,...|\n",
              " 0.2577820163584905|(10,[0,1,2,3,4,5,...|\n",
              " -4.438869807456516|(10,[0,1,2,3,4,5,...|\n",
              "-19.782762789614537|(10,[0,1,2,3,4,5,...|\n",
              " -7.966593841555266|(10,[0,1,2,3,4,5,...|\n",
              " -7.896274316726144|(10,[0,1,2,3,4,5,...|\n",
              " -8.464803554195287|(10,[0,1,2,3,4,5,...|\n",
              " 2.1214592666251364|(10,[0,1,2,3,4,5,...|\n",
              " 1.0720117616524107|(10,[0,1,2,3,4,5,...|\n",
              "-13.772441561702871|(10,[0,1,2,3,4,5,...|\n",
              " -5.082010756207233|(10,[0,1,2,3,4,5,...|\n",
              "  7.887786536531237|(10,[0,1,2,3,4,5,...|\n",
              " 14.323146365332388|(10,[0,1,2,3,4,5,...|\n",
              "-20.057482615789212|(10,[0,1,2,3,4,5,...|\n",
              "-0.8995693247765151|(10,[0,1,2,3,4,5,...|\n",
              " -19.16829262296376|(10,[0,1,2,3,4,5,...|\n",
              "  5.601801561245534|(10,[0,1,2,3,4,5,...|\n",
              "-3.2256352187273354|(10,[0,1,2,3,4,5,...|\n",
              " 1.5299675726687754|(10,[0,1,2,3,4,5,...|\n",
              " -0.250102447941961|(10,[0,1,2,3,4,5,...|\n",
              "+-------------------+--------------------+\n",
              "only showing top 20 rows\n",
              "\n",
              "</div>"
            ]
          },
          "metadata": {
            "tags": [],
            "application/vnd.databricks.v1+output": {
              "addedWidgets": {},
              "arguments": {},
              "data": "<div class=\"ansiout\">+-------------------+--------------------+\n|              label|            features|\n+-------------------+--------------------+\n| -9.490009878824548|(10,[0,1,2,3,4,5,...|\n| 0.2577820163584905|(10,[0,1,2,3,4,5,...|\n| -4.438869807456516|(10,[0,1,2,3,4,5,...|\n|-19.782762789614537|(10,[0,1,2,3,4,5,...|\n| -7.966593841555266|(10,[0,1,2,3,4,5,...|\n| -7.896274316726144|(10,[0,1,2,3,4,5,...|\n| -8.464803554195287|(10,[0,1,2,3,4,5,...|\n| 2.1214592666251364|(10,[0,1,2,3,4,5,...|\n| 1.0720117616524107|(10,[0,1,2,3,4,5,...|\n|-13.772441561702871|(10,[0,1,2,3,4,5,...|\n| -5.082010756207233|(10,[0,1,2,3,4,5,...|\n|  7.887786536531237|(10,[0,1,2,3,4,5,...|\n| 14.323146365332388|(10,[0,1,2,3,4,5,...|\n|-20.057482615789212|(10,[0,1,2,3,4,5,...|\n|-0.8995693247765151|(10,[0,1,2,3,4,5,...|\n| -19.16829262296376|(10,[0,1,2,3,4,5,...|\n|  5.601801561245534|(10,[0,1,2,3,4,5,...|\n|-3.2256352187273354|(10,[0,1,2,3,4,5,...|\n| 1.5299675726687754|(10,[0,1,2,3,4,5,...|\n| -0.250102447941961|(10,[0,1,2,3,4,5,...|\n+-------------------+--------------------+\nonly showing top 20 rows\n\n</div>",
              "datasetInfos": [],
              "removedWidgets": [],
              "type": "html"
            }
          }
        }
      ]
    },
    {
      "cell_type": "code",
      "metadata": {
        "application/vnd.databricks.v1+cell": {
          "inputWidgets": {},
          "nuid": "55385765-4ae7-49ff-a36d-616f1a1051db",
          "showTitle": false,
          "title": ""
        },
        "id": "kIpiu6gScJIN",
        "outputId": "ffc65323-71bd-4e47-8ccc-f3f2ff581b6c"
      },
      "source": [
        "# create the instance of the model - lr is the instance of linear regression\n",
        "# LinearRegression takes 3 parameters, first one is the featuresCol which tell the LinearRegression model what is the feature column called and by deafult is called as 'features'('features' in above table), another is labelCol which is called 'label' by default and third is predictionCol which is called 'prediction' by default. All this default value change according to the above column name and datasets used.  \n",
        "lr = LinearRegression(featuresCol='features', labelCol='label', predictionCol='prediction')"
      ],
      "execution_count": null,
      "outputs": [
        {
          "output_type": "display_data",
          "data": {
            "text/html": [
              "<style scoped>\n",
              "  .ansiout {\n",
              "    display: block;\n",
              "    unicode-bidi: embed;\n",
              "    white-space: pre-wrap;\n",
              "    word-wrap: break-word;\n",
              "    word-break: break-all;\n",
              "    font-family: \"Source Code Pro\", \"Menlo\", monospace;;\n",
              "    font-size: 13px;\n",
              "    color: #555;\n",
              "    margin-left: 4px;\n",
              "    line-height: 19px;\n",
              "  }\n",
              "</style>\n",
              "<div class=\"ansiout\"></div>"
            ]
          },
          "metadata": {
            "tags": [],
            "application/vnd.databricks.v1+output": {
              "addedWidgets": {},
              "arguments": {},
              "data": "<div class=\"ansiout\"></div>",
              "datasetInfos": [],
              "removedWidgets": [],
              "type": "html"
            }
          }
        }
      ]
    },
    {
      "cell_type": "code",
      "metadata": {
        "application/vnd.databricks.v1+cell": {
          "inputWidgets": {},
          "nuid": "b519b3e6-5805-49aa-9af0-798377240c9b",
          "showTitle": false,
          "title": ""
        },
        "id": "J58kWOm2cJIO",
        "outputId": "f8d9d3f6-9eb3-44cb-d15b-66d837332e5b"
      },
      "source": [
        "# Next is to fit or train the model \n",
        "lrmodel = lr.fit(training)"
      ],
      "execution_count": null,
      "outputs": [
        {
          "output_type": "display_data",
          "data": {
            "text/html": [
              "<style scoped>\n",
              "  .ansiout {\n",
              "    display: block;\n",
              "    unicode-bidi: embed;\n",
              "    white-space: pre-wrap;\n",
              "    word-wrap: break-word;\n",
              "    word-break: break-all;\n",
              "    font-family: \"Source Code Pro\", \"Menlo\", monospace;;\n",
              "    font-size: 13px;\n",
              "    color: #555;\n",
              "    margin-left: 4px;\n",
              "    line-height: 19px;\n",
              "  }\n",
              "</style>\n",
              "<div class=\"ansiout\"></div>"
            ]
          },
          "metadata": {
            "tags": [],
            "application/vnd.databricks.v1+output": {
              "addedWidgets": {},
              "arguments": {},
              "data": "<div class=\"ansiout\"></div>",
              "datasetInfos": [],
              "removedWidgets": [],
              "type": "html"
            }
          }
        }
      ]
    },
    {
      "cell_type": "code",
      "metadata": {
        "application/vnd.databricks.v1+cell": {
          "inputWidgets": {},
          "nuid": "729b9e1b-d38d-4095-a156-76a5004ad442",
          "showTitle": false,
          "title": ""
        },
        "id": "fKXj1-PmcJIO",
        "outputId": "a0e3976d-5697-48b8-d5a2-c30499eafd72"
      },
      "source": [
        "lrmodel.coefficients # o/p = DenseVector([0.0073, 0.8314, -0.8095, 2.4412, 0.5192, 1.1535, -0.2989, -0.5129, -0.6197, 0.6956]) - Here the coefficients (eg : 0.0073) denotes features of the model\n",
        "lrmodel.intercept #o/p = 0.14228558260358093"
      ],
      "execution_count": null,
      "outputs": [
        {
          "output_type": "display_data",
          "data": {
            "text/html": [
              "<style scoped>\n",
              "  .ansiout {\n",
              "    display: block;\n",
              "    unicode-bidi: embed;\n",
              "    white-space: pre-wrap;\n",
              "    word-wrap: break-word;\n",
              "    word-break: break-all;\n",
              "    font-family: \"Source Code Pro\", \"Menlo\", monospace;;\n",
              "    font-size: 13px;\n",
              "    color: #555;\n",
              "    margin-left: 4px;\n",
              "    line-height: 19px;\n",
              "  }\n",
              "</style>\n",
              "<div class=\"ansiout\">Out[47]: 0.14228558260358093</div>"
            ]
          },
          "metadata": {
            "tags": [],
            "application/vnd.databricks.v1+output": {
              "addedWidgets": {},
              "arguments": {},
              "data": "<div class=\"ansiout\">Out[47]: 0.14228558260358093</div>",
              "datasetInfos": [],
              "removedWidgets": [],
              "type": "html"
            }
          }
        }
      ]
    },
    {
      "cell_type": "code",
      "metadata": {
        "application/vnd.databricks.v1+cell": {
          "inputWidgets": {},
          "nuid": "ef88bb1f-7bb7-4d38-b66d-c9d962678147",
          "showTitle": false,
          "title": ""
        },
        "id": "BYrFA0AUcJIP",
        "outputId": "62a9a4c5-03b6-4e7f-c4d6-a3a3b2e836e5"
      },
      "source": [
        "training_summary = lrmodel.summary\n",
        "training_summary.r2 # It tells how much the variance has model \n",
        "training_summary.rootMeanSquaredError"
      ],
      "execution_count": null,
      "outputs": [
        {
          "output_type": "display_data",
          "data": {
            "text/html": [
              "<style scoped>\n",
              "  .ansiout {\n",
              "    display: block;\n",
              "    unicode-bidi: embed;\n",
              "    white-space: pre-wrap;\n",
              "    word-wrap: break-word;\n",
              "    word-break: break-all;\n",
              "    font-family: \"Source Code Pro\", \"Menlo\", monospace;;\n",
              "    font-size: 13px;\n",
              "    color: #555;\n",
              "    margin-left: 4px;\n",
              "    line-height: 19px;\n",
              "  }\n",
              "</style>\n",
              "<div class=\"ansiout\">Out[49]: 10.16309157133015</div>"
            ]
          },
          "metadata": {
            "tags": [],
            "application/vnd.databricks.v1+output": {
              "addedWidgets": {},
              "arguments": {},
              "data": "<div class=\"ansiout\">Out[49]: 10.16309157133015</div>",
              "datasetInfos": [],
              "removedWidgets": [],
              "type": "html"
            }
          }
        }
      ]
    },
    {
      "cell_type": "code",
      "metadata": {
        "application/vnd.databricks.v1+cell": {
          "inputWidgets": {},
          "nuid": "fb83161e-dd9c-4d5e-b653-b3a88aec0cd6",
          "showTitle": false,
          "title": ""
        },
        "id": "YS4qClk6cJIP",
        "outputId": "8466d7d2-1cda-4191-e47c-742dccfcf975"
      },
      "source": [
        "# On above we have directly trained on the entire dataset, but now we will divide it into train and test dataset\n",
        "all_data = spark.read.format('libsvm').load('dbfs:/FileStore/shared_uploads/nisargmehta2000@gmail.com/sample_linear_regression_data.txt')  "
      ],
      "execution_count": null,
      "outputs": [
        {
          "output_type": "display_data",
          "data": {
            "text/html": [
              "<style scoped>\n",
              "  .ansiout {\n",
              "    display: block;\n",
              "    unicode-bidi: embed;\n",
              "    white-space: pre-wrap;\n",
              "    word-wrap: break-word;\n",
              "    word-break: break-all;\n",
              "    font-family: \"Source Code Pro\", \"Menlo\", monospace;;\n",
              "    font-size: 13px;\n",
              "    color: #555;\n",
              "    margin-left: 4px;\n",
              "    line-height: 19px;\n",
              "  }\n",
              "</style>\n",
              "<div class=\"ansiout\"></div>"
            ]
          },
          "metadata": {
            "tags": [],
            "application/vnd.databricks.v1+output": {
              "addedWidgets": {},
              "arguments": {},
              "data": "<div class=\"ansiout\"></div>",
              "datasetInfos": [],
              "removedWidgets": [],
              "type": "html"
            }
          }
        }
      ]
    },
    {
      "cell_type": "code",
      "metadata": {
        "application/vnd.databricks.v1+cell": {
          "inputWidgets": {},
          "nuid": "daa7a4c4-6930-4595-a93c-ac7b8177460e",
          "showTitle": false,
          "title": ""
        },
        "id": "QWq1pfRKcJIQ",
        "outputId": "1a38633a-8810-4c6d-d020-3a6dfc326e16"
      },
      "source": [
        "# now we would split the data into train and test with the help random split with 70:30 - train : test\n",
        "split_object = all_data.randomSplit([0.7,0.3])\n",
        "split_object # It is the list of 2 dataframes where first dataframe has 70% of data of total data and 2nd dataframe has 30% of total data\n",
        "\n",
        "# Can be written as - \n",
        "train_data, test_data = all_data.randomSplit([0.7,0.3])\n",
        "train_data.describe().show()\n",
        "test_data.describe().show()"
      ],
      "execution_count": null,
      "outputs": [
        {
          "output_type": "display_data",
          "data": {
            "text/html": [
              "<style scoped>\n",
              "  .ansiout {\n",
              "    display: block;\n",
              "    unicode-bidi: embed;\n",
              "    white-space: pre-wrap;\n",
              "    word-wrap: break-word;\n",
              "    word-break: break-all;\n",
              "    font-family: \"Source Code Pro\", \"Menlo\", monospace;;\n",
              "    font-size: 13px;\n",
              "    color: #555;\n",
              "    margin-left: 4px;\n",
              "    line-height: 19px;\n",
              "  }\n",
              "</style>\n",
              "<div class=\"ansiout\">+-------+-------------------+\n",
              "summary|              label|\n",
              "+-------+-------------------+\n",
              "  count|                342|\n",
              "   mean|-0.0955999158266894|\n",
              " stddev| 10.616361595268224|\n",
              "    min|-28.571478869743427|\n",
              "    max|  27.78383192005107|\n",
              "+-------+-------------------+\n",
              "\n",
              "+-------+-------------------+\n",
              "summary|              label|\n",
              "+-------+-------------------+\n",
              "  count|                159|\n",
              "   mean|  1.015072145486905|\n",
              " stddev|   9.63325598917348|\n",
              "    min|-28.046018037776633|\n",
              "    max| 27.111027963108548|\n",
              "+-------+-------------------+\n",
              "\n",
              "</div>"
            ]
          },
          "metadata": {
            "tags": [],
            "application/vnd.databricks.v1+output": {
              "addedWidgets": {},
              "arguments": {},
              "data": "<div class=\"ansiout\">+-------+-------------------+\n|summary|              label|\n+-------+-------------------+\n|  count|                342|\n|   mean|-0.0955999158266894|\n| stddev| 10.616361595268224|\n|    min|-28.571478869743427|\n|    max|  27.78383192005107|\n+-------+-------------------+\n\n+-------+-------------------+\n|summary|              label|\n+-------+-------------------+\n|  count|                159|\n|   mean|  1.015072145486905|\n| stddev|   9.63325598917348|\n|    min|-28.046018037776633|\n|    max| 27.111027963108548|\n+-------+-------------------+\n\n</div>",
              "datasetInfos": [],
              "removedWidgets": [],
              "type": "html"
            }
          }
        }
      ]
    },
    {
      "cell_type": "code",
      "metadata": {
        "application/vnd.databricks.v1+cell": {
          "inputWidgets": {},
          "nuid": "4284c060-b462-4334-854e-98f857cf750b",
          "showTitle": false,
          "title": ""
        },
        "id": "vsZF8iyXcJIQ",
        "outputId": "5a5ff7d5-daf1-4229-d8b0-ba063fa6aef0"
      },
      "source": [
        "correct_model = lr.fit(train_data) # training on the train_data\n",
        "test_result = correct_model.evaluate(test_data)"
      ],
      "execution_count": null,
      "outputs": [
        {
          "output_type": "display_data",
          "data": {
            "text/html": [
              "<style scoped>\n",
              "  .ansiout {\n",
              "    display: block;\n",
              "    unicode-bidi: embed;\n",
              "    white-space: pre-wrap;\n",
              "    word-wrap: break-word;\n",
              "    word-break: break-all;\n",
              "    font-family: \"Source Code Pro\", \"Menlo\", monospace;;\n",
              "    font-size: 13px;\n",
              "    color: #555;\n",
              "    margin-left: 4px;\n",
              "    line-height: 19px;\n",
              "  }\n",
              "</style>\n",
              "<div class=\"ansiout\"></div>"
            ]
          },
          "metadata": {
            "tags": [],
            "application/vnd.databricks.v1+output": {
              "addedWidgets": {},
              "arguments": {},
              "data": "<div class=\"ansiout\"></div>",
              "datasetInfos": [],
              "removedWidgets": [],
              "type": "html"
            }
          }
        }
      ]
    },
    {
      "cell_type": "code",
      "metadata": {
        "application/vnd.databricks.v1+cell": {
          "inputWidgets": {},
          "nuid": "07fe98c2-5237-4850-b22e-1da8d136e55e",
          "showTitle": false,
          "title": ""
        },
        "id": "17beWoaCcJIQ",
        "outputId": "e62ceb57-d0bb-4fd0-f1a0-51947daee0d6"
      },
      "source": [
        "# residuals means what did the model expected vs what the label we knew for the test data. So we are comparing our predictions to the label already present in the test data\n",
        "test_result.residuals.show()\n",
        "test_result.rootMeanSquaredError"
      ],
      "execution_count": null,
      "outputs": [
        {
          "output_type": "display_data",
          "data": {
            "text/html": [
              "<style scoped>\n",
              "  .ansiout {\n",
              "    display: block;\n",
              "    unicode-bidi: embed;\n",
              "    white-space: pre-wrap;\n",
              "    word-wrap: break-word;\n",
              "    word-break: break-all;\n",
              "    font-family: \"Source Code Pro\", \"Menlo\", monospace;;\n",
              "    font-size: 13px;\n",
              "    color: #555;\n",
              "    margin-left: 4px;\n",
              "    line-height: 19px;\n",
              "  }\n",
              "</style>\n",
              "<div class=\"ansiout\">+-------------------+\n",
              "          residuals|\n",
              "+-------------------+\n",
              "-26.630926720514275|\n",
              "-24.473846684378046|\n",
              " -21.11532036058513|\n",
              "-16.066438004096486|\n",
              "-16.935902699773255|\n",
              "-17.934880982208544|\n",
              "-14.753087362263374|\n",
              "-15.563508433153578|\n",
              " -13.95271776994644|\n",
              "-14.379114306368393|\n",
              "-17.098338285983004|\n",
              "-10.647436357965802|\n",
              " -9.363707039808954|\n",
              "  -9.39062678446345|\n",
              "-10.928169402136906|\n",
              "-13.314539715197357|\n",
              "-11.942779118777802|\n",
              "-10.415704630121537|\n",
              "  -6.83219249951915|\n",
              " -9.880075318292917|\n",
              "+-------------------+\n",
              "only showing top 20 rows\n",
              "\n",
              "Out[60]: 9.896254296204289</div>"
            ]
          },
          "metadata": {
            "tags": [],
            "application/vnd.databricks.v1+output": {
              "addedWidgets": {},
              "arguments": {},
              "data": "<div class=\"ansiout\">+-------------------+\n|          residuals|\n+-------------------+\n|-26.630926720514275|\n|-24.473846684378046|\n| -21.11532036058513|\n|-16.066438004096486|\n|-16.935902699773255|\n|-17.934880982208544|\n|-14.753087362263374|\n|-15.563508433153578|\n| -13.95271776994644|\n|-14.379114306368393|\n|-17.098338285983004|\n|-10.647436357965802|\n| -9.363707039808954|\n|  -9.39062678446345|\n|-10.928169402136906|\n|-13.314539715197357|\n|-11.942779118777802|\n|-10.415704630121537|\n|  -6.83219249951915|\n| -9.880075318292917|\n+-------------------+\nonly showing top 20 rows\n\nOut[60]: 9.896254296204289</div>",
              "datasetInfos": [],
              "removedWidgets": [],
              "type": "html"
            }
          }
        }
      ]
    },
    {
      "cell_type": "code",
      "metadata": {
        "application/vnd.databricks.v1+cell": {
          "inputWidgets": {},
          "nuid": "4d3095e0-7e98-4e85-8f12-44bc44ccfa8a",
          "showTitle": false,
          "title": ""
        },
        "id": "afYGoj_6cJIR",
        "outputId": "2aea05d3-df0a-4645-8475-902b2c590cd9"
      },
      "source": [
        "unlabeled_data = test_data.select('features')\n",
        "unlabeled_data.show() # It will display only the feature col"
      ],
      "execution_count": null,
      "outputs": [
        {
          "output_type": "display_data",
          "data": {
            "text/html": [
              "<style scoped>\n",
              "  .ansiout {\n",
              "    display: block;\n",
              "    unicode-bidi: embed;\n",
              "    white-space: pre-wrap;\n",
              "    word-wrap: break-word;\n",
              "    word-break: break-all;\n",
              "    font-family: \"Source Code Pro\", \"Menlo\", monospace;;\n",
              "    font-size: 13px;\n",
              "    color: #555;\n",
              "    margin-left: 4px;\n",
              "    line-height: 19px;\n",
              "  }\n",
              "</style>\n",
              "<div class=\"ansiout\">+--------------------+\n",
              "            features|\n",
              "+--------------------+\n",
              "(10,[0,1,2,3,4,5,...|\n",
              "(10,[0,1,2,3,4,5,...|\n",
              "(10,[0,1,2,3,4,5,...|\n",
              "(10,[0,1,2,3,4,5,...|\n",
              "(10,[0,1,2,3,4,5,...|\n",
              "(10,[0,1,2,3,4,5,...|\n",
              "(10,[0,1,2,3,4,5,...|\n",
              "(10,[0,1,2,3,4,5,...|\n",
              "(10,[0,1,2,3,4,5,...|\n",
              "(10,[0,1,2,3,4,5,...|\n",
              "(10,[0,1,2,3,4,5,...|\n",
              "(10,[0,1,2,3,4,5,...|\n",
              "(10,[0,1,2,3,4,5,...|\n",
              "(10,[0,1,2,3,4,5,...|\n",
              "(10,[0,1,2,3,4,5,...|\n",
              "(10,[0,1,2,3,4,5,...|\n",
              "(10,[0,1,2,3,4,5,...|\n",
              "(10,[0,1,2,3,4,5,...|\n",
              "(10,[0,1,2,3,4,5,...|\n",
              "(10,[0,1,2,3,4,5,...|\n",
              "+--------------------+\n",
              "only showing top 20 rows\n",
              "\n",
              "</div>"
            ]
          },
          "metadata": {
            "tags": [],
            "application/vnd.databricks.v1+output": {
              "addedWidgets": {},
              "arguments": {},
              "data": "<div class=\"ansiout\">+--------------------+\n|            features|\n+--------------------+\n|(10,[0,1,2,3,4,5,...|\n|(10,[0,1,2,3,4,5,...|\n|(10,[0,1,2,3,4,5,...|\n|(10,[0,1,2,3,4,5,...|\n|(10,[0,1,2,3,4,5,...|\n|(10,[0,1,2,3,4,5,...|\n|(10,[0,1,2,3,4,5,...|\n|(10,[0,1,2,3,4,5,...|\n|(10,[0,1,2,3,4,5,...|\n|(10,[0,1,2,3,4,5,...|\n|(10,[0,1,2,3,4,5,...|\n|(10,[0,1,2,3,4,5,...|\n|(10,[0,1,2,3,4,5,...|\n|(10,[0,1,2,3,4,5,...|\n|(10,[0,1,2,3,4,5,...|\n|(10,[0,1,2,3,4,5,...|\n|(10,[0,1,2,3,4,5,...|\n|(10,[0,1,2,3,4,5,...|\n|(10,[0,1,2,3,4,5,...|\n|(10,[0,1,2,3,4,5,...|\n+--------------------+\nonly showing top 20 rows\n\n</div>",
              "datasetInfos": [],
              "removedWidgets": [],
              "type": "html"
            }
          }
        }
      ]
    },
    {
      "cell_type": "code",
      "metadata": {
        "application/vnd.databricks.v1+cell": {
          "inputWidgets": {},
          "nuid": "83481382-338a-4aed-bbee-c4be91ba1dbc",
          "showTitle": false,
          "title": ""
        },
        "id": "jBNIy9pUcJIR",
        "outputId": "9ac1a3e5-9244-4f96-c532-8bf2782d5ee5"
      },
      "source": [
        "# Creating the dataframe called predictions in which we transform on this unlabeled_data in which we get the prediction value for the corrosponding features. \n",
        "predictions = correct_model.transform(unlabeled_data)\n",
        "predictions.show()"
      ],
      "execution_count": null,
      "outputs": [
        {
          "output_type": "display_data",
          "data": {
            "text/html": [
              "<style scoped>\n",
              "  .ansiout {\n",
              "    display: block;\n",
              "    unicode-bidi: embed;\n",
              "    white-space: pre-wrap;\n",
              "    word-wrap: break-word;\n",
              "    word-break: break-all;\n",
              "    font-family: \"Source Code Pro\", \"Menlo\", monospace;;\n",
              "    font-size: 13px;\n",
              "    color: #555;\n",
              "    margin-left: 4px;\n",
              "    line-height: 19px;\n",
              "  }\n",
              "</style>\n",
              "<div class=\"ansiout\">+--------------------+--------------------+\n",
              "            features|          prediction|\n",
              "+--------------------+--------------------+\n",
              "(10,[0,1,2,3,4,5,...| -1.4150913172623572|\n",
              "(10,[0,1,2,3,4,5,...|  -2.262360498223678|\n",
              "(10,[0,1,2,3,4,5,...|  2.2693978876865466|\n",
              "(10,[0,1,2,3,4,5,...| -1.4277623527868555|\n",
              "(10,[0,1,2,3,4,5,...|  0.9843901339786834|\n",
              "(10,[0,1,2,3,4,5,...|   2.600113502286202|\n",
              "(10,[0,1,2,3,4,5,...| -0.5578932271529157|\n",
              "(10,[0,1,2,3,4,5,...|  0.7413555234023884|\n",
              "(10,[0,1,2,3,4,5,...|-0.02341316120626233|\n",
              "(10,[0,1,2,3,4,5,...|  1.2257787000028622|\n",
              "(10,[0,1,2,3,4,5,...|   4.176115182612582|\n",
              "(10,[0,1,2,3,4,5,...| -1.4829168543221274|\n",
              "(10,[0,1,2,3,4,5,...|  -2.730644238726304|\n",
              "(10,[0,1,2,3,4,5,...| -2.4667235809659758|\n",
              "(10,[0,1,2,3,4,5,...| -0.6876058628787206|\n",
              "(10,[0,1,2,3,4,5,...|  2.7144093732883245|\n",
              "(10,[0,1,2,3,4,5,...|  1.4536219954049028|\n",
              "(10,[0,1,2,3,4,5,...| 0.12704737773282862|\n",
              "(10,[0,1,2,3,4,5,...| -3.4012470874340037|\n",
              "(10,[0,1,2,3,4,5,...|-0.01208060953330...|\n",
              "+--------------------+--------------------+\n",
              "only showing top 20 rows\n",
              "\n",
              "</div>"
            ]
          },
          "metadata": {
            "tags": [],
            "application/vnd.databricks.v1+output": {
              "addedWidgets": {},
              "arguments": {},
              "data": "<div class=\"ansiout\">+--------------------+--------------------+\n|            features|          prediction|\n+--------------------+--------------------+\n|(10,[0,1,2,3,4,5,...| -1.4150913172623572|\n|(10,[0,1,2,3,4,5,...|  -2.262360498223678|\n|(10,[0,1,2,3,4,5,...|  2.2693978876865466|\n|(10,[0,1,2,3,4,5,...| -1.4277623527868555|\n|(10,[0,1,2,3,4,5,...|  0.9843901339786834|\n|(10,[0,1,2,3,4,5,...|   2.600113502286202|\n|(10,[0,1,2,3,4,5,...| -0.5578932271529157|\n|(10,[0,1,2,3,4,5,...|  0.7413555234023884|\n|(10,[0,1,2,3,4,5,...|-0.02341316120626233|\n|(10,[0,1,2,3,4,5,...|  1.2257787000028622|\n|(10,[0,1,2,3,4,5,...|   4.176115182612582|\n|(10,[0,1,2,3,4,5,...| -1.4829168543221274|\n|(10,[0,1,2,3,4,5,...|  -2.730644238726304|\n|(10,[0,1,2,3,4,5,...| -2.4667235809659758|\n|(10,[0,1,2,3,4,5,...| -0.6876058628787206|\n|(10,[0,1,2,3,4,5,...|  2.7144093732883245|\n|(10,[0,1,2,3,4,5,...|  1.4536219954049028|\n|(10,[0,1,2,3,4,5,...| 0.12704737773282862|\n|(10,[0,1,2,3,4,5,...| -3.4012470874340037|\n|(10,[0,1,2,3,4,5,...|-0.01208060953330...|\n+--------------------+--------------------+\nonly showing top 20 rows\n\n</div>",
              "datasetInfos": [],
              "removedWidgets": [],
              "type": "html"
            }
          }
        }
      ]
    },
    {
      "cell_type": "code",
      "metadata": {
        "application/vnd.databricks.v1+cell": {
          "inputWidgets": {},
          "nuid": "4fd3a544-fb54-4cf8-88ef-ed10c499173b",
          "showTitle": false,
          "title": ""
        },
        "id": "2fDWg4GVcJIS",
        "outputId": "a952431a-4de4-4e98-f742-cae31f698547"
      },
      "source": [
        "## SECTION 11 - LINEAR REGRESSION WITH ECOMMERCE_CUSTOMER EXAMPLE \n",
        "\n",
        "spark = SparkSession.builder.appName(\"lr_example\").getOrCreate()\n",
        "from pyspark.ml.regression import LinearRegression"
      ],
      "execution_count": null,
      "outputs": [
        {
          "output_type": "display_data",
          "data": {
            "text/html": [
              "<style scoped>\n",
              "  .ansiout {\n",
              "    display: block;\n",
              "    unicode-bidi: embed;\n",
              "    white-space: pre-wrap;\n",
              "    word-wrap: break-word;\n",
              "    word-break: break-all;\n",
              "    font-family: \"Source Code Pro\", \"Menlo\", monospace;;\n",
              "    font-size: 13px;\n",
              "    color: #555;\n",
              "    margin-left: 4px;\n",
              "    line-height: 19px;\n",
              "  }\n",
              "</style>\n",
              "<div class=\"ansiout\"></div>"
            ]
          },
          "metadata": {
            "tags": [],
            "application/vnd.databricks.v1+output": {
              "addedWidgets": {},
              "arguments": {},
              "data": "<div class=\"ansiout\"></div>",
              "datasetInfos": [],
              "removedWidgets": [],
              "type": "html"
            }
          }
        }
      ]
    },
    {
      "cell_type": "code",
      "metadata": {
        "application/vnd.databricks.v1+cell": {
          "inputWidgets": {},
          "nuid": "bbe1eaf5-ce70-4086-808a-5483f137c4ce",
          "showTitle": false,
          "title": ""
        },
        "id": "mUJvSihZcJIS",
        "outputId": "956b496e-bbb1-493d-9fed-cb3c8600a295"
      },
      "source": [
        "data = spark.read.format(\"csv\").load(\"dbfs:/FileStore/shared_uploads/nisargmehta2000@gmail.com/Ecommerce_Customers.csv\", inferSchema = True, header = True)\n",
        "data.printSchema()"
      ],
      "execution_count": null,
      "outputs": [
        {
          "output_type": "display_data",
          "data": {
            "text/html": [
              "<style scoped>\n",
              "  .ansiout {\n",
              "    display: block;\n",
              "    unicode-bidi: embed;\n",
              "    white-space: pre-wrap;\n",
              "    word-wrap: break-word;\n",
              "    word-break: break-all;\n",
              "    font-family: \"Source Code Pro\", \"Menlo\", monospace;;\n",
              "    font-size: 13px;\n",
              "    color: #555;\n",
              "    margin-left: 4px;\n",
              "    line-height: 19px;\n",
              "  }\n",
              "</style>\n",
              "<div class=\"ansiout\">root\n",
              "-- Email: string (nullable = true)\n",
              "-- Address: string (nullable = true)\n",
              "-- Avatar: string (nullable = true)\n",
              "-- Avg Session Length: double (nullable = true)\n",
              "-- Time on App: double (nullable = true)\n",
              "-- Time on Website: double (nullable = true)\n",
              "-- Length of Membership: double (nullable = true)\n",
              "-- Yearly Amount Spent: double (nullable = true)\n",
              "\n",
              "</div>"
            ]
          },
          "metadata": {
            "tags": [],
            "application/vnd.databricks.v1+output": {
              "addedWidgets": {},
              "arguments": {},
              "data": "<div class=\"ansiout\">root\n |-- Email: string (nullable = true)\n |-- Address: string (nullable = true)\n |-- Avatar: string (nullable = true)\n |-- Avg Session Length: double (nullable = true)\n |-- Time on App: double (nullable = true)\n |-- Time on Website: double (nullable = true)\n |-- Length of Membership: double (nullable = true)\n |-- Yearly Amount Spent: double (nullable = true)\n\n</div>",
              "datasetInfos": [],
              "removedWidgets": [],
              "type": "html"
            }
          }
        }
      ]
    },
    {
      "cell_type": "code",
      "metadata": {
        "application/vnd.databricks.v1+cell": {
          "inputWidgets": {},
          "nuid": "44307017-6e8d-441f-902c-6841c20cf077",
          "showTitle": false,
          "title": ""
        },
        "id": "chqkquu1cJIT",
        "outputId": "385850f4-0947-4cbf-bf6a-5551d5be22c9"
      },
      "source": [
        "# Directly printing out the value\n",
        "for item in data.head(1)[0]:\n",
        "  print(item)"
      ],
      "execution_count": null,
      "outputs": [
        {
          "output_type": "display_data",
          "data": {
            "text/html": [
              "<style scoped>\n",
              "  .ansiout {\n",
              "    display: block;\n",
              "    unicode-bidi: embed;\n",
              "    white-space: pre-wrap;\n",
              "    word-wrap: break-word;\n",
              "    word-break: break-all;\n",
              "    font-family: \"Source Code Pro\", \"Menlo\", monospace;;\n",
              "    font-size: 13px;\n",
              "    color: #555;\n",
              "    margin-left: 4px;\n",
              "    line-height: 19px;\n",
              "  }\n",
              "</style>\n",
              "<div class=\"ansiout\">mstephenson@fernandez.com\n",
              "835 Frank TunnelWrightmouth, MI 82180-9605\n",
              "Violet\n",
              "34.49726772511229\n",
              "12.65565114916675\n",
              "39.57766801952616\n",
              "4.0826206329529615\n",
              "587.9510539684005\n",
              "</div>"
            ]
          },
          "metadata": {
            "tags": [],
            "application/vnd.databricks.v1+output": {
              "addedWidgets": {},
              "arguments": {},
              "data": "<div class=\"ansiout\">mstephenson@fernandez.com\n835 Frank TunnelWrightmouth, MI 82180-9605\nViolet\n34.49726772511229\n12.65565114916675\n39.57766801952616\n4.0826206329529615\n587.9510539684005\n</div>",
              "datasetInfos": [],
              "removedWidgets": [],
              "type": "html"
            }
          }
        }
      ]
    },
    {
      "cell_type": "code",
      "metadata": {
        "application/vnd.databricks.v1+cell": {
          "inputWidgets": {},
          "nuid": "83814096-16d8-491d-9dac-7310627da55c",
          "showTitle": false,
          "title": ""
        },
        "id": "F8KyFTcocJIT",
        "outputId": "9a31ce40-fac7-4774-cbfa-e62d8721d504"
      },
      "source": [
        "# Now will set the dataframe for machine learning - Using mllib with python and spark. To import vector and vector assembler\n",
        "from pyspark.ml.linalg import Vector\n",
        "from pyspark.ml.feature import VectorAssembler\n",
        "\n",
        "# Want to grab the numerical data above as the feature and let say to grab the 'Yearly Amount Spent' i.e '587.9510539684005' as feature to predict. "
      ],
      "execution_count": null,
      "outputs": [
        {
          "output_type": "display_data",
          "data": {
            "text/html": [
              "<style scoped>\n",
              "  .ansiout {\n",
              "    display: block;\n",
              "    unicode-bidi: embed;\n",
              "    white-space: pre-wrap;\n",
              "    word-wrap: break-word;\n",
              "    word-break: break-all;\n",
              "    font-family: \"Source Code Pro\", \"Menlo\", monospace;;\n",
              "    font-size: 13px;\n",
              "    color: #555;\n",
              "    margin-left: 4px;\n",
              "    line-height: 19px;\n",
              "  }\n",
              "</style>\n",
              "<div class=\"ansiout\"></div>"
            ]
          },
          "metadata": {
            "tags": [],
            "application/vnd.databricks.v1+output": {
              "addedWidgets": {},
              "arguments": {},
              "data": "<div class=\"ansiout\"></div>",
              "datasetInfos": [],
              "removedWidgets": [],
              "type": "html"
            }
          }
        }
      ]
    },
    {
      "cell_type": "code",
      "metadata": {
        "application/vnd.databricks.v1+cell": {
          "inputWidgets": {},
          "nuid": "95c8c6c8-7414-4c21-897f-174f51df7017",
          "showTitle": false,
          "title": ""
        },
        "id": "U60-S-F8cJIT",
        "outputId": "7d12c080-2873-4195-a9be-fb16efb827fb"
      },
      "source": [
        "data.columns"
      ],
      "execution_count": null,
      "outputs": [
        {
          "output_type": "display_data",
          "data": {
            "text/html": [
              "<style scoped>\n",
              "  .ansiout {\n",
              "    display: block;\n",
              "    unicode-bidi: embed;\n",
              "    white-space: pre-wrap;\n",
              "    word-wrap: break-word;\n",
              "    word-break: break-all;\n",
              "    font-family: \"Source Code Pro\", \"Menlo\", monospace;;\n",
              "    font-size: 13px;\n",
              "    color: #555;\n",
              "    margin-left: 4px;\n",
              "    line-height: 19px;\n",
              "  }\n",
              "</style>\n",
              "<div class=\"ansiout\">Out[69]: [&#39;Email&#39;,\n",
              " &#39;Address&#39;,\n",
              " &#39;Avatar&#39;,\n",
              " &#39;Avg Session Length&#39;,\n",
              " &#39;Time on App&#39;,\n",
              " &#39;Time on Website&#39;,\n",
              " &#39;Length of Membership&#39;,\n",
              " &#39;Yearly Amount Spent&#39;]</div>"
            ]
          },
          "metadata": {
            "tags": [],
            "application/vnd.databricks.v1+output": {
              "addedWidgets": {},
              "arguments": {},
              "data": "<div class=\"ansiout\">Out[69]: [&#39;Email&#39;,\n &#39;Address&#39;,\n &#39;Avatar&#39;,\n &#39;Avg Session Length&#39;,\n &#39;Time on App&#39;,\n &#39;Time on Website&#39;,\n &#39;Length of Membership&#39;,\n &#39;Yearly Amount Spent&#39;]</div>",
              "datasetInfos": [],
              "removedWidgets": [],
              "type": "html"
            }
          }
        }
      ]
    },
    {
      "cell_type": "code",
      "metadata": {
        "application/vnd.databricks.v1+cell": {
          "inputWidgets": {},
          "nuid": "7f185182-4fd6-4f93-acab-64ef0fc8bdc8",
          "showTitle": false,
          "title": ""
        },
        "id": "LTdxAj1ZcJIU",
        "outputId": "96671375-e945-446e-a3ae-51db2e8f1b1f"
      },
      "source": [
        "# To use the VectorAssembler - inputCols is the list of string of actual col that we want to take in i.e the all of the feature columns\n",
        "assembler = VectorAssembler(inputCols=['Avg Session Length', 'Time on App', 'Time on Website', 'Length of Membership'], outputCol = 'features')\n",
        "output = assembler.transform(data)\n",
        "output.printSchema() # so here features is being added which contains ['Avg Session Length', 'Time on App', 'Time on Website', 'Length of Membership']\n",
        "output.select('features').show()"
      ],
      "execution_count": null,
      "outputs": [
        {
          "output_type": "display_data",
          "data": {
            "text/html": [
              "<style scoped>\n",
              "  .ansiout {\n",
              "    display: block;\n",
              "    unicode-bidi: embed;\n",
              "    white-space: pre-wrap;\n",
              "    word-wrap: break-word;\n",
              "    word-break: break-all;\n",
              "    font-family: \"Source Code Pro\", \"Menlo\", monospace;;\n",
              "    font-size: 13px;\n",
              "    color: #555;\n",
              "    margin-left: 4px;\n",
              "    line-height: 19px;\n",
              "  }\n",
              "</style>\n",
              "<div class=\"ansiout\">root\n",
              "-- Email: string (nullable = true)\n",
              "-- Address: string (nullable = true)\n",
              "-- Avatar: string (nullable = true)\n",
              "-- Avg Session Length: double (nullable = true)\n",
              "-- Time on App: double (nullable = true)\n",
              "-- Time on Website: double (nullable = true)\n",
              "-- Length of Membership: double (nullable = true)\n",
              "-- Yearly Amount Spent: double (nullable = true)\n",
              "-- features: vector (nullable = true)\n",
              "\n",
              "+--------------------+\n",
              "            features|\n",
              "+--------------------+\n",
              "[34.4972677251122...|\n",
              "[31.9262720263601...|\n",
              "[33.0009147556426...|\n",
              "[34.3055566297555...|\n",
              "[33.3306725236463...|\n",
              "[33.8710378793419...|\n",
              "[32.0215955013870...|\n",
              "[32.7391429383803...|\n",
              "[33.9877728956856...|\n",
              "[31.9365486184489...|\n",
              "[33.9925727749537...|\n",
              "[33.8793608248049...|\n",
              "[29.5324289670579...|\n",
              "[33.1903340437226...|\n",
              "[32.3879758531538...|\n",
              "[30.7377203726281...|\n",
              "[32.1253868972878...|\n",
              "[32.3388993230671...|\n",
              "[32.1878120459321...|\n",
              "[32.6178560628234...|\n",
              "+--------------------+\n",
              "only showing top 20 rows\n",
              "\n",
              "</div>"
            ]
          },
          "metadata": {
            "tags": [],
            "application/vnd.databricks.v1+output": {
              "addedWidgets": {},
              "arguments": {},
              "data": "<div class=\"ansiout\">root\n |-- Email: string (nullable = true)\n |-- Address: string (nullable = true)\n |-- Avatar: string (nullable = true)\n |-- Avg Session Length: double (nullable = true)\n |-- Time on App: double (nullable = true)\n |-- Time on Website: double (nullable = true)\n |-- Length of Membership: double (nullable = true)\n |-- Yearly Amount Spent: double (nullable = true)\n |-- features: vector (nullable = true)\n\n+--------------------+\n|            features|\n+--------------------+\n|[34.4972677251122...|\n|[31.9262720263601...|\n|[33.0009147556426...|\n|[34.3055566297555...|\n|[33.3306725236463...|\n|[33.8710378793419...|\n|[32.0215955013870...|\n|[32.7391429383803...|\n|[33.9877728956856...|\n|[31.9365486184489...|\n|[33.9925727749537...|\n|[33.8793608248049...|\n|[29.5324289670579...|\n|[33.1903340437226...|\n|[32.3879758531538...|\n|[30.7377203726281...|\n|[32.1253868972878...|\n|[32.3388993230671...|\n|[32.1878120459321...|\n|[32.6178560628234...|\n+--------------------+\nonly showing top 20 rows\n\n</div>",
              "datasetInfos": [],
              "removedWidgets": [],
              "type": "html"
            }
          }
        }
      ]
    },
    {
      "cell_type": "code",
      "metadata": {
        "application/vnd.databricks.v1+cell": {
          "inputWidgets": {},
          "nuid": "73212f6f-64cb-41ec-962d-0feffe3555a6",
          "showTitle": false,
          "title": ""
        },
        "id": "pxNtgEeTcJIU",
        "outputId": "0c19719a-1519-4b81-bad4-afe36cdc54bc"
      },
      "source": [
        "output.head(1) # So as we can see that features contain the dense vector with 4 value of 1st row of ['Avg Session Length', 'Time on App', 'Time on Website', 'Length of Membership'] --> features=DenseVector([34.4973, 12.6557, 39.5777, 4.0826])"
      ],
      "execution_count": null,
      "outputs": [
        {
          "output_type": "display_data",
          "data": {
            "text/html": [
              "<style scoped>\n",
              "  .ansiout {\n",
              "    display: block;\n",
              "    unicode-bidi: embed;\n",
              "    white-space: pre-wrap;\n",
              "    word-wrap: break-word;\n",
              "    word-break: break-all;\n",
              "    font-family: \"Source Code Pro\", \"Menlo\", monospace;;\n",
              "    font-size: 13px;\n",
              "    color: #555;\n",
              "    margin-left: 4px;\n",
              "    line-height: 19px;\n",
              "  }\n",
              "</style>\n",
              "<div class=\"ansiout\">Out[78]: [Row(Email=&#39;mstephenson@fernandez.com&#39;, Address=&#39;835 Frank TunnelWrightmouth, MI 82180-9605&#39;, Avatar=&#39;Violet&#39;, Avg Session Length=34.49726772511229, Time on App=12.65565114916675, Time on Website=39.57766801952616, Length of Membership=4.0826206329529615, Yearly Amount Spent=587.9510539684005, features=DenseVector([34.4973, 12.6557, 39.5777, 4.0826]))]</div>"
            ]
          },
          "metadata": {
            "tags": [],
            "application/vnd.databricks.v1+output": {
              "addedWidgets": {},
              "arguments": {},
              "data": "<div class=\"ansiout\">Out[78]: [Row(Email=&#39;mstephenson@fernandez.com&#39;, Address=&#39;835 Frank TunnelWrightmouth, MI 82180-9605&#39;, Avatar=&#39;Violet&#39;, Avg Session Length=34.49726772511229, Time on App=12.65565114916675, Time on Website=39.57766801952616, Length of Membership=4.0826206329529615, Yearly Amount Spent=587.9510539684005, features=DenseVector([34.4973, 12.6557, 39.5777, 4.0826]))]</div>",
              "datasetInfos": [],
              "removedWidgets": [],
              "type": "html"
            }
          }
        }
      ]
    },
    {
      "cell_type": "code",
      "metadata": {
        "application/vnd.databricks.v1+cell": {
          "inputWidgets": {},
          "nuid": "c2416f9e-2d94-4e18-a0cd-0b7101a7c7a4",
          "showTitle": false,
          "title": ""
        },
        "id": "45clgTugcJIV",
        "outputId": "41d956f6-854a-4c8e-88e5-1ffd5eca214a"
      },
      "source": [
        "final_data = output.select('features','Yearly Amount Spent')\n",
        "final_data.show()"
      ],
      "execution_count": null,
      "outputs": [
        {
          "output_type": "display_data",
          "data": {
            "text/html": [
              "<style scoped>\n",
              "  .ansiout {\n",
              "    display: block;\n",
              "    unicode-bidi: embed;\n",
              "    white-space: pre-wrap;\n",
              "    word-wrap: break-word;\n",
              "    word-break: break-all;\n",
              "    font-family: \"Source Code Pro\", \"Menlo\", monospace;;\n",
              "    font-size: 13px;\n",
              "    color: #555;\n",
              "    margin-left: 4px;\n",
              "    line-height: 19px;\n",
              "  }\n",
              "</style>\n",
              "<div class=\"ansiout\">+--------------------+-------------------+\n",
              "            features|Yearly Amount Spent|\n",
              "+--------------------+-------------------+\n",
              "[34.4972677251122...|  587.9510539684005|\n",
              "[31.9262720263601...|  392.2049334443264|\n",
              "[33.0009147556426...| 487.54750486747207|\n",
              "[34.3055566297555...|  581.8523440352177|\n",
              "[33.3306725236463...|  599.4060920457634|\n",
              "[33.8710378793419...|   637.102447915074|\n",
              "[32.0215955013870...|  521.5721747578274|\n",
              "[32.7391429383803...|  549.9041461052942|\n",
              "[33.9877728956856...|  570.2004089636196|\n",
              "[31.9365486184489...|  427.1993848953282|\n",
              "[33.9925727749537...|  492.6060127179966|\n",
              "[33.8793608248049...|  522.3374046069357|\n",
              "[29.5324289670579...|  408.6403510726275|\n",
              "[33.1903340437226...|  573.4158673313865|\n",
              "[32.3879758531538...|  470.4527333009554|\n",
              "[30.7377203726281...|  461.7807421962299|\n",
              "[32.1253868972878...| 457.84769594494855|\n",
              "[32.3388993230671...| 407.70454754954415|\n",
              "[32.1878120459321...|  452.3156754800354|\n",
              "[32.6178560628234...|   605.061038804892|\n",
              "+--------------------+-------------------+\n",
              "only showing top 20 rows\n",
              "\n",
              "</div>"
            ]
          },
          "metadata": {
            "tags": [],
            "application/vnd.databricks.v1+output": {
              "addedWidgets": {},
              "arguments": {},
              "data": "<div class=\"ansiout\">+--------------------+-------------------+\n|            features|Yearly Amount Spent|\n+--------------------+-------------------+\n|[34.4972677251122...|  587.9510539684005|\n|[31.9262720263601...|  392.2049334443264|\n|[33.0009147556426...| 487.54750486747207|\n|[34.3055566297555...|  581.8523440352177|\n|[33.3306725236463...|  599.4060920457634|\n|[33.8710378793419...|   637.102447915074|\n|[32.0215955013870...|  521.5721747578274|\n|[32.7391429383803...|  549.9041461052942|\n|[33.9877728956856...|  570.2004089636196|\n|[31.9365486184489...|  427.1993848953282|\n|[33.9925727749537...|  492.6060127179966|\n|[33.8793608248049...|  522.3374046069357|\n|[29.5324289670579...|  408.6403510726275|\n|[33.1903340437226...|  573.4158673313865|\n|[32.3879758531538...|  470.4527333009554|\n|[30.7377203726281...|  461.7807421962299|\n|[32.1253868972878...| 457.84769594494855|\n|[32.3388993230671...| 407.70454754954415|\n|[32.1878120459321...|  452.3156754800354|\n|[32.6178560628234...|   605.061038804892|\n+--------------------+-------------------+\nonly showing top 20 rows\n\n</div>",
              "datasetInfos": [],
              "removedWidgets": [],
              "type": "html"
            }
          }
        }
      ]
    },
    {
      "cell_type": "code",
      "metadata": {
        "application/vnd.databricks.v1+cell": {
          "inputWidgets": {},
          "nuid": "f5a68334-0c21-4f1a-bd01-49507fdc3fa6",
          "showTitle": false,
          "title": ""
        },
        "id": "L48vuBgycJIV",
        "outputId": "372d741f-f8a4-43af-89cb-06905f178570"
      },
      "source": [
        "# Now to split it into train and the test data\n",
        "train_data, test_data = final_data.randomSplit([0.7,0.3])\n",
        "train_data.describe().show()\n",
        "test_data.describe().show()"
      ],
      "execution_count": null,
      "outputs": [
        {
          "output_type": "display_data",
          "data": {
            "text/html": [
              "<style scoped>\n",
              "  .ansiout {\n",
              "    display: block;\n",
              "    unicode-bidi: embed;\n",
              "    white-space: pre-wrap;\n",
              "    word-wrap: break-word;\n",
              "    word-break: break-all;\n",
              "    font-family: \"Source Code Pro\", \"Menlo\", monospace;;\n",
              "    font-size: 13px;\n",
              "    color: #555;\n",
              "    margin-left: 4px;\n",
              "    line-height: 19px;\n",
              "  }\n",
              "</style>\n",
              "<div class=\"ansiout\">+-------+-------------------+\n",
              "summary|Yearly Amount Spent|\n",
              "+-------+-------------------+\n",
              "  count|                368|\n",
              "   mean|   498.983626470116|\n",
              " stddev|  76.34656005665785|\n",
              "    min|   266.086340948469|\n",
              "    max|  744.2218671047146|\n",
              "+-------+-------------------+\n",
              "\n",
              "+-------+-------------------+\n",
              "summary|Yearly Amount Spent|\n",
              "+-------+-------------------+\n",
              "  count|                132|\n",
              "   mean|   500.235186274945|\n",
              " stddev|  87.36191670168888|\n",
              "    min| 256.67058229005585|\n",
              "    max|  765.5184619388373|\n",
              "+-------+-------------------+\n",
              "\n",
              "</div>"
            ]
          },
          "metadata": {
            "tags": [],
            "application/vnd.databricks.v1+output": {
              "addedWidgets": {},
              "arguments": {},
              "data": "<div class=\"ansiout\">+-------+-------------------+\n|summary|Yearly Amount Spent|\n+-------+-------------------+\n|  count|                368|\n|   mean|   498.983626470116|\n| stddev|  76.34656005665785|\n|    min|   266.086340948469|\n|    max|  744.2218671047146|\n+-------+-------------------+\n\n+-------+-------------------+\n|summary|Yearly Amount Spent|\n+-------+-------------------+\n|  count|                132|\n|   mean|   500.235186274945|\n| stddev|  87.36191670168888|\n|    min| 256.67058229005585|\n|    max|  765.5184619388373|\n+-------+-------------------+\n\n</div>",
              "datasetInfos": [],
              "removedWidgets": [],
              "type": "html"
            }
          }
        }
      ]
    },
    {
      "cell_type": "code",
      "metadata": {
        "application/vnd.databricks.v1+cell": {
          "inputWidgets": {},
          "nuid": "5daefdc5-a2d4-4b3a-a09d-11a11fab7e8d",
          "showTitle": false,
          "title": ""
        },
        "id": "rAXeQK7wcJIW",
        "outputId": "7abf82cf-ee0a-4e62-c545-920bb34c1a0d"
      },
      "source": [
        "lr = LinearRegression(labelCol='Yearly Amount Spent', featuresCol='features')\n",
        "lr_model = lr.fit(train_data)\n",
        "test_results = lr_model.evaluate(test_data)\n",
        "test_results.residuals.show()"
      ],
      "execution_count": null,
      "outputs": [
        {
          "output_type": "display_data",
          "data": {
            "text/html": [
              "<style scoped>\n",
              "  .ansiout {\n",
              "    display: block;\n",
              "    unicode-bidi: embed;\n",
              "    white-space: pre-wrap;\n",
              "    word-wrap: break-word;\n",
              "    word-break: break-all;\n",
              "    font-family: \"Source Code Pro\", \"Menlo\", monospace;;\n",
              "    font-size: 13px;\n",
              "    color: #555;\n",
              "    margin-left: 4px;\n",
              "    line-height: 19px;\n",
              "  }\n",
              "</style>\n",
              "<div class=\"ansiout\">+-------------------+\n",
              "          residuals|\n",
              "+-------------------+\n",
              " -4.339119242820118|\n",
              " 11.150817082759772|\n",
              "  5.399185164686401|\n",
              "-3.2674397825660435|\n",
              " 3.6101328793585026|\n",
              " 19.559142884390496|\n",
              "   3.10452972967704|\n",
              " -6.366519218335156|\n",
              " -3.532650916490013|\n",
              "-14.002810340724182|\n",
              "-1.5297301969175123|\n",
              "  6.773944657805885|\n",
              "  -6.01065747635829|\n",
              " -4.294892044519713|\n",
              "-10.425749407706007|\n",
              "-2.5758938112239775|\n",
              "  8.474915516413546|\n",
              " -1.950004242153227|\n",
              " -2.065588865313316|\n",
              "-10.444801107601165|\n",
              "+-------------------+\n",
              "only showing top 20 rows\n",
              "\n",
              "</div>"
            ]
          },
          "metadata": {
            "tags": [],
            "application/vnd.databricks.v1+output": {
              "addedWidgets": {},
              "arguments": {},
              "data": "<div class=\"ansiout\">+-------------------+\n|          residuals|\n+-------------------+\n| -4.339119242820118|\n| 11.150817082759772|\n|  5.399185164686401|\n|-3.2674397825660435|\n| 3.6101328793585026|\n| 19.559142884390496|\n|   3.10452972967704|\n| -6.366519218335156|\n| -3.532650916490013|\n|-14.002810340724182|\n|-1.5297301969175123|\n|  6.773944657805885|\n|  -6.01065747635829|\n| -4.294892044519713|\n|-10.425749407706007|\n|-2.5758938112239775|\n|  8.474915516413546|\n| -1.950004242153227|\n| -2.065588865313316|\n|-10.444801107601165|\n+-------------------+\nonly showing top 20 rows\n\n</div>",
              "datasetInfos": [],
              "removedWidgets": [],
              "type": "html"
            }
          }
        }
      ]
    },
    {
      "cell_type": "code",
      "metadata": {
        "application/vnd.databricks.v1+cell": {
          "inputWidgets": {},
          "nuid": "6eaa013c-b5ff-4962-8805-382fc9a091af",
          "showTitle": false,
          "title": ""
        },
        "id": "dFwYWRkkcJIW",
        "outputId": "6a9a5165-86c4-43d3-bd0e-2381661c745c"
      },
      "source": [
        "test_results.rootMeanSquaredError\n",
        "test_results.r2\n",
        "final_data.describe().show()"
      ],
      "execution_count": null,
      "outputs": [
        {
          "output_type": "display_data",
          "data": {
            "text/html": [
              "<style scoped>\n",
              "  .ansiout {\n",
              "    display: block;\n",
              "    unicode-bidi: embed;\n",
              "    white-space: pre-wrap;\n",
              "    word-wrap: break-word;\n",
              "    word-break: break-all;\n",
              "    font-family: \"Source Code Pro\", \"Menlo\", monospace;;\n",
              "    font-size: 13px;\n",
              "    color: #555;\n",
              "    margin-left: 4px;\n",
              "    line-height: 19px;\n",
              "  }\n",
              "</style>\n",
              "<div class=\"ansiout\">+-------+-------------------+\n",
              "summary|Yearly Amount Spent|\n",
              "+-------+-------------------+\n",
              "  count|                500|\n",
              "   mean|  499.3140382585909|\n",
              " stddev|   79.3147815497068|\n",
              "    min| 256.67058229005585|\n",
              "    max|  765.5184619388373|\n",
              "+-------+-------------------+\n",
              "\n",
              "</div>"
            ]
          },
          "metadata": {
            "tags": [],
            "application/vnd.databricks.v1+output": {
              "addedWidgets": {},
              "arguments": {},
              "data": "<div class=\"ansiout\">+-------+-------------------+\n|summary|Yearly Amount Spent|\n+-------+-------------------+\n|  count|                500|\n|   mean|  499.3140382585909|\n| stddev|   79.3147815497068|\n|    min| 256.67058229005585|\n|    max|  765.5184619388373|\n+-------+-------------------+\n\n</div>",
              "datasetInfos": [],
              "removedWidgets": [],
              "type": "html"
            }
          }
        }
      ]
    },
    {
      "cell_type": "code",
      "metadata": {
        "application/vnd.databricks.v1+cell": {
          "inputWidgets": {},
          "nuid": "7b240d69-3217-46fd-b499-1e282c77bed2",
          "showTitle": false,
          "title": ""
        },
        "id": "bHnu1ADMcJIW",
        "outputId": "37047a33-5c3e-4aba-a40c-03d6ea74f456"
      },
      "source": [
        "# lets ts it on the unlabeled data\n",
        "unlabeled_data = test_data.select('features')\n",
        "unlabeled_data.show()"
      ],
      "execution_count": null,
      "outputs": [
        {
          "output_type": "display_data",
          "data": {
            "text/html": [
              "<style scoped>\n",
              "  .ansiout {\n",
              "    display: block;\n",
              "    unicode-bidi: embed;\n",
              "    white-space: pre-wrap;\n",
              "    word-wrap: break-word;\n",
              "    word-break: break-all;\n",
              "    font-family: \"Source Code Pro\", \"Menlo\", monospace;;\n",
              "    font-size: 13px;\n",
              "    color: #555;\n",
              "    margin-left: 4px;\n",
              "    line-height: 19px;\n",
              "  }\n",
              "</style>\n",
              "<div class=\"ansiout\">+--------------------+\n",
              "            features|\n",
              "+--------------------+\n",
              "[30.4925366965402...|\n",
              "[30.7377203726281...|\n",
              "[31.0472221394875...|\n",
              "[31.2681042107507...|\n",
              "[31.3091926408918...|\n",
              "[31.3123495994443...|\n",
              "[31.4459724827577...|\n",
              "[31.4474464941278...|\n",
              "[31.5171218025062...|\n",
              "[31.5741380228732...|\n",
              "[31.5761319713222...|\n",
              "[31.6548096756927...|\n",
              "[31.7242025238451...|\n",
              "[31.7656188210424...|\n",
              "[31.8093003166791...|\n",
              "[31.8124825597242...|\n",
              "[31.8209982016720...|\n",
              "[31.8530748017465...|\n",
              "[31.8627411090001...|\n",
              "[31.8648325480987...|\n",
              "+--------------------+\n",
              "only showing top 20 rows\n",
              "\n",
              "</div>"
            ]
          },
          "metadata": {
            "tags": [],
            "application/vnd.databricks.v1+output": {
              "addedWidgets": {},
              "arguments": {},
              "data": "<div class=\"ansiout\">+--------------------+\n|            features|\n+--------------------+\n|[30.4925366965402...|\n|[30.7377203726281...|\n|[31.0472221394875...|\n|[31.2681042107507...|\n|[31.3091926408918...|\n|[31.3123495994443...|\n|[31.4459724827577...|\n|[31.4474464941278...|\n|[31.5171218025062...|\n|[31.5741380228732...|\n|[31.5761319713222...|\n|[31.6548096756927...|\n|[31.7242025238451...|\n|[31.7656188210424...|\n|[31.8093003166791...|\n|[31.8124825597242...|\n|[31.8209982016720...|\n|[31.8530748017465...|\n|[31.8627411090001...|\n|[31.8648325480987...|\n+--------------------+\nonly showing top 20 rows\n\n</div>",
              "datasetInfos": [],
              "removedWidgets": [],
              "type": "html"
            }
          }
        }
      ]
    },
    {
      "cell_type": "code",
      "metadata": {
        "application/vnd.databricks.v1+cell": {
          "inputWidgets": {},
          "nuid": "b67a764d-6e52-4662-812c-31d56692b4ac",
          "showTitle": false,
          "title": ""
        },
        "id": "VwOwXP-jcJIX",
        "outputId": "ce83aa12-f565-440a-c642-105e3c2254d7"
      },
      "source": [
        "# Creating the dataframe called predictions in which we transform on this unlabeled_data in which we get the prediction value for the corrosponding features. \n",
        "predictions = lr_model.transform(unlabeled_data)\n",
        "predictions.show()"
      ],
      "execution_count": null,
      "outputs": [
        {
          "output_type": "display_data",
          "data": {
            "text/html": [
              "<style scoped>\n",
              "  .ansiout {\n",
              "    display: block;\n",
              "    unicode-bidi: embed;\n",
              "    white-space: pre-wrap;\n",
              "    word-wrap: break-word;\n",
              "    word-break: break-all;\n",
              "    font-family: \"Source Code Pro\", \"Menlo\", monospace;;\n",
              "    font-size: 13px;\n",
              "    color: #555;\n",
              "    margin-left: 4px;\n",
              "    line-height: 19px;\n",
              "  }\n",
              "</style>\n",
              "<div class=\"ansiout\">+--------------------+------------------+\n",
              "            features|        prediction|\n",
              "+--------------------+------------------+\n",
              "[30.4925366965402...|286.81036496273464|\n",
              "[30.7377203726281...| 450.6299251134701|\n",
              "[31.0472221394875...|  387.098214024335|\n",
              "[31.2681042107507...|426.73797295638997|\n",
              "[31.3091926408918...| 429.1105849605751|\n",
              "[31.3123495994443...| 444.0322751435501|\n",
              "[31.4459724827577...|481.77243520545153|\n",
              "[31.4474464941278...| 424.9692613135592|\n",
              "[31.5171218025062...| 279.4510715668757|\n",
              "[31.5741380228732...|  558.412082501311|\n",
              "[31.5761319713222...| 542.7563141862458|\n",
              "[31.6548096756927...|468.48947906974263|\n",
              "[31.7242025238451...| 509.3985447643188|\n",
              "[31.7656188210424...|500.84897368012685|\n",
              "[31.8093003166791...| 547.1976487705472|\n",
              "[31.8124825597242...| 395.3862387950212|\n",
              "[31.8209982016720...| 416.2003654967998|\n",
              "[31.8530748017465...| 461.2351277045052|\n",
              "[31.8627411090001...|   558.36373003936|\n",
              "[31.8648325480987...|450.33608158441484|\n",
              "+--------------------+------------------+\n",
              "only showing top 20 rows\n",
              "\n",
              "</div>"
            ]
          },
          "metadata": {
            "tags": [],
            "application/vnd.databricks.v1+output": {
              "addedWidgets": {},
              "arguments": {},
              "data": "<div class=\"ansiout\">+--------------------+------------------+\n|            features|        prediction|\n+--------------------+------------------+\n|[30.4925366965402...|286.81036496273464|\n|[30.7377203726281...| 450.6299251134701|\n|[31.0472221394875...|  387.098214024335|\n|[31.2681042107507...|426.73797295638997|\n|[31.3091926408918...| 429.1105849605751|\n|[31.3123495994443...| 444.0322751435501|\n|[31.4459724827577...|481.77243520545153|\n|[31.4474464941278...| 424.9692613135592|\n|[31.5171218025062...| 279.4510715668757|\n|[31.5741380228732...|  558.412082501311|\n|[31.5761319713222...| 542.7563141862458|\n|[31.6548096756927...|468.48947906974263|\n|[31.7242025238451...| 509.3985447643188|\n|[31.7656188210424...|500.84897368012685|\n|[31.8093003166791...| 547.1976487705472|\n|[31.8124825597242...| 395.3862387950212|\n|[31.8209982016720...| 416.2003654967998|\n|[31.8530748017465...| 461.2351277045052|\n|[31.8627411090001...|   558.36373003936|\n|[31.8648325480987...|450.33608158441484|\n+--------------------+------------------+\nonly showing top 20 rows\n\n</div>",
              "datasetInfos": [],
              "removedWidgets": [],
              "type": "html"
            }
          }
        }
      ]
    },
    {
      "cell_type": "code",
      "metadata": {
        "application/vnd.databricks.v1+cell": {
          "inputWidgets": {},
          "nuid": "4a657eb9-6b62-4fad-868a-9586d04c380b",
          "showTitle": false,
          "title": ""
        },
        "id": "5dxb5vqMcJIX",
        "outputId": "55eed632-c5ab-4c29-c28e-4722244ae562"
      },
      "source": [
        "# SECTION 11 - LINEAR REGRESSION CONSULTING PROJECT SOLUTIONS\n",
        "\n",
        "spark = SparkSession.builder.appName(\"cruise\").getOrCreate()\n",
        "from pyspark.ml.regression import LinearRegression"
      ],
      "execution_count": null,
      "outputs": [
        {
          "output_type": "display_data",
          "data": {
            "text/html": [
              "<style scoped>\n",
              "  .ansiout {\n",
              "    display: block;\n",
              "    unicode-bidi: embed;\n",
              "    white-space: pre-wrap;\n",
              "    word-wrap: break-word;\n",
              "    word-break: break-all;\n",
              "    font-family: \"Source Code Pro\", \"Menlo\", monospace;;\n",
              "    font-size: 13px;\n",
              "    color: #555;\n",
              "    margin-left: 4px;\n",
              "    line-height: 19px;\n",
              "  }\n",
              "</style>\n",
              "<div class=\"ansiout\"></div>"
            ]
          },
          "metadata": {
            "tags": [],
            "application/vnd.databricks.v1+output": {
              "addedWidgets": {},
              "arguments": {},
              "data": "<div class=\"ansiout\"></div>",
              "datasetInfos": [],
              "removedWidgets": [],
              "type": "html"
            }
          }
        }
      ]
    },
    {
      "cell_type": "code",
      "metadata": {
        "application/vnd.databricks.v1+cell": {
          "inputWidgets": {},
          "nuid": "f5ee65cd-f290-423b-9f61-457f796255e2",
          "showTitle": false,
          "title": ""
        },
        "id": "jbsDvdgKcJIX",
        "outputId": "ec108c92-abbf-4956-ab8c-7c6b494b9e46"
      },
      "source": [
        "df1 = spark.read.format(\"csv\").load(\"dbfs:/FileStore/shared_uploads/nisargmehta2000@gmail.com/cruise_ship_info.csv\", inferSchema = True, header = True)\n",
        "df1.printSchema()"
      ],
      "execution_count": null,
      "outputs": [
        {
          "output_type": "display_data",
          "data": {
            "text/html": [
              "<style scoped>\n",
              "  .ansiout {\n",
              "    display: block;\n",
              "    unicode-bidi: embed;\n",
              "    white-space: pre-wrap;\n",
              "    word-wrap: break-word;\n",
              "    word-break: break-all;\n",
              "    font-family: \"Source Code Pro\", \"Menlo\", monospace;;\n",
              "    font-size: 13px;\n",
              "    color: #555;\n",
              "    margin-left: 4px;\n",
              "    line-height: 19px;\n",
              "  }\n",
              "</style>\n",
              "<div class=\"ansiout\">root\n",
              "-- Ship_name: string (nullable = true)\n",
              "-- Cruise_line: string (nullable = true)\n",
              "-- Age: integer (nullable = true)\n",
              "-- Tonnage: double (nullable = true)\n",
              "-- passengers: double (nullable = true)\n",
              "-- length: double (nullable = true)\n",
              "-- cabins: double (nullable = true)\n",
              "-- passenger_density: double (nullable = true)\n",
              "-- crew: double (nullable = true)\n",
              "\n",
              "</div>"
            ]
          },
          "metadata": {
            "tags": [],
            "application/vnd.databricks.v1+output": {
              "addedWidgets": {},
              "arguments": {},
              "data": "<div class=\"ansiout\">root\n |-- Ship_name: string (nullable = true)\n |-- Cruise_line: string (nullable = true)\n |-- Age: integer (nullable = true)\n |-- Tonnage: double (nullable = true)\n |-- passengers: double (nullable = true)\n |-- length: double (nullable = true)\n |-- cabins: double (nullable = true)\n |-- passenger_density: double (nullable = true)\n |-- crew: double (nullable = true)\n\n</div>",
              "datasetInfos": [],
              "removedWidgets": [],
              "type": "html"
            }
          }
        }
      ]
    },
    {
      "cell_type": "code",
      "metadata": {
        "application/vnd.databricks.v1+cell": {
          "inputWidgets": {},
          "nuid": "7d958777-62f4-4558-a369-a33a6c85cb01",
          "showTitle": false,
          "title": ""
        },
        "id": "GtBY4AlBcJIY",
        "outputId": "7692c535-afaf-491d-b78f-ffc567d7efa1"
      },
      "source": [
        "# As Cruise_line is in the form of the string, we need to convert it into the integer so that our algorithm can understand. Now to find how many cruise line we have in general, we use groupBy method\n",
        "df1.groupBy('Cruise_line').count().show()\n",
        "\n",
        "# As there are many Cruise_line so will use string indexer to convert this Cruise_line into number group \n",
        "from pyspark.ml.feature import StringIndexer"
      ],
      "execution_count": null,
      "outputs": [
        {
          "output_type": "display_data",
          "data": {
            "text/html": [
              "<style scoped>\n",
              "  .ansiout {\n",
              "    display: block;\n",
              "    unicode-bidi: embed;\n",
              "    white-space: pre-wrap;\n",
              "    word-wrap: break-word;\n",
              "    word-break: break-all;\n",
              "    font-family: \"Source Code Pro\", \"Menlo\", monospace;;\n",
              "    font-size: 13px;\n",
              "    color: #555;\n",
              "    margin-left: 4px;\n",
              "    line-height: 19px;\n",
              "  }\n",
              "</style>\n",
              "<div class=\"ansiout\">+-----------------+-----+\n",
              "      Cruise_line|count|\n",
              "+-----------------+-----+\n",
              "            Costa|   11|\n",
              "              P&amp;O|    6|\n",
              "           Cunard|    3|\n",
              "Regent_Seven_Seas|    5|\n",
              "              MSC|    8|\n",
              "         Carnival|   22|\n",
              "          Crystal|    2|\n",
              "           Orient|    1|\n",
              "         Princess|   17|\n",
              "        Silversea|    4|\n",
              "         Seabourn|    3|\n",
              " Holland_American|   14|\n",
              "         Windstar|    3|\n",
              "           Disney|    2|\n",
              "        Norwegian|   13|\n",
              "          Oceania|    3|\n",
              "          Azamara|    2|\n",
              "        Celebrity|   10|\n",
              "             Star|    6|\n",
              "  Royal_Caribbean|   23|\n",
              "+-----------------+-----+\n",
              "\n",
              "</div>"
            ]
          },
          "metadata": {
            "tags": [],
            "application/vnd.databricks.v1+output": {
              "addedWidgets": {},
              "arguments": {},
              "data": "<div class=\"ansiout\">+-----------------+-----+\n|      Cruise_line|count|\n+-----------------+-----+\n|            Costa|   11|\n|              P&amp;O|    6|\n|           Cunard|    3|\n|Regent_Seven_Seas|    5|\n|              MSC|    8|\n|         Carnival|   22|\n|          Crystal|    2|\n|           Orient|    1|\n|         Princess|   17|\n|        Silversea|    4|\n|         Seabourn|    3|\n| Holland_American|   14|\n|         Windstar|    3|\n|           Disney|    2|\n|        Norwegian|   13|\n|          Oceania|    3|\n|          Azamara|    2|\n|        Celebrity|   10|\n|             Star|    6|\n|  Royal_Caribbean|   23|\n+-----------------+-----+\n\n</div>",
              "datasetInfos": [],
              "removedWidgets": [],
              "type": "html"
            }
          }
        }
      ]
    },
    {
      "cell_type": "code",
      "metadata": {
        "application/vnd.databricks.v1+cell": {
          "inputWidgets": {},
          "nuid": "4a879ba7-3d38-4979-9be6-be374e926b45",
          "showTitle": false,
          "title": ""
        },
        "id": "fxIdVnXqcJIY",
        "outputId": "2c464c3b-1d32-4570-ac4e-3e5c882313bc"
      },
      "source": [
        "# string Indexer is similar to vetor indexer object \n",
        "indexer = StringIndexer(inputCol='Cruise_line', outputCol='Cruise_cat')\n",
        "indexed = indexer.fit(df1).transform(df1)\n",
        "indexed.head(3) # This will create the cruise_cat (an int) for corrosponding 'Cruise_line' and each 'Cruise_line' will have unque Cruise_cat"
      ],
      "execution_count": null,
      "outputs": [
        {
          "output_type": "display_data",
          "data": {
            "text/html": [
              "<style scoped>\n",
              "  .ansiout {\n",
              "    display: block;\n",
              "    unicode-bidi: embed;\n",
              "    white-space: pre-wrap;\n",
              "    word-wrap: break-word;\n",
              "    word-break: break-all;\n",
              "    font-family: \"Source Code Pro\", \"Menlo\", monospace;;\n",
              "    font-size: 13px;\n",
              "    color: #555;\n",
              "    margin-left: 4px;\n",
              "    line-height: 19px;\n",
              "  }\n",
              "</style>\n",
              "<div class=\"ansiout\">Out[102]: [Row(Ship_name=&#39;Journey&#39;, Cruise_line=&#39;Azamara&#39;, Age=6, Tonnage=30.276999999999997, passengers=6.94, length=5.94, cabins=3.55, passenger_density=42.64, crew=3.55, Cruise_cat=16.0),\n",
              " Row(Ship_name=&#39;Quest&#39;, Cruise_line=&#39;Azamara&#39;, Age=6, Tonnage=30.276999999999997, passengers=6.94, length=5.94, cabins=3.55, passenger_density=42.64, crew=3.55, Cruise_cat=16.0),\n",
              " Row(Ship_name=&#39;Celebration&#39;, Cruise_line=&#39;Carnival&#39;, Age=26, Tonnage=47.262, passengers=14.86, length=7.22, cabins=7.43, passenger_density=31.8, crew=6.7, Cruise_cat=1.0)]</div>"
            ]
          },
          "metadata": {
            "tags": [],
            "application/vnd.databricks.v1+output": {
              "addedWidgets": {},
              "arguments": {},
              "data": "<div class=\"ansiout\">Out[102]: [Row(Ship_name=&#39;Journey&#39;, Cruise_line=&#39;Azamara&#39;, Age=6, Tonnage=30.276999999999997, passengers=6.94, length=5.94, cabins=3.55, passenger_density=42.64, crew=3.55, Cruise_cat=16.0),\n Row(Ship_name=&#39;Quest&#39;, Cruise_line=&#39;Azamara&#39;, Age=6, Tonnage=30.276999999999997, passengers=6.94, length=5.94, cabins=3.55, passenger_density=42.64, crew=3.55, Cruise_cat=16.0),\n Row(Ship_name=&#39;Celebration&#39;, Cruise_line=&#39;Carnival&#39;, Age=26, Tonnage=47.262, passengers=14.86, length=7.22, cabins=7.43, passenger_density=31.8, crew=6.7, Cruise_cat=1.0)]</div>",
              "datasetInfos": [],
              "removedWidgets": [],
              "type": "html"
            }
          }
        }
      ]
    },
    {
      "cell_type": "code",
      "metadata": {
        "application/vnd.databricks.v1+cell": {
          "inputWidgets": {},
          "nuid": "be9597c7-5669-441b-8f25-8e69ff39e72c",
          "showTitle": false,
          "title": ""
        },
        "id": "FMFQOTJjcJIZ",
        "outputId": "e67749f8-87ef-4df7-f731-d4aadf3bf99b"
      },
      "source": [
        "from pyspark.ml.linalg import Vector\n",
        "from pyspark.ml.feature import VectorAssembler\n",
        "\n",
        "indexed.columns"
      ],
      "execution_count": null,
      "outputs": [
        {
          "output_type": "display_data",
          "data": {
            "text/html": [
              "<style scoped>\n",
              "  .ansiout {\n",
              "    display: block;\n",
              "    unicode-bidi: embed;\n",
              "    white-space: pre-wrap;\n",
              "    word-wrap: break-word;\n",
              "    word-break: break-all;\n",
              "    font-family: \"Source Code Pro\", \"Menlo\", monospace;;\n",
              "    font-size: 13px;\n",
              "    color: #555;\n",
              "    margin-left: 4px;\n",
              "    line-height: 19px;\n",
              "  }\n",
              "</style>\n",
              "<div class=\"ansiout\">Out[104]: [&#39;Ship_name&#39;,\n",
              " &#39;Cruise_line&#39;,\n",
              " &#39;Age&#39;,\n",
              " &#39;Tonnage&#39;,\n",
              " &#39;passengers&#39;,\n",
              " &#39;length&#39;,\n",
              " &#39;cabins&#39;,\n",
              " &#39;passenger_density&#39;,\n",
              " &#39;crew&#39;,\n",
              " &#39;Cruise_cat&#39;]</div>"
            ]
          },
          "metadata": {
            "tags": [],
            "application/vnd.databricks.v1+output": {
              "addedWidgets": {},
              "arguments": {},
              "data": "<div class=\"ansiout\">Out[104]: [&#39;Ship_name&#39;,\n &#39;Cruise_line&#39;,\n &#39;Age&#39;,\n &#39;Tonnage&#39;,\n &#39;passengers&#39;,\n &#39;length&#39;,\n &#39;cabins&#39;,\n &#39;passenger_density&#39;,\n &#39;crew&#39;,\n &#39;Cruise_cat&#39;]</div>",
              "datasetInfos": [],
              "removedWidgets": [],
              "type": "html"
            }
          }
        }
      ]
    },
    {
      "cell_type": "code",
      "metadata": {
        "application/vnd.databricks.v1+cell": {
          "inputWidgets": {},
          "nuid": "cef3562c-0a33-4931-955c-511e75338f19",
          "showTitle": false,
          "title": ""
        },
        "id": "xoJs5y80cJIZ",
        "outputId": "457dcc03-f65d-4d6b-dd99-f55c7829701e"
      },
      "source": [
        "# inputCols is ['Age', 'Tonnage','passengers','length','cabins','passenger_density','Cruise_cat'] and outputCol is 'features' because we want to predict for 'crew'. So when outputed the 'features' will consist of ['Age', 'Tonnage','passengers','length','cabins','passenger_density','Cruise_cat']. \n",
        "assembler = VectorAssembler(inputCols=['Age', 'Tonnage','passengers','length','cabins','passenger_density','Cruise_cat'], outputCol='features')\n",
        "output = assembler.transform(indexed)\n",
        "output.select('features','crew').show()"
      ],
      "execution_count": null,
      "outputs": [
        {
          "output_type": "display_data",
          "data": {
            "text/html": [
              "<style scoped>\n",
              "  .ansiout {\n",
              "    display: block;\n",
              "    unicode-bidi: embed;\n",
              "    white-space: pre-wrap;\n",
              "    word-wrap: break-word;\n",
              "    word-break: break-all;\n",
              "    font-family: \"Source Code Pro\", \"Menlo\", monospace;;\n",
              "    font-size: 13px;\n",
              "    color: #555;\n",
              "    margin-left: 4px;\n",
              "    line-height: 19px;\n",
              "  }\n",
              "</style>\n",
              "<div class=\"ansiout\">+--------------------+----+\n",
              "            features|crew|\n",
              "+--------------------+----+\n",
              "[6.0,30.276999999...|3.55|\n",
              "[6.0,30.276999999...|3.55|\n",
              "[26.0,47.262,14.8...| 6.7|\n",
              "[11.0,110.0,29.74...|19.1|\n",
              "[17.0,101.353,26....|10.0|\n",
              "[22.0,70.367,20.5...| 9.2|\n",
              "[15.0,70.367,20.5...| 9.2|\n",
              "[23.0,70.367,20.5...| 9.2|\n",
              "[19.0,70.367,20.5...| 9.2|\n",
              "[6.0,110.23899999...|11.5|\n",
              "[10.0,110.0,29.74...|11.6|\n",
              "[28.0,46.052,14.5...| 6.6|\n",
              "[18.0,70.367,20.5...| 9.2|\n",
              "[17.0,70.367,20.5...| 9.2|\n",
              "[11.0,86.0,21.24,...| 9.3|\n",
              "[8.0,110.0,29.74,...|11.6|\n",
              "[9.0,88.5,21.24,9...|10.3|\n",
              "[15.0,70.367,20.5...| 9.2|\n",
              "[12.0,88.5,21.24,...| 9.3|\n",
              "[20.0,70.367,20.5...| 9.2|\n",
              "+--------------------+----+\n",
              "only showing top 20 rows\n",
              "\n",
              "</div>"
            ]
          },
          "metadata": {
            "tags": [],
            "application/vnd.databricks.v1+output": {
              "addedWidgets": {},
              "arguments": {},
              "data": "<div class=\"ansiout\">+--------------------+----+\n|            features|crew|\n+--------------------+----+\n|[6.0,30.276999999...|3.55|\n|[6.0,30.276999999...|3.55|\n|[26.0,47.262,14.8...| 6.7|\n|[11.0,110.0,29.74...|19.1|\n|[17.0,101.353,26....|10.0|\n|[22.0,70.367,20.5...| 9.2|\n|[15.0,70.367,20.5...| 9.2|\n|[23.0,70.367,20.5...| 9.2|\n|[19.0,70.367,20.5...| 9.2|\n|[6.0,110.23899999...|11.5|\n|[10.0,110.0,29.74...|11.6|\n|[28.0,46.052,14.5...| 6.6|\n|[18.0,70.367,20.5...| 9.2|\n|[17.0,70.367,20.5...| 9.2|\n|[11.0,86.0,21.24,...| 9.3|\n|[8.0,110.0,29.74,...|11.6|\n|[9.0,88.5,21.24,9...|10.3|\n|[15.0,70.367,20.5...| 9.2|\n|[12.0,88.5,21.24,...| 9.3|\n|[20.0,70.367,20.5...| 9.2|\n+--------------------+----+\nonly showing top 20 rows\n\n</div>",
              "datasetInfos": [],
              "removedWidgets": [],
              "type": "html"
            }
          }
        }
      ]
    },
    {
      "cell_type": "code",
      "metadata": {
        "application/vnd.databricks.v1+cell": {
          "inputWidgets": {},
          "nuid": "364d3622-4bc3-481c-86b3-bdb65364032f",
          "showTitle": false,
          "title": ""
        },
        "id": "FX-m46PHcJIZ",
        "outputId": "527c24b9-51b8-445e-bbab-0b65cd750031"
      },
      "source": [
        "final_data = output.select('features','crew')\n",
        "train_data, test_data = final_data.randomSplit([0.7,0.3])\n",
        "train_data.describe().show()\n",
        "test_data.describe().show()"
      ],
      "execution_count": null,
      "outputs": [
        {
          "output_type": "display_data",
          "data": {
            "text/html": [
              "<style scoped>\n",
              "  .ansiout {\n",
              "    display: block;\n",
              "    unicode-bidi: embed;\n",
              "    white-space: pre-wrap;\n",
              "    word-wrap: break-word;\n",
              "    word-break: break-all;\n",
              "    font-family: \"Source Code Pro\", \"Menlo\", monospace;;\n",
              "    font-size: 13px;\n",
              "    color: #555;\n",
              "    margin-left: 4px;\n",
              "    line-height: 19px;\n",
              "  }\n",
              "</style>\n",
              "<div class=\"ansiout\">+-------+-----------------+\n",
              "summary|             crew|\n",
              "+-------+-----------------+\n",
              "  count|              109|\n",
              "   mean|7.888623853211021|\n",
              " stddev|3.493084296649572|\n",
              "    min|             0.59|\n",
              "    max|             21.0|\n",
              "+-------+-----------------+\n",
              "\n",
              "+-------+-----------------+\n",
              "summary|             crew|\n",
              "+-------+-----------------+\n",
              "  count|               49|\n",
              "   mean|7.584081632653063|\n",
              " stddev|3.553670589666964|\n",
              "    min|              0.6|\n",
              "    max|             13.6|\n",
              "+-------+-----------------+\n",
              "\n",
              "</div>"
            ]
          },
          "metadata": {
            "tags": [],
            "application/vnd.databricks.v1+output": {
              "addedWidgets": {},
              "arguments": {},
              "data": "<div class=\"ansiout\">+-------+-----------------+\n|summary|             crew|\n+-------+-----------------+\n|  count|              109|\n|   mean|7.888623853211021|\n| stddev|3.493084296649572|\n|    min|             0.59|\n|    max|             21.0|\n+-------+-----------------+\n\n+-------+-----------------+\n|summary|             crew|\n+-------+-----------------+\n|  count|               49|\n|   mean|7.584081632653063|\n| stddev|3.553670589666964|\n|    min|              0.6|\n|    max|             13.6|\n+-------+-----------------+\n\n</div>",
              "datasetInfos": [],
              "removedWidgets": [],
              "type": "html"
            }
          }
        }
      ]
    },
    {
      "cell_type": "code",
      "metadata": {
        "application/vnd.databricks.v1+cell": {
          "inputWidgets": {},
          "nuid": "c43ea0c0-e2be-4a36-a5d6-6c392202e58e",
          "showTitle": false,
          "title": ""
        },
        "id": "pE7spj_fcJIa",
        "outputId": "2f86cc05-a52a-4718-ea23-c895cd9df84c"
      },
      "source": [
        "from pyspark.ml.regression import LinearRegression\n",
        "ship_lr = LinearRegression(labelCol='crew') \n",
        "train_ship_model = ship_lr.fit(train_data)\n",
        "ship_result = train_ship_model.evaluate(test_data)"
      ],
      "execution_count": null,
      "outputs": [
        {
          "output_type": "display_data",
          "data": {
            "text/html": [
              "<style scoped>\n",
              "  .ansiout {\n",
              "    display: block;\n",
              "    unicode-bidi: embed;\n",
              "    white-space: pre-wrap;\n",
              "    word-wrap: break-word;\n",
              "    word-break: break-all;\n",
              "    font-family: \"Source Code Pro\", \"Menlo\", monospace;;\n",
              "    font-size: 13px;\n",
              "    color: #555;\n",
              "    margin-left: 4px;\n",
              "    line-height: 19px;\n",
              "  }\n",
              "</style>\n",
              "<div class=\"ansiout\"></div>"
            ]
          },
          "metadata": {
            "tags": [],
            "application/vnd.databricks.v1+output": {
              "addedWidgets": {},
              "arguments": {},
              "data": "<div class=\"ansiout\"></div>",
              "datasetInfos": [],
              "removedWidgets": [],
              "type": "html"
            }
          }
        }
      ]
    },
    {
      "cell_type": "code",
      "metadata": {
        "application/vnd.databricks.v1+cell": {
          "inputWidgets": {},
          "nuid": "7d9e488e-3026-4878-897e-106861e9acd1",
          "showTitle": false,
          "title": ""
        },
        "id": "u253mQfscJIa",
        "outputId": "2aede55a-7ddb-4a13-8d20-ac4ba9e4cf41"
      },
      "source": [
        "ship_result.rootMeanSquaredError\n",
        "ship_result.r2\n",
        "ship_result.meanAbsoluteError\n",
        "ship_result.meanSquaredError"
      ],
      "execution_count": null,
      "outputs": [
        {
          "output_type": "display_data",
          "data": {
            "text/html": [
              "<style scoped>\n",
              "  .ansiout {\n",
              "    display: block;\n",
              "    unicode-bidi: embed;\n",
              "    white-space: pre-wrap;\n",
              "    word-wrap: break-word;\n",
              "    word-break: break-all;\n",
              "    font-family: \"Source Code Pro\", \"Menlo\", monospace;;\n",
              "    font-size: 13px;\n",
              "    color: #555;\n",
              "    margin-left: 4px;\n",
              "    line-height: 19px;\n",
              "  }\n",
              "</style>\n",
              "<div class=\"ansiout\">Out[118]: 0.45689950086791287</div>"
            ]
          },
          "metadata": {
            "tags": [],
            "application/vnd.databricks.v1+output": {
              "addedWidgets": {},
              "arguments": {},
              "data": "<div class=\"ansiout\">Out[118]: 0.45689950086791287</div>",
              "datasetInfos": [],
              "removedWidgets": [],
              "type": "html"
            }
          }
        }
      ]
    },
    {
      "cell_type": "code",
      "metadata": {
        "application/vnd.databricks.v1+cell": {
          "inputWidgets": {},
          "nuid": "43800247-a41b-4e25-91c6-eb69379ff046",
          "showTitle": false,
          "title": ""
        },
        "id": "ILWIOi1pcJIb",
        "outputId": "f216ef02-f925-4f95-e616-cd32f048f5ed"
      },
      "source": [
        "# To find the coorealation between 2 columns\n",
        "from pyspark.sql.functions import corr\n",
        "df1.select(corr('crew','passengers')).show() # So here they are highly coorealated. "
      ],
      "execution_count": null,
      "outputs": [
        {
          "output_type": "display_data",
          "data": {
            "text/html": [
              "<style scoped>\n",
              "  .ansiout {\n",
              "    display: block;\n",
              "    unicode-bidi: embed;\n",
              "    white-space: pre-wrap;\n",
              "    word-wrap: break-word;\n",
              "    word-break: break-all;\n",
              "    font-family: \"Source Code Pro\", \"Menlo\", monospace;;\n",
              "    font-size: 13px;\n",
              "    color: #555;\n",
              "    margin-left: 4px;\n",
              "    line-height: 19px;\n",
              "  }\n",
              "</style>\n",
              "<div class=\"ansiout\">+----------------------+\n",
              "corr(crew, passengers)|\n",
              "+----------------------+\n",
              "    0.9152341306065384|\n",
              "+----------------------+\n",
              "\n",
              "</div>"
            ]
          },
          "metadata": {
            "tags": [],
            "application/vnd.databricks.v1+output": {
              "addedWidgets": {},
              "arguments": {},
              "data": "<div class=\"ansiout\">+----------------------+\n|corr(crew, passengers)|\n+----------------------+\n|    0.9152341306065384|\n+----------------------+\n\n</div>",
              "datasetInfos": [],
              "removedWidgets": [],
              "type": "html"
            }
          }
        }
      ]
    },
    {
      "cell_type": "code",
      "metadata": {
        "application/vnd.databricks.v1+cell": {
          "inputWidgets": {},
          "nuid": "8fc935e2-d4bf-47f4-8c4d-f6a055d77161",
          "showTitle": false,
          "title": ""
        },
        "id": "6rCl8KNscJIb",
        "outputId": "87f198f0-b47c-49d0-b595-5ebd08918192"
      },
      "source": [
        "# SECTION 12 - LOGISTIC REGRESSION - CLASSIFICATION\n",
        "spark = SparkSession.builder.appName(\"mylogreg\").getOrCreate()\n",
        "from pyspark.ml.classification import LogisticRegression"
      ],
      "execution_count": null,
      "outputs": [
        {
          "output_type": "display_data",
          "data": {
            "text/html": [
              "<style scoped>\n",
              "  .ansiout {\n",
              "    display: block;\n",
              "    unicode-bidi: embed;\n",
              "    white-space: pre-wrap;\n",
              "    word-wrap: break-word;\n",
              "    word-break: break-all;\n",
              "    font-family: \"Source Code Pro\", \"Menlo\", monospace;;\n",
              "    font-size: 13px;\n",
              "    color: #555;\n",
              "    margin-left: 4px;\n",
              "    line-height: 19px;\n",
              "  }\n",
              "</style>\n",
              "<div class=\"ansiout\"></div>"
            ]
          },
          "metadata": {
            "tags": [],
            "application/vnd.databricks.v1+output": {
              "addedWidgets": {},
              "arguments": {},
              "data": "<div class=\"ansiout\"></div>",
              "datasetInfos": [],
              "removedWidgets": [],
              "type": "html"
            }
          }
        }
      ]
    },
    {
      "cell_type": "code",
      "metadata": {
        "application/vnd.databricks.v1+cell": {
          "inputWidgets": {},
          "nuid": "d5be2921-9ceb-4307-aa12-1d7f9db671d9",
          "showTitle": false,
          "title": ""
        },
        "id": "8iijMPKscJIc",
        "outputId": "00bc7bcc-1568-486d-eac5-a3e0f765b743"
      },
      "source": [
        "my_data = spark.read.format('libsvm').load('dbfs:/FileStore/shared_uploads/nisargmehta2000@gmail.com/sample_libsvm_data.txt') \n",
        "my_data.show() # Binary Classification"
      ],
      "execution_count": null,
      "outputs": [
        {
          "output_type": "display_data",
          "data": {
            "text/html": [
              "<style scoped>\n",
              "  .ansiout {\n",
              "    display: block;\n",
              "    unicode-bidi: embed;\n",
              "    white-space: pre-wrap;\n",
              "    word-wrap: break-word;\n",
              "    word-break: break-all;\n",
              "    font-family: \"Source Code Pro\", \"Menlo\", monospace;;\n",
              "    font-size: 13px;\n",
              "    color: #555;\n",
              "    margin-left: 4px;\n",
              "    line-height: 19px;\n",
              "  }\n",
              "</style>\n",
              "<div class=\"ansiout\">+-----+--------------------+\n",
              "label|            features|\n",
              "+-----+--------------------+\n",
              "  0.0|(692,[127,128,129...|\n",
              "  1.0|(692,[158,159,160...|\n",
              "  1.0|(692,[124,125,126...|\n",
              "  1.0|(692,[152,153,154...|\n",
              "  1.0|(692,[151,152,153...|\n",
              "  0.0|(692,[129,130,131...|\n",
              "  1.0|(692,[158,159,160...|\n",
              "  1.0|(692,[99,100,101,...|\n",
              "  0.0|(692,[154,155,156...|\n",
              "  0.0|(692,[127,128,129...|\n",
              "  1.0|(692,[154,155,156...|\n",
              "  0.0|(692,[153,154,155...|\n",
              "  0.0|(692,[151,152,153...|\n",
              "  1.0|(692,[129,130,131...|\n",
              "  0.0|(692,[154,155,156...|\n",
              "  1.0|(692,[150,151,152...|\n",
              "  0.0|(692,[124,125,126...|\n",
              "  0.0|(692,[152,153,154...|\n",
              "  1.0|(692,[97,98,99,12...|\n",
              "  1.0|(692,[124,125,126...|\n",
              "+-----+--------------------+\n",
              "only showing top 20 rows\n",
              "\n",
              "</div>"
            ]
          },
          "metadata": {
            "tags": [],
            "application/vnd.databricks.v1+output": {
              "addedWidgets": {},
              "arguments": {},
              "data": "<div class=\"ansiout\">+-----+--------------------+\n|label|            features|\n+-----+--------------------+\n|  0.0|(692,[127,128,129...|\n|  1.0|(692,[158,159,160...|\n|  1.0|(692,[124,125,126...|\n|  1.0|(692,[152,153,154...|\n|  1.0|(692,[151,152,153...|\n|  0.0|(692,[129,130,131...|\n|  1.0|(692,[158,159,160...|\n|  1.0|(692,[99,100,101,...|\n|  0.0|(692,[154,155,156...|\n|  0.0|(692,[127,128,129...|\n|  1.0|(692,[154,155,156...|\n|  0.0|(692,[153,154,155...|\n|  0.0|(692,[151,152,153...|\n|  1.0|(692,[129,130,131...|\n|  0.0|(692,[154,155,156...|\n|  1.0|(692,[150,151,152...|\n|  0.0|(692,[124,125,126...|\n|  0.0|(692,[152,153,154...|\n|  1.0|(692,[97,98,99,12...|\n|  1.0|(692,[124,125,126...|\n+-----+--------------------+\nonly showing top 20 rows\n\n</div>",
              "datasetInfos": [],
              "removedWidgets": [],
              "type": "html"
            }
          }
        }
      ]
    },
    {
      "cell_type": "code",
      "metadata": {
        "application/vnd.databricks.v1+cell": {
          "inputWidgets": {},
          "nuid": "31513210-2173-49b7-8b20-757c6929013d",
          "showTitle": false,
          "title": ""
        },
        "id": "nmbGVKgicJIc",
        "outputId": "97e63b6a-61a1-4aee-fad1-2f60cd473352"
      },
      "source": [
        "# Create the logistic regression model - my_log_reg_model is the instance logistic regression\n",
        "my_log_reg_model = LogisticRegression() # it is kept as default\n",
        "\n",
        "fitted_logreg = my_log_reg_model.fit(my_data)\n",
        "log_summary = fitted_logreg.summary\n",
        "log_summary.predictions.printSchema()"
      ],
      "execution_count": null,
      "outputs": [
        {
          "output_type": "display_data",
          "data": {
            "text/html": [
              "<style scoped>\n",
              "  .ansiout {\n",
              "    display: block;\n",
              "    unicode-bidi: embed;\n",
              "    white-space: pre-wrap;\n",
              "    word-wrap: break-word;\n",
              "    word-break: break-all;\n",
              "    font-family: \"Source Code Pro\", \"Menlo\", monospace;;\n",
              "    font-size: 13px;\n",
              "    color: #555;\n",
              "    margin-left: 4px;\n",
              "    line-height: 19px;\n",
              "  }\n",
              "</style>\n",
              "<div class=\"ansiout\">root\n",
              "-- label: double (nullable = true)\n",
              "-- features: vector (nullable = true)\n",
              "-- rawPrediction: vector (nullable = true)\n",
              "-- probability: vector (nullable = true)\n",
              "-- prediction: double (nullable = false)\n",
              "\n",
              "</div>"
            ]
          },
          "metadata": {
            "tags": [],
            "application/vnd.databricks.v1+output": {
              "addedWidgets": {},
              "arguments": {},
              "data": "<div class=\"ansiout\">root\n |-- label: double (nullable = true)\n |-- features: vector (nullable = true)\n |-- rawPrediction: vector (nullable = true)\n |-- probability: vector (nullable = true)\n |-- prediction: double (nullable = false)\n\n</div>",
              "datasetInfos": [],
              "removedWidgets": [],
              "type": "html"
            }
          }
        }
      ]
    },
    {
      "cell_type": "code",
      "metadata": {
        "application/vnd.databricks.v1+cell": {
          "inputWidgets": {},
          "nuid": "0caa7eeb-c7a7-48fa-8a6f-2c82b57e14a3",
          "showTitle": false,
          "title": ""
        },
        "id": "qcqdHZ5TcJId",
        "outputId": "b30e4f1f-b46a-4d2e-d90c-cdd67e964d4a"
      },
      "source": [
        "# here we need to compare that our label match our actual prediction\n",
        "log_summary.predictions.show()"
      ],
      "execution_count": null,
      "outputs": [
        {
          "output_type": "display_data",
          "data": {
            "text/html": [
              "<style scoped>\n",
              "  .ansiout {\n",
              "    display: block;\n",
              "    unicode-bidi: embed;\n",
              "    white-space: pre-wrap;\n",
              "    word-wrap: break-word;\n",
              "    word-break: break-all;\n",
              "    font-family: \"Source Code Pro\", \"Menlo\", monospace;;\n",
              "    font-size: 13px;\n",
              "    color: #555;\n",
              "    margin-left: 4px;\n",
              "    line-height: 19px;\n",
              "  }\n",
              "</style>\n",
              "<div class=\"ansiout\">+-----+--------------------+--------------------+--------------------+----------+\n",
              "label|            features|       rawPrediction|         probability|prediction|\n",
              "+-----+--------------------+--------------------+--------------------+----------+\n",
              "  0.0|(692,[127,128,129...|[19.8534775948018...|[0.99999999761359...|       0.0|\n",
              "  1.0|(692,[158,159,160...|[-20.377398194812...|[1.41321555124658...|       1.0|\n",
              "  1.0|(692,[124,125,126...|[-27.401459284607...|[1.25804865162664...|       1.0|\n",
              "  1.0|(692,[152,153,154...|[-18.862741612462...|[6.42710509302613...|       1.0|\n",
              "  1.0|(692,[151,152,153...|[-20.483011832789...|[1.27157209228550...|       1.0|\n",
              "  0.0|(692,[129,130,131...|[19.8506078990887...|[0.99999999760673...|       0.0|\n",
              "  1.0|(692,[158,159,160...|[-20.337256674744...|[1.47109814708735...|       1.0|\n",
              "  1.0|(692,[99,100,101,...|[-19.595579753185...|[3.08850168174720...|       1.0|\n",
              "  0.0|(692,[154,155,156...|[19.2708803215798...|[0.99999999572670...|       0.0|\n",
              "  0.0|(692,[127,128,129...|[23.6202328360621...|[0.99999999994480...|       0.0|\n",
              "  1.0|(692,[154,155,156...|[-24.385235147436...|[2.56818872834210...|       1.0|\n",
              "  0.0|(692,[153,154,155...|[26.3082522491186...|[0.99999999999624...|       0.0|\n",
              "  0.0|(692,[151,152,153...|[25.8329060319863...|[0.99999999999396...|       0.0|\n",
              "  1.0|(692,[129,130,131...|[-19.794609138975...|[2.53110684557833...|       1.0|\n",
              "  0.0|(692,[154,155,156...|[21.0260440948316...|[0.99999999926123...|       0.0|\n",
              "  1.0|(692,[150,151,152...|[-22.764979942712...|[1.29806018811937...|       1.0|\n",
              "  0.0|(692,[124,125,126...|[21.5049307194189...|[0.99999999954235...|       0.0|\n",
              "  0.0|(692,[152,153,154...|[31.9927184226788...|[0.99999999999998...|       0.0|\n",
              "  1.0|(692,[97,98,99,12...|[-20.521067180106...|[1.22409115654132...|       1.0|\n",
              "  1.0|(692,[124,125,126...|[-22.245377742546...|[2.18250475445942...|       1.0|\n",
              "+-----+--------------------+--------------------+--------------------+----------+\n",
              "only showing top 20 rows\n",
              "\n",
              "</div>"
            ]
          },
          "metadata": {
            "tags": [],
            "application/vnd.databricks.v1+output": {
              "addedWidgets": {},
              "arguments": {},
              "data": "<div class=\"ansiout\">+-----+--------------------+--------------------+--------------------+----------+\n|label|            features|       rawPrediction|         probability|prediction|\n+-----+--------------------+--------------------+--------------------+----------+\n|  0.0|(692,[127,128,129...|[19.8534775948018...|[0.99999999761359...|       0.0|\n|  1.0|(692,[158,159,160...|[-20.377398194812...|[1.41321555124658...|       1.0|\n|  1.0|(692,[124,125,126...|[-27.401459284607...|[1.25804865162664...|       1.0|\n|  1.0|(692,[152,153,154...|[-18.862741612462...|[6.42710509302613...|       1.0|\n|  1.0|(692,[151,152,153...|[-20.483011832789...|[1.27157209228550...|       1.0|\n|  0.0|(692,[129,130,131...|[19.8506078990887...|[0.99999999760673...|       0.0|\n|  1.0|(692,[158,159,160...|[-20.337256674744...|[1.47109814708735...|       1.0|\n|  1.0|(692,[99,100,101,...|[-19.595579753185...|[3.08850168174720...|       1.0|\n|  0.0|(692,[154,155,156...|[19.2708803215798...|[0.99999999572670...|       0.0|\n|  0.0|(692,[127,128,129...|[23.6202328360621...|[0.99999999994480...|       0.0|\n|  1.0|(692,[154,155,156...|[-24.385235147436...|[2.56818872834210...|       1.0|\n|  0.0|(692,[153,154,155...|[26.3082522491186...|[0.99999999999624...|       0.0|\n|  0.0|(692,[151,152,153...|[25.8329060319863...|[0.99999999999396...|       0.0|\n|  1.0|(692,[129,130,131...|[-19.794609138975...|[2.53110684557833...|       1.0|\n|  0.0|(692,[154,155,156...|[21.0260440948316...|[0.99999999926123...|       0.0|\n|  1.0|(692,[150,151,152...|[-22.764979942712...|[1.29806018811937...|       1.0|\n|  0.0|(692,[124,125,126...|[21.5049307194189...|[0.99999999954235...|       0.0|\n|  0.0|(692,[152,153,154...|[31.9927184226788...|[0.99999999999998...|       0.0|\n|  1.0|(692,[97,98,99,12...|[-20.521067180106...|[1.22409115654132...|       1.0|\n|  1.0|(692,[124,125,126...|[-22.245377742546...|[2.18250475445942...|       1.0|\n+-----+--------------------+--------------------+--------------------+----------+\nonly showing top 20 rows\n\n</div>",
              "datasetInfos": [],
              "removedWidgets": [],
              "type": "html"
            }
          }
        }
      ]
    },
    {
      "cell_type": "code",
      "metadata": {
        "application/vnd.databricks.v1+cell": {
          "inputWidgets": {},
          "nuid": "ba26b6a7-c7c5-4690-9ad5-f3e2dbad3b82",
          "showTitle": false,
          "title": ""
        },
        "id": "7NdUZ5lmcJId",
        "outputId": "74f2daaa-12be-4475-d3b8-11f12118e2f9"
      },
      "source": [
        "# Passing the evaluate dataframe into evaluator itself i.e to convert the my_data to train and test dataset\n",
        "lr_train, lr_test = my_data.randomSplit([0.7,0.3])\n",
        "final_model = LogisticRegression()\n",
        "fit_final = final_model.fit(lr_train)\n",
        "predictions_and_labels = fit_final.evaluate(lr_test)"
      ],
      "execution_count": null,
      "outputs": [
        {
          "output_type": "display_data",
          "data": {
            "text/html": [
              "<style scoped>\n",
              "  .ansiout {\n",
              "    display: block;\n",
              "    unicode-bidi: embed;\n",
              "    white-space: pre-wrap;\n",
              "    word-wrap: break-word;\n",
              "    word-break: break-all;\n",
              "    font-family: \"Source Code Pro\", \"Menlo\", monospace;;\n",
              "    font-size: 13px;\n",
              "    color: #555;\n",
              "    margin-left: 4px;\n",
              "    line-height: 19px;\n",
              "  }\n",
              "</style>\n",
              "<div class=\"ansiout\"></div>"
            ]
          },
          "metadata": {
            "tags": [],
            "application/vnd.databricks.v1+output": {
              "addedWidgets": {},
              "arguments": {},
              "data": "<div class=\"ansiout\"></div>",
              "datasetInfos": [],
              "removedWidgets": [],
              "type": "html"
            }
          }
        }
      ]
    },
    {
      "cell_type": "code",
      "metadata": {
        "application/vnd.databricks.v1+cell": {
          "inputWidgets": {},
          "nuid": "55de933d-142e-4ea2-96da-681c2f58da53",
          "showTitle": false,
          "title": ""
        },
        "id": "F52UX22pcJId",
        "outputId": "e82d3f6b-185d-41c7-fa23-b077e9a950d1"
      },
      "source": [
        "predictions_and_labels.predictions.show()"
      ],
      "execution_count": null,
      "outputs": [
        {
          "output_type": "display_data",
          "data": {
            "text/html": [
              "<style scoped>\n",
              "  .ansiout {\n",
              "    display: block;\n",
              "    unicode-bidi: embed;\n",
              "    white-space: pre-wrap;\n",
              "    word-wrap: break-word;\n",
              "    word-break: break-all;\n",
              "    font-family: \"Source Code Pro\", \"Menlo\", monospace;;\n",
              "    font-size: 13px;\n",
              "    color: #555;\n",
              "    margin-left: 4px;\n",
              "    line-height: 19px;\n",
              "  }\n",
              "</style>\n",
              "<div class=\"ansiout\">+-----+--------------------+--------------------+--------------------+----------+\n",
              "label|            features|       rawPrediction|         probability|prediction|\n",
              "+-----+--------------------+--------------------+--------------------+----------+\n",
              "  0.0|(692,[100,101,102...|[10.4895027746182...|[0.99997217374619...|       0.0|\n",
              "  0.0|(692,[124,125,126...|[31.8183108232038...|[0.99999999999998...|       0.0|\n",
              "  0.0|(692,[126,127,128...|[21.8472524371126...|[0.99999999967501...|       0.0|\n",
              "  0.0|(692,[126,127,128...|[30.5074852148289...|[0.99999999999994...|       0.0|\n",
              "  0.0|(692,[127,128,129...|[23.9440991840164...|[0.99999999996007...|       0.0|\n",
              "  0.0|(692,[129,130,131...|[17.8542013258696...|[0.99999998237947...|       0.0|\n",
              "  0.0|(692,[150,151,152...|[18.1586717468921...|[0.99999998700461...|       0.0|\n",
              "  0.0|(692,[152,153,154...|[13.9362992505552...|[0.99999911377958...|       0.0|\n",
              "  0.0|(692,[152,153,154...|[13.9250012113341...|[0.99999910371026...|       0.0|\n",
              "  0.0|(692,[153,154,155...|[-24.488362918272...|[2.31653632014159...|       1.0|\n",
              "  0.0|(692,[153,154,155...|[12.0899556766022...|[0.99999438439535...|       0.0|\n",
              "  0.0|(692,[154,155,156...|[-26.272195067098...|[3.89162204483620...|       1.0|\n",
              "  1.0|(692,[97,98,99,12...|[-21.278972598194...|[5.73666672183644...|       1.0|\n",
              "  1.0|(692,[124,125,126...|[-28.997570805025...|[2.54985221833547...|       1.0|\n",
              "  1.0|(692,[124,125,126...|[-23.123716546968...|[9.06770750032896...|       1.0|\n",
              "  1.0|(692,[126,127,128...|[-32.481298769871...|[7.82620427105394...|       1.0|\n",
              "  1.0|(692,[128,129,130...|[-26.129265242606...|[4.48956526136531...|       1.0|\n",
              "  1.0|(692,[128,129,130...|[-23.492281615255...|[6.27237084025502...|       1.0|\n",
              "  1.0|(692,[129,130,131...|[-31.454751312751...|[2.18461582472803...|       1.0|\n",
              "  1.0|(692,[129,130,131...|[-20.400515303195...|[1.38092081288932...|       1.0|\n",
              "+-----+--------------------+--------------------+--------------------+----------+\n",
              "only showing top 20 rows\n",
              "\n",
              "</div>"
            ]
          },
          "metadata": {
            "tags": [],
            "application/vnd.databricks.v1+output": {
              "addedWidgets": {},
              "arguments": {},
              "data": "<div class=\"ansiout\">+-----+--------------------+--------------------+--------------------+----------+\n|label|            features|       rawPrediction|         probability|prediction|\n+-----+--------------------+--------------------+--------------------+----------+\n|  0.0|(692,[100,101,102...|[10.4895027746182...|[0.99997217374619...|       0.0|\n|  0.0|(692,[124,125,126...|[31.8183108232038...|[0.99999999999998...|       0.0|\n|  0.0|(692,[126,127,128...|[21.8472524371126...|[0.99999999967501...|       0.0|\n|  0.0|(692,[126,127,128...|[30.5074852148289...|[0.99999999999994...|       0.0|\n|  0.0|(692,[127,128,129...|[23.9440991840164...|[0.99999999996007...|       0.0|\n|  0.0|(692,[129,130,131...|[17.8542013258696...|[0.99999998237947...|       0.0|\n|  0.0|(692,[150,151,152...|[18.1586717468921...|[0.99999998700461...|       0.0|\n|  0.0|(692,[152,153,154...|[13.9362992505552...|[0.99999911377958...|       0.0|\n|  0.0|(692,[152,153,154...|[13.9250012113341...|[0.99999910371026...|       0.0|\n|  0.0|(692,[153,154,155...|[-24.488362918272...|[2.31653632014159...|       1.0|\n|  0.0|(692,[153,154,155...|[12.0899556766022...|[0.99999438439535...|       0.0|\n|  0.0|(692,[154,155,156...|[-26.272195067098...|[3.89162204483620...|       1.0|\n|  1.0|(692,[97,98,99,12...|[-21.278972598194...|[5.73666672183644...|       1.0|\n|  1.0|(692,[124,125,126...|[-28.997570805025...|[2.54985221833547...|       1.0|\n|  1.0|(692,[124,125,126...|[-23.123716546968...|[9.06770750032896...|       1.0|\n|  1.0|(692,[126,127,128...|[-32.481298769871...|[7.82620427105394...|       1.0|\n|  1.0|(692,[128,129,130...|[-26.129265242606...|[4.48956526136531...|       1.0|\n|  1.0|(692,[128,129,130...|[-23.492281615255...|[6.27237084025502...|       1.0|\n|  1.0|(692,[129,130,131...|[-31.454751312751...|[2.18461582472803...|       1.0|\n|  1.0|(692,[129,130,131...|[-20.400515303195...|[1.38092081288932...|       1.0|\n+-----+--------------------+--------------------+--------------------+----------+\nonly showing top 20 rows\n\n</div>",
              "datasetInfos": [],
              "removedWidgets": [],
              "type": "html"
            }
          }
        }
      ]
    },
    {
      "cell_type": "code",
      "metadata": {
        "application/vnd.databricks.v1+cell": {
          "inputWidgets": {},
          "nuid": "eeacacff-7977-4eaa-ac44-f7e34b7df1d2",
          "showTitle": false,
          "title": ""
        },
        "id": "TVuged4ncJIe",
        "outputId": "8403fce2-aa67-4b60-972d-0afa4c679a48"
      },
      "source": [
        "# Now for multiclass classification evaluator and binaryclass classification evaluator\n",
        "from pyspark.ml.evaluation import BinaryClassificationEvaluator, MulticlassClassificationEvaluator\n",
        "my_eval = BinaryClassificationEvaluator() # will keep as default as label and raw prediction (This is mentioned in Documentation and video - from 10:40)"
      ],
      "execution_count": null,
      "outputs": [
        {
          "output_type": "display_data",
          "data": {
            "text/html": [
              "<style scoped>\n",
              "  .ansiout {\n",
              "    display: block;\n",
              "    unicode-bidi: embed;\n",
              "    white-space: pre-wrap;\n",
              "    word-wrap: break-word;\n",
              "    word-break: break-all;\n",
              "    font-family: \"Source Code Pro\", \"Menlo\", monospace;;\n",
              "    font-size: 13px;\n",
              "    color: #555;\n",
              "    margin-left: 4px;\n",
              "    line-height: 19px;\n",
              "  }\n",
              "</style>\n",
              "<div class=\"ansiout\"></div>"
            ]
          },
          "metadata": {
            "tags": [],
            "application/vnd.databricks.v1+output": {
              "addedWidgets": {},
              "arguments": {},
              "data": "<div class=\"ansiout\"></div>",
              "datasetInfos": [],
              "removedWidgets": [],
              "type": "html"
            }
          }
        }
      ]
    },
    {
      "cell_type": "code",
      "metadata": {
        "application/vnd.databricks.v1+cell": {
          "inputWidgets": {},
          "nuid": "7064c10e-b00a-4580-976a-b8aaebabcdc0",
          "showTitle": false,
          "title": ""
        },
        "id": "m5bfMLn6cJIe",
        "outputId": "29cb82f8-da30-400a-b328-5351d4f7535e"
      },
      "source": [
        "# To evaluate on the prediction dataframe \n",
        "my_final_roc = my_eval.evaluate(predictions_and_labels.predictions)\n",
        "my_final_roc # it means that area under cuver is 0.8928571428571429"
      ],
      "execution_count": null,
      "outputs": [
        {
          "output_type": "display_data",
          "data": {
            "text/html": [
              "<style scoped>\n",
              "  .ansiout {\n",
              "    display: block;\n",
              "    unicode-bidi: embed;\n",
              "    white-space: pre-wrap;\n",
              "    word-wrap: break-word;\n",
              "    word-break: break-all;\n",
              "    font-family: \"Source Code Pro\", \"Menlo\", monospace;;\n",
              "    font-size: 13px;\n",
              "    color: #555;\n",
              "    margin-left: 4px;\n",
              "    line-height: 19px;\n",
              "  }\n",
              "</style>\n",
              "<div class=\"ansiout\">Out[137]: 0.8928571428571429</div>"
            ]
          },
          "metadata": {
            "tags": [],
            "application/vnd.databricks.v1+output": {
              "addedWidgets": {},
              "arguments": {},
              "data": "<div class=\"ansiout\">Out[137]: 0.8928571428571429</div>",
              "datasetInfos": [],
              "removedWidgets": [],
              "type": "html"
            }
          }
        }
      ]
    },
    {
      "cell_type": "code",
      "metadata": {
        "application/vnd.databricks.v1+cell": {
          "inputWidgets": {},
          "nuid": "44221e31-5a3e-490c-8080-cfcf9c5fb380",
          "showTitle": false,
          "title": ""
        },
        "id": "glNPoQ5UcJIf",
        "outputId": "d79b2e0a-4226-4e6a-a8fe-c298f690103f"
      },
      "source": [
        "## SECTION 12 - LOGISTIC REGRESSION ON TITANIC DATASET \n",
        "\n",
        "df1 = spark.read.format(\"csv\").load(\"dbfs:/FileStore/shared_uploads/nisargmehta2000@gmail.com/titanic.csv\",inferSchema = True, header = True)\n",
        "df1.printSchema()"
      ],
      "execution_count": null,
      "outputs": [
        {
          "output_type": "display_data",
          "data": {
            "text/html": [
              "<style scoped>\n",
              "  .ansiout {\n",
              "    display: block;\n",
              "    unicode-bidi: embed;\n",
              "    white-space: pre-wrap;\n",
              "    word-wrap: break-word;\n",
              "    word-break: break-all;\n",
              "    font-family: \"Source Code Pro\", \"Menlo\", monospace;;\n",
              "    font-size: 13px;\n",
              "    color: #555;\n",
              "    margin-left: 4px;\n",
              "    line-height: 19px;\n",
              "  }\n",
              "</style>\n",
              "<div class=\"ansiout\">root\n",
              "-- PassengerId: integer (nullable = true)\n",
              "-- Survived: integer (nullable = true)\n",
              "-- Pclass: integer (nullable = true)\n",
              "-- Name: string (nullable = true)\n",
              "-- Sex: string (nullable = true)\n",
              "-- Age: double (nullable = true)\n",
              "-- SibSp: integer (nullable = true)\n",
              "-- Parch: integer (nullable = true)\n",
              "-- Ticket: string (nullable = true)\n",
              "-- Fare: double (nullable = true)\n",
              "-- Cabin: string (nullable = true)\n",
              "-- Embarked: string (nullable = true)\n",
              "\n",
              "</div>"
            ]
          },
          "metadata": {
            "tags": [],
            "application/vnd.databricks.v1+output": {
              "addedWidgets": {},
              "arguments": {},
              "data": "<div class=\"ansiout\">root\n |-- PassengerId: integer (nullable = true)\n |-- Survived: integer (nullable = true)\n |-- Pclass: integer (nullable = true)\n |-- Name: string (nullable = true)\n |-- Sex: string (nullable = true)\n |-- Age: double (nullable = true)\n |-- SibSp: integer (nullable = true)\n |-- Parch: integer (nullable = true)\n |-- Ticket: string (nullable = true)\n |-- Fare: double (nullable = true)\n |-- Cabin: string (nullable = true)\n |-- Embarked: string (nullable = true)\n\n</div>",
              "datasetInfos": [],
              "removedWidgets": [],
              "type": "html"
            }
          }
        }
      ]
    },
    {
      "cell_type": "code",
      "metadata": {
        "application/vnd.databricks.v1+cell": {
          "inputWidgets": {},
          "nuid": "7f880cd4-f300-4894-9d02-0cd73a207d7a",
          "showTitle": false,
          "title": ""
        },
        "id": "0r2DDpjKcJIf",
        "outputId": "67919b18-9439-4e05-9718-0698eaa80b8c"
      },
      "source": [
        "df1.columns\n",
        "my_cols = df1.select(['Survived','Pclass','Sex','Age','SibSp','Parch','Fare','Embarked'])"
      ],
      "execution_count": null,
      "outputs": [
        {
          "output_type": "display_data",
          "data": {
            "text/html": [
              "<style scoped>\n",
              "  .ansiout {\n",
              "    display: block;\n",
              "    unicode-bidi: embed;\n",
              "    white-space: pre-wrap;\n",
              "    word-wrap: break-word;\n",
              "    word-break: break-all;\n",
              "    font-family: \"Source Code Pro\", \"Menlo\", monospace;;\n",
              "    font-size: 13px;\n",
              "    color: #555;\n",
              "    margin-left: 4px;\n",
              "    line-height: 19px;\n",
              "  }\n",
              "</style>\n",
              "<div class=\"ansiout\"></div>"
            ]
          },
          "metadata": {
            "tags": [],
            "application/vnd.databricks.v1+output": {
              "addedWidgets": {},
              "arguments": {},
              "data": "<div class=\"ansiout\"></div>",
              "datasetInfos": [],
              "removedWidgets": [],
              "type": "html"
            }
          }
        }
      ]
    },
    {
      "cell_type": "code",
      "metadata": {
        "application/vnd.databricks.v1+cell": {
          "inputWidgets": {},
          "nuid": "0677c037-4f56-49c3-9e86-0543b8288b75",
          "showTitle": false,
          "title": ""
        },
        "id": "VhuAyZtLcJIg",
        "outputId": "baf8e83f-3975-4c00-818a-41fe9e7eedae"
      },
      "source": [
        "my_final_data = my_cols.na.drop()"
      ],
      "execution_count": null,
      "outputs": [
        {
          "output_type": "display_data",
          "data": {
            "text/html": [
              "<style scoped>\n",
              "  .ansiout {\n",
              "    display: block;\n",
              "    unicode-bidi: embed;\n",
              "    white-space: pre-wrap;\n",
              "    word-wrap: break-word;\n",
              "    word-break: break-all;\n",
              "    font-family: \"Source Code Pro\", \"Menlo\", monospace;;\n",
              "    font-size: 13px;\n",
              "    color: #555;\n",
              "    margin-left: 4px;\n",
              "    line-height: 19px;\n",
              "  }\n",
              "</style>\n",
              "<div class=\"ansiout\"></div>"
            ]
          },
          "metadata": {
            "tags": [],
            "application/vnd.databricks.v1+output": {
              "addedWidgets": {},
              "arguments": {},
              "data": "<div class=\"ansiout\"></div>",
              "datasetInfos": [],
              "removedWidgets": [],
              "type": "html"
            }
          }
        }
      ]
    },
    {
      "cell_type": "code",
      "metadata": {
        "application/vnd.databricks.v1+cell": {
          "inputWidgets": {},
          "nuid": "3415193d-5b0d-4615-803f-c2fef59e98f9",
          "showTitle": false,
          "title": ""
        },
        "id": "Qq-q2ePGcJIg",
        "outputId": "981e8b63-086a-416d-814d-1ae0e541e1e0"
      },
      "source": [
        "from pyspark.ml.feature import VectorAssembler, VectorIndexer, OneHotEncoder, StringIndexer\n",
        "\n",
        "# So first we are going to create the stringIndexer and then we are going to one hot encode that string, this means tht stringIndexer allows to convert every string to number. A example of this is gender indexer i.e male and female\n",
        "gender_Indexer = StringIndexer(inputCol='Sex',outputCol='SexIndex') # stringIndexer would assign a number to every category of that column\n",
        "\n",
        "# Now we will one hot encode them, this means the number is converted into the form of array of 0s and 1s in this case of actual category was. Eg : A B C, so for A - Array is [1, 0, 0], for B - Array is [0, 1, 0]\n",
        "gender_encoder = OneHotEncoder(inputCol='SexIndex', outputCol='SexVec')"
      ],
      "execution_count": null,
      "outputs": [
        {
          "output_type": "display_data",
          "data": {
            "text/html": [
              "<style scoped>\n",
              "  .ansiout {\n",
              "    display: block;\n",
              "    unicode-bidi: embed;\n",
              "    white-space: pre-wrap;\n",
              "    word-wrap: break-word;\n",
              "    word-break: break-all;\n",
              "    font-family: \"Source Code Pro\", \"Menlo\", monospace;;\n",
              "    font-size: 13px;\n",
              "    color: #555;\n",
              "    margin-left: 4px;\n",
              "    line-height: 19px;\n",
              "  }\n",
              "</style>\n",
              "<div class=\"ansiout\"></div>"
            ]
          },
          "metadata": {
            "tags": [],
            "application/vnd.databricks.v1+output": {
              "addedWidgets": {},
              "arguments": {},
              "data": "<div class=\"ansiout\"></div>",
              "datasetInfos": [],
              "removedWidgets": [],
              "type": "html"
            }
          }
        }
      ]
    },
    {
      "cell_type": "code",
      "metadata": {
        "application/vnd.databricks.v1+cell": {
          "inputWidgets": {},
          "nuid": "53f1fb5d-b037-49bb-b446-613a63b233f5",
          "showTitle": false,
          "title": ""
        },
        "id": "Pox_PsOVcJIg",
        "outputId": "378434b2-61f8-4659-e241-73abe8a4d4b3"
      },
      "source": [
        "# One thing good for StringIndexer and OneHotEncoder is that its not necessary to know how many categories before hand for particular column\n",
        "# Same as above for embarked column\n",
        "embark_indexer = StringIndexer(inputCol='Embarked',outputCol='EmbarkedIndex')\n",
        "embark_encoder = OneHotEncoder(inputCol='EmbarkedIndex',outputCol='EmbarkedVec')"
      ],
      "execution_count": null,
      "outputs": [
        {
          "output_type": "display_data",
          "data": {
            "text/html": [
              "<style scoped>\n",
              "  .ansiout {\n",
              "    display: block;\n",
              "    unicode-bidi: embed;\n",
              "    white-space: pre-wrap;\n",
              "    word-wrap: break-word;\n",
              "    word-break: break-all;\n",
              "    font-family: \"Source Code Pro\", \"Menlo\", monospace;;\n",
              "    font-size: 13px;\n",
              "    color: #555;\n",
              "    margin-left: 4px;\n",
              "    line-height: 19px;\n",
              "  }\n",
              "</style>\n",
              "<div class=\"ansiout\"></div>"
            ]
          },
          "metadata": {
            "tags": [],
            "application/vnd.databricks.v1+output": {
              "addedWidgets": {},
              "arguments": {},
              "data": "<div class=\"ansiout\"></div>",
              "datasetInfos": [],
              "removedWidgets": [],
              "type": "html"
            }
          }
        }
      ]
    },
    {
      "cell_type": "code",
      "metadata": {
        "application/vnd.databricks.v1+cell": {
          "inputWidgets": {},
          "nuid": "49d9e25d-76f8-43c5-83bc-a8447e65eebf",
          "showTitle": false,
          "title": ""
        },
        "id": "jUxd_oYlcJIh",
        "outputId": "0a2136bc-e079-4a3f-f873-f967366f161c"
      },
      "source": [
        "# Now to assemble all this using VectorAssembler\n",
        "assembler = VectorAssembler(inputCols=['Pclass','SexVec','Age','SibSp','Parch','Fare','EmbarkedVec'],outputCol='features')"
      ],
      "execution_count": null,
      "outputs": [
        {
          "output_type": "display_data",
          "data": {
            "text/html": [
              "<style scoped>\n",
              "  .ansiout {\n",
              "    display: block;\n",
              "    unicode-bidi: embed;\n",
              "    white-space: pre-wrap;\n",
              "    word-wrap: break-word;\n",
              "    word-break: break-all;\n",
              "    font-family: \"Source Code Pro\", \"Menlo\", monospace;;\n",
              "    font-size: 13px;\n",
              "    color: #555;\n",
              "    margin-left: 4px;\n",
              "    line-height: 19px;\n",
              "  }\n",
              "</style>\n",
              "<div class=\"ansiout\"></div>"
            ]
          },
          "metadata": {
            "tags": [],
            "application/vnd.databricks.v1+output": {
              "addedWidgets": {},
              "arguments": {},
              "data": "<div class=\"ansiout\"></div>",
              "datasetInfos": [],
              "removedWidgets": [],
              "type": "html"
            }
          }
        }
      ]
    },
    {
      "cell_type": "code",
      "metadata": {
        "application/vnd.databricks.v1+cell": {
          "inputWidgets": {},
          "nuid": "682caf31-f2a6-4dcd-94c2-1c496f9e3d1c",
          "showTitle": false,
          "title": ""
        },
        "id": "GSJAAGtXcJIh",
        "outputId": "2e9ba241-6f9f-4b40-a1a0-281489740fe7"
      },
      "source": [
        "from pyspark.ml.classification import LogisticRegression\n",
        "\n",
        "# Now to set the pipeline - Pipeline does is it set the stages for the different steps. If there is complex machine learning task then to set stages. \n",
        "from pyspark.ml import Pipeline"
      ],
      "execution_count": null,
      "outputs": [
        {
          "output_type": "display_data",
          "data": {
            "text/html": [
              "<style scoped>\n",
              "  .ansiout {\n",
              "    display: block;\n",
              "    unicode-bidi: embed;\n",
              "    white-space: pre-wrap;\n",
              "    word-wrap: break-word;\n",
              "    word-break: break-all;\n",
              "    font-family: \"Source Code Pro\", \"Menlo\", monospace;;\n",
              "    font-size: 13px;\n",
              "    color: #555;\n",
              "    margin-left: 4px;\n",
              "    line-height: 19px;\n",
              "  }\n",
              "</style>\n",
              "<div class=\"ansiout\"></div>"
            ]
          },
          "metadata": {
            "tags": [],
            "application/vnd.databricks.v1+output": {
              "addedWidgets": {},
              "arguments": {},
              "data": "<div class=\"ansiout\"></div>",
              "datasetInfos": [],
              "removedWidgets": [],
              "type": "html"
            }
          }
        }
      ]
    },
    {
      "cell_type": "code",
      "metadata": {
        "application/vnd.databricks.v1+cell": {
          "inputWidgets": {},
          "nuid": "15e2f0e5-774d-498e-a8de-c43a5928bcca",
          "showTitle": false,
          "title": ""
        },
        "id": "UaGqEHLkcJIh",
        "outputId": "41caf2a1-0197-4a44-ad6f-5157020b0809"
      },
      "source": [
        "log_reg_titanic = LogisticRegression(featuresCol='features',labelCol='Survived')\n",
        "\n",
        "# Now we will set the pipeline by taking stage as the parameter where stage is the list - ['gender_Indexer','gender_encoder', 'embark_indexer','embark_encoder', 'assembler','log_reg_titanic']\n",
        "pipeline = Pipeline(stages=[gender_Indexer,gender_encoder ,embark_indexer,embark_encoder ,assembler,log_reg_titanic]) # In the last passing the model - log_reg_titanic"
      ],
      "execution_count": null,
      "outputs": [
        {
          "output_type": "display_data",
          "data": {
            "text/html": [
              "<style scoped>\n",
              "  .ansiout {\n",
              "    display: block;\n",
              "    unicode-bidi: embed;\n",
              "    white-space: pre-wrap;\n",
              "    word-wrap: break-word;\n",
              "    word-break: break-all;\n",
              "    font-family: \"Source Code Pro\", \"Menlo\", monospace;;\n",
              "    font-size: 13px;\n",
              "    color: #555;\n",
              "    margin-left: 4px;\n",
              "    line-height: 19px;\n",
              "  }\n",
              "</style>\n",
              "<div class=\"ansiout\"></div>"
            ]
          },
          "metadata": {
            "tags": [],
            "application/vnd.databricks.v1+output": {
              "addedWidgets": {},
              "arguments": {},
              "data": "<div class=\"ansiout\"></div>",
              "datasetInfos": [],
              "removedWidgets": [],
              "type": "html"
            }
          }
        }
      ]
    },
    {
      "cell_type": "code",
      "metadata": {
        "application/vnd.databricks.v1+cell": {
          "inputWidgets": {},
          "nuid": "0e8c85f7-20b3-4e1c-ab4c-7c63ccbc0485",
          "showTitle": false,
          "title": ""
        },
        "id": "mLukb8ujcJIh",
        "outputId": "22071d36-98ba-47fd-d63c-bd0f3b67e16a"
      },
      "source": [
        "train_data, test_data = my_final_data.randomSplit([0.7,0.3]) # train_data and test_data are 2 dataframes \n",
        "fit_model = pipeline.fit(train_data)"
      ],
      "execution_count": null,
      "outputs": [
        {
          "output_type": "display_data",
          "data": {
            "text/html": [
              "<style scoped>\n",
              "  .ansiout {\n",
              "    display: block;\n",
              "    unicode-bidi: embed;\n",
              "    white-space: pre-wrap;\n",
              "    word-wrap: break-word;\n",
              "    word-break: break-all;\n",
              "    font-family: \"Source Code Pro\", \"Menlo\", monospace;;\n",
              "    font-size: 13px;\n",
              "    color: #555;\n",
              "    margin-left: 4px;\n",
              "    line-height: 19px;\n",
              "  }\n",
              "</style>\n",
              "<div class=\"ansiout\"></div>"
            ]
          },
          "metadata": {
            "tags": [],
            "application/vnd.databricks.v1+output": {
              "addedWidgets": {},
              "arguments": {},
              "data": "<div class=\"ansiout\"></div>",
              "datasetInfos": [],
              "removedWidgets": [],
              "type": "html"
            }
          }
        }
      ]
    },
    {
      "cell_type": "code",
      "metadata": {
        "application/vnd.databricks.v1+cell": {
          "inputWidgets": {},
          "nuid": "ed4e6855-a4e1-41d5-bdd5-035d86d0f850",
          "showTitle": false,
          "title": ""
        },
        "id": "w1JH-adWcJIi",
        "outputId": "80399103-bc55-488c-8603-38b644dadaf0"
      },
      "source": [
        "results = fit_model.transform(test_data)\n",
        "from pyspark.ml.evaluation import BinaryClassificationEvaluator"
      ],
      "execution_count": null,
      "outputs": [
        {
          "output_type": "display_data",
          "data": {
            "text/html": [
              "<style scoped>\n",
              "  .ansiout {\n",
              "    display: block;\n",
              "    unicode-bidi: embed;\n",
              "    white-space: pre-wrap;\n",
              "    word-wrap: break-word;\n",
              "    word-break: break-all;\n",
              "    font-family: \"Source Code Pro\", \"Menlo\", monospace;;\n",
              "    font-size: 13px;\n",
              "    color: #555;\n",
              "    margin-left: 4px;\n",
              "    line-height: 19px;\n",
              "  }\n",
              "</style>\n",
              "<div class=\"ansiout\"></div>"
            ]
          },
          "metadata": {
            "tags": [],
            "application/vnd.databricks.v1+output": {
              "addedWidgets": {},
              "arguments": {},
              "data": "<div class=\"ansiout\"></div>",
              "datasetInfos": [],
              "removedWidgets": [],
              "type": "html"
            }
          }
        }
      ]
    },
    {
      "cell_type": "code",
      "metadata": {
        "application/vnd.databricks.v1+cell": {
          "inputWidgets": {},
          "nuid": "2e304c17-54f8-4a6e-bda7-123ba0640515",
          "showTitle": false,
          "title": ""
        },
        "id": "04ZGxBwncJIi",
        "outputId": "d93c4901-8062-4eb1-d077-4eab6339f960"
      },
      "source": [
        "my_eval = BinaryClassificationEvaluator(rawPredictionCol='prediction',labelCol='Survived') # why 'prediction' is because when we transoform the test data, it will automatically call the predicted column the 'prediction' in lower case\n",
        "\n",
        "results.select('Survived','prediction').show() # For some it will show opposite of 'survived' and 'predicted', but for some it will match"
      ],
      "execution_count": null,
      "outputs": [
        {
          "output_type": "display_data",
          "data": {
            "text/html": [
              "<style scoped>\n",
              "  .ansiout {\n",
              "    display: block;\n",
              "    unicode-bidi: embed;\n",
              "    white-space: pre-wrap;\n",
              "    word-wrap: break-word;\n",
              "    word-break: break-all;\n",
              "    font-family: \"Source Code Pro\", \"Menlo\", monospace;;\n",
              "    font-size: 13px;\n",
              "    color: #555;\n",
              "    margin-left: 4px;\n",
              "    line-height: 19px;\n",
              "  }\n",
              "</style>\n",
              "<div class=\"ansiout\">+--------+----------+\n",
              "Survived|prediction|\n",
              "+--------+----------+\n",
              "       0|       1.0|\n",
              "       0|       1.0|\n",
              "       0|       1.0|\n",
              "       0|       1.0|\n",
              "       0|       0.0|\n",
              "       0|       0.0|\n",
              "       0|       0.0|\n",
              "       0|       0.0|\n",
              "       0|       0.0|\n",
              "       0|       0.0|\n",
              "       0|       0.0|\n",
              "       0|       0.0|\n",
              "       0|       0.0|\n",
              "       0|       0.0|\n",
              "       0|       0.0|\n",
              "       0|       1.0|\n",
              "       0|       0.0|\n",
              "       0|       0.0|\n",
              "       0|       0.0|\n",
              "       0|       0.0|\n",
              "+--------+----------+\n",
              "only showing top 20 rows\n",
              "\n",
              "</div>"
            ]
          },
          "metadata": {
            "tags": [],
            "application/vnd.databricks.v1+output": {
              "addedWidgets": {},
              "arguments": {},
              "data": "<div class=\"ansiout\">+--------+----------+\n|Survived|prediction|\n+--------+----------+\n|       0|       1.0|\n|       0|       1.0|\n|       0|       1.0|\n|       0|       1.0|\n|       0|       0.0|\n|       0|       0.0|\n|       0|       0.0|\n|       0|       0.0|\n|       0|       0.0|\n|       0|       0.0|\n|       0|       0.0|\n|       0|       0.0|\n|       0|       0.0|\n|       0|       0.0|\n|       0|       0.0|\n|       0|       1.0|\n|       0|       0.0|\n|       0|       0.0|\n|       0|       0.0|\n|       0|       0.0|\n+--------+----------+\nonly showing top 20 rows\n\n</div>",
              "datasetInfos": [],
              "removedWidgets": [],
              "type": "html"
            }
          }
        }
      ]
    },
    {
      "cell_type": "code",
      "metadata": {
        "application/vnd.databricks.v1+cell": {
          "inputWidgets": {},
          "nuid": "7b5666ca-9fa2-42dc-8200-353143d0e630",
          "showTitle": false,
          "title": ""
        },
        "id": "thcYKTGvcJIi",
        "outputId": "f99e0145-760c-42b7-89af-cd9addcc24fb"
      },
      "source": [
        "# So binary classification is used to check for Area under Curve\n",
        "AUC = my_eval.evaluate(results)\n",
        "AUC"
      ],
      "execution_count": null,
      "outputs": [
        {
          "output_type": "display_data",
          "data": {
            "text/html": [
              "<style scoped>\n",
              "  .ansiout {\n",
              "    display: block;\n",
              "    unicode-bidi: embed;\n",
              "    white-space: pre-wrap;\n",
              "    word-wrap: break-word;\n",
              "    word-break: break-all;\n",
              "    font-family: \"Source Code Pro\", \"Menlo\", monospace;;\n",
              "    font-size: 13px;\n",
              "    color: #555;\n",
              "    margin-left: 4px;\n",
              "    line-height: 19px;\n",
              "  }\n",
              "</style>\n",
              "<div class=\"ansiout\">Out[173]: 0.7901785714285715</div>"
            ]
          },
          "metadata": {
            "tags": [],
            "application/vnd.databricks.v1+output": {
              "addedWidgets": {},
              "arguments": {},
              "data": "<div class=\"ansiout\">Out[173]: 0.7901785714285715</div>",
              "datasetInfos": [],
              "removedWidgets": [],
              "type": "html"
            }
          }
        }
      ]
    },
    {
      "cell_type": "code",
      "metadata": {
        "application/vnd.databricks.v1+cell": {
          "inputWidgets": {},
          "nuid": "63494453-c901-4d38-be61-aeef8dc31f35",
          "showTitle": false,
          "title": ""
        },
        "id": "piJWAW7hcJIj",
        "outputId": "fd1ca276-6f68-4040-be12-f515ed37a4e7"
      },
      "source": [
        "## SECTION 12 - LOGISTIC REGRESSION CONSULTING PROJECT \n",
        "\n",
        "from pyspark.sql import SparkSession\n",
        "spark = SparkSession.builder.appName(\"mylogregconsult\").getOrCreate()"
      ],
      "execution_count": null,
      "outputs": [
        {
          "output_type": "display_data",
          "data": {
            "text/html": [
              "<style scoped>\n",
              "  .ansiout {\n",
              "    display: block;\n",
              "    unicode-bidi: embed;\n",
              "    white-space: pre-wrap;\n",
              "    word-wrap: break-word;\n",
              "    word-break: break-all;\n",
              "    font-family: \"Source Code Pro\", \"Menlo\", monospace;;\n",
              "    font-size: 13px;\n",
              "    color: #555;\n",
              "    margin-left: 4px;\n",
              "    line-height: 19px;\n",
              "  }\n",
              "</style>\n",
              "<div class=\"ansiout\"></div>"
            ]
          },
          "metadata": {
            "tags": [],
            "application/vnd.databricks.v1+output": {
              "addedWidgets": {},
              "arguments": {},
              "data": "<div class=\"ansiout\"></div>",
              "datasetInfos": [],
              "removedWidgets": [],
              "type": "html"
            }
          }
        }
      ]
    },
    {
      "cell_type": "code",
      "metadata": {
        "application/vnd.databricks.v1+cell": {
          "inputWidgets": {},
          "nuid": "92706a8b-210d-4b6c-91fb-34bb915d9086",
          "showTitle": false,
          "title": ""
        },
        "id": "WH7XERX7cJIj",
        "outputId": "5081b952-45bd-4117-a0b8-2455e3877508"
      },
      "source": [
        "df1 = spark.read.format(\"csv\").load(\"dbfs:/FileStore/shared_uploads/nisargmehta2000@gmail.com/customer_churn.csv\", inferSchema = True, header = True)"
      ],
      "execution_count": null,
      "outputs": [
        {
          "output_type": "display_data",
          "data": {
            "text/html": [
              "<style scoped>\n",
              "  .ansiout {\n",
              "    display: block;\n",
              "    unicode-bidi: embed;\n",
              "    white-space: pre-wrap;\n",
              "    word-wrap: break-word;\n",
              "    word-break: break-all;\n",
              "    font-family: \"Source Code Pro\", \"Menlo\", monospace;;\n",
              "    font-size: 13px;\n",
              "    color: #555;\n",
              "    margin-left: 4px;\n",
              "    line-height: 19px;\n",
              "  }\n",
              "</style>\n",
              "<div class=\"ansiout\"></div>"
            ]
          },
          "metadata": {
            "tags": [],
            "application/vnd.databricks.v1+output": {
              "addedWidgets": {},
              "arguments": {},
              "data": "<div class=\"ansiout\"></div>",
              "datasetInfos": [],
              "removedWidgets": [],
              "type": "html"
            }
          }
        }
      ]
    },
    {
      "cell_type": "code",
      "metadata": {
        "application/vnd.databricks.v1+cell": {
          "inputWidgets": {},
          "nuid": "61d9f412-377c-4961-afaa-01182ee4cbd5",
          "showTitle": false,
          "title": ""
        },
        "id": "Gk4ufhvwcJIj",
        "outputId": "c195385f-2b7f-468b-fa75-d00c2bec704e"
      },
      "source": [
        "df1.describe().show()"
      ],
      "execution_count": null,
      "outputs": [
        {
          "output_type": "display_data",
          "data": {
            "text/html": [
              "<style scoped>\n",
              "  .ansiout {\n",
              "    display: block;\n",
              "    unicode-bidi: embed;\n",
              "    white-space: pre-wrap;\n",
              "    word-wrap: break-word;\n",
              "    word-break: break-all;\n",
              "    font-family: \"Source Code Pro\", \"Menlo\", monospace;;\n",
              "    font-size: 13px;\n",
              "    color: #555;\n",
              "    margin-left: 4px;\n",
              "    line-height: 19px;\n",
              "  }\n",
              "</style>\n",
              "<div class=\"ansiout\">+-------+-------------+-----------------+-----------------+------------------+-----------------+------------------+-------------------+--------------------+--------------------+-------------------+\n",
              "summary|        Names|              Age|   Total_Purchase|   Account_Manager|            Years|         Num_Sites|       Onboard_date|            Location|             Company|              Churn|\n",
              "+-------+-------------+-----------------+-----------------+------------------+-----------------+------------------+-------------------+--------------------+--------------------+-------------------+\n",
              "  count|          900|              900|              900|               900|              900|               900|                900|                 900|                 900|                900|\n",
              "   mean|         null|41.81666666666667|10062.82403333334|0.4811111111111111| 5.27315555555555| 8.587777777777777|               null|                null|                null|0.16666666666666666|\n",
              " stddev|         null|6.127560416916251|2408.644531858096|0.4999208935073339|1.274449013194616|1.7648355920350969|               null|                null|                null| 0.3728852122772358|\n",
              "    min|   Aaron King|             22.0|            100.0|                 0|              1.0|               3.0|2006-01-02 04:16:13|00103 Jeffrey Cre...|     Abbott-Thompson|                  0|\n",
              "    max|Zachary Walsh|             65.0|         18026.01|                 1|             9.15|              14.0|2016-12-28 04:07:38|Unit 9800 Box 287...|Zuniga, Clark and...|                  1|\n",
              "+-------+-------------+-----------------+-----------------+------------------+-----------------+------------------+-------------------+--------------------+--------------------+-------------------+\n",
              "\n",
              "</div>"
            ]
          },
          "metadata": {
            "tags": [],
            "application/vnd.databricks.v1+output": {
              "addedWidgets": {},
              "arguments": {},
              "data": "<div class=\"ansiout\">+-------+-------------+-----------------+-----------------+------------------+-----------------+------------------+-------------------+--------------------+--------------------+-------------------+\n|summary|        Names|              Age|   Total_Purchase|   Account_Manager|            Years|         Num_Sites|       Onboard_date|            Location|             Company|              Churn|\n+-------+-------------+-----------------+-----------------+------------------+-----------------+------------------+-------------------+--------------------+--------------------+-------------------+\n|  count|          900|              900|              900|               900|              900|               900|                900|                 900|                 900|                900|\n|   mean|         null|41.81666666666667|10062.82403333334|0.4811111111111111| 5.27315555555555| 8.587777777777777|               null|                null|                null|0.16666666666666666|\n| stddev|         null|6.127560416916251|2408.644531858096|0.4999208935073339|1.274449013194616|1.7648355920350969|               null|                null|                null| 0.3728852122772358|\n|    min|   Aaron King|             22.0|            100.0|                 0|              1.0|               3.0|2006-01-02 04:16:13|00103 Jeffrey Cre...|     Abbott-Thompson|                  0|\n|    max|Zachary Walsh|             65.0|         18026.01|                 1|             9.15|              14.0|2016-12-28 04:07:38|Unit 9800 Box 287...|Zuniga, Clark and...|                  1|\n+-------+-------------+-----------------+-----------------+------------------+-----------------+------------------+-------------------+--------------------+--------------------+-------------------+\n\n</div>",
              "datasetInfos": [],
              "removedWidgets": [],
              "type": "html"
            }
          }
        }
      ]
    },
    {
      "cell_type": "code",
      "metadata": {
        "application/vnd.databricks.v1+cell": {
          "inputWidgets": {},
          "nuid": "abd539cb-4787-47c4-b1b5-2267eba04a37",
          "showTitle": false,
          "title": ""
        },
        "id": "4O2dvjozcJIk",
        "outputId": "097fa757-24cb-4409-95b2-9b2ca5e2351d"
      },
      "source": [
        "df1.columns\n",
        "from pyspark.ml.feature import VectorAssembler"
      ],
      "execution_count": null,
      "outputs": [
        {
          "output_type": "display_data",
          "data": {
            "text/html": [
              "<style scoped>\n",
              "  .ansiout {\n",
              "    display: block;\n",
              "    unicode-bidi: embed;\n",
              "    white-space: pre-wrap;\n",
              "    word-wrap: break-word;\n",
              "    word-break: break-all;\n",
              "    font-family: \"Source Code Pro\", \"Menlo\", monospace;;\n",
              "    font-size: 13px;\n",
              "    color: #555;\n",
              "    margin-left: 4px;\n",
              "    line-height: 19px;\n",
              "  }\n",
              "</style>\n",
              "<div class=\"ansiout\"></div>"
            ]
          },
          "metadata": {
            "tags": [],
            "application/vnd.databricks.v1+output": {
              "addedWidgets": {},
              "arguments": {},
              "data": "<div class=\"ansiout\"></div>",
              "datasetInfos": [],
              "removedWidgets": [],
              "type": "html"
            }
          }
        }
      ]
    },
    {
      "cell_type": "code",
      "metadata": {
        "application/vnd.databricks.v1+cell": {
          "inputWidgets": {},
          "nuid": "da9509bf-3295-4620-b8c7-2754665aa3cd",
          "showTitle": false,
          "title": ""
        },
        "id": "bm05-NfpcJIk",
        "outputId": "e9292c8d-5476-494e-83c3-d71ba2225fa5"
      },
      "source": [
        "assembler = VectorAssembler(inputCols = ['Age','Total_Purchase','Account_Manager','Years','Num_Sites'], outputCol = 'features')\n",
        "output = assembler.transform(df1)\n",
        "\n",
        "final_data = output.select('features','churn')"
      ],
      "execution_count": null,
      "outputs": [
        {
          "output_type": "display_data",
          "data": {
            "text/html": [
              "<style scoped>\n",
              "  .ansiout {\n",
              "    display: block;\n",
              "    unicode-bidi: embed;\n",
              "    white-space: pre-wrap;\n",
              "    word-wrap: break-word;\n",
              "    word-break: break-all;\n",
              "    font-family: \"Source Code Pro\", \"Menlo\", monospace;;\n",
              "    font-size: 13px;\n",
              "    color: #555;\n",
              "    margin-left: 4px;\n",
              "    line-height: 19px;\n",
              "  }\n",
              "</style>\n",
              "<div class=\"ansiout\"></div>"
            ]
          },
          "metadata": {
            "tags": [],
            "application/vnd.databricks.v1+output": {
              "addedWidgets": {},
              "arguments": {},
              "data": "<div class=\"ansiout\"></div>",
              "datasetInfos": [],
              "removedWidgets": [],
              "type": "html"
            }
          }
        }
      ]
    },
    {
      "cell_type": "code",
      "metadata": {
        "application/vnd.databricks.v1+cell": {
          "inputWidgets": {},
          "nuid": "bcc86a67-cb20-464a-b80a-dda9cc5e8f61",
          "showTitle": false,
          "title": ""
        },
        "id": "k36wjrLgcJIk",
        "outputId": "61757449-071f-457d-db58-fbab8249ade1"
      },
      "source": [
        "train_churn, test_churn = final_data.randomSplit([0.7,0.3])\n",
        "\n",
        "from pyspark.ml.classification import LogisticRegression\n",
        "lr_churn = LogisticRegression(labelCol='churn') # lr_churn is the instance of the LogisticRegression"
      ],
      "execution_count": null,
      "outputs": [
        {
          "output_type": "display_data",
          "data": {
            "text/html": [
              "<style scoped>\n",
              "  .ansiout {\n",
              "    display: block;\n",
              "    unicode-bidi: embed;\n",
              "    white-space: pre-wrap;\n",
              "    word-wrap: break-word;\n",
              "    word-break: break-all;\n",
              "    font-family: \"Source Code Pro\", \"Menlo\", monospace;;\n",
              "    font-size: 13px;\n",
              "    color: #555;\n",
              "    margin-left: 4px;\n",
              "    line-height: 19px;\n",
              "  }\n",
              "</style>\n",
              "<div class=\"ansiout\"></div>"
            ]
          },
          "metadata": {
            "tags": [],
            "application/vnd.databricks.v1+output": {
              "addedWidgets": {},
              "arguments": {},
              "data": "<div class=\"ansiout\"></div>",
              "datasetInfos": [],
              "removedWidgets": [],
              "type": "html"
            }
          }
        }
      ]
    },
    {
      "cell_type": "code",
      "metadata": {
        "application/vnd.databricks.v1+cell": {
          "inputWidgets": {},
          "nuid": "f8b95c1e-8e70-44b9-9c88-196a8e1447eb",
          "showTitle": false,
          "title": ""
        },
        "id": "QRnWJga4cJIl",
        "outputId": "46b9bdf3-07d1-4b77-82c6-60573261e4d4"
      },
      "source": [
        "fitted_churn_model = lr_churn.fit(train_churn)"
      ],
      "execution_count": null,
      "outputs": [
        {
          "output_type": "display_data",
          "data": {
            "text/html": [
              "<style scoped>\n",
              "  .ansiout {\n",
              "    display: block;\n",
              "    unicode-bidi: embed;\n",
              "    white-space: pre-wrap;\n",
              "    word-wrap: break-word;\n",
              "    word-break: break-all;\n",
              "    font-family: \"Source Code Pro\", \"Menlo\", monospace;;\n",
              "    font-size: 13px;\n",
              "    color: #555;\n",
              "    margin-left: 4px;\n",
              "    line-height: 19px;\n",
              "  }\n",
              "</style>\n",
              "<div class=\"ansiout\"></div>"
            ]
          },
          "metadata": {
            "tags": [],
            "application/vnd.databricks.v1+output": {
              "addedWidgets": {},
              "arguments": {},
              "data": "<div class=\"ansiout\"></div>",
              "datasetInfos": [],
              "removedWidgets": [],
              "type": "html"
            }
          }
        }
      ]
    },
    {
      "cell_type": "code",
      "metadata": {
        "application/vnd.databricks.v1+cell": {
          "inputWidgets": {},
          "nuid": "f1c64f27-9342-403d-b60f-68f2fe2c11db",
          "showTitle": false,
          "title": ""
        },
        "id": "GIbzxNZKcJIl",
        "outputId": "da5ba652-c7f4-493e-d391-24911697bd70"
      },
      "source": [
        "training_sum = fitted_churn_model.summary\n",
        "training_sum.predictions.describe().show()"
      ],
      "execution_count": null,
      "outputs": [
        {
          "output_type": "display_data",
          "data": {
            "text/html": [
              "<style scoped>\n",
              "  .ansiout {\n",
              "    display: block;\n",
              "    unicode-bidi: embed;\n",
              "    white-space: pre-wrap;\n",
              "    word-wrap: break-word;\n",
              "    word-break: break-all;\n",
              "    font-family: \"Source Code Pro\", \"Menlo\", monospace;;\n",
              "    font-size: 13px;\n",
              "    color: #555;\n",
              "    margin-left: 4px;\n",
              "    line-height: 19px;\n",
              "  }\n",
              "</style>\n",
              "<div class=\"ansiout\">+-------+-------------------+-------------------+\n",
              "summary|              churn|         prediction|\n",
              "+-------+-------------------+-------------------+\n",
              "  count|                644|                644|\n",
              "   mean|0.17701863354037267|0.13198757763975155|\n",
              " stddev| 0.3819811574265452|0.33874036149365794|\n",
              "    min|                0.0|                0.0|\n",
              "    max|                1.0|                1.0|\n",
              "+-------+-------------------+-------------------+\n",
              "\n",
              "</div>"
            ]
          },
          "metadata": {
            "tags": [],
            "application/vnd.databricks.v1+output": {
              "addedWidgets": {},
              "arguments": {},
              "data": "<div class=\"ansiout\">+-------+-------------------+-------------------+\n|summary|              churn|         prediction|\n+-------+-------------------+-------------------+\n|  count|                644|                644|\n|   mean|0.17701863354037267|0.13198757763975155|\n| stddev| 0.3819811574265452|0.33874036149365794|\n|    min|                0.0|                0.0|\n|    max|                1.0|                1.0|\n+-------+-------------------+-------------------+\n\n</div>",
              "datasetInfos": [],
              "removedWidgets": [],
              "type": "html"
            }
          }
        }
      ]
    },
    {
      "cell_type": "code",
      "metadata": {
        "application/vnd.databricks.v1+cell": {
          "inputWidgets": {},
          "nuid": "423ae663-599d-43e4-a5e7-eed6d23b6cdb",
          "showTitle": false,
          "title": ""
        },
        "id": "7lammxcjcJIl",
        "outputId": "87089940-9eee-448d-aaa2-0782ffe8e198"
      },
      "source": [
        "# We can use BinaryClassificationEvaluator to evaluate our model. We can set the required column names in rawPredictionCol and labelCol Param and the metric in metricName Param.\n",
        "from pyspark.ml.evaluation import BinaryClassificationEvaluator\n",
        "pred_and_labels = fitted_churn_model.evaluate(test_churn)\n",
        "pred_and_labels.predictions.show()"
      ],
      "execution_count": null,
      "outputs": [
        {
          "output_type": "display_data",
          "data": {
            "text/html": [
              "<style scoped>\n",
              "  .ansiout {\n",
              "    display: block;\n",
              "    unicode-bidi: embed;\n",
              "    white-space: pre-wrap;\n",
              "    word-wrap: break-word;\n",
              "    word-break: break-all;\n",
              "    font-family: \"Source Code Pro\", \"Menlo\", monospace;;\n",
              "    font-size: 13px;\n",
              "    color: #555;\n",
              "    margin-left: 4px;\n",
              "    line-height: 19px;\n",
              "  }\n",
              "</style>\n",
              "<div class=\"ansiout\">+--------------------+-----+--------------------+--------------------+----------+\n",
              "            features|churn|       rawPrediction|         probability|prediction|\n",
              "+--------------------+-----+--------------------+--------------------+----------+\n",
              "[22.0,11254.38,1....|    0|[4.41887332445740...|[0.98809562293643...|       0.0|\n",
              "[27.0,8628.8,1.0,...|    0|[5.34755765846954...|[0.99526278623027...|       0.0|\n",
              "[28.0,11204.23,0....|    0|[1.43245979654457...|[0.80728429125176...|       0.0|\n",
              "[29.0,12711.15,0....|    0|[5.25994092235063...|[0.99483124319891...|       0.0|\n",
              "[29.0,13240.01,1....|    0|[6.82578827514549...|[0.99891575686463...|       0.0|\n",
              "[30.0,8403.78,1.0...|    0|[5.89658721258902...|[0.99725872531005...|       0.0|\n",
              "[30.0,10183.98,1....|    0|[2.70553272766808...|[0.93735232922516...|       0.0|\n",
              "[30.0,10960.52,1....|    0|[2.20899199774677...|[0.90105409408611...|       0.0|\n",
              "[31.0,8688.21,0.0...|    0|[6.53241507263496...|[0.99854662886591...|       0.0|\n",
              "[31.0,8829.83,1.0...|    0|[4.33546963138388...|[0.98707355862241...|       0.0|\n",
              "[31.0,9574.89,0.0...|    0|[3.05102144732453...|[0.95482660483267...|       0.0|\n",
              "[31.0,11743.24,0....|    0|[6.72989878462087...|[0.99880677162552...|       0.0|\n",
              "[31.0,12264.68,1....|    0|[3.45269235622128...|[0.96931133110195...|       0.0|\n",
              "[32.0,6367.22,1.0...|    0|[2.77506870011764...|[0.94131362027469...|       0.0|\n",
              "[32.0,13630.93,0....|    0|[2.05237039081655...|[0.88618691449143...|       0.0|\n",
              "[33.0,8556.73,0.0...|    0|[3.52423324769135...|[0.97136946939172...|       0.0|\n",
              "[33.0,10709.39,1....|    0|[6.34469344741537...|[0.99824703729522...|       0.0|\n",
              "[33.0,12115.91,1....|    0|[2.30855099503339...|[0.90958275698526...|       0.0|\n",
              "[33.0,12249.96,0....|    0|[5.42493585873842...|[0.99561397325990...|       0.0|\n",
              "[33.0,13314.19,0....|    0|[2.67448596332742...|[0.93550422615255...|       0.0|\n",
              "+--------------------+-----+--------------------+--------------------+----------+\n",
              "only showing top 20 rows\n",
              "\n",
              "</div>"
            ]
          },
          "metadata": {
            "tags": [],
            "application/vnd.databricks.v1+output": {
              "addedWidgets": {},
              "arguments": {},
              "data": "<div class=\"ansiout\">+--------------------+-----+--------------------+--------------------+----------+\n|            features|churn|       rawPrediction|         probability|prediction|\n+--------------------+-----+--------------------+--------------------+----------+\n|[22.0,11254.38,1....|    0|[4.41887332445740...|[0.98809562293643...|       0.0|\n|[27.0,8628.8,1.0,...|    0|[5.34755765846954...|[0.99526278623027...|       0.0|\n|[28.0,11204.23,0....|    0|[1.43245979654457...|[0.80728429125176...|       0.0|\n|[29.0,12711.15,0....|    0|[5.25994092235063...|[0.99483124319891...|       0.0|\n|[29.0,13240.01,1....|    0|[6.82578827514549...|[0.99891575686463...|       0.0|\n|[30.0,8403.78,1.0...|    0|[5.89658721258902...|[0.99725872531005...|       0.0|\n|[30.0,10183.98,1....|    0|[2.70553272766808...|[0.93735232922516...|       0.0|\n|[30.0,10960.52,1....|    0|[2.20899199774677...|[0.90105409408611...|       0.0|\n|[31.0,8688.21,0.0...|    0|[6.53241507263496...|[0.99854662886591...|       0.0|\n|[31.0,8829.83,1.0...|    0|[4.33546963138388...|[0.98707355862241...|       0.0|\n|[31.0,9574.89,0.0...|    0|[3.05102144732453...|[0.95482660483267...|       0.0|\n|[31.0,11743.24,0....|    0|[6.72989878462087...|[0.99880677162552...|       0.0|\n|[31.0,12264.68,1....|    0|[3.45269235622128...|[0.96931133110195...|       0.0|\n|[32.0,6367.22,1.0...|    0|[2.77506870011764...|[0.94131362027469...|       0.0|\n|[32.0,13630.93,0....|    0|[2.05237039081655...|[0.88618691449143...|       0.0|\n|[33.0,8556.73,0.0...|    0|[3.52423324769135...|[0.97136946939172...|       0.0|\n|[33.0,10709.39,1....|    0|[6.34469344741537...|[0.99824703729522...|       0.0|\n|[33.0,12115.91,1....|    0|[2.30855099503339...|[0.90958275698526...|       0.0|\n|[33.0,12249.96,0....|    0|[5.42493585873842...|[0.99561397325990...|       0.0|\n|[33.0,13314.19,0....|    0|[2.67448596332742...|[0.93550422615255...|       0.0|\n+--------------------+-----+--------------------+--------------------+----------+\nonly showing top 20 rows\n\n</div>",
              "datasetInfos": [],
              "removedWidgets": [],
              "type": "html"
            }
          }
        }
      ]
    },
    {
      "cell_type": "code",
      "metadata": {
        "application/vnd.databricks.v1+cell": {
          "inputWidgets": {},
          "nuid": "c29399e1-ffe8-437e-917b-0ee941ea3ba9",
          "showTitle": false,
          "title": ""
        },
        "id": "-px40saAcJIl",
        "outputId": "c5d841f4-7f8f-4013-a76d-a73658a64791"
      },
      "source": [
        "churn_eval = BinaryClassificationEvaluator(rawPredictionCol=\"prediction\", labelCol='churn')\n",
        "auc = churn_eval.evaluate(pred_and_labels.predictions)\n",
        "auc # 0.7666666666666666"
      ],
      "execution_count": null,
      "outputs": [
        {
          "output_type": "display_data",
          "data": {
            "text/html": [
              "<style scoped>\n",
              "  .ansiout {\n",
              "    display: block;\n",
              "    unicode-bidi: embed;\n",
              "    white-space: pre-wrap;\n",
              "    word-wrap: break-word;\n",
              "    word-break: break-all;\n",
              "    font-family: \"Source Code Pro\", \"Menlo\", monospace;;\n",
              "    font-size: 13px;\n",
              "    color: #555;\n",
              "    margin-left: 4px;\n",
              "    line-height: 19px;\n",
              "  }\n",
              "</style>\n",
              "<div class=\"ansiout\">Out[22]: 0.7666666666666666</div>"
            ]
          },
          "metadata": {
            "tags": [],
            "application/vnd.databricks.v1+output": {
              "addedWidgets": {},
              "arguments": {},
              "data": "<div class=\"ansiout\">Out[22]: 0.7666666666666666</div>",
              "datasetInfos": [],
              "removedWidgets": [],
              "type": "html"
            }
          }
        }
      ]
    },
    {
      "cell_type": "code",
      "metadata": {
        "application/vnd.databricks.v1+cell": {
          "inputWidgets": {},
          "nuid": "79c93901-066f-4fbb-9a03-929e290634d9",
          "showTitle": false,
          "title": ""
        },
        "id": "mNKpP5RTcJIm",
        "outputId": "cc977ab3-2652-41bd-8e8b-e6ced48fd037"
      },
      "source": [
        "final_lr_model = lr_churn.fit(final_data)"
      ],
      "execution_count": null,
      "outputs": [
        {
          "output_type": "display_data",
          "data": {
            "text/html": [
              "<style scoped>\n",
              "  .ansiout {\n",
              "    display: block;\n",
              "    unicode-bidi: embed;\n",
              "    white-space: pre-wrap;\n",
              "    word-wrap: break-word;\n",
              "    word-break: break-all;\n",
              "    font-family: \"Source Code Pro\", \"Menlo\", monospace;;\n",
              "    font-size: 13px;\n",
              "    color: #555;\n",
              "    margin-left: 4px;\n",
              "    line-height: 19px;\n",
              "  }\n",
              "</style>\n",
              "<div class=\"ansiout\"></div>"
            ]
          },
          "metadata": {
            "tags": [],
            "application/vnd.databricks.v1+output": {
              "addedWidgets": {},
              "arguments": {},
              "data": "<div class=\"ansiout\"></div>",
              "datasetInfos": [],
              "removedWidgets": [],
              "type": "html"
            }
          }
        }
      ]
    },
    {
      "cell_type": "code",
      "metadata": {
        "application/vnd.databricks.v1+cell": {
          "inputWidgets": {},
          "nuid": "a73560f0-1798-44b4-b9e4-3cffcd17245e",
          "showTitle": false,
          "title": ""
        },
        "id": "O-2wRJW7cJIm",
        "outputId": "fc2789bf-6d58-40e2-dc8b-d5ab5dc4e9e9"
      },
      "source": [
        "# Predict on the data file\n",
        "df1 = spark.read.format(\"csv\").load(\"dbfs:/FileStore/shared_uploads/nisargmehta2000@gmail.com/new_customers.csv\", inferSchema = True, header = True)\n",
        "\n",
        "# To check that everything is in same format\n",
        "df1.printSchema()"
      ],
      "execution_count": null,
      "outputs": [
        {
          "output_type": "display_data",
          "data": {
            "text/html": [
              "<style scoped>\n",
              "  .ansiout {\n",
              "    display: block;\n",
              "    unicode-bidi: embed;\n",
              "    white-space: pre-wrap;\n",
              "    word-wrap: break-word;\n",
              "    word-break: break-all;\n",
              "    font-family: \"Source Code Pro\", \"Menlo\", monospace;;\n",
              "    font-size: 13px;\n",
              "    color: #555;\n",
              "    margin-left: 4px;\n",
              "    line-height: 19px;\n",
              "  }\n",
              "</style>\n",
              "<div class=\"ansiout\">root\n",
              "-- Names: string (nullable = true)\n",
              "-- Age: double (nullable = true)\n",
              "-- Total_Purchase: double (nullable = true)\n",
              "-- Account_Manager: integer (nullable = true)\n",
              "-- Years: double (nullable = true)\n",
              "-- Num_Sites: double (nullable = true)\n",
              "-- Onboard_date: string (nullable = true)\n",
              "-- Location: string (nullable = true)\n",
              "-- Company: string (nullable = true)\n",
              "\n",
              "</div>"
            ]
          },
          "metadata": {
            "tags": [],
            "application/vnd.databricks.v1+output": {
              "addedWidgets": {},
              "arguments": {},
              "data": "<div class=\"ansiout\">root\n |-- Names: string (nullable = true)\n |-- Age: double (nullable = true)\n |-- Total_Purchase: double (nullable = true)\n |-- Account_Manager: integer (nullable = true)\n |-- Years: double (nullable = true)\n |-- Num_Sites: double (nullable = true)\n |-- Onboard_date: string (nullable = true)\n |-- Location: string (nullable = true)\n |-- Company: string (nullable = true)\n\n</div>",
              "datasetInfos": [],
              "removedWidgets": [],
              "type": "html"
            }
          }
        }
      ]
    },
    {
      "cell_type": "code",
      "metadata": {
        "application/vnd.databricks.v1+cell": {
          "inputWidgets": {},
          "nuid": "cf0be795-0765-49a7-b6cf-89388a216877",
          "showTitle": false,
          "title": ""
        },
        "id": "7crsC3AtcJIn",
        "outputId": "b7897055-a498-4e30-b569-0f6e23971a9a"
      },
      "source": [
        "test_new_customers = assembler.transform(df1)\n",
        "test_new_customers.printSchema() # so it added the feature column at the end \n",
        "final_results = final_lr_model.transform(test_new_customers)\n",
        "final_results.show()"
      ],
      "execution_count": null,
      "outputs": [
        {
          "output_type": "display_data",
          "data": {
            "text/html": [
              "<style scoped>\n",
              "  .ansiout {\n",
              "    display: block;\n",
              "    unicode-bidi: embed;\n",
              "    white-space: pre-wrap;\n",
              "    word-wrap: break-word;\n",
              "    word-break: break-all;\n",
              "    font-family: \"Source Code Pro\", \"Menlo\", monospace;;\n",
              "    font-size: 13px;\n",
              "    color: #555;\n",
              "    margin-left: 4px;\n",
              "    line-height: 19px;\n",
              "  }\n",
              "</style>\n",
              "<div class=\"ansiout\">root\n",
              "-- Names: string (nullable = true)\n",
              "-- Age: double (nullable = true)\n",
              "-- Total_Purchase: double (nullable = true)\n",
              "-- Account_Manager: integer (nullable = true)\n",
              "-- Years: double (nullable = true)\n",
              "-- Num_Sites: double (nullable = true)\n",
              "-- Onboard_date: string (nullable = true)\n",
              "-- Location: string (nullable = true)\n",
              "-- Company: string (nullable = true)\n",
              "-- features: vector (nullable = true)\n",
              "\n",
              "+--------------+----+--------------+---------------+-----+---------+-------------------+--------------------+----------------+--------------------+--------------------+--------------------+----------+\n",
              "         Names| Age|Total_Purchase|Account_Manager|Years|Num_Sites|       Onboard_date|            Location|         Company|            features|       rawPrediction|         probability|prediction|\n",
              "+--------------+----+--------------+---------------+-----+---------+-------------------+--------------------+----------------+--------------------+--------------------+--------------------+----------+\n",
              " Andrew Mccall|37.0|       9935.53|              1| 7.71|      8.0|2011-08-29 18:37:54|38612 Johnny Stra...|        King Ltd|[37.0,9935.53,1.0...|[2.22168705251390...|[0.90218018099700...|       0.0|\n",
              "Michele Wright|23.0|       7526.94|              1| 9.28|     15.0|2013-07-22 18:19:54|21083 Nicole Junc...|   Cannon-Benson|[23.0,7526.94,1.0...|[-6.2207530595046...|[0.00198380445828...|       1.0|\n",
              "  Jeremy Chang|65.0|         100.0|              1|  1.0|     15.0|2006-12-11 07:48:13|085 Austin Views ...|Barron-Robertson|[65.0,100.0,1.0,1...|[-3.7691621189384...|[0.02255110110417...|       1.0|\n",
              "Megan Ferguson|32.0|        6487.5|              0|  9.4|     14.0|2016-10-28 05:32:13|922 Wright Branch...|   Sexton-Golden|[32.0,6487.5,0.0,...|[-5.0956222016539...|[0.00608622642083...|       1.0|\n",
              "  Taylor Young|32.0|      13147.71|              1| 10.0|      8.0|2012-03-20 00:36:46|Unit 0789 Box 073...|        Wood LLC|[32.0,13147.71,1....|[1.10475867224048...|[0.75115067517455...|       0.0|\n",
              " Jessica Drake|22.0|       8445.26|              1| 3.46|     14.0|2011-02-04 19:29:27|1148 Tina Straven...|   Parks-Robbins|[22.0,8445.26,1.0...|[-1.6896019277075...|[0.15582819767621...|       1.0|\n",
              "+--------------+----+--------------+---------------+-----+---------+-------------------+--------------------+----------------+--------------------+--------------------+--------------------+----------+\n",
              "\n",
              "</div>"
            ]
          },
          "metadata": {
            "tags": [],
            "application/vnd.databricks.v1+output": {
              "addedWidgets": {},
              "arguments": {},
              "data": "<div class=\"ansiout\">root\n |-- Names: string (nullable = true)\n |-- Age: double (nullable = true)\n |-- Total_Purchase: double (nullable = true)\n |-- Account_Manager: integer (nullable = true)\n |-- Years: double (nullable = true)\n |-- Num_Sites: double (nullable = true)\n |-- Onboard_date: string (nullable = true)\n |-- Location: string (nullable = true)\n |-- Company: string (nullable = true)\n |-- features: vector (nullable = true)\n\n+--------------+----+--------------+---------------+-----+---------+-------------------+--------------------+----------------+--------------------+--------------------+--------------------+----------+\n|         Names| Age|Total_Purchase|Account_Manager|Years|Num_Sites|       Onboard_date|            Location|         Company|            features|       rawPrediction|         probability|prediction|\n+--------------+----+--------------+---------------+-----+---------+-------------------+--------------------+----------------+--------------------+--------------------+--------------------+----------+\n| Andrew Mccall|37.0|       9935.53|              1| 7.71|      8.0|2011-08-29 18:37:54|38612 Johnny Stra...|        King Ltd|[37.0,9935.53,1.0...|[2.22168705251390...|[0.90218018099700...|       0.0|\n|Michele Wright|23.0|       7526.94|              1| 9.28|     15.0|2013-07-22 18:19:54|21083 Nicole Junc...|   Cannon-Benson|[23.0,7526.94,1.0...|[-6.2207530595046...|[0.00198380445828...|       1.0|\n|  Jeremy Chang|65.0|         100.0|              1|  1.0|     15.0|2006-12-11 07:48:13|085 Austin Views ...|Barron-Robertson|[65.0,100.0,1.0,1...|[-3.7691621189384...|[0.02255110110417...|       1.0|\n|Megan Ferguson|32.0|        6487.5|              0|  9.4|     14.0|2016-10-28 05:32:13|922 Wright Branch...|   Sexton-Golden|[32.0,6487.5,0.0,...|[-5.0956222016539...|[0.00608622642083...|       1.0|\n|  Taylor Young|32.0|      13147.71|              1| 10.0|      8.0|2012-03-20 00:36:46|Unit 0789 Box 073...|        Wood LLC|[32.0,13147.71,1....|[1.10475867224048...|[0.75115067517455...|       0.0|\n| Jessica Drake|22.0|       8445.26|              1| 3.46|     14.0|2011-02-04 19:29:27|1148 Tina Straven...|   Parks-Robbins|[22.0,8445.26,1.0...|[-1.6896019277075...|[0.15582819767621...|       1.0|\n+--------------+----+--------------+---------------+-----+---------+-------------------+--------------------+----------------+--------------------+--------------------+--------------------+----------+\n\n</div>",
              "datasetInfos": [],
              "removedWidgets": [],
              "type": "html"
            }
          }
        }
      ]
    },
    {
      "cell_type": "code",
      "metadata": {
        "application/vnd.databricks.v1+cell": {
          "inputWidgets": {},
          "nuid": "4e562e52-296d-4ca8-807c-1ca5a6e753f2",
          "showTitle": false,
          "title": ""
        },
        "id": "grIkXZEZcJIn",
        "outputId": "44e74295-4ecd-427a-af32-bca550d664cf"
      },
      "source": [
        "## SECTION 13 - TREE METHODS\n",
        "\n",
        "spark = SparkSession.builder.appName('mytree').getOrCreate()\n",
        "from pyspark.ml import Pipeline\n",
        "from pyspark.ml.classification import RandomForestClassifier, GBTClassifier, DecisionTreeClassifier\n",
        "\n",
        "# If we have regression problem then this can be applied to regresson"
      ],
      "execution_count": null,
      "outputs": [
        {
          "output_type": "display_data",
          "data": {
            "text/html": [
              "<style scoped>\n",
              "  .ansiout {\n",
              "    display: block;\n",
              "    unicode-bidi: embed;\n",
              "    white-space: pre-wrap;\n",
              "    word-wrap: break-word;\n",
              "    word-break: break-all;\n",
              "    font-family: \"Source Code Pro\", \"Menlo\", monospace;;\n",
              "    font-size: 13px;\n",
              "    color: #555;\n",
              "    margin-left: 4px;\n",
              "    line-height: 19px;\n",
              "  }\n",
              "</style>\n",
              "<div class=\"ansiout\"></div>"
            ]
          },
          "metadata": {
            "tags": [],
            "application/vnd.databricks.v1+output": {
              "addedWidgets": {},
              "arguments": {},
              "data": "<div class=\"ansiout\"></div>",
              "datasetInfos": [],
              "removedWidgets": [],
              "type": "html"
            }
          }
        }
      ]
    },
    {
      "cell_type": "code",
      "metadata": {
        "application/vnd.databricks.v1+cell": {
          "inputWidgets": {},
          "nuid": "2bcd29d1-546b-4aed-bf8c-874605798c78",
          "showTitle": false,
          "title": ""
        },
        "id": "iZuRc-apcJIn",
        "outputId": "4d3dee36-a687-4998-eba5-63086258c5df"
      },
      "source": [
        "my_data = spark.read.format('libsvm').load('dbfs:/FileStore/shared_uploads/nisargmehta2000@gmail.com/sample_libsvm_data.txt') \n",
        "my_data.show() "
      ],
      "execution_count": null,
      "outputs": [
        {
          "output_type": "display_data",
          "data": {
            "text/html": [
              "<style scoped>\n",
              "  .ansiout {\n",
              "    display: block;\n",
              "    unicode-bidi: embed;\n",
              "    white-space: pre-wrap;\n",
              "    word-wrap: break-word;\n",
              "    word-break: break-all;\n",
              "    font-family: \"Source Code Pro\", \"Menlo\", monospace;;\n",
              "    font-size: 13px;\n",
              "    color: #555;\n",
              "    margin-left: 4px;\n",
              "    line-height: 19px;\n",
              "  }\n",
              "</style>\n",
              "<div class=\"ansiout\">+-----+--------------------+\n",
              "label|            features|\n",
              "+-----+--------------------+\n",
              "  0.0|(692,[127,128,129...|\n",
              "  1.0|(692,[158,159,160...|\n",
              "  1.0|(692,[124,125,126...|\n",
              "  1.0|(692,[152,153,154...|\n",
              "  1.0|(692,[151,152,153...|\n",
              "  0.0|(692,[129,130,131...|\n",
              "  1.0|(692,[158,159,160...|\n",
              "  1.0|(692,[99,100,101,...|\n",
              "  0.0|(692,[154,155,156...|\n",
              "  0.0|(692,[127,128,129...|\n",
              "  1.0|(692,[154,155,156...|\n",
              "  0.0|(692,[153,154,155...|\n",
              "  0.0|(692,[151,152,153...|\n",
              "  1.0|(692,[129,130,131...|\n",
              "  0.0|(692,[154,155,156...|\n",
              "  1.0|(692,[150,151,152...|\n",
              "  0.0|(692,[124,125,126...|\n",
              "  0.0|(692,[152,153,154...|\n",
              "  1.0|(692,[97,98,99,12...|\n",
              "  1.0|(692,[124,125,126...|\n",
              "+-----+--------------------+\n",
              "only showing top 20 rows\n",
              "\n",
              "</div>"
            ]
          },
          "metadata": {
            "tags": [],
            "application/vnd.databricks.v1+output": {
              "addedWidgets": {},
              "arguments": {},
              "data": "<div class=\"ansiout\">+-----+--------------------+\n|label|            features|\n+-----+--------------------+\n|  0.0|(692,[127,128,129...|\n|  1.0|(692,[158,159,160...|\n|  1.0|(692,[124,125,126...|\n|  1.0|(692,[152,153,154...|\n|  1.0|(692,[151,152,153...|\n|  0.0|(692,[129,130,131...|\n|  1.0|(692,[158,159,160...|\n|  1.0|(692,[99,100,101,...|\n|  0.0|(692,[154,155,156...|\n|  0.0|(692,[127,128,129...|\n|  1.0|(692,[154,155,156...|\n|  0.0|(692,[153,154,155...|\n|  0.0|(692,[151,152,153...|\n|  1.0|(692,[129,130,131...|\n|  0.0|(692,[154,155,156...|\n|  1.0|(692,[150,151,152...|\n|  0.0|(692,[124,125,126...|\n|  0.0|(692,[152,153,154...|\n|  1.0|(692,[97,98,99,12...|\n|  1.0|(692,[124,125,126...|\n+-----+--------------------+\nonly showing top 20 rows\n\n</div>",
              "datasetInfos": [],
              "removedWidgets": [],
              "type": "html"
            }
          }
        }
      ]
    },
    {
      "cell_type": "code",
      "metadata": {
        "application/vnd.databricks.v1+cell": {
          "inputWidgets": {},
          "nuid": "4966ff12-4130-4707-ab4d-324f72315f2b",
          "showTitle": false,
          "title": ""
        },
        "id": "4iYUgz52cJIo",
        "outputId": "29f63000-1f7a-491a-ad1e-35765ad0103d"
      },
      "source": [
        "train_data, test_data = my_data.randomSplit([0.7,0.3])\n",
        "\n",
        "# To make the instance of the DecisionTreeClassifier and  \n",
        "dtc = DecisionTreeClassifier()\n",
        "rtc = RandomForestClassifier()\n",
        "gbt = GBTClassifier()"
      ],
      "execution_count": null,
      "outputs": [
        {
          "output_type": "display_data",
          "data": {
            "text/html": [
              "<style scoped>\n",
              "  .ansiout {\n",
              "    display: block;\n",
              "    unicode-bidi: embed;\n",
              "    white-space: pre-wrap;\n",
              "    word-wrap: break-word;\n",
              "    word-break: break-all;\n",
              "    font-family: \"Source Code Pro\", \"Menlo\", monospace;;\n",
              "    font-size: 13px;\n",
              "    color: #555;\n",
              "    margin-left: 4px;\n",
              "    line-height: 19px;\n",
              "  }\n",
              "</style>\n",
              "<div class=\"ansiout\"></div>"
            ]
          },
          "metadata": {
            "tags": [],
            "application/vnd.databricks.v1+output": {
              "addedWidgets": {},
              "arguments": {},
              "data": "<div class=\"ansiout\"></div>",
              "datasetInfos": [],
              "removedWidgets": [],
              "type": "html"
            }
          }
        }
      ]
    },
    {
      "cell_type": "code",
      "metadata": {
        "application/vnd.databricks.v1+cell": {
          "inputWidgets": {},
          "nuid": "b246d452-27eb-4930-9f3b-f4b04baec4d5",
          "showTitle": false,
          "title": ""
        },
        "id": "v38Jlzz9cJIo",
        "outputId": "a28d0c9e-a78d-450a-b25a-ef1e20c8da23"
      },
      "source": [
        "# training on the train_data\n",
        "dtc_model = dtc.fit(train_data)\n",
        "rtc_model = rtc.fit(train_data)\n",
        "gbt_model = gbt.fit(train_data)"
      ],
      "execution_count": null,
      "outputs": [
        {
          "output_type": "display_data",
          "data": {
            "text/html": [
              "<style scoped>\n",
              "  .ansiout {\n",
              "    display: block;\n",
              "    unicode-bidi: embed;\n",
              "    white-space: pre-wrap;\n",
              "    word-wrap: break-word;\n",
              "    word-break: break-all;\n",
              "    font-family: \"Source Code Pro\", \"Menlo\", monospace;;\n",
              "    font-size: 13px;\n",
              "    color: #555;\n",
              "    margin-left: 4px;\n",
              "    line-height: 19px;\n",
              "  }\n",
              "</style>\n",
              "<div class=\"ansiout\"></div>"
            ]
          },
          "metadata": {
            "tags": [],
            "application/vnd.databricks.v1+output": {
              "addedWidgets": {},
              "arguments": {},
              "data": "<div class=\"ansiout\"></div>",
              "datasetInfos": [],
              "removedWidgets": [],
              "type": "html"
            }
          }
        }
      ]
    },
    {
      "cell_type": "code",
      "metadata": {
        "application/vnd.databricks.v1+cell": {
          "inputWidgets": {},
          "nuid": "d2da78bc-60b9-4e1d-af8c-175f4320d7ff",
          "showTitle": false,
          "title": ""
        },
        "id": "JOaBsQV6cJIo",
        "outputId": "5c669c05-6885-4217-9143-b43050c32ec2"
      },
      "source": [
        "dtc_preds = dtc_model.transform(test_data) \n",
        "rtc_preds = rtc_model.transform(test_data) \n",
        "gbt_preds = gbt_model.transform(test_data) "
      ],
      "execution_count": null,
      "outputs": [
        {
          "output_type": "display_data",
          "data": {
            "text/html": [
              "<style scoped>\n",
              "  .ansiout {\n",
              "    display: block;\n",
              "    unicode-bidi: embed;\n",
              "    white-space: pre-wrap;\n",
              "    word-wrap: break-word;\n",
              "    word-break: break-all;\n",
              "    font-family: \"Source Code Pro\", \"Menlo\", monospace;;\n",
              "    font-size: 13px;\n",
              "    color: #555;\n",
              "    margin-left: 4px;\n",
              "    line-height: 19px;\n",
              "  }\n",
              "</style>\n",
              "<div class=\"ansiout\"></div>"
            ]
          },
          "metadata": {
            "tags": [],
            "application/vnd.databricks.v1+output": {
              "addedWidgets": {},
              "arguments": {},
              "data": "<div class=\"ansiout\"></div>",
              "datasetInfos": [],
              "removedWidgets": [],
              "type": "html"
            }
          }
        }
      ]
    },
    {
      "cell_type": "code",
      "metadata": {
        "application/vnd.databricks.v1+cell": {
          "inputWidgets": {},
          "nuid": "3ec958b5-085c-4f00-913d-9dfddc0e19a7",
          "showTitle": false,
          "title": ""
        },
        "id": "65u2EwxwcJIp",
        "outputId": "167e3cf5-9895-4436-bd84-4c5e4b7ab878"
      },
      "source": [
        "# with BinaryClassificationEvaluator i would be only able to do precision recall curve and area under ROC curve, but with MulticlassClassificationEvaluator, we can do stuff of BinaryClassificationEvaluator and also the matric like precession, recall and accuracy \n",
        "from pyspark.ml.evaluation import MulticlassClassificationEvaluator\n",
        "acc_eval = MulticlassClassificationEvaluator(metricName='accuracy')\n",
        "\n",
        "# accuracy for decision tree classifier\n",
        "acc_eval.evaluate(dtc_preds) # 1.0 => 100% (Artificial tree, thats why 100%)"
      ],
      "execution_count": null,
      "outputs": [
        {
          "output_type": "display_data",
          "data": {
            "text/html": [
              "<style scoped>\n",
              "  .ansiout {\n",
              "    display: block;\n",
              "    unicode-bidi: embed;\n",
              "    white-space: pre-wrap;\n",
              "    word-wrap: break-word;\n",
              "    word-break: break-all;\n",
              "    font-family: \"Source Code Pro\", \"Menlo\", monospace;;\n",
              "    font-size: 13px;\n",
              "    color: #555;\n",
              "    margin-left: 4px;\n",
              "    line-height: 19px;\n",
              "  }\n",
              "</style>\n",
              "<div class=\"ansiout\">Out[43]: 1.0</div>"
            ]
          },
          "metadata": {
            "tags": [],
            "application/vnd.databricks.v1+output": {
              "addedWidgets": {},
              "arguments": {},
              "data": "<div class=\"ansiout\">Out[43]: 1.0</div>",
              "datasetInfos": [],
              "removedWidgets": [],
              "type": "html"
            }
          }
        }
      ]
    },
    {
      "cell_type": "code",
      "metadata": {
        "application/vnd.databricks.v1+cell": {
          "inputWidgets": {},
          "nuid": "a3ad8392-5282-4c04-ab82-a3801639fca3",
          "showTitle": false,
          "title": ""
        },
        "id": "RRx9t9RTcJIp",
        "outputId": "ef2b17d0-8c2f-4a37-ba2d-b4b622ce256a"
      },
      "source": [
        "# Now suppose to check the importance of the feature - Higher the number, more is the importance \n",
        "rtc_model.featureImportances"
      ],
      "execution_count": null,
      "outputs": [
        {
          "output_type": "display_data",
          "data": {
            "text/html": [
              "<style scoped>\n",
              "  .ansiout {\n",
              "    display: block;\n",
              "    unicode-bidi: embed;\n",
              "    white-space: pre-wrap;\n",
              "    word-wrap: break-word;\n",
              "    word-break: break-all;\n",
              "    font-family: \"Source Code Pro\", \"Menlo\", monospace;;\n",
              "    font-size: 13px;\n",
              "    color: #555;\n",
              "    margin-left: 4px;\n",
              "    line-height: 19px;\n",
              "  }\n",
              "</style>\n",
              "<div class=\"ansiout\">Out[44]: SparseVector(692, {207: 0.0029, 208: 0.0016, 236: 0.0009, 239: 0.0031, 260: 0.0222, 261: 0.0103, 272: 0.0291, 298: 0.0026, 319: 0.003, 322: 0.0093, 351: 0.0052, 359: 0.0017, 378: 0.0843, 399: 0.0048, 400: 0.0027, 407: 0.0446, 434: 0.1467, 454: 0.0094, 456: 0.0357, 461: 0.0183, 462: 0.05, 466: 0.011, 467: 0.0278, 489: 0.178, 494: 0.0397, 497: 0.0094, 512: 0.0406, 517: 0.0643, 519: 0.0013, 520: 0.0018, 523: 0.039, 539: 0.039, 540: 0.0017, 548: 0.0101, 549: 0.0021, 551: 0.0363, 553: 0.0014, 572: 0.002, 602: 0.0047, 630: 0.0013})</div>"
            ]
          },
          "metadata": {
            "tags": [],
            "application/vnd.databricks.v1+output": {
              "addedWidgets": {},
              "arguments": {},
              "data": "<div class=\"ansiout\">Out[44]: SparseVector(692, {207: 0.0029, 208: 0.0016, 236: 0.0009, 239: 0.0031, 260: 0.0222, 261: 0.0103, 272: 0.0291, 298: 0.0026, 319: 0.003, 322: 0.0093, 351: 0.0052, 359: 0.0017, 378: 0.0843, 399: 0.0048, 400: 0.0027, 407: 0.0446, 434: 0.1467, 454: 0.0094, 456: 0.0357, 461: 0.0183, 462: 0.05, 466: 0.011, 467: 0.0278, 489: 0.178, 494: 0.0397, 497: 0.0094, 512: 0.0406, 517: 0.0643, 519: 0.0013, 520: 0.0018, 523: 0.039, 539: 0.039, 540: 0.0017, 548: 0.0101, 549: 0.0021, 551: 0.0363, 553: 0.0014, 572: 0.002, 602: 0.0047, 630: 0.0013})</div>",
              "datasetInfos": [],
              "removedWidgets": [],
              "type": "html"
            }
          }
        }
      ]
    },
    {
      "cell_type": "code",
      "metadata": {
        "application/vnd.databricks.v1+cell": {
          "inputWidgets": {},
          "nuid": "6dcf4582-d664-4d8f-bea3-c21af658b5a8",
          "showTitle": false,
          "title": ""
        },
        "id": "XSv7HuqKcJIp",
        "outputId": "18081c26-c7cc-435c-aa33-84b9d9b2e447"
      },
      "source": [
        "## SECTION 13 - DECISION TREE AND RANDOM FOREST ON COLLEGE DATASET \n",
        "\n",
        "spark = SparkSession.builder.appName('tree').getOrCreate()\n",
        "data = spark.read.format(\"csv\").load(\"dbfs:/FileStore/shared_uploads/nisargmehta2000@gmail.com/College.csv\", inferSchema = True, header = True)\n",
        "data.printSchema()"
      ],
      "execution_count": null,
      "outputs": [
        {
          "output_type": "display_data",
          "data": {
            "text/html": [
              "<style scoped>\n",
              "  .ansiout {\n",
              "    display: block;\n",
              "    unicode-bidi: embed;\n",
              "    white-space: pre-wrap;\n",
              "    word-wrap: break-word;\n",
              "    word-break: break-all;\n",
              "    font-family: \"Source Code Pro\", \"Menlo\", monospace;;\n",
              "    font-size: 13px;\n",
              "    color: #555;\n",
              "    margin-left: 4px;\n",
              "    line-height: 19px;\n",
              "  }\n",
              "</style>\n",
              "<div class=\"ansiout\">root\n",
              "-- School: string (nullable = true)\n",
              "-- Private: string (nullable = true)\n",
              "-- Apps: integer (nullable = true)\n",
              "-- Accept: integer (nullable = true)\n",
              "-- Enroll: integer (nullable = true)\n",
              "-- Top10perc: integer (nullable = true)\n",
              "-- Top25perc: integer (nullable = true)\n",
              "-- F_Undergrad: integer (nullable = true)\n",
              "-- P_Undergrad: integer (nullable = true)\n",
              "-- Outstate: integer (nullable = true)\n",
              "-- Room_Board: integer (nullable = true)\n",
              "-- Books: integer (nullable = true)\n",
              "-- Personal: integer (nullable = true)\n",
              "-- PhD: integer (nullable = true)\n",
              "-- Terminal: integer (nullable = true)\n",
              "-- S_F_Ratio: double (nullable = true)\n",
              "-- perc_alumni: integer (nullable = true)\n",
              "-- Expend: integer (nullable = true)\n",
              "-- Grad_Rate: integer (nullable = true)\n",
              "\n",
              "</div>"
            ]
          },
          "metadata": {
            "tags": [],
            "application/vnd.databricks.v1+output": {
              "addedWidgets": {},
              "arguments": {},
              "data": "<div class=\"ansiout\">root\n |-- School: string (nullable = true)\n |-- Private: string (nullable = true)\n |-- Apps: integer (nullable = true)\n |-- Accept: integer (nullable = true)\n |-- Enroll: integer (nullable = true)\n |-- Top10perc: integer (nullable = true)\n |-- Top25perc: integer (nullable = true)\n |-- F_Undergrad: integer (nullable = true)\n |-- P_Undergrad: integer (nullable = true)\n |-- Outstate: integer (nullable = true)\n |-- Room_Board: integer (nullable = true)\n |-- Books: integer (nullable = true)\n |-- Personal: integer (nullable = true)\n |-- PhD: integer (nullable = true)\n |-- Terminal: integer (nullable = true)\n |-- S_F_Ratio: double (nullable = true)\n |-- perc_alumni: integer (nullable = true)\n |-- Expend: integer (nullable = true)\n |-- Grad_Rate: integer (nullable = true)\n\n</div>",
              "datasetInfos": [],
              "removedWidgets": [],
              "type": "html"
            }
          }
        }
      ]
    },
    {
      "cell_type": "code",
      "metadata": {
        "application/vnd.databricks.v1+cell": {
          "inputWidgets": {},
          "nuid": "18cd32c7-c5e4-46a9-9413-2b6d5d692268",
          "showTitle": false,
          "title": ""
        },
        "id": "jBd6OkBFcJIq",
        "outputId": "b48b47a6-e271-41a5-fe3b-32d1639d5f64"
      },
      "source": [
        "# data.head(1)\n",
        "data.columns"
      ],
      "execution_count": null,
      "outputs": [
        {
          "output_type": "display_data",
          "data": {
            "text/html": [
              "<style scoped>\n",
              "  .ansiout {\n",
              "    display: block;\n",
              "    unicode-bidi: embed;\n",
              "    white-space: pre-wrap;\n",
              "    word-wrap: break-word;\n",
              "    word-break: break-all;\n",
              "    font-family: \"Source Code Pro\", \"Menlo\", monospace;;\n",
              "    font-size: 13px;\n",
              "    color: #555;\n",
              "    margin-left: 4px;\n",
              "    line-height: 19px;\n",
              "  }\n",
              "</style>\n",
              "<div class=\"ansiout\">Out[49]: [&#39;School&#39;,\n",
              " &#39;Private&#39;,\n",
              " &#39;Apps&#39;,\n",
              " &#39;Accept&#39;,\n",
              " &#39;Enroll&#39;,\n",
              " &#39;Top10perc&#39;,\n",
              " &#39;Top25perc&#39;,\n",
              " &#39;F_Undergrad&#39;,\n",
              " &#39;P_Undergrad&#39;,\n",
              " &#39;Outstate&#39;,\n",
              " &#39;Room_Board&#39;,\n",
              " &#39;Books&#39;,\n",
              " &#39;Personal&#39;,\n",
              " &#39;PhD&#39;,\n",
              " &#39;Terminal&#39;,\n",
              " &#39;S_F_Ratio&#39;,\n",
              " &#39;perc_alumni&#39;,\n",
              " &#39;Expend&#39;,\n",
              " &#39;Grad_Rate&#39;]</div>"
            ]
          },
          "metadata": {
            "tags": [],
            "application/vnd.databricks.v1+output": {
              "addedWidgets": {},
              "arguments": {},
              "data": "<div class=\"ansiout\">Out[49]: [&#39;School&#39;,\n &#39;Private&#39;,\n &#39;Apps&#39;,\n &#39;Accept&#39;,\n &#39;Enroll&#39;,\n &#39;Top10perc&#39;,\n &#39;Top25perc&#39;,\n &#39;F_Undergrad&#39;,\n &#39;P_Undergrad&#39;,\n &#39;Outstate&#39;,\n &#39;Room_Board&#39;,\n &#39;Books&#39;,\n &#39;Personal&#39;,\n &#39;PhD&#39;,\n &#39;Terminal&#39;,\n &#39;S_F_Ratio&#39;,\n &#39;perc_alumni&#39;,\n &#39;Expend&#39;,\n &#39;Grad_Rate&#39;]</div>",
              "datasetInfos": [],
              "removedWidgets": [],
              "type": "html"
            }
          }
        }
      ]
    },
    {
      "cell_type": "code",
      "metadata": {
        "application/vnd.databricks.v1+cell": {
          "inputWidgets": {},
          "nuid": "ab3007ac-c1c4-465e-9b02-19f00afccb4f",
          "showTitle": false,
          "title": ""
        },
        "id": "knUfm2ahcJIq",
        "outputId": "d2992fe1-aa62-4814-ee74-8f096e789ad4"
      },
      "source": [
        "# To format out the data using VectorAssembler\n",
        "from pyspark.ml.feature import VectorAssembler\n",
        "assembler = VectorAssembler(inputCols = ['Apps','Accept','Enroll','Top10perc','Top25perc','F_Undergrad','P_Undergrad','Outstate','Room_Board','Books','Personal','PhD','Terminal','S_F_Ratio','perc_alumni','Expend','Grad_Rate'],outputCol='features')\n",
        "\n",
        "output = assembler.transform(data)"
      ],
      "execution_count": null,
      "outputs": [
        {
          "output_type": "display_data",
          "data": {
            "text/html": [
              "<style scoped>\n",
              "  .ansiout {\n",
              "    display: block;\n",
              "    unicode-bidi: embed;\n",
              "    white-space: pre-wrap;\n",
              "    word-wrap: break-word;\n",
              "    word-break: break-all;\n",
              "    font-family: \"Source Code Pro\", \"Menlo\", monospace;;\n",
              "    font-size: 13px;\n",
              "    color: #555;\n",
              "    margin-left: 4px;\n",
              "    line-height: 19px;\n",
              "  }\n",
              "</style>\n",
              "<div class=\"ansiout\"></div>"
            ]
          },
          "metadata": {
            "tags": [],
            "application/vnd.databricks.v1+output": {
              "addedWidgets": {},
              "arguments": {},
              "data": "<div class=\"ansiout\"></div>",
              "datasetInfos": [],
              "removedWidgets": [],
              "type": "html"
            }
          }
        }
      ]
    },
    {
      "cell_type": "code",
      "metadata": {
        "application/vnd.databricks.v1+cell": {
          "inputWidgets": {},
          "nuid": "1df6d672-b069-4f1a-a50f-958477a51855",
          "showTitle": false,
          "title": ""
        },
        "id": "S8RAM7GWcJIr",
        "outputId": "172795b3-a9f2-4710-86c6-52f7adaf7dd4"
      },
      "source": [
        "# Now to convert the 'private' datatype (which consist of 'yes' or 'no') to 0s and 1s using stringIndexer\n",
        "from pyspark.ml.feature import StringIndexer\n",
        "indexer = StringIndexer(inputCol='Private',outputCol='PrivateIndex') # if wanted to use stringindexer for the single column then it is not necessary to use Pipeline, Directly use stringindexer\n",
        "output_fixed = indexer.fit(output).transform(output)"
      ],
      "execution_count": null,
      "outputs": [
        {
          "output_type": "display_data",
          "data": {
            "text/html": [
              "<style scoped>\n",
              "  .ansiout {\n",
              "    display: block;\n",
              "    unicode-bidi: embed;\n",
              "    white-space: pre-wrap;\n",
              "    word-wrap: break-word;\n",
              "    word-break: break-all;\n",
              "    font-family: \"Source Code Pro\", \"Menlo\", monospace;;\n",
              "    font-size: 13px;\n",
              "    color: #555;\n",
              "    margin-left: 4px;\n",
              "    line-height: 19px;\n",
              "  }\n",
              "</style>\n",
              "<div class=\"ansiout\"></div>"
            ]
          },
          "metadata": {
            "tags": [],
            "application/vnd.databricks.v1+output": {
              "addedWidgets": {},
              "arguments": {},
              "data": "<div class=\"ansiout\"></div>",
              "datasetInfos": [],
              "removedWidgets": [],
              "type": "html"
            }
          }
        }
      ]
    },
    {
      "cell_type": "code",
      "metadata": {
        "application/vnd.databricks.v1+cell": {
          "inputWidgets": {},
          "nuid": "b9bae246-43e0-4d03-babe-32c63bbd4645",
          "showTitle": false,
          "title": ""
        },
        "id": "I8Dsji-6cJIr",
        "outputId": "aebd10be-444b-4940-d790-8a5323aa18ec"
      },
      "source": [
        "output_fixed.printSchema() # features and Privateindex are added \n",
        "final_data = output_fixed.select('features','PrivateIndex')\n",
        "train_data, test_data = final_data.randomSplit([0.7,0.3])"
      ],
      "execution_count": null,
      "outputs": [
        {
          "output_type": "display_data",
          "data": {
            "text/html": [
              "<style scoped>\n",
              "  .ansiout {\n",
              "    display: block;\n",
              "    unicode-bidi: embed;\n",
              "    white-space: pre-wrap;\n",
              "    word-wrap: break-word;\n",
              "    word-break: break-all;\n",
              "    font-family: \"Source Code Pro\", \"Menlo\", monospace;;\n",
              "    font-size: 13px;\n",
              "    color: #555;\n",
              "    margin-left: 4px;\n",
              "    line-height: 19px;\n",
              "  }\n",
              "</style>\n",
              "<div class=\"ansiout\">root\n",
              "-- School: string (nullable = true)\n",
              "-- Private: string (nullable = true)\n",
              "-- Apps: integer (nullable = true)\n",
              "-- Accept: integer (nullable = true)\n",
              "-- Enroll: integer (nullable = true)\n",
              "-- Top10perc: integer (nullable = true)\n",
              "-- Top25perc: integer (nullable = true)\n",
              "-- F_Undergrad: integer (nullable = true)\n",
              "-- P_Undergrad: integer (nullable = true)\n",
              "-- Outstate: integer (nullable = true)\n",
              "-- Room_Board: integer (nullable = true)\n",
              "-- Books: integer (nullable = true)\n",
              "-- Personal: integer (nullable = true)\n",
              "-- PhD: integer (nullable = true)\n",
              "-- Terminal: integer (nullable = true)\n",
              "-- S_F_Ratio: double (nullable = true)\n",
              "-- perc_alumni: integer (nullable = true)\n",
              "-- Expend: integer (nullable = true)\n",
              "-- Grad_Rate: integer (nullable = true)\n",
              "-- features: vector (nullable = true)\n",
              "-- PrivateIndex: double (nullable = false)\n",
              "\n",
              "</div>"
            ]
          },
          "metadata": {
            "tags": [],
            "application/vnd.databricks.v1+output": {
              "addedWidgets": {},
              "arguments": {},
              "data": "<div class=\"ansiout\">root\n |-- School: string (nullable = true)\n |-- Private: string (nullable = true)\n |-- Apps: integer (nullable = true)\n |-- Accept: integer (nullable = true)\n |-- Enroll: integer (nullable = true)\n |-- Top10perc: integer (nullable = true)\n |-- Top25perc: integer (nullable = true)\n |-- F_Undergrad: integer (nullable = true)\n |-- P_Undergrad: integer (nullable = true)\n |-- Outstate: integer (nullable = true)\n |-- Room_Board: integer (nullable = true)\n |-- Books: integer (nullable = true)\n |-- Personal: integer (nullable = true)\n |-- PhD: integer (nullable = true)\n |-- Terminal: integer (nullable = true)\n |-- S_F_Ratio: double (nullable = true)\n |-- perc_alumni: integer (nullable = true)\n |-- Expend: integer (nullable = true)\n |-- Grad_Rate: integer (nullable = true)\n |-- features: vector (nullable = true)\n |-- PrivateIndex: double (nullable = false)\n\n</div>",
              "datasetInfos": [],
              "removedWidgets": [],
              "type": "html"
            }
          }
        }
      ]
    },
    {
      "cell_type": "code",
      "metadata": {
        "application/vnd.databricks.v1+cell": {
          "inputWidgets": {},
          "nuid": "92fc5de1-f791-48cc-85c6-83a124debdcf",
          "showTitle": false,
          "title": ""
        },
        "id": "-weOfeC_cJIr",
        "outputId": "93d818b2-5331-4fd2-a057-055841df0bb1"
      },
      "source": [
        "from pyspark.ml.classification import DecisionTreeClassifier, GBTClassifier, RandomForestClassifier\n",
        "from pyspark.ml import Pipeline"
      ],
      "execution_count": null,
      "outputs": [
        {
          "output_type": "display_data",
          "data": {
            "text/html": [
              "<style scoped>\n",
              "  .ansiout {\n",
              "    display: block;\n",
              "    unicode-bidi: embed;\n",
              "    white-space: pre-wrap;\n",
              "    word-wrap: break-word;\n",
              "    word-break: break-all;\n",
              "    font-family: \"Source Code Pro\", \"Menlo\", monospace;;\n",
              "    font-size: 13px;\n",
              "    color: #555;\n",
              "    margin-left: 4px;\n",
              "    line-height: 19px;\n",
              "  }\n",
              "</style>\n",
              "<div class=\"ansiout\"></div>"
            ]
          },
          "metadata": {
            "tags": [],
            "application/vnd.databricks.v1+output": {
              "addedWidgets": {},
              "arguments": {},
              "data": "<div class=\"ansiout\"></div>",
              "datasetInfos": [],
              "removedWidgets": [],
              "type": "html"
            }
          }
        }
      ]
    },
    {
      "cell_type": "code",
      "metadata": {
        "application/vnd.databricks.v1+cell": {
          "inputWidgets": {},
          "nuid": "b93d166c-5540-4b10-8083-ce7c728c8f31",
          "showTitle": false,
          "title": ""
        },
        "id": "fn-7zAqJcJIs",
        "outputId": "5d694b08-f29d-4585-b946-cf48b9052dc3"
      },
      "source": [
        "# Now would be using 3 models - DecisionTreeClassifier, RandomForestClassifier, GBTClassifier\n",
        "dtc = DecisionTreeClassifier(labelCol='PrivateIndex',featuresCol='features')\n",
        "\n",
        "# rfc = RandomForestClassifier(labelCol='PrivateIndex',featuresCol='features')\n",
        "# if we change the default number of trees from 20 to 150 then AUC will increase\n",
        "rfc = RandomForestClassifier(numTrees=150,labelCol='PrivateIndex',featuresCol='features')\n",
        "\n",
        "gbt = GBTClassifier(labelCol='PrivateIndex',featuresCol='features')"
      ],
      "execution_count": null,
      "outputs": [
        {
          "output_type": "display_data",
          "data": {
            "text/html": [
              "<style scoped>\n",
              "  .ansiout {\n",
              "    display: block;\n",
              "    unicode-bidi: embed;\n",
              "    white-space: pre-wrap;\n",
              "    word-wrap: break-word;\n",
              "    word-break: break-all;\n",
              "    font-family: \"Source Code Pro\", \"Menlo\", monospace;;\n",
              "    font-size: 13px;\n",
              "    color: #555;\n",
              "    margin-left: 4px;\n",
              "    line-height: 19px;\n",
              "  }\n",
              "</style>\n",
              "<div class=\"ansiout\"></div>"
            ]
          },
          "metadata": {
            "tags": [],
            "application/vnd.databricks.v1+output": {
              "addedWidgets": {},
              "arguments": {},
              "data": "<div class=\"ansiout\"></div>",
              "datasetInfos": [],
              "removedWidgets": [],
              "type": "html"
            }
          }
        }
      ]
    },
    {
      "cell_type": "code",
      "metadata": {
        "application/vnd.databricks.v1+cell": {
          "inputWidgets": {},
          "nuid": "bbc96c00-840a-4bae-b4ba-af63a6771f5c",
          "showTitle": false,
          "title": ""
        },
        "id": "nDOgNp2-cJIs",
        "outputId": "60c9e881-1ae6-43d2-974f-6c44493a38c7"
      },
      "source": [
        "# training - \n",
        "dtc_model = dtc.fit(train_data)\n",
        "rfc_model = rfc.fit(train_data)\n",
        "gbt_model = gbt.fit(train_data)"
      ],
      "execution_count": null,
      "outputs": [
        {
          "output_type": "display_data",
          "data": {
            "text/html": [
              "<style scoped>\n",
              "  .ansiout {\n",
              "    display: block;\n",
              "    unicode-bidi: embed;\n",
              "    white-space: pre-wrap;\n",
              "    word-wrap: break-word;\n",
              "    word-break: break-all;\n",
              "    font-family: \"Source Code Pro\", \"Menlo\", monospace;;\n",
              "    font-size: 13px;\n",
              "    color: #555;\n",
              "    margin-left: 4px;\n",
              "    line-height: 19px;\n",
              "  }\n",
              "</style>\n",
              "<div class=\"ansiout\"></div>"
            ]
          },
          "metadata": {
            "tags": [],
            "application/vnd.databricks.v1+output": {
              "addedWidgets": {},
              "arguments": {},
              "data": "<div class=\"ansiout\"></div>",
              "datasetInfos": [],
              "removedWidgets": [],
              "type": "html"
            }
          }
        }
      ]
    },
    {
      "cell_type": "code",
      "metadata": {
        "application/vnd.databricks.v1+cell": {
          "inputWidgets": {},
          "nuid": "89483301-b58e-467d-8c69-5dc5d017350b",
          "showTitle": false,
          "title": ""
        },
        "id": "1sAi1nLpcJIs",
        "outputId": "6579c855-85b1-47d7-860e-0c8e0e09be3d"
      },
      "source": [
        "# To check on the test data\n",
        "dtc_preds = dtc_model.transform(test_data)\n",
        "rfc_preds = rfc_model.transform(test_data)\n",
        "gbt_preds = gbt_model.transform(test_data)"
      ],
      "execution_count": null,
      "outputs": [
        {
          "output_type": "display_data",
          "data": {
            "text/html": [
              "<style scoped>\n",
              "  .ansiout {\n",
              "    display: block;\n",
              "    unicode-bidi: embed;\n",
              "    white-space: pre-wrap;\n",
              "    word-wrap: break-word;\n",
              "    word-break: break-all;\n",
              "    font-family: \"Source Code Pro\", \"Menlo\", monospace;;\n",
              "    font-size: 13px;\n",
              "    color: #555;\n",
              "    margin-left: 4px;\n",
              "    line-height: 19px;\n",
              "  }\n",
              "</style>\n",
              "<div class=\"ansiout\"></div>"
            ]
          },
          "metadata": {
            "tags": [],
            "application/vnd.databricks.v1+output": {
              "addedWidgets": {},
              "arguments": {},
              "data": "<div class=\"ansiout\"></div>",
              "datasetInfos": [],
              "removedWidgets": [],
              "type": "html"
            }
          }
        }
      ]
    },
    {
      "cell_type": "code",
      "metadata": {
        "application/vnd.databricks.v1+cell": {
          "inputWidgets": {},
          "nuid": "5d726a23-7411-4642-b759-91f2441d9087",
          "showTitle": false,
          "title": ""
        },
        "id": "iHl-QotgcJIt",
        "outputId": "c662b6aa-eef9-48b4-c88f-42fbd04eec88"
      },
      "source": [
        "from pyspark.ml.evaluation import BinaryClassificationEvaluator\n",
        "\n",
        "# my_binary_eval is the object which is set to the instance of BinaryClassificationEvaluator. As labelCol is not called as label, but privateIndex and hence written \n",
        "my_binary_eval = BinaryClassificationEvaluator(labelCol='PrivateIndex')\n",
        "\n",
        "print('DTC')\n",
        "print(my_binary_eval.evaluate(dtc_preds)) # So this will give the area under curve \n",
        "\n",
        "print('RFC')\n",
        "print(my_binary_eval.evaluate(rfc_preds)) # So this will give the area under curve - RFC will always perform better than DTC\n",
        "# initially at 20 trees - 0.9717948717948718, then at 150 trees - 0.9783216783216784"
      ],
      "execution_count": null,
      "outputs": [
        {
          "output_type": "display_data",
          "data": {
            "text/html": [
              "<style scoped>\n",
              "  .ansiout {\n",
              "    display: block;\n",
              "    unicode-bidi: embed;\n",
              "    white-space: pre-wrap;\n",
              "    word-wrap: break-word;\n",
              "    word-break: break-all;\n",
              "    font-family: \"Source Code Pro\", \"Menlo\", monospace;;\n",
              "    font-size: 13px;\n",
              "    color: #555;\n",
              "    margin-left: 4px;\n",
              "    line-height: 19px;\n",
              "  }\n",
              "</style>\n",
              "<div class=\"ansiout\">DTC\n",
              "0.9388111888111889\n",
              "RFC\n",
              "0.9783216783216784\n",
              "</div>"
            ]
          },
          "metadata": {
            "tags": [],
            "application/vnd.databricks.v1+output": {
              "addedWidgets": {},
              "arguments": {},
              "data": "<div class=\"ansiout\">DTC\n0.9388111888111889\nRFC\n0.9783216783216784\n</div>",
              "datasetInfos": [],
              "removedWidgets": [],
              "type": "html"
            }
          }
        }
      ]
    },
    {
      "cell_type": "code",
      "metadata": {
        "application/vnd.databricks.v1+cell": {
          "inputWidgets": {},
          "nuid": "119c233d-7e94-4f1b-97c6-82f1e7787373",
          "showTitle": false,
          "title": ""
        },
        "id": "am0XRZiPcJIt",
        "outputId": "f3d1f533-674a-4e43-eefe-9dd71db677a6"
      },
      "source": [
        "gbt_preds.printSchema()\n",
        "print('GBT')\n",
        "print(my_binary_eval.evaluate(gbt_preds))"
      ],
      "execution_count": null,
      "outputs": [
        {
          "output_type": "display_data",
          "data": {
            "text/html": [
              "<style scoped>\n",
              "  .ansiout {\n",
              "    display: block;\n",
              "    unicode-bidi: embed;\n",
              "    white-space: pre-wrap;\n",
              "    word-wrap: break-word;\n",
              "    word-break: break-all;\n",
              "    font-family: \"Source Code Pro\", \"Menlo\", monospace;;\n",
              "    font-size: 13px;\n",
              "    color: #555;\n",
              "    margin-left: 4px;\n",
              "    line-height: 19px;\n",
              "  }\n",
              "</style>\n",
              "<div class=\"ansiout\">root\n",
              "-- features: vector (nullable = true)\n",
              "-- PrivateIndex: double (nullable = false)\n",
              "-- rawPrediction: vector (nullable = true)\n",
              "-- probability: vector (nullable = true)\n",
              "-- prediction: double (nullable = false)\n",
              "\n",
              "GBT\n",
              "0.9547785547785552\n",
              "</div>"
            ]
          },
          "metadata": {
            "tags": [],
            "application/vnd.databricks.v1+output": {
              "addedWidgets": {},
              "arguments": {},
              "data": "<div class=\"ansiout\">root\n |-- features: vector (nullable = true)\n |-- PrivateIndex: double (nullable = false)\n |-- rawPrediction: vector (nullable = true)\n |-- probability: vector (nullable = true)\n |-- prediction: double (nullable = false)\n\nGBT\n0.9547785547785552\n</div>",
              "datasetInfos": [],
              "removedWidgets": [],
              "type": "html"
            }
          }
        }
      ]
    },
    {
      "cell_type": "code",
      "metadata": {
        "application/vnd.databricks.v1+cell": {
          "inputWidgets": {},
          "nuid": "6986b440-58b7-4253-8b8b-af17b338fa89",
          "showTitle": false,
          "title": ""
        },
        "id": "kq7dJ8ZFcJIt",
        "outputId": "7ef4afd0-8cf7-4781-ac52-c72b5b81f3bf"
      },
      "source": [
        "from pyspark.ml.evaluation import MulticlassClassificationEvaluator\n",
        "acc_eval = MulticlassClassificationEvaluator(labelCol='PrivateIndex',metricName='accuracy')\n",
        "rfc_acc = acc_eval.evaluate(rfc_preds)\n",
        "rfc_acc"
      ],
      "execution_count": null,
      "outputs": [
        {
          "output_type": "display_data",
          "data": {
            "text/html": [
              "<style scoped>\n",
              "  .ansiout {\n",
              "    display: block;\n",
              "    unicode-bidi: embed;\n",
              "    white-space: pre-wrap;\n",
              "    word-wrap: break-word;\n",
              "    word-break: break-all;\n",
              "    font-family: \"Source Code Pro\", \"Menlo\", monospace;;\n",
              "    font-size: 13px;\n",
              "    color: #555;\n",
              "    margin-left: 4px;\n",
              "    line-height: 19px;\n",
              "  }\n",
              "</style>\n",
              "<div class=\"ansiout\">Out[78]: 0.9354838709677419</div>"
            ]
          },
          "metadata": {
            "tags": [],
            "application/vnd.databricks.v1+output": {
              "addedWidgets": {},
              "arguments": {},
              "data": "<div class=\"ansiout\">Out[78]: 0.9354838709677419</div>",
              "datasetInfos": [],
              "removedWidgets": [],
              "type": "html"
            }
          }
        }
      ]
    },
    {
      "cell_type": "code",
      "metadata": {
        "application/vnd.databricks.v1+cell": {
          "inputWidgets": {},
          "nuid": "70b24dda-1197-4f80-8138-e8ca8561ec44",
          "showTitle": false,
          "title": ""
        },
        "id": "7GnDb4RzcJIu",
        "outputId": "32b9b70d-6b11-4b89-d33e-1c74f2e1ea13"
      },
      "source": [
        "# SECTION 13 - DECISION TREE AND RANDOM FOREST CONSULTING PROJECT \n",
        "\n",
        "# Content and important notes - \n",
        "# Our main task was to figure out which preservative chemical (A,B,C,D) was having an effect on the dog food being spoiled.\n",
        "# Many machine learning models produce some sort of coefficient value for each feature involved, indicating their “importance” or predictive power.\n",
        "# We mentioned that these tree method classifiers had a .featureImportances attribute available! So we can create a model, fit it on all the data, and then check which feature (preservative) was causing the spoilage! \n",
        "# .featureImportances returns: a sparse vector where first number is the total number of features and second parameter is the dictionary where we have index number of feature and the value of the key corrosponds to importance of the feature. Eg: SparseVector(4, {0: 0.0026, 1: 0.0089, 2: 0.9686, 3: 0.0199}) - So here important feature is at index 2 giving importance of 96%\n",
        "# Corresponding to a features column: we have the row in which features we have imported as the dense vector having the presevatives value and finally we have labelled column 'spoiled' i.e Row(features=DenseVector([4.0, 2.0, 12.0, 3.0]), Spoiled=1.0)"
      ],
      "execution_count": null,
      "outputs": [
        {
          "output_type": "display_data",
          "data": {
            "text/html": [
              "<style scoped>\n",
              "  .ansiout {\n",
              "    display: block;\n",
              "    unicode-bidi: embed;\n",
              "    white-space: pre-wrap;\n",
              "    word-wrap: break-word;\n",
              "    word-break: break-all;\n",
              "    font-family: \"Source Code Pro\", \"Menlo\", monospace;;\n",
              "    font-size: 13px;\n",
              "    color: #555;\n",
              "    margin-left: 4px;\n",
              "    line-height: 19px;\n",
              "  }\n",
              "</style>\n",
              "<div class=\"ansiout\"></div>"
            ]
          },
          "metadata": {
            "tags": [],
            "application/vnd.databricks.v1+output": {
              "addedWidgets": {},
              "arguments": {},
              "data": "<div class=\"ansiout\"></div>",
              "datasetInfos": [],
              "removedWidgets": [],
              "type": "html"
            }
          }
        }
      ]
    },
    {
      "cell_type": "code",
      "metadata": {
        "application/vnd.databricks.v1+cell": {
          "inputWidgets": {},
          "nuid": "1419fb1f-361e-4158-b245-594893585984",
          "showTitle": false,
          "title": ""
        },
        "id": "lLhO71L7cJIu",
        "outputId": "88e897b3-0f9a-4230-fb52-56b5a4bc7214"
      },
      "source": [
        "spark = SparkSession.builder.appName('tree').getOrCreate()\n",
        "data = spark.read.format(\"csv\").load(\"dbfs:/FileStore/shared_uploads/nisargmehta2000@gmail.com/dog_food.csv\",inferSchema = True, header = True)\n",
        "data.printSchema()\n",
        "data.columns"
      ],
      "execution_count": null,
      "outputs": [
        {
          "output_type": "display_data",
          "data": {
            "text/html": [
              "<style scoped>\n",
              "  .ansiout {\n",
              "    display: block;\n",
              "    unicode-bidi: embed;\n",
              "    white-space: pre-wrap;\n",
              "    word-wrap: break-word;\n",
              "    word-break: break-all;\n",
              "    font-family: \"Source Code Pro\", \"Menlo\", monospace;;\n",
              "    font-size: 13px;\n",
              "    color: #555;\n",
              "    margin-left: 4px;\n",
              "    line-height: 19px;\n",
              "  }\n",
              "</style>\n",
              "<div class=\"ansiout\">root\n",
              "-- A: integer (nullable = true)\n",
              "-- B: integer (nullable = true)\n",
              "-- C: double (nullable = true)\n",
              "-- D: integer (nullable = true)\n",
              "-- Spoiled: double (nullable = true)\n",
              "\n",
              "Out[82]: [&#39;A&#39;, &#39;B&#39;, &#39;C&#39;, &#39;D&#39;, &#39;Spoiled&#39;]</div>"
            ]
          },
          "metadata": {
            "tags": [],
            "application/vnd.databricks.v1+output": {
              "addedWidgets": {},
              "arguments": {},
              "data": "<div class=\"ansiout\">root\n |-- A: integer (nullable = true)\n |-- B: integer (nullable = true)\n |-- C: double (nullable = true)\n |-- D: integer (nullable = true)\n |-- Spoiled: double (nullable = true)\n\nOut[82]: [&#39;A&#39;, &#39;B&#39;, &#39;C&#39;, &#39;D&#39;, &#39;Spoiled&#39;]</div>",
              "datasetInfos": [],
              "removedWidgets": [],
              "type": "html"
            }
          }
        }
      ]
    },
    {
      "cell_type": "code",
      "metadata": {
        "application/vnd.databricks.v1+cell": {
          "inputWidgets": {},
          "nuid": "04923fcd-1bf4-4d63-a37c-f557a6c3e382",
          "showTitle": false,
          "title": ""
        },
        "id": "56QpraktcJIu",
        "outputId": "bd4afa91-7e0a-40a2-cbe3-9e667cc85545"
      },
      "source": [
        "# we are going to perform random forest clasifier model on the data itself and for that feature must be in right format, therefore will use vector assenbler\n",
        "from pyspark.ml.feature import VectorAssembler\n",
        "assembler = VectorAssembler(inputCols=['A', 'B', 'C', 'D'],outputCol='features')\n",
        "output = assembler.transform(data)"
      ],
      "execution_count": null,
      "outputs": [
        {
          "output_type": "display_data",
          "data": {
            "text/html": [
              "<style scoped>\n",
              "  .ansiout {\n",
              "    display: block;\n",
              "    unicode-bidi: embed;\n",
              "    white-space: pre-wrap;\n",
              "    word-wrap: break-word;\n",
              "    word-break: break-all;\n",
              "    font-family: \"Source Code Pro\", \"Menlo\", monospace;;\n",
              "    font-size: 13px;\n",
              "    color: #555;\n",
              "    margin-left: 4px;\n",
              "    line-height: 19px;\n",
              "  }\n",
              "</style>\n",
              "<div class=\"ansiout\"></div>"
            ]
          },
          "metadata": {
            "tags": [],
            "application/vnd.databricks.v1+output": {
              "addedWidgets": {},
              "arguments": {},
              "data": "<div class=\"ansiout\"></div>",
              "datasetInfos": [],
              "removedWidgets": [],
              "type": "html"
            }
          }
        }
      ]
    },
    {
      "cell_type": "code",
      "metadata": {
        "application/vnd.databricks.v1+cell": {
          "inputWidgets": {},
          "nuid": "6459181c-612a-40fd-938c-79e89f5fde51",
          "showTitle": false,
          "title": ""
        },
        "id": "pdOAWWIYcJIv",
        "outputId": "beb5cf54-802b-4dcc-c6ce-dfbc3208d52f"
      },
      "source": [
        "# we are going to perform random forest clasifier model\n",
        "from pyspark.ml.classification import RandomForestClassifier\n",
        "rfc = RandomForestClassifier(labelCol='spoiled',featuresCol='features')\n",
        "final_data = output.select('features','spoiled')"
      ],
      "execution_count": null,
      "outputs": [
        {
          "output_type": "display_data",
          "data": {
            "text/html": [
              "<style scoped>\n",
              "  .ansiout {\n",
              "    display: block;\n",
              "    unicode-bidi: embed;\n",
              "    white-space: pre-wrap;\n",
              "    word-wrap: break-word;\n",
              "    word-break: break-all;\n",
              "    font-family: \"Source Code Pro\", \"Menlo\", monospace;;\n",
              "    font-size: 13px;\n",
              "    color: #555;\n",
              "    margin-left: 4px;\n",
              "    line-height: 19px;\n",
              "  }\n",
              "</style>\n",
              "<div class=\"ansiout\"></div>"
            ]
          },
          "metadata": {
            "tags": [],
            "application/vnd.databricks.v1+output": {
              "addedWidgets": {},
              "arguments": {},
              "data": "<div class=\"ansiout\"></div>",
              "datasetInfos": [],
              "removedWidgets": [],
              "type": "html"
            }
          }
        }
      ]
    },
    {
      "cell_type": "code",
      "metadata": {
        "application/vnd.databricks.v1+cell": {
          "inputWidgets": {},
          "nuid": "68f08fcf-4d89-4171-8f59-8093605a64ee",
          "showTitle": false,
          "title": ""
        },
        "id": "yGmACDoZcJIv",
        "outputId": "73b7a7c6-7b7f-46a8-971c-87be843c29aa"
      },
      "source": [
        "# Train the classifier\n",
        "rfc_model = rfc.fit(final_data)\n",
        "rfc_model.featureImportances # so from this we can come to know that chemical 'C' at index 2 that is causing the spoilage "
      ],
      "execution_count": null,
      "outputs": [
        {
          "output_type": "display_data",
          "data": {
            "text/html": [
              "<style scoped>\n",
              "  .ansiout {\n",
              "    display: block;\n",
              "    unicode-bidi: embed;\n",
              "    white-space: pre-wrap;\n",
              "    word-wrap: break-word;\n",
              "    word-break: break-all;\n",
              "    font-family: \"Source Code Pro\", \"Menlo\", monospace;;\n",
              "    font-size: 13px;\n",
              "    color: #555;\n",
              "    margin-left: 4px;\n",
              "    line-height: 19px;\n",
              "  }\n",
              "</style>\n",
              "<div class=\"ansiout\">Out[88]: SparseVector(4, {0: 0.0189, 1: 0.0141, 2: 0.9384, 3: 0.0287})</div>"
            ]
          },
          "metadata": {
            "tags": [],
            "application/vnd.databricks.v1+output": {
              "addedWidgets": {},
              "arguments": {},
              "data": "<div class=\"ansiout\">Out[88]: SparseVector(4, {0: 0.0189, 1: 0.0141, 2: 0.9384, 3: 0.0287})</div>",
              "datasetInfos": [],
              "removedWidgets": [],
              "type": "html"
            }
          }
        }
      ]
    },
    {
      "cell_type": "code",
      "metadata": {
        "application/vnd.databricks.v1+cell": {
          "inputWidgets": {},
          "nuid": "dad0665a-c51f-4e1d-969d-877a1b66c82a",
          "showTitle": false,
          "title": ""
        },
        "id": "csVwge_VcJIv",
        "outputId": "2d0575ad-e699-4e27-9c4f-7442608f0344"
      },
      "source": [
        "## SECTION 14 - K MEANS AND CLUSTERING\n",
        "\n",
        "spark = SparkSession.builder.appName('cluster').getOrCreate()\n",
        "from pyspark.ml.clustering import KMeans\n",
        "data = spark.read.format('libsvm').load('dbfs:/FileStore/shared_uploads/nisargmehta2000@gmail.com/sample_kmeans_data.txt')  \n",
        "data.show() # this example set K = 2"
      ],
      "execution_count": null,
      "outputs": [
        {
          "output_type": "display_data",
          "data": {
            "text/html": [
              "<style scoped>\n",
              "  .ansiout {\n",
              "    display: block;\n",
              "    unicode-bidi: embed;\n",
              "    white-space: pre-wrap;\n",
              "    word-wrap: break-word;\n",
              "    word-break: break-all;\n",
              "    font-family: \"Source Code Pro\", \"Menlo\", monospace;;\n",
              "    font-size: 13px;\n",
              "    color: #555;\n",
              "    margin-left: 4px;\n",
              "    line-height: 19px;\n",
              "  }\n",
              "</style>\n",
              "<div class=\"ansiout\">+-----+--------------------+\n",
              "label|            features|\n",
              "+-----+--------------------+\n",
              "  0.0|           (3,[],[])|\n",
              "  1.0|(3,[0,1,2],[0.1,0...|\n",
              "  2.0|(3,[0,1,2],[0.2,0...|\n",
              "  3.0|(3,[0,1,2],[9.0,9...|\n",
              "  4.0|(3,[0,1,2],[9.1,9...|\n",
              "  5.0|(3,[0,1,2],[9.2,9...|\n",
              "+-----+--------------------+\n",
              "\n",
              "</div>"
            ]
          },
          "metadata": {
            "tags": [],
            "application/vnd.databricks.v1+output": {
              "addedWidgets": {},
              "arguments": {},
              "data": "<div class=\"ansiout\">+-----+--------------------+\n|label|            features|\n+-----+--------------------+\n|  0.0|           (3,[],[])|\n|  1.0|(3,[0,1,2],[0.1,0...|\n|  2.0|(3,[0,1,2],[0.2,0...|\n|  3.0|(3,[0,1,2],[9.0,9...|\n|  4.0|(3,[0,1,2],[9.1,9...|\n|  5.0|(3,[0,1,2],[9.2,9...|\n+-----+--------------------+\n\n</div>",
              "datasetInfos": [],
              "removedWidgets": [],
              "type": "html"
            }
          }
        }
      ]
    },
    {
      "cell_type": "code",
      "metadata": {
        "application/vnd.databricks.v1+cell": {
          "inputWidgets": {},
          "nuid": "98e3af91-3381-46d0-af84-c5f57cdee984",
          "showTitle": false,
          "title": ""
        },
        "id": "uBVNZVZzcJIw",
        "outputId": "7ba10a56-df6b-447f-bc20-b097ea84d484"
      },
      "source": [
        "# In unsupervised learning we only need features and not the label column \n",
        "final_data = data.select('features')\n",
        "final_data.show()"
      ],
      "execution_count": null,
      "outputs": [
        {
          "output_type": "display_data",
          "data": {
            "text/html": [
              "<style scoped>\n",
              "  .ansiout {\n",
              "    display: block;\n",
              "    unicode-bidi: embed;\n",
              "    white-space: pre-wrap;\n",
              "    word-wrap: break-word;\n",
              "    word-break: break-all;\n",
              "    font-family: \"Source Code Pro\", \"Menlo\", monospace;;\n",
              "    font-size: 13px;\n",
              "    color: #555;\n",
              "    margin-left: 4px;\n",
              "    line-height: 19px;\n",
              "  }\n",
              "</style>\n",
              "<div class=\"ansiout\">+--------------------+\n",
              "            features|\n",
              "+--------------------+\n",
              "           (3,[],[])|\n",
              "(3,[0,1,2],[0.1,0...|\n",
              "(3,[0,1,2],[0.2,0...|\n",
              "(3,[0,1,2],[9.0,9...|\n",
              "(3,[0,1,2],[9.1,9...|\n",
              "(3,[0,1,2],[9.2,9...|\n",
              "+--------------------+\n",
              "\n",
              "</div>"
            ]
          },
          "metadata": {
            "tags": [],
            "application/vnd.databricks.v1+output": {
              "addedWidgets": {},
              "arguments": {},
              "data": "<div class=\"ansiout\">+--------------------+\n|            features|\n+--------------------+\n|           (3,[],[])|\n|(3,[0,1,2],[0.1,0...|\n|(3,[0,1,2],[0.2,0...|\n|(3,[0,1,2],[9.0,9...|\n|(3,[0,1,2],[9.1,9...|\n|(3,[0,1,2],[9.2,9...|\n+--------------------+\n\n</div>",
              "datasetInfos": [],
              "removedWidgets": [],
              "type": "html"
            }
          }
        }
      ]
    },
    {
      "cell_type": "code",
      "metadata": {
        "application/vnd.databricks.v1+cell": {
          "inputWidgets": {},
          "nuid": "507e4269-bcef-4edd-831a-e3f7e05fa99f",
          "showTitle": false,
          "title": ""
        },
        "id": "vMcPvsW0cJIw",
        "outputId": "f50aa1b5-c75d-4ce1-9097-39f30a3f7776"
      },
      "source": [
        "# Now to set the value of K (will follow the K given in the documentation example) and the seed value - It is seed value for random number generator. Seed function is used to save the state of a random function, so that it can generate same random numbers on multiple executions of the code on the same machine. In this case the setSeed is used fro the assignment of centriods\n",
        "# kmeans = KMeans().setK(2).setSeed(1)\n",
        "kmeans = KMeans().setK(3).setSeed(1) # Set K = 3\n",
        "\n",
        "# Now to fit the model \n",
        "model = kmeans.fit(final_data)"
      ],
      "execution_count": null,
      "outputs": [
        {
          "output_type": "display_data",
          "data": {
            "text/html": [
              "<style scoped>\n",
              "  .ansiout {\n",
              "    display: block;\n",
              "    unicode-bidi: embed;\n",
              "    white-space: pre-wrap;\n",
              "    word-wrap: break-word;\n",
              "    word-break: break-all;\n",
              "    font-family: \"Source Code Pro\", \"Menlo\", monospace;;\n",
              "    font-size: 13px;\n",
              "    color: #555;\n",
              "    margin-left: 4px;\n",
              "    line-height: 19px;\n",
              "  }\n",
              "</style>\n",
              "<div class=\"ansiout\"></div>"
            ]
          },
          "metadata": {
            "tags": [],
            "application/vnd.databricks.v1+output": {
              "addedWidgets": {},
              "arguments": {},
              "data": "<div class=\"ansiout\"></div>",
              "datasetInfos": [],
              "removedWidgets": [],
              "type": "html"
            }
          }
        }
      ]
    },
    {
      "cell_type": "code",
      "metadata": {
        "application/vnd.databricks.v1+cell": {
          "inputWidgets": {},
          "nuid": "ca35721d-5b0d-4d01-9351-c391ebbfa7d4",
          "showTitle": false,
          "title": ""
        },
        "id": "CmeXag31cJIw",
        "outputId": "6ca5d44f-7be3-47ed-ed58-6be992ac5ba3"
      },
      "source": [
        "# To check for within set sum of square errors (WSSSE). We compute the cost of entire dataset using trainingCost. As K value increases WSSSE decreases \n",
        "wssse = model.summary.trainingCost\n",
        "wssse \n",
        "final_data.show() # so we have 3 dimension of features - all 3 items/dimensios in tuple "
      ],
      "execution_count": null,
      "outputs": [
        {
          "output_type": "display_data",
          "data": {
            "text/html": [
              "<style scoped>\n",
              "  .ansiout {\n",
              "    display: block;\n",
              "    unicode-bidi: embed;\n",
              "    white-space: pre-wrap;\n",
              "    word-wrap: break-word;\n",
              "    word-break: break-all;\n",
              "    font-family: \"Source Code Pro\", \"Menlo\", monospace;;\n",
              "    font-size: 13px;\n",
              "    color: #555;\n",
              "    margin-left: 4px;\n",
              "    line-height: 19px;\n",
              "  }\n",
              "</style>\n",
              "<div class=\"ansiout\">+--------------------+\n",
              "            features|\n",
              "+--------------------+\n",
              "           (3,[],[])|\n",
              "(3,[0,1,2],[0.1,0...|\n",
              "(3,[0,1,2],[0.2,0...|\n",
              "(3,[0,1,2],[9.0,9...|\n",
              "(3,[0,1,2],[9.1,9...|\n",
              "(3,[0,1,2],[9.2,9...|\n",
              "+--------------------+\n",
              "\n",
              "</div>"
            ]
          },
          "metadata": {
            "tags": [],
            "application/vnd.databricks.v1+output": {
              "addedWidgets": {},
              "arguments": {},
              "data": "<div class=\"ansiout\">+--------------------+\n|            features|\n+--------------------+\n|           (3,[],[])|\n|(3,[0,1,2],[0.1,0...|\n|(3,[0,1,2],[0.2,0...|\n|(3,[0,1,2],[9.0,9...|\n|(3,[0,1,2],[9.1,9...|\n|(3,[0,1,2],[9.2,9...|\n+--------------------+\n\n</div>",
              "datasetInfos": [],
              "removedWidgets": [],
              "type": "html"
            }
          }
        }
      ]
    },
    {
      "cell_type": "code",
      "metadata": {
        "application/vnd.databricks.v1+cell": {
          "inputWidgets": {},
          "nuid": "da7069e7-343b-4108-92b8-5cd49a2b03b3",
          "showTitle": false,
          "title": ""
        },
        "id": "YOyN8jC4cJIw",
        "outputId": "6b244c77-45fe-4b17-8314-7bfb90354217"
      },
      "source": [
        "# As we have 3 dimension of features, we can expect the centriods to be in 3D\n",
        "centers = model.clusterCenters()\n",
        "centers # As we computed the value of K = 2, this means there are 2 centriods and they are this location (x,y,z) - [array([9.1, 9.1, 9.1]), array([0.1, 0.1, 0.1])]"
      ],
      "execution_count": null,
      "outputs": [
        {
          "output_type": "display_data",
          "data": {
            "text/html": [
              "<style scoped>\n",
              "  .ansiout {\n",
              "    display: block;\n",
              "    unicode-bidi: embed;\n",
              "    white-space: pre-wrap;\n",
              "    word-wrap: break-word;\n",
              "    word-break: break-all;\n",
              "    font-family: \"Source Code Pro\", \"Menlo\", monospace;;\n",
              "    font-size: 13px;\n",
              "    color: #555;\n",
              "    margin-left: 4px;\n",
              "    line-height: 19px;\n",
              "  }\n",
              "</style>\n",
              "<div class=\"ansiout\">Out[107]: [array([9.1, 9.1, 9.1]), array([0.05, 0.05, 0.05]), array([0.2, 0.2, 0.2])]</div>"
            ]
          },
          "metadata": {
            "tags": [],
            "application/vnd.databricks.v1+output": {
              "addedWidgets": {},
              "arguments": {},
              "data": "<div class=\"ansiout\">Out[107]: [array([9.1, 9.1, 9.1]), array([0.05, 0.05, 0.05]), array([0.2, 0.2, 0.2])]</div>",
              "datasetInfos": [],
              "removedWidgets": [],
              "type": "html"
            }
          }
        }
      ]
    },
    {
      "cell_type": "code",
      "metadata": {
        "application/vnd.databricks.v1+cell": {
          "inputWidgets": {},
          "nuid": "b111196f-859a-4c52-8600-616e2dad9866",
          "showTitle": false,
          "title": ""
        },
        "id": "W4GOaywKcJIx",
        "outputId": "6772b81e-9596-477b-a81c-71fb60d181f0"
      },
      "source": [
        "# Now suppose we want to set the data to which centers it belongs to \n",
        "results = model.transform(final_data)\n",
        "results.show() # So it gives the features along with the prediction"
      ],
      "execution_count": null,
      "outputs": [
        {
          "output_type": "display_data",
          "data": {
            "text/html": [
              "<style scoped>\n",
              "  .ansiout {\n",
              "    display: block;\n",
              "    unicode-bidi: embed;\n",
              "    white-space: pre-wrap;\n",
              "    word-wrap: break-word;\n",
              "    word-break: break-all;\n",
              "    font-family: \"Source Code Pro\", \"Menlo\", monospace;;\n",
              "    font-size: 13px;\n",
              "    color: #555;\n",
              "    margin-left: 4px;\n",
              "    line-height: 19px;\n",
              "  }\n",
              "</style>\n",
              "<div class=\"ansiout\">+--------------------+----------+\n",
              "            features|prediction|\n",
              "+--------------------+----------+\n",
              "           (3,[],[])|         1|\n",
              "(3,[0,1,2],[0.1,0...|         1|\n",
              "(3,[0,1,2],[0.2,0...|         2|\n",
              "(3,[0,1,2],[9.0,9...|         0|\n",
              "(3,[0,1,2],[9.1,9...|         0|\n",
              "(3,[0,1,2],[9.2,9...|         0|\n",
              "+--------------------+----------+\n",
              "\n",
              "</div>"
            ]
          },
          "metadata": {
            "tags": [],
            "application/vnd.databricks.v1+output": {
              "addedWidgets": {},
              "arguments": {},
              "data": "<div class=\"ansiout\">+--------------------+----------+\n|            features|prediction|\n+--------------------+----------+\n|           (3,[],[])|         1|\n|(3,[0,1,2],[0.1,0...|         1|\n|(3,[0,1,2],[0.2,0...|         2|\n|(3,[0,1,2],[9.0,9...|         0|\n|(3,[0,1,2],[9.1,9...|         0|\n|(3,[0,1,2],[9.2,9...|         0|\n+--------------------+----------+\n\n</div>",
              "datasetInfos": [],
              "removedWidgets": [],
              "type": "html"
            }
          }
        }
      ]
    },
    {
      "cell_type": "code",
      "metadata": {
        "application/vnd.databricks.v1+cell": {
          "inputWidgets": {},
          "nuid": "e3de6ad9-0ac3-4643-8a38-7af6d3635cc1",
          "showTitle": false,
          "title": ""
        },
        "id": "pHteaXDecJIx",
        "outputId": "83606216-4d37-44d5-d75a-51603995d642"
      },
      "source": [
        "## SECTION 14 - CLUSTERING \n",
        "\n",
        "# For certain Machine Learning algorithms, it is a good idea to scale your data. Drops in model performance can occur with highly dimensional data, so we’ll practice scaling features using PySpark! there won’t be any confusion matrix or classification test results as this is the unsupervised learning!\n",
        "spark = SparkSession.builder.appName('cluster').getOrCreate()\n",
        "data = spark.read.format(\"csv\").load(\"dbfs:/FileStore/shared_uploads/nisargmehta2000@gmail.com/seeds_dataset.csv\", inferSchema = True, header = True)\n",
        "data.printSchema()"
      ],
      "execution_count": null,
      "outputs": [
        {
          "output_type": "display_data",
          "data": {
            "text/html": [
              "<style scoped>\n",
              "  .ansiout {\n",
              "    display: block;\n",
              "    unicode-bidi: embed;\n",
              "    white-space: pre-wrap;\n",
              "    word-wrap: break-word;\n",
              "    word-break: break-all;\n",
              "    font-family: \"Source Code Pro\", \"Menlo\", monospace;;\n",
              "    font-size: 13px;\n",
              "    color: #555;\n",
              "    margin-left: 4px;\n",
              "    line-height: 19px;\n",
              "  }\n",
              "</style>\n",
              "<div class=\"ansiout\">root\n",
              "-- area: double (nullable = true)\n",
              "-- perimeter: double (nullable = true)\n",
              "-- compactness: double (nullable = true)\n",
              "-- length_of_kernel: double (nullable = true)\n",
              "-- width_of_kernel: double (nullable = true)\n",
              "-- asymmetry_coefficient: double (nullable = true)\n",
              "-- length_of_groove: double (nullable = true)\n",
              "\n",
              "</div>"
            ]
          },
          "metadata": {
            "tags": [],
            "application/vnd.databricks.v1+output": {
              "addedWidgets": {},
              "arguments": {},
              "data": "<div class=\"ansiout\">root\n |-- area: double (nullable = true)\n |-- perimeter: double (nullable = true)\n |-- compactness: double (nullable = true)\n |-- length_of_kernel: double (nullable = true)\n |-- width_of_kernel: double (nullable = true)\n |-- asymmetry_coefficient: double (nullable = true)\n |-- length_of_groove: double (nullable = true)\n\n</div>",
              "datasetInfos": [],
              "removedWidgets": [],
              "type": "html"
            }
          }
        }
      ]
    },
    {
      "cell_type": "code",
      "metadata": {
        "application/vnd.databricks.v1+cell": {
          "inputWidgets": {},
          "nuid": "7b0da36d-e291-410e-bef3-8ce6c993d5c3",
          "showTitle": false,
          "title": ""
        },
        "id": "btTeaYaKcJIx",
        "outputId": "61237911-3764-4f32-9aed-29c25bdcc307"
      },
      "source": [
        "data.head(1)# This all are the features of actual seed in kernel \n",
        "# As there are 3 different varieties of wheat, we are going to cluster with K = 3 \n",
        "from pyspark.ml.clustering import KMeans\n",
        "from pyspark.ml.feature import VectorAssembler\n",
        "data.columns"
      ],
      "execution_count": null,
      "outputs": [
        {
          "output_type": "display_data",
          "data": {
            "text/html": [
              "<style scoped>\n",
              "  .ansiout {\n",
              "    display: block;\n",
              "    unicode-bidi: embed;\n",
              "    white-space: pre-wrap;\n",
              "    word-wrap: break-word;\n",
              "    word-break: break-all;\n",
              "    font-family: \"Source Code Pro\", \"Menlo\", monospace;;\n",
              "    font-size: 13px;\n",
              "    color: #555;\n",
              "    margin-left: 4px;\n",
              "    line-height: 19px;\n",
              "  }\n",
              "</style>\n",
              "<div class=\"ansiout\">Out[114]: [&#39;area&#39;,\n",
              " &#39;perimeter&#39;,\n",
              " &#39;compactness&#39;,\n",
              " &#39;length_of_kernel&#39;,\n",
              " &#39;width_of_kernel&#39;,\n",
              " &#39;asymmetry_coefficient&#39;,\n",
              " &#39;length_of_groove&#39;]</div>"
            ]
          },
          "metadata": {
            "tags": [],
            "application/vnd.databricks.v1+output": {
              "addedWidgets": {},
              "arguments": {},
              "data": "<div class=\"ansiout\">Out[114]: [&#39;area&#39;,\n &#39;perimeter&#39;,\n &#39;compactness&#39;,\n &#39;length_of_kernel&#39;,\n &#39;width_of_kernel&#39;,\n &#39;asymmetry_coefficient&#39;,\n &#39;length_of_groove&#39;]</div>",
              "datasetInfos": [],
              "removedWidgets": [],
              "type": "html"
            }
          }
        }
      ]
    },
    {
      "cell_type": "code",
      "metadata": {
        "application/vnd.databricks.v1+cell": {
          "inputWidgets": {},
          "nuid": "abb3dcf4-e9fc-4696-a3a2-9bc45edf7c97",
          "showTitle": false,
          "title": ""
        },
        "id": "o21t3MqTcJIy",
        "outputId": "253df8a2-e845-49e9-9eaf-47f2d39f9c97"
      },
      "source": [
        "assembler = VectorAssembler(inputCols=data.columns, outputCol='features') # rather than passing the columns, will pass the data.columns in the inputCols as we are taking all columns \n",
        "final_data = assembler.transform(data)\n",
        "final_data.printSchema()"
      ],
      "execution_count": null,
      "outputs": [
        {
          "output_type": "display_data",
          "data": {
            "text/html": [
              "<style scoped>\n",
              "  .ansiout {\n",
              "    display: block;\n",
              "    unicode-bidi: embed;\n",
              "    white-space: pre-wrap;\n",
              "    word-wrap: break-word;\n",
              "    word-break: break-all;\n",
              "    font-family: \"Source Code Pro\", \"Menlo\", monospace;;\n",
              "    font-size: 13px;\n",
              "    color: #555;\n",
              "    margin-left: 4px;\n",
              "    line-height: 19px;\n",
              "  }\n",
              "</style>\n",
              "<div class=\"ansiout\">root\n",
              "-- area: double (nullable = true)\n",
              "-- perimeter: double (nullable = true)\n",
              "-- compactness: double (nullable = true)\n",
              "-- length_of_kernel: double (nullable = true)\n",
              "-- width_of_kernel: double (nullable = true)\n",
              "-- asymmetry_coefficient: double (nullable = true)\n",
              "-- length_of_groove: double (nullable = true)\n",
              "-- features: vector (nullable = true)\n",
              "\n",
              "</div>"
            ]
          },
          "metadata": {
            "tags": [],
            "application/vnd.databricks.v1+output": {
              "addedWidgets": {},
              "arguments": {},
              "data": "<div class=\"ansiout\">root\n |-- area: double (nullable = true)\n |-- perimeter: double (nullable = true)\n |-- compactness: double (nullable = true)\n |-- length_of_kernel: double (nullable = true)\n |-- width_of_kernel: double (nullable = true)\n |-- asymmetry_coefficient: double (nullable = true)\n |-- length_of_groove: double (nullable = true)\n |-- features: vector (nullable = true)\n\n</div>",
              "datasetInfos": [],
              "removedWidgets": [],
              "type": "html"
            }
          }
        }
      ]
    },
    {
      "cell_type": "code",
      "metadata": {
        "application/vnd.databricks.v1+cell": {
          "inputWidgets": {},
          "nuid": "3c67f8fc-13f6-4fb8-adb9-40bf5e480687",
          "showTitle": false,
          "title": ""
        },
        "id": "C5ZHvwMJcJIy",
        "outputId": "d1cd005a-ece9-4202-d9c0-9666f0c489cb"
      },
      "source": [
        "# To scale the data\n",
        "from pyspark.ml.feature import StandardScaler\n",
        "scaler = StandardScaler(inputCol='features',outputCol='Scaledfeature') # Synatx is similar as VectorAssembler\n",
        "scaler_model = scaler.fit(final_data) # When we fit the scaler to the final data, it collects the stddev information and then it set to the scaler model and then the scaler model is transformed to final_data when called the transform below\n",
        "final_data = scaler_model.transform(final_data)\n",
        "final_data.show()\n",
        "# Here there is no huge change between features and scaled features, but it is very important for the large datasets "
      ],
      "execution_count": null,
      "outputs": [
        {
          "output_type": "display_data",
          "data": {
            "text/html": [
              "<style scoped>\n",
              "  .ansiout {\n",
              "    display: block;\n",
              "    unicode-bidi: embed;\n",
              "    white-space: pre-wrap;\n",
              "    word-wrap: break-word;\n",
              "    word-break: break-all;\n",
              "    font-family: \"Source Code Pro\", \"Menlo\", monospace;;\n",
              "    font-size: 13px;\n",
              "    color: #555;\n",
              "    margin-left: 4px;\n",
              "    line-height: 19px;\n",
              "  }\n",
              "</style>\n",
              "<div class=\"ansiout\">+-----+---------+-----------+------------------+------------------+---------------------+------------------+--------------------+--------------------+--------------------+\n",
              " area|perimeter|compactness|  length_of_kernel|   width_of_kernel|asymmetry_coefficient|  length_of_groove|            features|      Scaledfeatures|       Scaledfeature|\n",
              "+-----+---------+-----------+------------------+------------------+---------------------+------------------+--------------------+--------------------+--------------------+\n",
              "15.26|    14.84|      0.871|             5.763|             3.312|                2.221|              5.22|[15.26,14.84,0.87...|[5.24452795332028...|[5.24452795332028...|\n",
              "14.88|    14.57|     0.8811| 5.553999999999999|             3.333|                1.018|             4.956|[14.88,14.57,0.88...|[5.11393027165175...|[5.11393027165175...|\n",
              "14.29|    14.09|      0.905|             5.291|3.3369999999999997|                2.699|             4.825|[14.29,14.09,0.90...|[4.91116018695588...|[4.91116018695588...|\n",
              "13.84|    13.94|     0.8955|             5.324|3.3789999999999996|                2.259|             4.805|[13.84,13.94,0.89...|[4.75650503761158...|[4.75650503761158...|\n",
              "16.14|    14.99|     0.9034|5.6579999999999995|             3.562|                1.355|             5.175|[16.14,14.99,0.90...|[5.54696468981581...|[5.54696468981581...|\n",
              "14.38|    14.21|     0.8951|             5.386|             3.312|   2.4619999999999997|             4.956|[14.38,14.21,0.89...|[4.94209121682475...|[4.94209121682475...|\n",
              "14.69|    14.49|     0.8799|             5.563|             3.259|   3.5860000000000003| 5.218999999999999|[14.69,14.49,0.87...|[5.04863143081749...|[5.04863143081749...|\n",
              "14.11|     14.1|     0.8911|              5.42|             3.302|                  2.7|               5.0|[14.11,14.1,0.891...|[4.84929812721816...|[4.84929812721816...|\n",
              "16.63|    15.46|     0.8747|             6.053|             3.465|                 2.04| 5.877000000000001|[16.63,15.46,0.87...|[5.71536696354628...|[5.71536696354628...|\n",
              "16.44|    15.25|      0.888|5.8839999999999995|             3.505|                1.969|5.5329999999999995|[16.44,15.25,0.88...|[5.65006812271202...|[5.65006812271202...|\n",
              "15.26|    14.85|     0.8696|5.7139999999999995|             3.242|                4.543|             5.314|[15.26,14.85,0.86...|[5.24452795332028...|[5.24452795332028...|\n",
              "14.03|    14.16|     0.8796|             5.438|             3.201|   1.7169999999999999|             5.001|[14.03,14.16,0.87...|[4.82180387844584...|[4.82180387844584...|\n",
              "13.89|    14.02|      0.888|             5.439|             3.199|                3.986|             4.738|[13.89,14.02,0.88...|[4.77368894309428...|[4.77368894309428...|\n",
              "13.78|    14.06|     0.8759|             5.479|             3.156|                3.136|             4.872|[13.78,14.06,0.87...|[4.73588435103234...|[4.73588435103234...|\n",
              "13.74|    14.05|     0.8744|             5.482|             3.114|                2.932|             4.825|[13.74,14.05,0.87...|[4.72213722664617...|[4.72213722664617...|\n",
              "14.59|    14.28|     0.8993|             5.351|             3.333|                4.185| 4.781000000000001|[14.59,14.28,0.89...|[5.01426361985209...|[5.01426361985209...|\n",
              "13.99|    13.83|     0.9183|             5.119|             3.383|                5.234| 4.781000000000001|[13.99,13.83,0.91...|[4.80805675405968...|[4.80805675405968...|\n",
              "15.69|    14.75|     0.9058|             5.527|             3.514|                1.599|             5.046|[15.69,14.75,0.90...|[5.39230954047151...|[5.39230954047151...|\n",
              " 14.7|    14.21|     0.9153|             5.205|             3.466|                1.767|             4.649|[14.7,14.21,0.915...|[5.05206821191403...|[5.05206821191403...|\n",
              "12.72|    13.57|     0.8686|             5.226|             3.049|                4.102|             4.914|[12.72,13.57,0.86...|[4.37158555479908...|[4.37158555479908...|\n",
              "+-----+---------+-----------+------------------+------------------+---------------------+------------------+--------------------+--------------------+--------------------+\n",
              "only showing top 20 rows\n",
              "\n",
              "</div>"
            ]
          },
          "metadata": {
            "tags": [],
            "application/vnd.databricks.v1+output": {
              "addedWidgets": {},
              "arguments": {},
              "data": "<div class=\"ansiout\">+-----+---------+-----------+------------------+------------------+---------------------+------------------+--------------------+--------------------+--------------------+\n| area|perimeter|compactness|  length_of_kernel|   width_of_kernel|asymmetry_coefficient|  length_of_groove|            features|      Scaledfeatures|       Scaledfeature|\n+-----+---------+-----------+------------------+------------------+---------------------+------------------+--------------------+--------------------+--------------------+\n|15.26|    14.84|      0.871|             5.763|             3.312|                2.221|              5.22|[15.26,14.84,0.87...|[5.24452795332028...|[5.24452795332028...|\n|14.88|    14.57|     0.8811| 5.553999999999999|             3.333|                1.018|             4.956|[14.88,14.57,0.88...|[5.11393027165175...|[5.11393027165175...|\n|14.29|    14.09|      0.905|             5.291|3.3369999999999997|                2.699|             4.825|[14.29,14.09,0.90...|[4.91116018695588...|[4.91116018695588...|\n|13.84|    13.94|     0.8955|             5.324|3.3789999999999996|                2.259|             4.805|[13.84,13.94,0.89...|[4.75650503761158...|[4.75650503761158...|\n|16.14|    14.99|     0.9034|5.6579999999999995|             3.562|                1.355|             5.175|[16.14,14.99,0.90...|[5.54696468981581...|[5.54696468981581...|\n|14.38|    14.21|     0.8951|             5.386|             3.312|   2.4619999999999997|             4.956|[14.38,14.21,0.89...|[4.94209121682475...|[4.94209121682475...|\n|14.69|    14.49|     0.8799|             5.563|             3.259|   3.5860000000000003| 5.218999999999999|[14.69,14.49,0.87...|[5.04863143081749...|[5.04863143081749...|\n|14.11|     14.1|     0.8911|              5.42|             3.302|                  2.7|               5.0|[14.11,14.1,0.891...|[4.84929812721816...|[4.84929812721816...|\n|16.63|    15.46|     0.8747|             6.053|             3.465|                 2.04| 5.877000000000001|[16.63,15.46,0.87...|[5.71536696354628...|[5.71536696354628...|\n|16.44|    15.25|      0.888|5.8839999999999995|             3.505|                1.969|5.5329999999999995|[16.44,15.25,0.88...|[5.65006812271202...|[5.65006812271202...|\n|15.26|    14.85|     0.8696|5.7139999999999995|             3.242|                4.543|             5.314|[15.26,14.85,0.86...|[5.24452795332028...|[5.24452795332028...|\n|14.03|    14.16|     0.8796|             5.438|             3.201|   1.7169999999999999|             5.001|[14.03,14.16,0.87...|[4.82180387844584...|[4.82180387844584...|\n|13.89|    14.02|      0.888|             5.439|             3.199|                3.986|             4.738|[13.89,14.02,0.88...|[4.77368894309428...|[4.77368894309428...|\n|13.78|    14.06|     0.8759|             5.479|             3.156|                3.136|             4.872|[13.78,14.06,0.87...|[4.73588435103234...|[4.73588435103234...|\n|13.74|    14.05|     0.8744|             5.482|             3.114|                2.932|             4.825|[13.74,14.05,0.87...|[4.72213722664617...|[4.72213722664617...|\n|14.59|    14.28|     0.8993|             5.351|             3.333|                4.185| 4.781000000000001|[14.59,14.28,0.89...|[5.01426361985209...|[5.01426361985209...|\n|13.99|    13.83|     0.9183|             5.119|             3.383|                5.234| 4.781000000000001|[13.99,13.83,0.91...|[4.80805675405968...|[4.80805675405968...|\n|15.69|    14.75|     0.9058|             5.527|             3.514|                1.599|             5.046|[15.69,14.75,0.90...|[5.39230954047151...|[5.39230954047151...|\n| 14.7|    14.21|     0.9153|             5.205|             3.466|                1.767|             4.649|[14.7,14.21,0.915...|[5.05206821191403...|[5.05206821191403...|\n|12.72|    13.57|     0.8686|             5.226|             3.049|                4.102|             4.914|[12.72,13.57,0.86...|[4.37158555479908...|[4.37158555479908...|\n+-----+---------+-----------+------------------+------------------+---------------------+------------------+--------------------+--------------------+--------------------+\nonly showing top 20 rows\n\n</div>",
              "datasetInfos": [],
              "removedWidgets": [],
              "type": "html"
            }
          }
        }
      ]
    },
    {
      "cell_type": "code",
      "metadata": {
        "application/vnd.databricks.v1+cell": {
          "inputWidgets": {},
          "nuid": "520fcdc5-44c1-4c9c-85a2-730893fbb025",
          "showTitle": false,
          "title": ""
        },
        "id": "CLaZnqircJIy",
        "outputId": "feccdd8d-e41b-4cb4-eed9-900091c80f03"
      },
      "source": [
        "kmeans = KMeans(featuresCol='Scaledfeature',k=3)\n",
        "model = kmeans.fit(final_data) # kmeans object is fitted to final data"
      ],
      "execution_count": null,
      "outputs": [
        {
          "output_type": "display_data",
          "data": {
            "text/html": [
              "<style scoped>\n",
              "  .ansiout {\n",
              "    display: block;\n",
              "    unicode-bidi: embed;\n",
              "    white-space: pre-wrap;\n",
              "    word-wrap: break-word;\n",
              "    word-break: break-all;\n",
              "    font-family: \"Source Code Pro\", \"Menlo\", monospace;;\n",
              "    font-size: 13px;\n",
              "    color: #555;\n",
              "    margin-left: 4px;\n",
              "    line-height: 19px;\n",
              "  }\n",
              "</style>\n",
              "<div class=\"ansiout\"></div>"
            ]
          },
          "metadata": {
            "tags": [],
            "application/vnd.databricks.v1+output": {
              "addedWidgets": {},
              "arguments": {},
              "data": "<div class=\"ansiout\"></div>",
              "datasetInfos": [],
              "removedWidgets": [],
              "type": "html"
            }
          }
        }
      ]
    },
    {
      "cell_type": "code",
      "metadata": {
        "application/vnd.databricks.v1+cell": {
          "inputWidgets": {},
          "nuid": "84c45826-c06e-4610-85b6-275f02a7b8b8",
          "showTitle": false,
          "title": ""
        },
        "id": "Vv76KjsWcJIz",
        "outputId": "b9ed326c-705a-42dd-d018-7bf85951b2db"
      },
      "source": [
        "print('WSSSE')\n",
        "wssse = model.summary.trainingCost\n",
        "wssse \n",
        "\n",
        "centers = model.clusterCenters()\n",
        "centers"
      ],
      "execution_count": null,
      "outputs": [
        {
          "output_type": "display_data",
          "data": {
            "text/html": [
              "<style scoped>\n",
              "  .ansiout {\n",
              "    display: block;\n",
              "    unicode-bidi: embed;\n",
              "    white-space: pre-wrap;\n",
              "    word-wrap: break-word;\n",
              "    word-break: break-all;\n",
              "    font-family: \"Source Code Pro\", \"Menlo\", monospace;;\n",
              "    font-size: 13px;\n",
              "    color: #555;\n",
              "    margin-left: 4px;\n",
              "    line-height: 19px;\n",
              "  }\n",
              "</style>\n",
              "<div class=\"ansiout\">WSSSE\n",
              "Out[136]: [array([ 4.93382436, 10.94691274, 37.30542404, 12.41332714,  8.60366812,\n",
              "         1.82917353, 10.40106154]),\n",
              " array([ 6.35645488, 12.40730852, 37.41990178, 13.93860446,  9.7892399 ,\n",
              "         2.41585013, 12.29286107]),\n",
              " array([ 4.06660859, 10.14191893, 35.84098009, 11.81592066,  7.52397236,\n",
              "         3.1823335 , 10.39801233])]</div>"
            ]
          },
          "metadata": {
            "tags": [],
            "application/vnd.databricks.v1+output": {
              "addedWidgets": {},
              "arguments": {},
              "data": "<div class=\"ansiout\">WSSSE\nOut[136]: [array([ 4.93382436, 10.94691274, 37.30542404, 12.41332714,  8.60366812,\n         1.82917353, 10.40106154]),\n array([ 6.35645488, 12.40730852, 37.41990178, 13.93860446,  9.7892399 ,\n         2.41585013, 12.29286107]),\n array([ 4.06660859, 10.14191893, 35.84098009, 11.81592066,  7.52397236,\n         3.1823335 , 10.39801233])]</div>",
              "datasetInfos": [],
              "removedWidgets": [],
              "type": "html"
            }
          }
        }
      ]
    },
    {
      "cell_type": "code",
      "metadata": {
        "application/vnd.databricks.v1+cell": {
          "inputWidgets": {},
          "nuid": "a722a69b-2f04-410d-b99c-118c2663c6a2",
          "showTitle": false,
          "title": ""
        },
        "id": "urTwYmsncJIz",
        "outputId": "cdd4c89f-5345-46b6-eb37-25a80a4f29a6"
      },
      "source": [
        "model.transform(final_data).show()"
      ],
      "execution_count": null,
      "outputs": [
        {
          "output_type": "display_data",
          "data": {
            "text/html": [
              "<style scoped>\n",
              "  .ansiout {\n",
              "    display: block;\n",
              "    unicode-bidi: embed;\n",
              "    white-space: pre-wrap;\n",
              "    word-wrap: break-word;\n",
              "    word-break: break-all;\n",
              "    font-family: \"Source Code Pro\", \"Menlo\", monospace;;\n",
              "    font-size: 13px;\n",
              "    color: #555;\n",
              "    margin-left: 4px;\n",
              "    line-height: 19px;\n",
              "  }\n",
              "</style>\n",
              "<div class=\"ansiout\">+-----+---------+-----------+------------------+------------------+---------------------+------------------+--------------------+--------------------+--------------------+----------+\n",
              " area|perimeter|compactness|  length_of_kernel|   width_of_kernel|asymmetry_coefficient|  length_of_groove|            features|      Scaledfeatures|       Scaledfeature|prediction|\n",
              "+-----+---------+-----------+------------------+------------------+---------------------+------------------+--------------------+--------------------+--------------------+----------+\n",
              "15.26|    14.84|      0.871|             5.763|             3.312|                2.221|              5.22|[15.26,14.84,0.87...|[5.24452795332028...|[5.24452795332028...|         0|\n",
              "14.88|    14.57|     0.8811| 5.553999999999999|             3.333|                1.018|             4.956|[14.88,14.57,0.88...|[5.11393027165175...|[5.11393027165175...|         0|\n",
              "14.29|    14.09|      0.905|             5.291|3.3369999999999997|                2.699|             4.825|[14.29,14.09,0.90...|[4.91116018695588...|[4.91116018695588...|         0|\n",
              "13.84|    13.94|     0.8955|             5.324|3.3789999999999996|                2.259|             4.805|[13.84,13.94,0.89...|[4.75650503761158...|[4.75650503761158...|         0|\n",
              "16.14|    14.99|     0.9034|5.6579999999999995|             3.562|                1.355|             5.175|[16.14,14.99,0.90...|[5.54696468981581...|[5.54696468981581...|         0|\n",
              "14.38|    14.21|     0.8951|             5.386|             3.312|   2.4619999999999997|             4.956|[14.38,14.21,0.89...|[4.94209121682475...|[4.94209121682475...|         0|\n",
              "14.69|    14.49|     0.8799|             5.563|             3.259|   3.5860000000000003| 5.218999999999999|[14.69,14.49,0.87...|[5.04863143081749...|[5.04863143081749...|         0|\n",
              "14.11|     14.1|     0.8911|              5.42|             3.302|                  2.7|               5.0|[14.11,14.1,0.891...|[4.84929812721816...|[4.84929812721816...|         0|\n",
              "16.63|    15.46|     0.8747|             6.053|             3.465|                 2.04| 5.877000000000001|[16.63,15.46,0.87...|[5.71536696354628...|[5.71536696354628...|         1|\n",
              "16.44|    15.25|      0.888|5.8839999999999995|             3.505|                1.969|5.5329999999999995|[16.44,15.25,0.88...|[5.65006812271202...|[5.65006812271202...|         0|\n",
              "15.26|    14.85|     0.8696|5.7139999999999995|             3.242|                4.543|             5.314|[15.26,14.85,0.86...|[5.24452795332028...|[5.24452795332028...|         0|\n",
              "14.03|    14.16|     0.8796|             5.438|             3.201|   1.7169999999999999|             5.001|[14.03,14.16,0.87...|[4.82180387844584...|[4.82180387844584...|         0|\n",
              "13.89|    14.02|      0.888|             5.439|             3.199|                3.986|             4.738|[13.89,14.02,0.88...|[4.77368894309428...|[4.77368894309428...|         0|\n",
              "13.78|    14.06|     0.8759|             5.479|             3.156|                3.136|             4.872|[13.78,14.06,0.87...|[4.73588435103234...|[4.73588435103234...|         0|\n",
              "13.74|    14.05|     0.8744|             5.482|             3.114|                2.932|             4.825|[13.74,14.05,0.87...|[4.72213722664617...|[4.72213722664617...|         0|\n",
              "14.59|    14.28|     0.8993|             5.351|             3.333|                4.185| 4.781000000000001|[14.59,14.28,0.89...|[5.01426361985209...|[5.01426361985209...|         0|\n",
              "13.99|    13.83|     0.9183|             5.119|             3.383|                5.234| 4.781000000000001|[13.99,13.83,0.91...|[4.80805675405968...|[4.80805675405968...|         0|\n",
              "15.69|    14.75|     0.9058|             5.527|             3.514|                1.599|             5.046|[15.69,14.75,0.90...|[5.39230954047151...|[5.39230954047151...|         0|\n",
              " 14.7|    14.21|     0.9153|             5.205|             3.466|                1.767|             4.649|[14.7,14.21,0.915...|[5.05206821191403...|[5.05206821191403...|         0|\n",
              "12.72|    13.57|     0.8686|             5.226|             3.049|                4.102|             4.914|[12.72,13.57,0.86...|[4.37158555479908...|[4.37158555479908...|         2|\n",
              "+-----+---------+-----------+------------------+------------------+---------------------+------------------+--------------------+--------------------+--------------------+----------+\n",
              "only showing top 20 rows\n",
              "\n",
              "</div>"
            ]
          },
          "metadata": {
            "tags": [],
            "application/vnd.databricks.v1+output": {
              "addedWidgets": {},
              "arguments": {},
              "data": "<div class=\"ansiout\">+-----+---------+-----------+------------------+------------------+---------------------+------------------+--------------------+--------------------+--------------------+----------+\n| area|perimeter|compactness|  length_of_kernel|   width_of_kernel|asymmetry_coefficient|  length_of_groove|            features|      Scaledfeatures|       Scaledfeature|prediction|\n+-----+---------+-----------+------------------+------------------+---------------------+------------------+--------------------+--------------------+--------------------+----------+\n|15.26|    14.84|      0.871|             5.763|             3.312|                2.221|              5.22|[15.26,14.84,0.87...|[5.24452795332028...|[5.24452795332028...|         0|\n|14.88|    14.57|     0.8811| 5.553999999999999|             3.333|                1.018|             4.956|[14.88,14.57,0.88...|[5.11393027165175...|[5.11393027165175...|         0|\n|14.29|    14.09|      0.905|             5.291|3.3369999999999997|                2.699|             4.825|[14.29,14.09,0.90...|[4.91116018695588...|[4.91116018695588...|         0|\n|13.84|    13.94|     0.8955|             5.324|3.3789999999999996|                2.259|             4.805|[13.84,13.94,0.89...|[4.75650503761158...|[4.75650503761158...|         0|\n|16.14|    14.99|     0.9034|5.6579999999999995|             3.562|                1.355|             5.175|[16.14,14.99,0.90...|[5.54696468981581...|[5.54696468981581...|         0|\n|14.38|    14.21|     0.8951|             5.386|             3.312|   2.4619999999999997|             4.956|[14.38,14.21,0.89...|[4.94209121682475...|[4.94209121682475...|         0|\n|14.69|    14.49|     0.8799|             5.563|             3.259|   3.5860000000000003| 5.218999999999999|[14.69,14.49,0.87...|[5.04863143081749...|[5.04863143081749...|         0|\n|14.11|     14.1|     0.8911|              5.42|             3.302|                  2.7|               5.0|[14.11,14.1,0.891...|[4.84929812721816...|[4.84929812721816...|         0|\n|16.63|    15.46|     0.8747|             6.053|             3.465|                 2.04| 5.877000000000001|[16.63,15.46,0.87...|[5.71536696354628...|[5.71536696354628...|         1|\n|16.44|    15.25|      0.888|5.8839999999999995|             3.505|                1.969|5.5329999999999995|[16.44,15.25,0.88...|[5.65006812271202...|[5.65006812271202...|         0|\n|15.26|    14.85|     0.8696|5.7139999999999995|             3.242|                4.543|             5.314|[15.26,14.85,0.86...|[5.24452795332028...|[5.24452795332028...|         0|\n|14.03|    14.16|     0.8796|             5.438|             3.201|   1.7169999999999999|             5.001|[14.03,14.16,0.87...|[4.82180387844584...|[4.82180387844584...|         0|\n|13.89|    14.02|      0.888|             5.439|             3.199|                3.986|             4.738|[13.89,14.02,0.88...|[4.77368894309428...|[4.77368894309428...|         0|\n|13.78|    14.06|     0.8759|             5.479|             3.156|                3.136|             4.872|[13.78,14.06,0.87...|[4.73588435103234...|[4.73588435103234...|         0|\n|13.74|    14.05|     0.8744|             5.482|             3.114|                2.932|             4.825|[13.74,14.05,0.87...|[4.72213722664617...|[4.72213722664617...|         0|\n|14.59|    14.28|     0.8993|             5.351|             3.333|                4.185| 4.781000000000001|[14.59,14.28,0.89...|[5.01426361985209...|[5.01426361985209...|         0|\n|13.99|    13.83|     0.9183|             5.119|             3.383|                5.234| 4.781000000000001|[13.99,13.83,0.91...|[4.80805675405968...|[4.80805675405968...|         0|\n|15.69|    14.75|     0.9058|             5.527|             3.514|                1.599|             5.046|[15.69,14.75,0.90...|[5.39230954047151...|[5.39230954047151...|         0|\n| 14.7|    14.21|     0.9153|             5.205|             3.466|                1.767|             4.649|[14.7,14.21,0.915...|[5.05206821191403...|[5.05206821191403...|         0|\n|12.72|    13.57|     0.8686|             5.226|             3.049|                4.102|             4.914|[12.72,13.57,0.86...|[4.37158555479908...|[4.37158555479908...|         2|\n+-----+---------+-----------+------------------+------------------+---------------------+------------------+--------------------+--------------------+--------------------+----------+\nonly showing top 20 rows\n\n</div>",
              "datasetInfos": [],
              "removedWidgets": [],
              "type": "html"
            }
          }
        }
      ]
    },
    {
      "cell_type": "code",
      "metadata": {
        "application/vnd.databricks.v1+cell": {
          "inputWidgets": {},
          "nuid": "92b1f47f-e2e8-47e4-bfab-205f87e5dcd3",
          "showTitle": false,
          "title": ""
        },
        "id": "nycNy15LcJIz",
        "outputId": "c8750715-6efd-4723-ffaa-13e86e3d5015"
      },
      "source": [
        "## SECTION 14 - KMEANS AND CLUSTERING CONSULTING PROJECT \n",
        "data = spark.read.format(\"csv\").load(\"dbfs:/FileStore/shared_uploads/nisargmehta2000@gmail.com/hack_data.csv\", inferSchema = True, header = True)\n",
        "data.head(1)"
      ],
      "execution_count": null,
      "outputs": [
        {
          "output_type": "display_data",
          "data": {
            "text/html": [
              "<style scoped>\n",
              "  .ansiout {\n",
              "    display: block;\n",
              "    unicode-bidi: embed;\n",
              "    white-space: pre-wrap;\n",
              "    word-wrap: break-word;\n",
              "    word-break: break-all;\n",
              "    font-family: \"Source Code Pro\", \"Menlo\", monospace;;\n",
              "    font-size: 13px;\n",
              "    color: #555;\n",
              "    margin-left: 4px;\n",
              "    line-height: 19px;\n",
              "  }\n",
              "</style>\n",
              "<div class=\"ansiout\">Out[140]: [Row(Session_Connection_Time=8.0, Bytes Transferred=391.09, Kali_Trace_Used=1, Servers_Corrupted=2.96, Pages_Corrupted=7.0, Location=&#39;Slovenia&#39;, WPM_Typing_Speed=72.37)]</div>"
            ]
          },
          "metadata": {
            "tags": [],
            "application/vnd.databricks.v1+output": {
              "addedWidgets": {},
              "arguments": {},
              "data": "<div class=\"ansiout\">Out[140]: [Row(Session_Connection_Time=8.0, Bytes Transferred=391.09, Kali_Trace_Used=1, Servers_Corrupted=2.96, Pages_Corrupted=7.0, Location=&#39;Slovenia&#39;, WPM_Typing_Speed=72.37)]</div>",
              "datasetInfos": [],
              "removedWidgets": [],
              "type": "html"
            }
          }
        }
      ]
    },
    {
      "cell_type": "code",
      "metadata": {
        "application/vnd.databricks.v1+cell": {
          "inputWidgets": {},
          "nuid": "f4645287-2700-4ab6-97f2-07681b2a9970",
          "showTitle": false,
          "title": ""
        },
        "id": "P4pKpZBlcJIz",
        "outputId": "7cdebfe4-2fc1-4111-860d-f07561e325b7"
      },
      "source": [
        "from pyspark.ml.clustering import KMeans\n",
        "from pyspark.ml.feature import VectorAssembler\n",
        "data.columns"
      ],
      "execution_count": null,
      "outputs": [
        {
          "output_type": "display_data",
          "data": {
            "text/html": [
              "<style scoped>\n",
              "  .ansiout {\n",
              "    display: block;\n",
              "    unicode-bidi: embed;\n",
              "    white-space: pre-wrap;\n",
              "    word-wrap: break-word;\n",
              "    word-break: break-all;\n",
              "    font-family: \"Source Code Pro\", \"Menlo\", monospace;;\n",
              "    font-size: 13px;\n",
              "    color: #555;\n",
              "    margin-left: 4px;\n",
              "    line-height: 19px;\n",
              "  }\n",
              "</style>\n",
              "<div class=\"ansiout\">Out[142]: [&#39;Session_Connection_Time&#39;,\n",
              " &#39;Bytes Transferred&#39;,\n",
              " &#39;Kali_Trace_Used&#39;,\n",
              " &#39;Servers_Corrupted&#39;,\n",
              " &#39;Pages_Corrupted&#39;,\n",
              " &#39;Location&#39;,\n",
              " &#39;WPM_Typing_Speed&#39;]</div>"
            ]
          },
          "metadata": {
            "tags": [],
            "application/vnd.databricks.v1+output": {
              "addedWidgets": {},
              "arguments": {},
              "data": "<div class=\"ansiout\">Out[142]: [&#39;Session_Connection_Time&#39;,\n &#39;Bytes Transferred&#39;,\n &#39;Kali_Trace_Used&#39;,\n &#39;Servers_Corrupted&#39;,\n &#39;Pages_Corrupted&#39;,\n &#39;Location&#39;,\n &#39;WPM_Typing_Speed&#39;]</div>",
              "datasetInfos": [],
              "removedWidgets": [],
              "type": "html"
            }
          }
        }
      ]
    },
    {
      "cell_type": "code",
      "metadata": {
        "application/vnd.databricks.v1+cell": {
          "inputWidgets": {},
          "nuid": "b15261ca-08ad-4053-b59b-41684ba3164c",
          "showTitle": false,
          "title": ""
        },
        "id": "tTMBp0ttcJI0",
        "outputId": "4f14621d-e800-4849-cbe6-29be2823c681"
      },
      "source": [
        "# Location column is useless because in the question it is written that it is connected through VPN's \n",
        "assembler = VectorAssembler(inputCols=['Session_Connection_Time','Bytes Transferred','Kali_Trace_Used','Servers_Corrupted','Pages_Corrupted','WPM_Typing_Speed'], outputCol='features')\n",
        "final_data = assembler.transform(data) # assembler object is transforming the actual data \n",
        "final_data.printSchema()"
      ],
      "execution_count": null,
      "outputs": [
        {
          "output_type": "display_data",
          "data": {
            "text/html": [
              "<style scoped>\n",
              "  .ansiout {\n",
              "    display: block;\n",
              "    unicode-bidi: embed;\n",
              "    white-space: pre-wrap;\n",
              "    word-wrap: break-word;\n",
              "    word-break: break-all;\n",
              "    font-family: \"Source Code Pro\", \"Menlo\", monospace;;\n",
              "    font-size: 13px;\n",
              "    color: #555;\n",
              "    margin-left: 4px;\n",
              "    line-height: 19px;\n",
              "  }\n",
              "</style>\n",
              "<div class=\"ansiout\">root\n",
              "-- Session_Connection_Time: double (nullable = true)\n",
              "-- Bytes Transferred: double (nullable = true)\n",
              "-- Kali_Trace_Used: integer (nullable = true)\n",
              "-- Servers_Corrupted: double (nullable = true)\n",
              "-- Pages_Corrupted: double (nullable = true)\n",
              "-- Location: string (nullable = true)\n",
              "-- WPM_Typing_Speed: double (nullable = true)\n",
              "-- features: vector (nullable = true)\n",
              "\n",
              "</div>"
            ]
          },
          "metadata": {
            "tags": [],
            "application/vnd.databricks.v1+output": {
              "addedWidgets": {},
              "arguments": {},
              "data": "<div class=\"ansiout\">root\n |-- Session_Connection_Time: double (nullable = true)\n |-- Bytes Transferred: double (nullable = true)\n |-- Kali_Trace_Used: integer (nullable = true)\n |-- Servers_Corrupted: double (nullable = true)\n |-- Pages_Corrupted: double (nullable = true)\n |-- Location: string (nullable = true)\n |-- WPM_Typing_Speed: double (nullable = true)\n |-- features: vector (nullable = true)\n\n</div>",
              "datasetInfos": [],
              "removedWidgets": [],
              "type": "html"
            }
          }
        }
      ]
    },
    {
      "cell_type": "code",
      "metadata": {
        "application/vnd.databricks.v1+cell": {
          "inputWidgets": {},
          "nuid": "9c381a55-7eb8-42da-a825-445e5dc8f224",
          "showTitle": false,
          "title": ""
        },
        "id": "dbk1zDQIcJI0",
        "outputId": "0759b35e-e665-4922-db0b-ad032e4fed79"
      },
      "source": [
        "# to scale the data\n",
        "from pyspark.ml.feature import StandardScaler\n",
        "scaler = StandardScaler(inputCol='features', outputCol='Scaledfeature')\n",
        "scaler_model = scaler.fit(final_data)\n",
        "cluster_final_data = scaler_model.transform(final_data)"
      ],
      "execution_count": null,
      "outputs": [
        {
          "output_type": "display_data",
          "data": {
            "text/html": [
              "<style scoped>\n",
              "  .ansiout {\n",
              "    display: block;\n",
              "    unicode-bidi: embed;\n",
              "    white-space: pre-wrap;\n",
              "    word-wrap: break-word;\n",
              "    word-break: break-all;\n",
              "    font-family: \"Source Code Pro\", \"Menlo\", monospace;;\n",
              "    font-size: 13px;\n",
              "    color: #555;\n",
              "    margin-left: 4px;\n",
              "    line-height: 19px;\n",
              "  }\n",
              "</style>\n",
              "<div class=\"ansiout\"></div>"
            ]
          },
          "metadata": {
            "tags": [],
            "application/vnd.databricks.v1+output": {
              "addedWidgets": {},
              "arguments": {},
              "data": "<div class=\"ansiout\"></div>",
              "datasetInfos": [],
              "removedWidgets": [],
              "type": "html"
            }
          }
        }
      ]
    },
    {
      "cell_type": "code",
      "metadata": {
        "application/vnd.databricks.v1+cell": {
          "inputWidgets": {},
          "nuid": "62bcb809-0416-41cf-9233-f51368770f7d",
          "showTitle": false,
          "title": ""
        },
        "id": "gTYNb1RjcJI0",
        "outputId": "c724fe17-f094-43a1-d0ed-d074e3a290be"
      },
      "source": [
        "# As we want to predict 2 hackers or 3 hackers - We will do for both K = 2 and K = 3 \n",
        "kmeans2 = KMeans(featuresCol='Scaledfeature',k=2)\n",
        "kmeans3 = KMeans(featuresCol='Scaledfeature',k=3)\n",
        "model_k2 = kmeans2.fit(cluster_final_data)\n",
        "model_k3 = kmeans3.fit(cluster_final_data)"
      ],
      "execution_count": null,
      "outputs": [
        {
          "output_type": "display_data",
          "data": {
            "text/html": [
              "<style scoped>\n",
              "  .ansiout {\n",
              "    display: block;\n",
              "    unicode-bidi: embed;\n",
              "    white-space: pre-wrap;\n",
              "    word-wrap: break-word;\n",
              "    word-break: break-all;\n",
              "    font-family: \"Source Code Pro\", \"Menlo\", monospace;;\n",
              "    font-size: 13px;\n",
              "    color: #555;\n",
              "    margin-left: 4px;\n",
              "    line-height: 19px;\n",
              "  }\n",
              "</style>\n",
              "<div class=\"ansiout\"></div>"
            ]
          },
          "metadata": {
            "tags": [],
            "application/vnd.databricks.v1+output": {
              "addedWidgets": {},
              "arguments": {},
              "data": "<div class=\"ansiout\"></div>",
              "datasetInfos": [],
              "removedWidgets": [],
              "type": "html"
            }
          }
        }
      ]
    },
    {
      "cell_type": "code",
      "metadata": {
        "application/vnd.databricks.v1+cell": {
          "inputWidgets": {},
          "nuid": "ab3142e4-9b96-4525-8f65-a84849cac956",
          "showTitle": false,
          "title": ""
        },
        "id": "UKqA32YEcJI1",
        "outputId": "1533f0be-924a-41a5-a870-20bfbfcbb418"
      },
      "source": [
        "# Now according to key fact, the forensic engineer knows that the hackers trade off attacks, Meaning they should each have roughly the same amount of attacks. For example if there were 100 total attacks, then in a 2 hacker situation each should have about 50 hacks, in a three hacker situation each would have about 33 hacks, so we will use this info to find if there were 2 hackers or 3 hackers \n",
        "model_k3.transform(cluster_final_data).groupBy('prediction').count().show()\n",
        "model_k2.transform(cluster_final_data).groupBy('prediction').count().show()\n",
        "\n",
        "# so from the results we can conclude that we do not have equal split when there is K = 3, but with K = 2 there is equal split. therefore there is only 2 Hackers "
      ],
      "execution_count": null,
      "outputs": [
        {
          "output_type": "display_data",
          "data": {
            "text/html": [
              "<style scoped>\n",
              "  .ansiout {\n",
              "    display: block;\n",
              "    unicode-bidi: embed;\n",
              "    white-space: pre-wrap;\n",
              "    word-wrap: break-word;\n",
              "    word-break: break-all;\n",
              "    font-family: \"Source Code Pro\", \"Menlo\", monospace;;\n",
              "    font-size: 13px;\n",
              "    color: #555;\n",
              "    margin-left: 4px;\n",
              "    line-height: 19px;\n",
              "  }\n",
              "</style>\n",
              "<div class=\"ansiout\">+----------+-----+\n",
              "prediction|count|\n",
              "+----------+-----+\n",
              "         1|   83|\n",
              "         2|   84|\n",
              "         0|  167|\n",
              "+----------+-----+\n",
              "\n",
              "+----------+-----+\n",
              "prediction|count|\n",
              "+----------+-----+\n",
              "         1|  167|\n",
              "         0|  167|\n",
              "+----------+-----+\n",
              "\n",
              "</div>"
            ]
          },
          "metadata": {
            "tags": [],
            "application/vnd.databricks.v1+output": {
              "addedWidgets": {},
              "arguments": {},
              "data": "<div class=\"ansiout\">+----------+-----+\n|prediction|count|\n+----------+-----+\n|         1|   83|\n|         2|   84|\n|         0|  167|\n+----------+-----+\n\n+----------+-----+\n|prediction|count|\n+----------+-----+\n|         1|  167|\n|         0|  167|\n+----------+-----+\n\n</div>",
              "datasetInfos": [],
              "removedWidgets": [],
              "type": "html"
            }
          }
        }
      ]
    },
    {
      "cell_type": "code",
      "metadata": {
        "application/vnd.databricks.v1+cell": {
          "inputWidgets": {},
          "nuid": "eb7bb331-f5b5-4150-ad36-ea2387a97ac6",
          "showTitle": false,
          "title": ""
        },
        "id": "PfzEaeFocJI1",
        "outputId": "32ac7344-279e-4f0d-96a9-59299437babf"
      },
      "source": [
        "## SECTION 15 - RECOMMENDER SYSTEM\n",
        "from pyspark.sql import SparkSession\n",
        "spark = SparkSession.builder.appName('rec').getOrCreate()\n",
        "\n",
        "# We would be importing ALS (Alternating least sqaure) - For Details, refer Udemy PPT and Google\n",
        "from pyspark.ml.recommendation import ALS\n",
        "# For Evaluation we will use Regression Evaluator\n",
        "from pyspark.ml.evaluation import RegressionEvaluator"
      ],
      "execution_count": null,
      "outputs": [
        {
          "output_type": "display_data",
          "data": {
            "text/html": [
              "<style scoped>\n",
              "  .ansiout {\n",
              "    display: block;\n",
              "    unicode-bidi: embed;\n",
              "    white-space: pre-wrap;\n",
              "    word-wrap: break-word;\n",
              "    word-break: break-all;\n",
              "    font-family: \"Source Code Pro\", \"Menlo\", monospace;;\n",
              "    font-size: 13px;\n",
              "    color: #555;\n",
              "    margin-left: 4px;\n",
              "    line-height: 19px;\n",
              "  }\n",
              "</style>\n",
              "<div class=\"ansiout\"></div>"
            ]
          },
          "metadata": {
            "tags": [],
            "application/vnd.databricks.v1+output": {
              "addedWidgets": {},
              "arguments": {},
              "data": "<div class=\"ansiout\"></div>",
              "datasetInfos": [],
              "removedWidgets": [],
              "type": "html"
            }
          }
        }
      ]
    },
    {
      "cell_type": "code",
      "metadata": {
        "application/vnd.databricks.v1+cell": {
          "inputWidgets": {},
          "nuid": "1e6799da-b2c1-401a-8a3f-ff9823d32379",
          "showTitle": false,
          "title": ""
        },
        "id": "lKWa0YKlcJI1",
        "outputId": "53d66670-0a6f-4e5f-f209-f32dd6ae0c4d"
      },
      "source": [
        "data = spark.read.format(\"csv\").load(\"dbfs:/FileStore/shared_uploads/nisargmehta2000@gmail.com/movielens_ratings.csv\", inferSchema = True, header = True)\n",
        "data.show()\n",
        "data.describe().show()"
      ],
      "execution_count": null,
      "outputs": [
        {
          "output_type": "display_data",
          "data": {
            "text/html": [
              "<style scoped>\n",
              "  .ansiout {\n",
              "    display: block;\n",
              "    unicode-bidi: embed;\n",
              "    white-space: pre-wrap;\n",
              "    word-wrap: break-word;\n",
              "    word-break: break-all;\n",
              "    font-family: \"Source Code Pro\", \"Menlo\", monospace;;\n",
              "    font-size: 13px;\n",
              "    color: #555;\n",
              "    margin-left: 4px;\n",
              "    line-height: 19px;\n",
              "  }\n",
              "</style>\n",
              "<div class=\"ansiout\">+-------+------+------+\n",
              "movieId|rating|userId|\n",
              "+-------+------+------+\n",
              "      2|   3.0|     0|\n",
              "      3|   1.0|     0|\n",
              "      5|   2.0|     0|\n",
              "      9|   4.0|     0|\n",
              "     11|   1.0|     0|\n",
              "     12|   2.0|     0|\n",
              "     15|   1.0|     0|\n",
              "     17|   1.0|     0|\n",
              "     19|   1.0|     0|\n",
              "     21|   1.0|     0|\n",
              "     23|   1.0|     0|\n",
              "     26|   3.0|     0|\n",
              "     27|   1.0|     0|\n",
              "     28|   1.0|     0|\n",
              "     29|   1.0|     0|\n",
              "     30|   1.0|     0|\n",
              "     31|   1.0|     0|\n",
              "     34|   1.0|     0|\n",
              "     37|   1.0|     0|\n",
              "     41|   2.0|     0|\n",
              "+-------+------+------+\n",
              "only showing top 20 rows\n",
              "\n",
              "+-------+------------------+------------------+------------------+\n",
              "summary|           movieId|            rating|            userId|\n",
              "+-------+------------------+------------------+------------------+\n",
              "  count|              1501|              1501|              1501|\n",
              "   mean| 49.40572951365756|1.7741505662891406|14.383744170552964|\n",
              " stddev|28.937034065088994| 1.187276166124803| 8.591040424293272|\n",
              "    min|                 0|               1.0|                 0|\n",
              "    max|                99|               5.0|                29|\n",
              "+-------+------------------+------------------+------------------+\n",
              "\n",
              "</div>"
            ]
          },
          "metadata": {
            "tags": [],
            "application/vnd.databricks.v1+output": {
              "addedWidgets": {},
              "arguments": {},
              "data": "<div class=\"ansiout\">+-------+------+------+\n|movieId|rating|userId|\n+-------+------+------+\n|      2|   3.0|     0|\n|      3|   1.0|     0|\n|      5|   2.0|     0|\n|      9|   4.0|     0|\n|     11|   1.0|     0|\n|     12|   2.0|     0|\n|     15|   1.0|     0|\n|     17|   1.0|     0|\n|     19|   1.0|     0|\n|     21|   1.0|     0|\n|     23|   1.0|     0|\n|     26|   3.0|     0|\n|     27|   1.0|     0|\n|     28|   1.0|     0|\n|     29|   1.0|     0|\n|     30|   1.0|     0|\n|     31|   1.0|     0|\n|     34|   1.0|     0|\n|     37|   1.0|     0|\n|     41|   2.0|     0|\n+-------+------+------+\nonly showing top 20 rows\n\n+-------+------------------+------------------+------------------+\n|summary|           movieId|            rating|            userId|\n+-------+------------------+------------------+------------------+\n|  count|              1501|              1501|              1501|\n|   mean| 49.40572951365756|1.7741505662891406|14.383744170552964|\n| stddev|28.937034065088994| 1.187276166124803| 8.591040424293272|\n|    min|                 0|               1.0|                 0|\n|    max|                99|               5.0|                29|\n+-------+------------------+------------------+------------------+\n\n</div>",
              "datasetInfos": [],
              "removedWidgets": [],
              "type": "html"
            }
          }
        }
      ]
    },
    {
      "cell_type": "code",
      "metadata": {
        "application/vnd.databricks.v1+cell": {
          "inputWidgets": {},
          "nuid": "649aab2c-6d4c-484f-8bcd-d780dc50bfb7",
          "showTitle": false,
          "title": ""
        },
        "id": "0VFbCSQtcJI1",
        "outputId": "2bed5c5d-8b35-40d4-ab67-3c004f1b6059"
      },
      "source": [
        "# splitting to training and testing dataset\n",
        "train_data, test_data = data.randomSplit([0.8,0.2])"
      ],
      "execution_count": null,
      "outputs": [
        {
          "output_type": "display_data",
          "data": {
            "text/html": [
              "<style scoped>\n",
              "  .ansiout {\n",
              "    display: block;\n",
              "    unicode-bidi: embed;\n",
              "    white-space: pre-wrap;\n",
              "    word-wrap: break-word;\n",
              "    word-break: break-all;\n",
              "    font-family: \"Source Code Pro\", \"Menlo\", monospace;;\n",
              "    font-size: 13px;\n",
              "    color: #555;\n",
              "    margin-left: 4px;\n",
              "    line-height: 19px;\n",
              "  }\n",
              "</style>\n",
              "<div class=\"ansiout\"></div>"
            ]
          },
          "metadata": {
            "tags": [],
            "application/vnd.databricks.v1+output": {
              "addedWidgets": {},
              "arguments": {},
              "data": "<div class=\"ansiout\"></div>",
              "datasetInfos": [],
              "removedWidgets": [],
              "type": "html"
            }
          }
        }
      ]
    },
    {
      "cell_type": "code",
      "metadata": {
        "application/vnd.databricks.v1+cell": {
          "inputWidgets": {},
          "nuid": "788c1f9a-2813-473f-9d02-50e3ccc8f577",
          "showTitle": false,
          "title": ""
        },
        "id": "pY2NJrw7cJI2",
        "outputId": "2a4aa60a-2e11-463f-fdd0-59337cad0b83"
      },
      "source": [
        "# Now to create the Alternating least sqaure model - Would be setting maxIter = 5, regression parameter = 0.01, then we need 3 columns which we alwys need i.e userCol, itemcol, ratingCol\n",
        "als = ALS(maxIter = 5, regParam=0.01,userCol='userId',itemCol='movieId',ratingCol='rating')\n",
        "model = als.fit(train_data)"
      ],
      "execution_count": null,
      "outputs": [
        {
          "output_type": "display_data",
          "data": {
            "text/html": [
              "<style scoped>\n",
              "  .ansiout {\n",
              "    display: block;\n",
              "    unicode-bidi: embed;\n",
              "    white-space: pre-wrap;\n",
              "    word-wrap: break-word;\n",
              "    word-break: break-all;\n",
              "    font-family: \"Source Code Pro\", \"Menlo\", monospace;;\n",
              "    font-size: 13px;\n",
              "    color: #555;\n",
              "    margin-left: 4px;\n",
              "    line-height: 19px;\n",
              "  }\n",
              "</style>\n",
              "<div class=\"ansiout\"></div>"
            ]
          },
          "metadata": {
            "tags": [],
            "application/vnd.databricks.v1+output": {
              "addedWidgets": {},
              "arguments": {},
              "data": "<div class=\"ansiout\"></div>",
              "datasetInfos": [],
              "removedWidgets": [],
              "type": "html"
            }
          }
        }
      ]
    },
    {
      "cell_type": "code",
      "metadata": {
        "application/vnd.databricks.v1+cell": {
          "inputWidgets": {},
          "nuid": "0c3484c5-3087-4f68-920f-23d8192828a1",
          "showTitle": false,
          "title": ""
        },
        "id": "nv71-vQycJI2",
        "outputId": "485b66ea-0048-447b-8a85-5adb3ad88985"
      },
      "source": [
        "predictions = model.transform(test_data)\n",
        "predictions.show() \n",
        "# To interpret the table - first row -> User ID 4 watched the movie ID 31 and they gave the rating 1.0, but we predicted according to prevous user rating ,this user would be giving the rating of ~2.5 stars. third row - User ID 12 watched the movie ID 31 and they gave the rating 4.0, but we predicted according to prevous user rating ,this user would be giving the rating of ~(-0.3) stars. \n",
        "# As we are taking prediction as the continous value, and hence prediction can be negative value "
      ],
      "execution_count": null,
      "outputs": [
        {
          "output_type": "display_data",
          "data": {
            "text/html": [
              "<style scoped>\n",
              "  .ansiout {\n",
              "    display: block;\n",
              "    unicode-bidi: embed;\n",
              "    white-space: pre-wrap;\n",
              "    word-wrap: break-word;\n",
              "    word-break: break-all;\n",
              "    font-family: \"Source Code Pro\", \"Menlo\", monospace;;\n",
              "    font-size: 13px;\n",
              "    color: #555;\n",
              "    margin-left: 4px;\n",
              "    line-height: 19px;\n",
              "  }\n",
              "</style>\n",
              "<div class=\"ansiout\">+-------+------+------+-----------+\n",
              "movieId|rating|userId| prediction|\n",
              "+-------+------+------+-----------+\n",
              "     31|   1.0|     4|  2.4268272|\n",
              "     31|   3.0|     8|  2.3796675|\n",
              "     31|   4.0|    12|-0.03163056|\n",
              "     31|   1.0|    13|  1.5536816|\n",
              "     31|   3.0|    14|    2.36169|\n",
              "     31|   2.0|    25| 0.90101004|\n",
              "     31|   1.0|    26|   2.764635|\n",
              "     85|   3.0|     6|  2.5745964|\n",
              "     85|   1.0|    13|  1.2363474|\n",
              "     85|   1.0|    15|  0.7540424|\n",
              "     85|   2.0|    20|  2.5667028|\n",
              "     65|   2.0|    15|  1.4227293|\n",
              "     53|   1.0|     6|  2.8187125|\n",
              "     53|   1.0|     9|  3.8860528|\n",
              "     53|   3.0|    14|   4.938653|\n",
              "     53|   2.0|    19|  2.9043036|\n",
              "     78|   1.0|     4|  1.1129671|\n",
              "     78|   1.0|    12| 0.77230066|\n",
              "     78|   1.0|    13|  1.1209471|\n",
              "     78|   1.0|    17| 0.08372226|\n",
              "+-------+------+------+-----------+\n",
              "only showing top 20 rows\n",
              "\n",
              "</div>"
            ]
          },
          "metadata": {
            "tags": [],
            "application/vnd.databricks.v1+output": {
              "addedWidgets": {},
              "arguments": {},
              "data": "<div class=\"ansiout\">+-------+------+------+-----------+\n|movieId|rating|userId| prediction|\n+-------+------+------+-----------+\n|     31|   1.0|     4|  2.4268272|\n|     31|   3.0|     8|  2.3796675|\n|     31|   4.0|    12|-0.03163056|\n|     31|   1.0|    13|  1.5536816|\n|     31|   3.0|    14|    2.36169|\n|     31|   2.0|    25| 0.90101004|\n|     31|   1.0|    26|   2.764635|\n|     85|   3.0|     6|  2.5745964|\n|     85|   1.0|    13|  1.2363474|\n|     85|   1.0|    15|  0.7540424|\n|     85|   2.0|    20|  2.5667028|\n|     65|   2.0|    15|  1.4227293|\n|     53|   1.0|     6|  2.8187125|\n|     53|   1.0|     9|  3.8860528|\n|     53|   3.0|    14|   4.938653|\n|     53|   2.0|    19|  2.9043036|\n|     78|   1.0|     4|  1.1129671|\n|     78|   1.0|    12| 0.77230066|\n|     78|   1.0|    13|  1.1209471|\n|     78|   1.0|    17| 0.08372226|\n+-------+------+------+-----------+\nonly showing top 20 rows\n\n</div>",
              "datasetInfos": [],
              "removedWidgets": [],
              "type": "html"
            }
          }
        }
      ]
    },
    {
      "cell_type": "code",
      "metadata": {
        "application/vnd.databricks.v1+cell": {
          "inputWidgets": {},
          "nuid": "8072d869-d33a-4412-bf78-5a1a13e0d7ed",
          "showTitle": false,
          "title": ""
        },
        "id": "-QgRqNKVcJI2",
        "outputId": "94ae5363-c6fc-4836-d989-f32de826f63f"
      },
      "source": [
        "# Now to evaluate. We will create the evaluator object taking metricName as 'root mean sqare error(rmse)' \n",
        "evaluator = RegressionEvaluator(labelCol='rating',predictionCol='prediction',metricName='rmse')\n",
        "root_error = evaluator.evaluate(predictions) # This means how far was the rating from the prediction conidering the rmse\n",
        "root_error"
      ],
      "execution_count": null,
      "outputs": [
        {
          "output_type": "display_data",
          "data": {
            "text/html": [
              "<style scoped>\n",
              "  .ansiout {\n",
              "    display: block;\n",
              "    unicode-bidi: embed;\n",
              "    white-space: pre-wrap;\n",
              "    word-wrap: break-word;\n",
              "    word-break: break-all;\n",
              "    font-family: \"Source Code Pro\", \"Menlo\", monospace;;\n",
              "    font-size: 13px;\n",
              "    color: #555;\n",
              "    margin-left: 4px;\n",
              "    line-height: 19px;\n",
              "  }\n",
              "</style>\n",
              "<div class=\"ansiout\">Out[12]: 1.8215280062972696</div>"
            ]
          },
          "metadata": {
            "tags": [],
            "application/vnd.databricks.v1+output": {
              "addedWidgets": {},
              "arguments": {},
              "data": "<div class=\"ansiout\">Out[12]: 1.8215280062972696</div>",
              "datasetInfos": [],
              "removedWidgets": [],
              "type": "html"
            }
          }
        }
      ]
    },
    {
      "cell_type": "code",
      "metadata": {
        "application/vnd.databricks.v1+cell": {
          "inputWidgets": {},
          "nuid": "b5f492ea-f65b-4be3-aaa4-189439563330",
          "showTitle": false,
          "title": ""
        },
        "id": "1cdE8064cJI3",
        "outputId": "e2bc9264-85ef-451d-9559-f8656d84464b"
      },
      "source": [
        "# For the single user \n",
        "# test_data.filter(test_data['userId']==11).show()\n",
        "single_user = test_data.filter(test_data['userId']==11).select(['movieId','userId'])\n",
        "single_user.show()"
      ],
      "execution_count": null,
      "outputs": [
        {
          "output_type": "display_data",
          "data": {
            "text/html": [
              "<style scoped>\n",
              "  .ansiout {\n",
              "    display: block;\n",
              "    unicode-bidi: embed;\n",
              "    white-space: pre-wrap;\n",
              "    word-wrap: break-word;\n",
              "    word-break: break-all;\n",
              "    font-family: \"Source Code Pro\", \"Menlo\", monospace;;\n",
              "    font-size: 13px;\n",
              "    color: #555;\n",
              "    margin-left: 4px;\n",
              "    line-height: 19px;\n",
              "  }\n",
              "</style>\n",
              "<div class=\"ansiout\">+-------+------+\n",
              "movieId|userId|\n",
              "+-------+------+\n",
              "     11|    11|\n",
              "     12|    11|\n",
              "     19|    11|\n",
              "     21|    11|\n",
              "     27|    11|\n",
              "     30|    11|\n",
              "     39|    11|\n",
              "     48|    11|\n",
              "     81|    11|\n",
              "+-------+------+\n",
              "\n",
              "</div>"
            ]
          },
          "metadata": {
            "tags": [],
            "application/vnd.databricks.v1+output": {
              "addedWidgets": {},
              "arguments": {},
              "data": "<div class=\"ansiout\">+-------+------+\n|movieId|userId|\n+-------+------+\n|     11|    11|\n|     12|    11|\n|     19|    11|\n|     21|    11|\n|     27|    11|\n|     30|    11|\n|     39|    11|\n|     48|    11|\n|     81|    11|\n+-------+------+\n\n</div>",
              "datasetInfos": [],
              "removedWidgets": [],
              "type": "html"
            }
          }
        }
      ]
    },
    {
      "cell_type": "code",
      "metadata": {
        "application/vnd.databricks.v1+cell": {
          "inputWidgets": {},
          "nuid": "2253b431-5bdf-4ae5-87c4-a35d3731ea17",
          "showTitle": false,
          "title": ""
        },
        "id": "uYEe8nFvcJI3",
        "outputId": "f39e39c0-a834-4482-d304-88b276fc8322"
      },
      "source": [
        "# Now to predict that it is good to watch that particular movie by user 11\n",
        "recommendations = model.transform(single_user)\n",
        "recommendations.orderBy('prediction',ascending=False).show() # It gives the recommendations in descending order of prediction "
      ],
      "execution_count": null,
      "outputs": [
        {
          "output_type": "display_data",
          "data": {
            "text/html": [
              "<style scoped>\n",
              "  .ansiout {\n",
              "    display: block;\n",
              "    unicode-bidi: embed;\n",
              "    white-space: pre-wrap;\n",
              "    word-wrap: break-word;\n",
              "    word-break: break-all;\n",
              "    font-family: \"Source Code Pro\", \"Menlo\", monospace;;\n",
              "    font-size: 13px;\n",
              "    color: #555;\n",
              "    margin-left: 4px;\n",
              "    line-height: 19px;\n",
              "  }\n",
              "</style>\n",
              "<div class=\"ansiout\">+-------+------+-----------+\n",
              "movieId|userId| prediction|\n",
              "+-------+------+-----------+\n",
              "     30|    11|   5.418488|\n",
              "     19|    11|  2.4480557|\n",
              "     12|    11|  2.2748916|\n",
              "     21|    11|  1.8056031|\n",
              "     48|    11|  1.4893379|\n",
              "     81|    11| 0.82324404|\n",
              "     11|    11|  0.5711174|\n",
              "     39|    11|-0.09058407|\n",
              "     27|    11|   -0.51795|\n",
              "+-------+------+-----------+\n",
              "\n",
              "</div>"
            ]
          },
          "metadata": {
            "tags": [],
            "application/vnd.databricks.v1+output": {
              "addedWidgets": {},
              "arguments": {},
              "data": "<div class=\"ansiout\">+-------+------+-----------+\n|movieId|userId| prediction|\n+-------+------+-----------+\n|     30|    11|   5.418488|\n|     19|    11|  2.4480557|\n|     12|    11|  2.2748916|\n|     21|    11|  1.8056031|\n|     48|    11|  1.4893379|\n|     81|    11| 0.82324404|\n|     11|    11|  0.5711174|\n|     39|    11|-0.09058407|\n|     27|    11|   -0.51795|\n+-------+------+-----------+\n\n</div>",
              "datasetInfos": [],
              "removedWidgets": [],
              "type": "html"
            }
          }
        }
      ]
    },
    {
      "cell_type": "code",
      "metadata": {
        "application/vnd.databricks.v1+cell": {
          "inputWidgets": {},
          "nuid": "d94a5dba-469f-4223-b6d7-eb703b4efa54",
          "showTitle": false,
          "title": ""
        },
        "id": "TaoSCUDVcJI3",
        "outputId": "621acfe0-02f8-44be-f516-9be07853fbeb"
      },
      "source": [
        "# SECTION 16 - NLP \n",
        "spark = SparkSession.builder.appName('nlp').getOrCreate()\n",
        "\n",
        "# Tokenization - This means taking out the sentence and breaking it to the indiviuals word \n",
        "# Regular expression tokenizer - It is more advanced tokenization based on regular expression. It uses the parameter as the eliminator otr spaces to split the sentences \n",
        "from pyspark.ml.feature import Tokenizer,RegexTokenizer\n",
        "from pyspark.sql.functions import col,udf # col -> column, udf -> user defined functions"
      ],
      "execution_count": null,
      "outputs": [
        {
          "output_type": "display_data",
          "data": {
            "text/html": [
              "<style scoped>\n",
              "  .ansiout {\n",
              "    display: block;\n",
              "    unicode-bidi: embed;\n",
              "    white-space: pre-wrap;\n",
              "    word-wrap: break-word;\n",
              "    word-break: break-all;\n",
              "    font-family: \"Source Code Pro\", \"Menlo\", monospace;;\n",
              "    font-size: 13px;\n",
              "    color: #555;\n",
              "    margin-left: 4px;\n",
              "    line-height: 19px;\n",
              "  }\n",
              "</style>\n",
              "<div class=\"ansiout\"></div>"
            ]
          },
          "metadata": {
            "tags": [],
            "application/vnd.databricks.v1+output": {
              "addedWidgets": {},
              "arguments": {},
              "data": "<div class=\"ansiout\"></div>",
              "datasetInfos": [],
              "removedWidgets": [],
              "type": "html"
            }
          }
        }
      ]
    },
    {
      "cell_type": "code",
      "metadata": {
        "application/vnd.databricks.v1+cell": {
          "inputWidgets": {},
          "nuid": "7c114c75-f7a5-4f1d-94af-a65375fb9485",
          "showTitle": false,
          "title": ""
        },
        "id": "1k51CboZcJI4",
        "outputId": "ec99c744-c359-4b45-e4a0-a31a7fb75d16"
      },
      "source": [
        "from pyspark.sql.types import IntegerType\n",
        "\n",
        "# Passing out the list of tuples (sentences) as the input - the )th and 1st are having whitespaces, and 2nd is having ',' for splitting. For the 2nd argument we would be passing the list of the column names\n",
        "sen_df = spark.createDataFrame([(0,'Hi I heard about spark'),(1,'I wish java could use case classes'),(2,'Logistic,regression,models,are,neat')],['id','sentence'])\n",
        "sen_df.show()"
      ],
      "execution_count": null,
      "outputs": [
        {
          "output_type": "display_data",
          "data": {
            "text/html": [
              "<style scoped>\n",
              "  .ansiout {\n",
              "    display: block;\n",
              "    unicode-bidi: embed;\n",
              "    white-space: pre-wrap;\n",
              "    word-wrap: break-word;\n",
              "    word-break: break-all;\n",
              "    font-family: \"Source Code Pro\", \"Menlo\", monospace;;\n",
              "    font-size: 13px;\n",
              "    color: #555;\n",
              "    margin-left: 4px;\n",
              "    line-height: 19px;\n",
              "  }\n",
              "</style>\n",
              "<div class=\"ansiout\">+---+--------------------+\n",
              " id|            sentence|\n",
              "+---+--------------------+\n",
              "  0|Hi I heard about ...|\n",
              "  1|I wish java could...|\n",
              "  2|Logistic,regressi...|\n",
              "+---+--------------------+\n",
              "\n",
              "</div>"
            ]
          },
          "metadata": {
            "tags": [],
            "application/vnd.databricks.v1+output": {
              "addedWidgets": {},
              "arguments": {},
              "data": "<div class=\"ansiout\">+---+--------------------+\n| id|            sentence|\n+---+--------------------+\n|  0|Hi I heard about ...|\n|  1|I wish java could...|\n|  2|Logistic,regressi...|\n+---+--------------------+\n\n</div>",
              "datasetInfos": [],
              "removedWidgets": [],
              "type": "html"
            }
          }
        }
      ]
    },
    {
      "cell_type": "code",
      "metadata": {
        "application/vnd.databricks.v1+cell": {
          "inputWidgets": {},
          "nuid": "758c7775-a58d-44ef-861f-2e738c253f04",
          "showTitle": false,
          "title": ""
        },
        "id": "cdfdOyffcJI4",
        "outputId": "c23346ff-057f-466f-fbab-4ce3d99c3349"
      },
      "source": [
        "# will create the instance of the tokenizer class\n",
        "tokenizer = Tokenizer(inputCol='sentence',outputCol='word')\n",
        "\n",
        "regrex_tokenizer = RegexTokenizer(inputCol='sentence',outputCol='word')\n",
        "# We can even pass the 3rd parameter i.e the pattern (Eg: ',') for splitting of the sentence \n",
        "regrex_tokenizer = RegexTokenizer(inputCol='sentence',outputCol='word',pattern='\\\\W')"
      ],
      "execution_count": null,
      "outputs": [
        {
          "output_type": "display_data",
          "data": {
            "text/html": [
              "<style scoped>\n",
              "  .ansiout {\n",
              "    display: block;\n",
              "    unicode-bidi: embed;\n",
              "    white-space: pre-wrap;\n",
              "    word-wrap: break-word;\n",
              "    word-break: break-all;\n",
              "    font-family: \"Source Code Pro\", \"Menlo\", monospace;;\n",
              "    font-size: 13px;\n",
              "    color: #555;\n",
              "    margin-left: 4px;\n",
              "    line-height: 19px;\n",
              "  }\n",
              "</style>\n",
              "<div class=\"ansiout\"></div>"
            ]
          },
          "metadata": {
            "tags": [],
            "application/vnd.databricks.v1+output": {
              "addedWidgets": {},
              "arguments": {},
              "data": "<div class=\"ansiout\"></div>",
              "datasetInfos": [],
              "removedWidgets": [],
              "type": "html"
            }
          }
        }
      ]
    },
    {
      "cell_type": "code",
      "metadata": {
        "application/vnd.databricks.v1+cell": {
          "inputWidgets": {},
          "nuid": "fe741fc8-e33a-4ffc-b118-3e548bf2cd1f",
          "showTitle": false,
          "title": ""
        },
        "id": "flOO5ACpcJI4",
        "outputId": "1c653102-b577-4a6e-ea55-f1106817f521"
      },
      "source": [
        "# Now will define the user defined function (udf calls) - 2 arguments -> lambda function return the len of words (count of words) and second expression is to define type - IntegerType\n",
        "# About lambda function -  An anonymous function means that a function is without a name. As we already know that the def keyword is used to define a normal function in Python. Similarly, the lambda keyword is used to define an anonymous function in Python. 'Syntax: lambda arguments: expression'. This function can have any number of arguments but only one expression, which is evaluated and returned. Lambda definition does not include a “return” statement, it always contains an expression that is returned. So here in this case lambda function is going to take in the words and return the len of the words \n",
        "count_tokens = udf(lambda words : len(words),IntegerType())"
      ],
      "execution_count": null,
      "outputs": [
        {
          "output_type": "display_data",
          "data": {
            "text/html": [
              "<style scoped>\n",
              "  .ansiout {\n",
              "    display: block;\n",
              "    unicode-bidi: embed;\n",
              "    white-space: pre-wrap;\n",
              "    word-wrap: break-word;\n",
              "    word-break: break-all;\n",
              "    font-family: \"Source Code Pro\", \"Menlo\", monospace;;\n",
              "    font-size: 13px;\n",
              "    color: #555;\n",
              "    margin-left: 4px;\n",
              "    line-height: 19px;\n",
              "  }\n",
              "</style>\n",
              "<div class=\"ansiout\"></div>"
            ]
          },
          "metadata": {
            "tags": [],
            "application/vnd.databricks.v1+output": {
              "addedWidgets": {},
              "arguments": {},
              "data": "<div class=\"ansiout\"></div>",
              "datasetInfos": [],
              "removedWidgets": [],
              "type": "html"
            }
          }
        }
      ]
    },
    {
      "cell_type": "code",
      "metadata": {
        "application/vnd.databricks.v1+cell": {
          "inputWidgets": {},
          "nuid": "9348fed0-9b05-4520-bf59-219299444027",
          "showTitle": false,
          "title": ""
        },
        "id": "XKX8X7sScJI5",
        "outputId": "ae1c1cc8-0769-447e-e071-a40556e48c6c"
      },
      "source": [
        "tokenized = tokenizer.transform(sen_df)\n",
        "tokenized.show() # word column is the list of the tokens \n",
        "tokenized.withColumn('token',count_tokens(col('word'))).show()\n",
        "# this shows that 2nd list is not divided as there were ',' and not space in between and hence entire sentence is considered as the single word "
      ],
      "execution_count": null,
      "outputs": [
        {
          "output_type": "display_data",
          "data": {
            "text/html": [
              "<style scoped>\n",
              "  .ansiout {\n",
              "    display: block;\n",
              "    unicode-bidi: embed;\n",
              "    white-space: pre-wrap;\n",
              "    word-wrap: break-word;\n",
              "    word-break: break-all;\n",
              "    font-family: \"Source Code Pro\", \"Menlo\", monospace;;\n",
              "    font-size: 13px;\n",
              "    color: #555;\n",
              "    margin-left: 4px;\n",
              "    line-height: 19px;\n",
              "  }\n",
              "</style>\n",
              "<div class=\"ansiout\">+---+--------------------+--------------------+\n",
              " id|            sentence|                word|\n",
              "+---+--------------------+--------------------+\n",
              "  0|Hi I heard about ...|[hi, i, heard, ab...|\n",
              "  1|I wish java could...|[i, wish, java, c...|\n",
              "  2|Logistic,regressi...|[logistic,regress...|\n",
              "+---+--------------------+--------------------+\n",
              "\n",
              "+---+--------------------+--------------------+-----+\n",
              " id|            sentence|                word|token|\n",
              "+---+--------------------+--------------------+-----+\n",
              "  0|Hi I heard about ...|[hi, i, heard, ab...|    5|\n",
              "  1|I wish java could...|[i, wish, java, c...|    7|\n",
              "  2|Logistic,regressi...|[logistic,regress...|    1|\n",
              "+---+--------------------+--------------------+-----+\n",
              "\n",
              "</div>"
            ]
          },
          "metadata": {
            "tags": [],
            "application/vnd.databricks.v1+output": {
              "addedWidgets": {},
              "arguments": {},
              "data": "<div class=\"ansiout\">+---+--------------------+--------------------+\n| id|            sentence|                word|\n+---+--------------------+--------------------+\n|  0|Hi I heard about ...|[hi, i, heard, ab...|\n|  1|I wish java could...|[i, wish, java, c...|\n|  2|Logistic,regressi...|[logistic,regress...|\n+---+--------------------+--------------------+\n\n+---+--------------------+--------------------+-----+\n| id|            sentence|                word|token|\n+---+--------------------+--------------------+-----+\n|  0|Hi I heard about ...|[hi, i, heard, ab...|    5|\n|  1|I wish java could...|[i, wish, java, c...|    7|\n|  2|Logistic,regressi...|[logistic,regress...|    1|\n+---+--------------------+--------------------+-----+\n\n</div>",
              "datasetInfos": [],
              "removedWidgets": [],
              "type": "html"
            }
          }
        }
      ]
    },
    {
      "cell_type": "code",
      "metadata": {
        "application/vnd.databricks.v1+cell": {
          "inputWidgets": {},
          "nuid": "c33b5ced-8072-4062-a7d5-5cbdf8a04312",
          "showTitle": false,
          "title": ""
        },
        "id": "ICy1svGEcJI5",
        "outputId": "25589dbb-1a08-4162-d4ce-cc2dd3ba4d60"
      },
      "source": [
        "# So now will use the regres tokenizer - With this the token count is correct for the 2nd sentence \n",
        "rg_tokenized = regrex_tokenizer.transform(sen_df)\n",
        "rg_tokenized.withColumn('token',count_tokens(col('word'))).show() "
      ],
      "execution_count": null,
      "outputs": [
        {
          "output_type": "display_data",
          "data": {
            "text/html": [
              "<style scoped>\n",
              "  .ansiout {\n",
              "    display: block;\n",
              "    unicode-bidi: embed;\n",
              "    white-space: pre-wrap;\n",
              "    word-wrap: break-word;\n",
              "    word-break: break-all;\n",
              "    font-family: \"Source Code Pro\", \"Menlo\", monospace;;\n",
              "    font-size: 13px;\n",
              "    color: #555;\n",
              "    margin-left: 4px;\n",
              "    line-height: 19px;\n",
              "  }\n",
              "</style>\n",
              "<div class=\"ansiout\">+---+--------------------+--------------------+-----+\n",
              " id|            sentence|                word|token|\n",
              "+---+--------------------+--------------------+-----+\n",
              "  0|Hi I heard about ...|[hi, i, heard, ab...|    5|\n",
              "  1|I wish java could...|[i, wish, java, c...|    7|\n",
              "  2|Logistic,regressi...|[logistic, regres...|    5|\n",
              "+---+--------------------+--------------------+-----+\n",
              "\n",
              "</div>"
            ]
          },
          "metadata": {
            "tags": [],
            "application/vnd.databricks.v1+output": {
              "addedWidgets": {},
              "arguments": {},
              "data": "<div class=\"ansiout\">+---+--------------------+--------------------+-----+\n| id|            sentence|                word|token|\n+---+--------------------+--------------------+-----+\n|  0|Hi I heard about ...|[hi, i, heard, ab...|    5|\n|  1|I wish java could...|[i, wish, java, c...|    7|\n|  2|Logistic,regressi...|[logistic, regres...|    5|\n+---+--------------------+--------------------+-----+\n\n</div>",
              "datasetInfos": [],
              "removedWidgets": [],
              "type": "html"
            }
          }
        }
      ]
    },
    {
      "cell_type": "code",
      "metadata": {
        "application/vnd.databricks.v1+cell": {
          "inputWidgets": {},
          "nuid": "591e0b3d-1a7b-4c59-baf7-218de47cf5bd",
          "showTitle": false,
          "title": ""
        },
        "id": "tKjpTjoTcJI5",
        "outputId": "166ff013-8dc4-465c-9b24-380e0448f0fb"
      },
      "source": [
        "# stopwordremover - This are the word which appear frequently in the sentences and does not carry out that much meaning\n",
        "from pyspark.ml.feature import StopWordsRemover\n",
        "sentenceDataFrame = spark.createDataFrame([(0,['I','saw','the','green','horse']),(1,['Marry','had','a','little','lamp'])],['id','tokens'])\n",
        "sentenceDataFrame.show()"
      ],
      "execution_count": null,
      "outputs": [
        {
          "output_type": "display_data",
          "data": {
            "text/html": [
              "<style scoped>\n",
              "  .ansiout {\n",
              "    display: block;\n",
              "    unicode-bidi: embed;\n",
              "    white-space: pre-wrap;\n",
              "    word-wrap: break-word;\n",
              "    word-break: break-all;\n",
              "    font-family: \"Source Code Pro\", \"Menlo\", monospace;;\n",
              "    font-size: 13px;\n",
              "    color: #555;\n",
              "    margin-left: 4px;\n",
              "    line-height: 19px;\n",
              "  }\n",
              "</style>\n",
              "<div class=\"ansiout\">+---+--------------------+\n",
              " id|              tokens|\n",
              "+---+--------------------+\n",
              "  0|[I, saw, the, gre...|\n",
              "  1|[Marry, had, a, l...|\n",
              "+---+--------------------+\n",
              "\n",
              "</div>"
            ]
          },
          "metadata": {
            "tags": [],
            "application/vnd.databricks.v1+output": {
              "addedWidgets": {},
              "arguments": {},
              "data": "<div class=\"ansiout\">+---+--------------------+\n| id|              tokens|\n+---+--------------------+\n|  0|[I, saw, the, gre...|\n|  1|[Marry, had, a, l...|\n+---+--------------------+\n\n</div>",
              "datasetInfos": [],
              "removedWidgets": [],
              "type": "html"
            }
          }
        }
      ]
    },
    {
      "cell_type": "code",
      "metadata": {
        "application/vnd.databricks.v1+cell": {
          "inputWidgets": {},
          "nuid": "5c126520-90f2-40b5-bd09-e3d33c2da6b2",
          "showTitle": false,
          "title": ""
        },
        "id": "mgILWBzzcJI6",
        "outputId": "4bf084e9-96bb-443d-f019-ffbc4f31254a"
      },
      "source": [
        "remover = StopWordsRemover(inputCol='tokens',outputCol='filtered')\n",
        "remover.transform(sentenceDataFrame).show() # The words like I,the,had,a are omitted. \n",
        "\n",
        "# LEFT - WITH N-GRAMS"
      ],
      "execution_count": null,
      "outputs": [
        {
          "output_type": "display_data",
          "data": {
            "text/html": [
              "<style scoped>\n",
              "  .ansiout {\n",
              "    display: block;\n",
              "    unicode-bidi: embed;\n",
              "    white-space: pre-wrap;\n",
              "    word-wrap: break-word;\n",
              "    word-break: break-all;\n",
              "    font-family: \"Source Code Pro\", \"Menlo\", monospace;;\n",
              "    font-size: 13px;\n",
              "    color: #555;\n",
              "    margin-left: 4px;\n",
              "    line-height: 19px;\n",
              "  }\n",
              "</style>\n",
              "<div class=\"ansiout\">+---+--------------------+--------------------+\n",
              " id|              tokens|            filtered|\n",
              "+---+--------------------+--------------------+\n",
              "  0|[I, saw, the, gre...| [saw, green, horse]|\n",
              "  1|[Marry, had, a, l...|[Marry, little, l...|\n",
              "+---+--------------------+--------------------+\n",
              "\n",
              "</div>"
            ]
          },
          "metadata": {
            "tags": [],
            "application/vnd.databricks.v1+output": {
              "addedWidgets": {},
              "arguments": {},
              "data": "<div class=\"ansiout\">+---+--------------------+--------------------+\n| id|              tokens|            filtered|\n+---+--------------------+--------------------+\n|  0|[I, saw, the, gre...| [saw, green, horse]|\n|  1|[Marry, had, a, l...|[Marry, little, l...|\n+---+--------------------+--------------------+\n\n</div>",
              "datasetInfos": [],
              "removedWidgets": [],
              "type": "html"
            }
          }
        }
      ]
    },
    {
      "cell_type": "code",
      "metadata": {
        "application/vnd.databricks.v1+cell": {
          "inputWidgets": {},
          "nuid": "bcace2f7-4ca0-4dd6-9d24-dfa34e6e7b35",
          "showTitle": false,
          "title": ""
        },
        "id": "-Yy5UCEicJI6",
        "outputId": "a769acd5-d68b-488a-afa7-60b46936edfc"
      },
      "source": [
        "# Term frequency - Inverse document frequency (TF-IDF) -> improve on Bag of Words by adjusting word counts based on their frequency in corpus (the group of all the documents)\n",
        "# Term Frequency - Importance of the term within that document -> TF(x,y) = Number of occurrences of term x in document y\n",
        "# Inverse Document Frequency - Importance of the term in the corpus -> IDF(t) = log(N/dfx) where N = total number of documents and dfx = number of documents with the term\n",
        "# HashingTF is imported for term frequency, IDF for Inverse Document Frequency\n",
        "from pyspark.ml.feature import HashingTF, IDF, Tokenizer\n",
        "sen_df = spark.createDataFrame([(0.0,'Hi I heard about spark'),(0.0,'I wish java could use case classes'),(1.0,'Logistic regression models are neat')],['label','sentence'])\n",
        "sen_df.show()"
      ],
      "execution_count": null,
      "outputs": [
        {
          "output_type": "display_data",
          "data": {
            "text/html": [
              "<style scoped>\n",
              "  .ansiout {\n",
              "    display: block;\n",
              "    unicode-bidi: embed;\n",
              "    white-space: pre-wrap;\n",
              "    word-wrap: break-word;\n",
              "    word-break: break-all;\n",
              "    font-family: \"Source Code Pro\", \"Menlo\", monospace;;\n",
              "    font-size: 13px;\n",
              "    color: #555;\n",
              "    margin-left: 4px;\n",
              "    line-height: 19px;\n",
              "  }\n",
              "</style>\n",
              "<div class=\"ansiout\">+-----+--------------------+\n",
              "label|            sentence|\n",
              "+-----+--------------------+\n",
              "  0.0|Hi I heard about ...|\n",
              "  0.0|I wish java could...|\n",
              "  1.0|Logistic regressi...|\n",
              "+-----+--------------------+\n",
              "\n",
              "</div>"
            ]
          },
          "metadata": {
            "tags": [],
            "application/vnd.databricks.v1+output": {
              "addedWidgets": {},
              "arguments": {},
              "data": "<div class=\"ansiout\">+-----+--------------------+\n|label|            sentence|\n+-----+--------------------+\n|  0.0|Hi I heard about ...|\n|  0.0|I wish java could...|\n|  1.0|Logistic regressi...|\n+-----+--------------------+\n\n</div>",
              "datasetInfos": [],
              "removedWidgets": [],
              "type": "html"
            }
          }
        }
      ]
    },
    {
      "cell_type": "code",
      "metadata": {
        "application/vnd.databricks.v1+cell": {
          "inputWidgets": {},
          "nuid": "2c9f49c6-68fd-4e0e-89b6-f5de7a2df8ef",
          "showTitle": false,
          "title": ""
        },
        "id": "_cFo9BhfcJI6",
        "outputId": "72d192c1-25b5-4ad2-d0f8-b2ae2e83b379"
      },
      "source": [
        "tokenizer = Tokenizer(inputCol='sentence', outputCol='words')\n",
        "words_data = tokenizer.transform(sen_df)\n",
        "words_data.show()"
      ],
      "execution_count": null,
      "outputs": [
        {
          "output_type": "display_data",
          "data": {
            "text/html": [
              "<style scoped>\n",
              "  .ansiout {\n",
              "    display: block;\n",
              "    unicode-bidi: embed;\n",
              "    white-space: pre-wrap;\n",
              "    word-wrap: break-word;\n",
              "    word-break: break-all;\n",
              "    font-family: \"Source Code Pro\", \"Menlo\", monospace;;\n",
              "    font-size: 13px;\n",
              "    color: #555;\n",
              "    margin-left: 4px;\n",
              "    line-height: 19px;\n",
              "  }\n",
              "</style>\n",
              "<div class=\"ansiout\">+-----+--------------------+--------------------+\n",
              "label|            sentence|               words|\n",
              "+-----+--------------------+--------------------+\n",
              "  0.0|Hi I heard about ...|[hi, i, heard, ab...|\n",
              "  0.0|I wish java could...|[i, wish, java, c...|\n",
              "  1.0|Logistic regressi...|[logistic, regres...|\n",
              "+-----+--------------------+--------------------+\n",
              "\n",
              "</div>"
            ]
          },
          "metadata": {
            "tags": [],
            "application/vnd.databricks.v1+output": {
              "addedWidgets": {},
              "arguments": {},
              "data": "<div class=\"ansiout\">+-----+--------------------+--------------------+\n|label|            sentence|               words|\n+-----+--------------------+--------------------+\n|  0.0|Hi I heard about ...|[hi, i, heard, ab...|\n|  0.0|I wish java could...|[i, wish, java, c...|\n|  1.0|Logistic regressi...|[logistic, regres...|\n+-----+--------------------+--------------------+\n\n</div>",
              "datasetInfos": [],
              "removedWidgets": [],
              "type": "html"
            }
          }
        }
      ]
    },
    {
      "cell_type": "code",
      "metadata": {
        "application/vnd.databricks.v1+cell": {
          "inputWidgets": {},
          "nuid": "4d582518-8a20-477e-8fbd-2e7e71a491a0",
          "showTitle": false,
          "title": ""
        },
        "id": "dEUwND0GcJI7",
        "outputId": "a5fc07c6-31ba-412e-a34e-87d910cf4abe"
      },
      "source": [
        "# Now to deal with term frequency \n",
        "hashing_tf = HashingTF(inputCol='words',outputCol='rawfeatures')\n",
        "featurized_data = hashing_tf.transform(words_data)"
      ],
      "execution_count": null,
      "outputs": [
        {
          "output_type": "display_data",
          "data": {
            "text/html": [
              "<style scoped>\n",
              "  .ansiout {\n",
              "    display: block;\n",
              "    unicode-bidi: embed;\n",
              "    white-space: pre-wrap;\n",
              "    word-wrap: break-word;\n",
              "    word-break: break-all;\n",
              "    font-family: \"Source Code Pro\", \"Menlo\", monospace;;\n",
              "    font-size: 13px;\n",
              "    color: #555;\n",
              "    margin-left: 4px;\n",
              "    line-height: 19px;\n",
              "  }\n",
              "</style>\n",
              "<div class=\"ansiout\"></div>"
            ]
          },
          "metadata": {
            "tags": [],
            "application/vnd.databricks.v1+output": {
              "addedWidgets": {},
              "arguments": {},
              "data": "<div class=\"ansiout\"></div>",
              "datasetInfos": [],
              "removedWidgets": [],
              "type": "html"
            }
          }
        }
      ]
    },
    {
      "cell_type": "code",
      "metadata": {
        "application/vnd.databricks.v1+cell": {
          "inputWidgets": {},
          "nuid": "e2edf875-736a-424a-9725-75050239e355",
          "showTitle": false,
          "title": ""
        },
        "id": "KKamIxKAcJI7",
        "outputId": "f0b58fb5-59e1-4008-a2f7-33f1612c6456"
      },
      "source": [
        "# Now to apply IDF \n",
        "idf = IDF(inputCol='rawfeatures',outputCol='features')\n",
        "idf_model = idf.fit(featurized_data)"
      ],
      "execution_count": null,
      "outputs": [
        {
          "output_type": "display_data",
          "data": {
            "text/html": [
              "<style scoped>\n",
              "  .ansiout {\n",
              "    display: block;\n",
              "    unicode-bidi: embed;\n",
              "    white-space: pre-wrap;\n",
              "    word-wrap: break-word;\n",
              "    word-break: break-all;\n",
              "    font-family: \"Source Code Pro\", \"Menlo\", monospace;;\n",
              "    font-size: 13px;\n",
              "    color: #555;\n",
              "    margin-left: 4px;\n",
              "    line-height: 19px;\n",
              "  }\n",
              "</style>\n",
              "<div class=\"ansiout\"></div>"
            ]
          },
          "metadata": {
            "tags": [],
            "application/vnd.databricks.v1+output": {
              "addedWidgets": {},
              "arguments": {},
              "data": "<div class=\"ansiout\"></div>",
              "datasetInfos": [],
              "removedWidgets": [],
              "type": "html"
            }
          }
        }
      ]
    },
    {
      "cell_type": "code",
      "metadata": {
        "application/vnd.databricks.v1+cell": {
          "inputWidgets": {},
          "nuid": "a46c1453-ccd8-4d91-a5d2-6739d65ca490",
          "showTitle": false,
          "title": ""
        },
        "id": "u2UX4TgNcJI7",
        "outputId": "03e4e09d-dddd-408c-a0e6-a374d55626e2"
      },
      "source": [
        "featurized_data.show()\n",
        "rescaled_data = idf_model.transform(featurized_data)\n",
        "rescaled_data.select('label','features').show(truncate=False)"
      ],
      "execution_count": null,
      "outputs": [
        {
          "output_type": "display_data",
          "data": {
            "text/html": [
              "<style scoped>\n",
              "  .ansiout {\n",
              "    display: block;\n",
              "    unicode-bidi: embed;\n",
              "    white-space: pre-wrap;\n",
              "    word-wrap: break-word;\n",
              "    word-break: break-all;\n",
              "    font-family: \"Source Code Pro\", \"Menlo\", monospace;;\n",
              "    font-size: 13px;\n",
              "    color: #555;\n",
              "    margin-left: 4px;\n",
              "    line-height: 19px;\n",
              "  }\n",
              "</style>\n",
              "<div class=\"ansiout\">+-----+--------------------+--------------------+--------------------+\n",
              "label|            sentence|               words|         rawfeatures|\n",
              "+-----+--------------------+--------------------+--------------------+\n",
              "  0.0|Hi I heard about ...|[hi, i, heard, ab...|(262144,[18700,19...|\n",
              "  0.0|I wish java could...|[i, wish, java, c...|(262144,[19036,20...|\n",
              "  1.0|Logistic regressi...|[logistic, regres...|(262144,[46243,58...|\n",
              "+-----+--------------------+--------------------+--------------------+\n",
              "\n",
              "+-----+----------------------------------------------------------------------------------------------------------------------------------------------------------------------------------------------+\n",
              "label|features                                                                                                                                                                                      |\n",
              "+-----+----------------------------------------------------------------------------------------------------------------------------------------------------------------------------------------------+\n",
              "0.0  |(262144,[18700,19036,33808,66273,173558],[0.6931471805599453,0.28768207245178085,0.6931471805599453,0.6931471805599453,0.6931471805599453])                                                   |\n",
              "0.0  |(262144,[19036,20719,55551,58672,98717,109547,192310],[0.28768207245178085,0.6931471805599453,0.6931471805599453,0.6931471805599453,0.6931471805599453,0.6931471805599453,0.6931471805599453])|\n",
              "1.0  |(262144,[46243,58267,91006,160975,190884],[0.6931471805599453,0.6931471805599453,0.6931471805599453,0.6931471805599453,0.6931471805599453])                                                   |\n",
              "+-----+----------------------------------------------------------------------------------------------------------------------------------------------------------------------------------------------+\n",
              "\n",
              "</div>"
            ]
          },
          "metadata": {
            "tags": [],
            "application/vnd.databricks.v1+output": {
              "addedWidgets": {},
              "arguments": {},
              "data": "<div class=\"ansiout\">+-----+--------------------+--------------------+--------------------+\n|label|            sentence|               words|         rawfeatures|\n+-----+--------------------+--------------------+--------------------+\n|  0.0|Hi I heard about ...|[hi, i, heard, ab...|(262144,[18700,19...|\n|  0.0|I wish java could...|[i, wish, java, c...|(262144,[19036,20...|\n|  1.0|Logistic regressi...|[logistic, regres...|(262144,[46243,58...|\n+-----+--------------------+--------------------+--------------------+\n\n+-----+----------------------------------------------------------------------------------------------------------------------------------------------------------------------------------------------+\n|label|features                                                                                                                                                                                      |\n+-----+----------------------------------------------------------------------------------------------------------------------------------------------------------------------------------------------+\n|0.0  |(262144,[18700,19036,33808,66273,173558],[0.6931471805599453,0.28768207245178085,0.6931471805599453,0.6931471805599453,0.6931471805599453])                                                   |\n|0.0  |(262144,[19036,20719,55551,58672,98717,109547,192310],[0.28768207245178085,0.6931471805599453,0.6931471805599453,0.6931471805599453,0.6931471805599453,0.6931471805599453,0.6931471805599453])|\n|1.0  |(262144,[46243,58267,91006,160975,190884],[0.6931471805599453,0.6931471805599453,0.6931471805599453,0.6931471805599453,0.6931471805599453])                                                   |\n+-----+----------------------------------------------------------------------------------------------------------------------------------------------------------------------------------------------+\n\n</div>",
              "datasetInfos": [],
              "removedWidgets": [],
              "type": "html"
            }
          }
        }
      ]
    },
    {
      "cell_type": "code",
      "metadata": {
        "application/vnd.databricks.v1+cell": {
          "inputWidgets": {},
          "nuid": "c5007392-9060-434e-9ee5-936bdc91e056",
          "showTitle": false,
          "title": ""
        },
        "id": "My-FG1VbcJI_",
        "outputId": "2b26b49d-6a76-42ce-957a-09d049b666e4"
      },
      "source": [
        "# Now coming to count Vectorizer and Count Vectorizer model - It helps in converting the collections of text document into vector of word counts\n",
        "from pyspark.ml.feature import CountVectorizer\n",
        "df = spark.createDataFrame([(0,'a b c'.split(\" \")),(1,'a b b c a'.split(\" \"))],['id','words'])\n",
        "df.show()"
      ],
      "execution_count": null,
      "outputs": [
        {
          "output_type": "display_data",
          "data": {
            "text/html": [
              "<style scoped>\n",
              "  .ansiout {\n",
              "    display: block;\n",
              "    unicode-bidi: embed;\n",
              "    white-space: pre-wrap;\n",
              "    word-wrap: break-word;\n",
              "    word-break: break-all;\n",
              "    font-family: \"Source Code Pro\", \"Menlo\", monospace;;\n",
              "    font-size: 13px;\n",
              "    color: #555;\n",
              "    margin-left: 4px;\n",
              "    line-height: 19px;\n",
              "  }\n",
              "</style>\n",
              "<div class=\"ansiout\">+---+---------------+\n",
              " id|          words|\n",
              "+---+---------------+\n",
              "  0|      [a, b, c]|\n",
              "  1|[a, b, b, c, a]|\n",
              "+---+---------------+\n",
              "\n",
              "</div>"
            ]
          },
          "metadata": {
            "tags": [],
            "application/vnd.databricks.v1+output": {
              "addedWidgets": {},
              "arguments": {},
              "data": "<div class=\"ansiout\">+---+---------------+\n| id|          words|\n+---+---------------+\n|  0|      [a, b, c]|\n|  1|[a, b, b, c, a]|\n+---+---------------+\n\n</div>",
              "datasetInfos": [],
              "removedWidgets": [],
              "type": "html"
            }
          }
        }
      ]
    },
    {
      "cell_type": "code",
      "metadata": {
        "application/vnd.databricks.v1+cell": {
          "inputWidgets": {},
          "nuid": "6b6c5047-33df-4ce9-8a04-dd1198af22b7",
          "showTitle": false,
          "title": ""
        },
        "id": "y4MxpNqFcJI_",
        "outputId": "808182a4-323f-40a4-f756-002ed5b8149f"
      },
      "source": [
        "# For CountVectorizer we use the inputCol, outputCol, vocabSize = 3 (beacuse as shown in the input we have 3 unique vocab size) and minDF is the optional parameter and what it does is it effects the fitting process by specifying the minimum number of documents a term must appear in to be included in the voacb, so suppose if the term/word is appearing in only one document and minDF=2 then it will not appear in final Vocabulary. \n",
        "cv = CountVectorizer(inputCol='words',outputCol='features',vocabSize=3, minDF=2.0)\n",
        "model = cv.fit(df)"
      ],
      "execution_count": null,
      "outputs": [
        {
          "output_type": "display_data",
          "data": {
            "text/html": [
              "<style scoped>\n",
              "  .ansiout {\n",
              "    display: block;\n",
              "    unicode-bidi: embed;\n",
              "    white-space: pre-wrap;\n",
              "    word-wrap: break-word;\n",
              "    word-break: break-all;\n",
              "    font-family: \"Source Code Pro\", \"Menlo\", monospace;;\n",
              "    font-size: 13px;\n",
              "    color: #555;\n",
              "    margin-left: 4px;\n",
              "    line-height: 19px;\n",
              "  }\n",
              "</style>\n",
              "<div class=\"ansiout\"></div>"
            ]
          },
          "metadata": {
            "tags": [],
            "application/vnd.databricks.v1+output": {
              "addedWidgets": {},
              "arguments": {},
              "data": "<div class=\"ansiout\"></div>",
              "datasetInfos": [],
              "removedWidgets": [],
              "type": "html"
            }
          }
        }
      ]
    },
    {
      "cell_type": "code",
      "metadata": {
        "application/vnd.databricks.v1+cell": {
          "inputWidgets": {},
          "nuid": "bab51df7-7fc8-4c5b-9abb-fb8105228a46",
          "showTitle": false,
          "title": ""
        },
        "id": "Nb_cXVN4cJJA",
        "outputId": "1b1e84bf-3f1e-403c-b32c-9a349543051f"
      },
      "source": [
        "result = model.transform(df)\n",
        "result.show(truncate=False) \n",
        "# It shows that in id=1 as a is appearing 2 times, hence in count in features it is written 2.0, same for b and c. This is the 'bag of words' method "
      ],
      "execution_count": null,
      "outputs": [
        {
          "output_type": "display_data",
          "data": {
            "text/html": [
              "<style scoped>\n",
              "  .ansiout {\n",
              "    display: block;\n",
              "    unicode-bidi: embed;\n",
              "    white-space: pre-wrap;\n",
              "    word-wrap: break-word;\n",
              "    word-break: break-all;\n",
              "    font-family: \"Source Code Pro\", \"Menlo\", monospace;;\n",
              "    font-size: 13px;\n",
              "    color: #555;\n",
              "    margin-left: 4px;\n",
              "    line-height: 19px;\n",
              "  }\n",
              "</style>\n",
              "<div class=\"ansiout\">+---+---------------+-------------------------+\n",
              "id |words          |features                 |\n",
              "+---+---------------+-------------------------+\n",
              "0  |[a, b, c]      |(3,[0,1,2],[1.0,1.0,1.0])|\n",
              "1  |[a, b, b, c, a]|(3,[0,1,2],[2.0,2.0,1.0])|\n",
              "+---+---------------+-------------------------+\n",
              "\n",
              "</div>"
            ]
          },
          "metadata": {
            "tags": [],
            "application/vnd.databricks.v1+output": {
              "addedWidgets": {},
              "arguments": {},
              "data": "<div class=\"ansiout\">+---+---------------+-------------------------+\n|id |words          |features                 |\n+---+---------------+-------------------------+\n|0  |[a, b, c]      |(3,[0,1,2],[1.0,1.0,1.0])|\n|1  |[a, b, b, c, a]|(3,[0,1,2],[2.0,2.0,1.0])|\n+---+---------------+-------------------------+\n\n</div>",
              "datasetInfos": [],
              "removedWidgets": [],
              "type": "html"
            }
          }
        }
      ]
    },
    {
      "cell_type": "code",
      "metadata": {
        "application/vnd.databricks.v1+cell": {
          "inputWidgets": {},
          "nuid": "b6211a1e-55ed-4a34-9753-09e4608eb808",
          "showTitle": false,
          "title": ""
        },
        "id": "N3A6xj8acJJA",
        "outputId": "4398f462-b85a-45a2-869b-1ee29635dc62"
      },
      "source": [
        "## SECTION 16 - SPAM DECTECTION FILTER USING PYTHON AND SPARK\n",
        "\n",
        "# spam detection filter using python and spark - NLP\n",
        "data = spark.read.format(\"csv\").load(\"dbfs:/FileStore/shared_uploads/nisargmehta2000@gmail.com/SMSSpamCollection\", inferSchema = True, sep='\\t') # as it is giving out the wrong header therefore will remove header = True\n",
        "data = data.withColumnRenamed('_c0','class').withColumnRenamed('_c1','text')\n",
        "data.show()"
      ],
      "execution_count": null,
      "outputs": [
        {
          "output_type": "display_data",
          "data": {
            "text/html": [
              "<style scoped>\n",
              "  .ansiout {\n",
              "    display: block;\n",
              "    unicode-bidi: embed;\n",
              "    white-space: pre-wrap;\n",
              "    word-wrap: break-word;\n",
              "    word-break: break-all;\n",
              "    font-family: \"Source Code Pro\", \"Menlo\", monospace;;\n",
              "    font-size: 13px;\n",
              "    color: #555;\n",
              "    margin-left: 4px;\n",
              "    line-height: 19px;\n",
              "  }\n",
              "</style>\n",
              "<div class=\"ansiout\">+-----+--------------------+\n",
              "class|                text|\n",
              "+-----+--------------------+\n",
              "  ham|Go until jurong p...|\n",
              "  ham|Ok lar... Joking ...|\n",
              " spam|Free entry in 2 a...|\n",
              "  ham|U dun say so earl...|\n",
              "  ham|Nah I don&#39;t think...|\n",
              " spam|FreeMsg Hey there...|\n",
              "  ham|Even my brother i...|\n",
              "  ham|As per your reque...|\n",
              " spam|WINNER!! As a val...|\n",
              " spam|Had your mobile 1...|\n",
              "  ham|I&#39;m gonna be home...|\n",
              " spam|SIX chances to wi...|\n",
              " spam|URGENT! You have ...|\n",
              "  ham|I&#39;ve been searchi...|\n",
              "  ham|I HAVE A DATE ON ...|\n",
              " spam|XXXMobileMovieClu...|\n",
              "  ham|Oh k...i&#39;m watchi...|\n",
              "  ham|Eh u remember how...|\n",
              "  ham|Fine if thats th...|\n",
              " spam|England v Macedon...|\n",
              "+-----+--------------------+\n",
              "only showing top 20 rows\n",
              "\n",
              "</div>"
            ]
          },
          "metadata": {
            "tags": [],
            "application/vnd.databricks.v1+output": {
              "addedWidgets": {},
              "arguments": {},
              "data": "<div class=\"ansiout\">+-----+--------------------+\n|class|                text|\n+-----+--------------------+\n|  ham|Go until jurong p...|\n|  ham|Ok lar... Joking ...|\n| spam|Free entry in 2 a...|\n|  ham|U dun say so earl...|\n|  ham|Nah I don&#39;t think...|\n| spam|FreeMsg Hey there...|\n|  ham|Even my brother i...|\n|  ham|As per your reque...|\n| spam|WINNER!! As a val...|\n| spam|Had your mobile 1...|\n|  ham|I&#39;m gonna be home...|\n| spam|SIX chances to wi...|\n| spam|URGENT! You have ...|\n|  ham|I&#39;ve been searchi...|\n|  ham|I HAVE A DATE ON ...|\n| spam|XXXMobileMovieClu...|\n|  ham|Oh k...i&#39;m watchi...|\n|  ham|Eh u remember how...|\n|  ham|Fine if thats th...|\n| spam|England v Macedon...|\n+-----+--------------------+\nonly showing top 20 rows\n\n</div>",
              "datasetInfos": [],
              "removedWidgets": [],
              "type": "html"
            }
          }
        }
      ]
    },
    {
      "cell_type": "code",
      "metadata": {
        "application/vnd.databricks.v1+cell": {
          "inputWidgets": {},
          "nuid": "8a25c5c9-c7d9-454e-a0fd-f18be5f289c9",
          "showTitle": false,
          "title": ""
        },
        "id": "R_UUnVsMcJJA",
        "outputId": "781dc196-63f3-4a07-a640-4646f7244136"
      },
      "source": [
        "# Firstly we had created the user defined function for calculating the count of words, but we can directly use the 'length' functions\n",
        "from pyspark.sql.functions import length\n",
        "data = data.withColumn('length',length(data['text']))\n",
        "data.show()"
      ],
      "execution_count": null,
      "outputs": [
        {
          "output_type": "display_data",
          "data": {
            "text/html": [
              "<style scoped>\n",
              "  .ansiout {\n",
              "    display: block;\n",
              "    unicode-bidi: embed;\n",
              "    white-space: pre-wrap;\n",
              "    word-wrap: break-word;\n",
              "    word-break: break-all;\n",
              "    font-family: \"Source Code Pro\", \"Menlo\", monospace;;\n",
              "    font-size: 13px;\n",
              "    color: #555;\n",
              "    margin-left: 4px;\n",
              "    line-height: 19px;\n",
              "  }\n",
              "</style>\n",
              "<div class=\"ansiout\">+-----+--------------------+------+\n",
              "class|                text|length|\n",
              "+-----+--------------------+------+\n",
              "  ham|Go until jurong p...|   111|\n",
              "  ham|Ok lar... Joking ...|    29|\n",
              " spam|Free entry in 2 a...|   155|\n",
              "  ham|U dun say so earl...|    49|\n",
              "  ham|Nah I don&#39;t think...|    61|\n",
              " spam|FreeMsg Hey there...|   147|\n",
              "  ham|Even my brother i...|    77|\n",
              "  ham|As per your reque...|   160|\n",
              " spam|WINNER!! As a val...|   157|\n",
              " spam|Had your mobile 1...|   154|\n",
              "  ham|I&#39;m gonna be home...|   109|\n",
              " spam|SIX chances to wi...|   136|\n",
              " spam|URGENT! You have ...|   155|\n",
              "  ham|I&#39;ve been searchi...|   196|\n",
              "  ham|I HAVE A DATE ON ...|    35|\n",
              " spam|XXXMobileMovieClu...|   149|\n",
              "  ham|Oh k...i&#39;m watchi...|    26|\n",
              "  ham|Eh u remember how...|    81|\n",
              "  ham|Fine if thats th...|    56|\n",
              " spam|England v Macedon...|   155|\n",
              "+-----+--------------------+------+\n",
              "only showing top 20 rows\n",
              "\n",
              "</div>"
            ]
          },
          "metadata": {
            "tags": [],
            "application/vnd.databricks.v1+output": {
              "addedWidgets": {},
              "arguments": {},
              "data": "<div class=\"ansiout\">+-----+--------------------+------+\n|class|                text|length|\n+-----+--------------------+------+\n|  ham|Go until jurong p...|   111|\n|  ham|Ok lar... Joking ...|    29|\n| spam|Free entry in 2 a...|   155|\n|  ham|U dun say so earl...|    49|\n|  ham|Nah I don&#39;t think...|    61|\n| spam|FreeMsg Hey there...|   147|\n|  ham|Even my brother i...|    77|\n|  ham|As per your reque...|   160|\n| spam|WINNER!! As a val...|   157|\n| spam|Had your mobile 1...|   154|\n|  ham|I&#39;m gonna be home...|   109|\n| spam|SIX chances to wi...|   136|\n| spam|URGENT! You have ...|   155|\n|  ham|I&#39;ve been searchi...|   196|\n|  ham|I HAVE A DATE ON ...|    35|\n| spam|XXXMobileMovieClu...|   149|\n|  ham|Oh k...i&#39;m watchi...|    26|\n|  ham|Eh u remember how...|    81|\n|  ham|Fine if thats th...|    56|\n| spam|England v Macedon...|   155|\n+-----+--------------------+------+\nonly showing top 20 rows\n\n</div>",
              "datasetInfos": [],
              "removedWidgets": [],
              "type": "html"
            }
          }
        }
      ]
    },
    {
      "cell_type": "code",
      "metadata": {
        "application/vnd.databricks.v1+cell": {
          "inputWidgets": {},
          "nuid": "5d3c1c61-5ae0-48fd-a600-215ddae6d3c3",
          "showTitle": false,
          "title": ""
        },
        "id": "04EXI5eLcJJB",
        "outputId": "70795765-9ef9-4b62-95ae-8c8aa8f5e8ac"
      },
      "source": [
        "# To differnciate the ham and spam mails with the help of the length, so from below with the help of avg b/w the length of ham and spam there is the difference between ham and spam messages\n",
        "data.groupBy('class').mean().show()"
      ],
      "execution_count": null,
      "outputs": [
        {
          "output_type": "display_data",
          "data": {
            "text/html": [
              "<style scoped>\n",
              "  .ansiout {\n",
              "    display: block;\n",
              "    unicode-bidi: embed;\n",
              "    white-space: pre-wrap;\n",
              "    word-wrap: break-word;\n",
              "    word-break: break-all;\n",
              "    font-family: \"Source Code Pro\", \"Menlo\", monospace;;\n",
              "    font-size: 13px;\n",
              "    color: #555;\n",
              "    margin-left: 4px;\n",
              "    line-height: 19px;\n",
              "  }\n",
              "</style>\n",
              "<div class=\"ansiout\">+-----+-----------------+\n",
              "class|      avg(length)|\n",
              "+-----+-----------------+\n",
              "  ham| 71.4545266210897|\n",
              " spam|138.6706827309237|\n",
              "+-----+-----------------+\n",
              "\n",
              "</div>"
            ]
          },
          "metadata": {
            "tags": [],
            "application/vnd.databricks.v1+output": {
              "addedWidgets": {},
              "arguments": {},
              "data": "<div class=\"ansiout\">+-----+-----------------+\n|class|      avg(length)|\n+-----+-----------------+\n|  ham| 71.4545266210897|\n| spam|138.6706827309237|\n+-----+-----------------+\n\n</div>",
              "datasetInfos": [],
              "removedWidgets": [],
              "type": "html"
            }
          }
        }
      ]
    },
    {
      "cell_type": "code",
      "metadata": {
        "application/vnd.databricks.v1+cell": {
          "inputWidgets": {},
          "nuid": "bfde3a48-10fa-4e73-860d-3d12ceb67de6",
          "showTitle": false,
          "title": ""
        },
        "id": "N5MV4YWgcJJC",
        "outputId": "53ba5027-df30-4830-81ec-a869b2ae55b8"
      },
      "source": [
        "# this is form of NLP tools\n",
        "from pyspark.ml.feature import Tokenizer, StopWordsRemover, CountVectorizer, IDF, StringIndexer\n",
        "\n",
        "tokenizer = Tokenizer(inputCol='text', outputCol='token_test') # Step1 - Converting the sentences into words\n",
        "stop_remove = StopWordsRemover(inputCol='token_test', outputCol='stop_token') #step2 - Removing the unwanted words (repeative words)\n",
        "count_vec = CountVectorizer(inputCol='stop_token', outputCol='c_vec') #step3 - It helps in converting the collections of text document into vector of word counts\n",
        "idf = IDF(inputCol='c_vec', outputCol='tf_idf') # step4 - apply the tf_idf\n",
        "ham_spam_to_numeric = StringIndexer(inputCol='class',outputCol='label') #step5 - To convert the ham and spam as a string to index (int)"
      ],
      "execution_count": null,
      "outputs": [
        {
          "output_type": "display_data",
          "data": {
            "text/html": [
              "<style scoped>\n",
              "  .ansiout {\n",
              "    display: block;\n",
              "    unicode-bidi: embed;\n",
              "    white-space: pre-wrap;\n",
              "    word-wrap: break-word;\n",
              "    word-break: break-all;\n",
              "    font-family: \"Source Code Pro\", \"Menlo\", monospace;;\n",
              "    font-size: 13px;\n",
              "    color: #555;\n",
              "    margin-left: 4px;\n",
              "    line-height: 19px;\n",
              "  }\n",
              "</style>\n",
              "<div class=\"ansiout\"></div>"
            ]
          },
          "metadata": {
            "tags": [],
            "application/vnd.databricks.v1+output": {
              "addedWidgets": {},
              "arguments": {},
              "data": "<div class=\"ansiout\"></div>",
              "datasetInfos": [],
              "removedWidgets": [],
              "type": "html"
            }
          }
        }
      ]
    },
    {
      "cell_type": "code",
      "metadata": {
        "application/vnd.databricks.v1+cell": {
          "inputWidgets": {},
          "nuid": "bc316156-a022-45ce-be2a-261371672c96",
          "showTitle": false,
          "title": ""
        },
        "id": "lbm-KNJLcJJC",
        "outputId": "e9978c12-b334-4d9d-eec9-d3d8c8097bb2"
      },
      "source": [
        "# tf_idf is what we got as the output from 4th step from above and we are combining with length col that we prev calculated - finally we are outputting as the feature column \n",
        "from pyspark.ml.feature import VectorAssembler\n",
        "clean_up = VectorAssembler(inputCols=['tf_idf','length'],outputCol='features')"
      ],
      "execution_count": null,
      "outputs": [
        {
          "output_type": "display_data",
          "data": {
            "text/html": [
              "<style scoped>\n",
              "  .ansiout {\n",
              "    display: block;\n",
              "    unicode-bidi: embed;\n",
              "    white-space: pre-wrap;\n",
              "    word-wrap: break-word;\n",
              "    word-break: break-all;\n",
              "    font-family: \"Source Code Pro\", \"Menlo\", monospace;;\n",
              "    font-size: 13px;\n",
              "    color: #555;\n",
              "    margin-left: 4px;\n",
              "    line-height: 19px;\n",
              "  }\n",
              "</style>\n",
              "<div class=\"ansiout\"></div>"
            ]
          },
          "metadata": {
            "tags": [],
            "application/vnd.databricks.v1+output": {
              "addedWidgets": {},
              "arguments": {},
              "data": "<div class=\"ansiout\"></div>",
              "datasetInfos": [],
              "removedWidgets": [],
              "type": "html"
            }
          }
        }
      ]
    },
    {
      "cell_type": "code",
      "metadata": {
        "application/vnd.databricks.v1+cell": {
          "inputWidgets": {},
          "nuid": "15be842f-0077-45d7-97d7-5b1b2f47732c",
          "showTitle": false,
          "title": ""
        },
        "id": "uHQyPEnucJJD",
        "outputId": "00545905-917c-4fce-ec0a-6ca47b5499d8"
      },
      "source": [
        "# Biuld the model - Classification model - Going to use Navie based which is the classic model to use NLP\n",
        "from pyspark.ml.classification import NaiveBayes\n",
        "nb = NaiveBayes() # Creating nb object "
      ],
      "execution_count": null,
      "outputs": [
        {
          "output_type": "display_data",
          "data": {
            "text/html": [
              "<style scoped>\n",
              "  .ansiout {\n",
              "    display: block;\n",
              "    unicode-bidi: embed;\n",
              "    white-space: pre-wrap;\n",
              "    word-wrap: break-word;\n",
              "    word-break: break-all;\n",
              "    font-family: \"Source Code Pro\", \"Menlo\", monospace;;\n",
              "    font-size: 13px;\n",
              "    color: #555;\n",
              "    margin-left: 4px;\n",
              "    line-height: 19px;\n",
              "  }\n",
              "</style>\n",
              "<div class=\"ansiout\"></div>"
            ]
          },
          "metadata": {
            "tags": [],
            "application/vnd.databricks.v1+output": {
              "addedWidgets": {},
              "arguments": {},
              "data": "<div class=\"ansiout\"></div>",
              "datasetInfos": [],
              "removedWidgets": [],
              "type": "html"
            }
          }
        }
      ]
    },
    {
      "cell_type": "code",
      "metadata": {
        "application/vnd.databricks.v1+cell": {
          "inputWidgets": {},
          "nuid": "7a5ee6b7-a51f-48be-ba6b-7021999f5a8c",
          "showTitle": false,
          "title": ""
        },
        "id": "gT5wiSVpcJJD",
        "outputId": "6acbb393-8c06-4fdc-de44-2c084e8b02f0"
      },
      "source": [
        "from pyspark.ml import Pipeline\n",
        "data_prep_pipe = Pipeline(stages=[tokenizer,stop_remove,count_vec,idf,ham_spam_to_numeric,clean_up])\n",
        "cleaner = data_prep_pipe.fit(data)\n",
        "clean_data = cleaner.transform(data)"
      ],
      "execution_count": null,
      "outputs": [
        {
          "output_type": "display_data",
          "data": {
            "text/html": [
              "<style scoped>\n",
              "  .ansiout {\n",
              "    display: block;\n",
              "    unicode-bidi: embed;\n",
              "    white-space: pre-wrap;\n",
              "    word-wrap: break-word;\n",
              "    word-break: break-all;\n",
              "    font-family: \"Source Code Pro\", \"Menlo\", monospace;;\n",
              "    font-size: 13px;\n",
              "    color: #555;\n",
              "    margin-left: 4px;\n",
              "    line-height: 19px;\n",
              "  }\n",
              "</style>\n",
              "<div class=\"ansiout\"></div>"
            ]
          },
          "metadata": {
            "tags": [],
            "application/vnd.databricks.v1+output": {
              "addedWidgets": {},
              "arguments": {},
              "data": "<div class=\"ansiout\"></div>",
              "datasetInfos": [],
              "removedWidgets": [],
              "type": "html"
            }
          }
        }
      ]
    },
    {
      "cell_type": "code",
      "metadata": {
        "application/vnd.databricks.v1+cell": {
          "inputWidgets": {},
          "nuid": "cf1c1bb6-5a89-43f5-813a-f3476147df2d",
          "showTitle": false,
          "title": ""
        },
        "id": "exqzTEizcJJD",
        "outputId": "bb1dfcdf-866f-4ca4-c3a3-8784e72bf719"
      },
      "source": [
        "clean_data = clean_data.select('label','features')\n",
        "clean_data.show()"
      ],
      "execution_count": null,
      "outputs": [
        {
          "output_type": "display_data",
          "data": {
            "text/html": [
              "<style scoped>\n",
              "  .ansiout {\n",
              "    display: block;\n",
              "    unicode-bidi: embed;\n",
              "    white-space: pre-wrap;\n",
              "    word-wrap: break-word;\n",
              "    word-break: break-all;\n",
              "    font-family: \"Source Code Pro\", \"Menlo\", monospace;;\n",
              "    font-size: 13px;\n",
              "    color: #555;\n",
              "    margin-left: 4px;\n",
              "    line-height: 19px;\n",
              "  }\n",
              "</style>\n",
              "<div class=\"ansiout\">+-----+--------------------+\n",
              "label|            features|\n",
              "+-----+--------------------+\n",
              "  0.0|(13424,[7,11,31,6...|\n",
              "  0.0|(13424,[0,24,297,...|\n",
              "  1.0|(13424,[2,13,19,3...|\n",
              "  0.0|(13424,[0,70,80,1...|\n",
              "  0.0|(13424,[36,134,31...|\n",
              "  1.0|(13424,[10,60,139...|\n",
              "  0.0|(13424,[10,53,103...|\n",
              "  0.0|(13424,[125,184,4...|\n",
              "  1.0|(13424,[1,47,118,...|\n",
              "  1.0|(13424,[0,1,13,27...|\n",
              "  0.0|(13424,[18,43,120...|\n",
              "  1.0|(13424,[8,17,37,8...|\n",
              "  1.0|(13424,[13,30,47,...|\n",
              "  0.0|(13424,[39,96,217...|\n",
              "  0.0|(13424,[552,1697,...|\n",
              "  1.0|(13424,[30,109,11...|\n",
              "  0.0|(13424,[82,214,47...|\n",
              "  0.0|(13424,[0,2,49,13...|\n",
              "  0.0|(13424,[0,74,105,...|\n",
              "  1.0|(13424,[4,30,33,5...|\n",
              "+-----+--------------------+\n",
              "only showing top 20 rows\n",
              "\n",
              "</div>"
            ]
          },
          "metadata": {
            "tags": [],
            "application/vnd.databricks.v1+output": {
              "addedWidgets": {},
              "arguments": {},
              "data": "<div class=\"ansiout\">+-----+--------------------+\n|label|            features|\n+-----+--------------------+\n|  0.0|(13424,[7,11,31,6...|\n|  0.0|(13424,[0,24,297,...|\n|  1.0|(13424,[2,13,19,3...|\n|  0.0|(13424,[0,70,80,1...|\n|  0.0|(13424,[36,134,31...|\n|  1.0|(13424,[10,60,139...|\n|  0.0|(13424,[10,53,103...|\n|  0.0|(13424,[125,184,4...|\n|  1.0|(13424,[1,47,118,...|\n|  1.0|(13424,[0,1,13,27...|\n|  0.0|(13424,[18,43,120...|\n|  1.0|(13424,[8,17,37,8...|\n|  1.0|(13424,[13,30,47,...|\n|  0.0|(13424,[39,96,217...|\n|  0.0|(13424,[552,1697,...|\n|  1.0|(13424,[30,109,11...|\n|  0.0|(13424,[82,214,47...|\n|  0.0|(13424,[0,2,49,13...|\n|  0.0|(13424,[0,74,105,...|\n|  1.0|(13424,[4,30,33,5...|\n+-----+--------------------+\nonly showing top 20 rows\n\n</div>",
              "datasetInfos": [],
              "removedWidgets": [],
              "type": "html"
            }
          }
        }
      ]
    },
    {
      "cell_type": "code",
      "metadata": {
        "application/vnd.databricks.v1+cell": {
          "inputWidgets": {},
          "nuid": "b6f51b89-1c7a-4ce5-9213-0b7a0cdd6b94",
          "showTitle": false,
          "title": ""
        },
        "id": "OfRNQaHVcJJD",
        "outputId": "76d3104c-e3b2-45f8-9f87-6d0fb580ddd9"
      },
      "source": [
        "# Now to train and test the data\n",
        "train_data, test_data = clean_data.randomSplit([0.7,0.3])\n",
        "spam_detector = nb.fit(train_data)"
      ],
      "execution_count": null,
      "outputs": [
        {
          "output_type": "display_data",
          "data": {
            "text/html": [
              "<style scoped>\n",
              "  .ansiout {\n",
              "    display: block;\n",
              "    unicode-bidi: embed;\n",
              "    white-space: pre-wrap;\n",
              "    word-wrap: break-word;\n",
              "    word-break: break-all;\n",
              "    font-family: \"Source Code Pro\", \"Menlo\", monospace;;\n",
              "    font-size: 13px;\n",
              "    color: #555;\n",
              "    margin-left: 4px;\n",
              "    line-height: 19px;\n",
              "  }\n",
              "</style>\n",
              "<div class=\"ansiout\"></div>"
            ]
          },
          "metadata": {
            "tags": [],
            "application/vnd.databricks.v1+output": {
              "addedWidgets": {},
              "arguments": {},
              "data": "<div class=\"ansiout\"></div>",
              "datasetInfos": [],
              "removedWidgets": [],
              "type": "html"
            }
          }
        }
      ]
    },
    {
      "cell_type": "code",
      "metadata": {
        "application/vnd.databricks.v1+cell": {
          "inputWidgets": {},
          "nuid": "bfffaae0-775b-494a-b1a6-53efd73e7ee6",
          "showTitle": false,
          "title": ""
        },
        "id": "IJUX0_zLcJJE",
        "outputId": "570134d2-baab-4e70-8e77-fa6d649b70a7"
      },
      "source": [
        "test_results = spam_detector.transform(test_data)\n",
        "test_results.show()"
      ],
      "execution_count": null,
      "outputs": [
        {
          "output_type": "display_data",
          "data": {
            "text/html": [
              "<style scoped>\n",
              "  .ansiout {\n",
              "    display: block;\n",
              "    unicode-bidi: embed;\n",
              "    white-space: pre-wrap;\n",
              "    word-wrap: break-word;\n",
              "    word-break: break-all;\n",
              "    font-family: \"Source Code Pro\", \"Menlo\", monospace;;\n",
              "    font-size: 13px;\n",
              "    color: #555;\n",
              "    margin-left: 4px;\n",
              "    line-height: 19px;\n",
              "  }\n",
              "</style>\n",
              "<div class=\"ansiout\">+-----+--------------------+--------------------+--------------------+----------+\n",
              "label|            features|       rawPrediction|         probability|prediction|\n",
              "+-----+--------------------+--------------------+--------------------+----------+\n",
              "  0.0|(13424,[0,1,3,9,1...|[-573.08835749228...|[0.99999999999999...|       0.0|\n",
              "  0.0|(13424,[0,1,7,8,1...|[-873.95742812119...|[1.0,2.9649021371...|       0.0|\n",
              "  0.0|(13424,[0,1,7,8,1...|[-1171.6426529057...|[1.0,5.1497547762...|       0.0|\n",
              "  0.0|(13424,[0,1,11,32...|[-868.36748032783...|[1.0,3.6385648521...|       0.0|\n",
              "  0.0|(13424,[0,1,14,31...|[-216.92864328604...|[1.0,8.7138065557...|       0.0|\n",
              "  0.0|(13424,[0,1,14,78...|[-691.08157937243...|[1.0,2.3399270281...|       0.0|\n",
              "  0.0|(13424,[0,1,20,27...|[-968.05512069082...|[1.0,2.7771567289...|       0.0|\n",
              "  0.0|(13424,[0,1,72,10...|[-715.65093388575...|[0.99999999999998...|       0.0|\n",
              "  0.0|(13424,[0,1,874,1...|[-97.824792892547...|[0.99999997080170...|       0.0|\n",
              "  0.0|(13424,[0,1,3657,...|[-144.11325601150...|[0.00328495529375...|       1.0|\n",
              "  0.0|(13424,[0,2,3,8,2...|[-1585.9602051331...|[1.0,4.3897940519...|       0.0|\n",
              "  0.0|(13424,[0,2,4,7,2...|[-516.52414549753...|[1.0,1.2355959478...|       0.0|\n",
              "  0.0|(13424,[0,2,4,8,2...|[-1420.2329807604...|[1.0,1.5426409398...|       0.0|\n",
              "  0.0|(13424,[0,2,4,11,...|[-1126.2024653362...|[1.0,4.9461966808...|       0.0|\n",
              "  0.0|(13424,[0,2,4,40,...|[-1579.8039277163...|[0.99999196359776...|       0.0|\n",
              "  0.0|(13424,[0,2,4,128...|[-640.36896628797...|[1.0,5.2622246686...|       0.0|\n",
              "  0.0|(13424,[0,2,7,31,...|[-670.36172967697...|[1.0,2.5589078734...|       0.0|\n",
              "  0.0|(13424,[0,2,7,43,...|[-594.33680467846...|[1.0,3.2284157456...|       0.0|\n",
              "  0.0|(13424,[0,2,7,60,...|[-1334.7193752061...|[1.0,1.7425092899...|       0.0|\n",
              "  0.0|(13424,[0,2,7,114...|[-456.30081350342...|[1.0,1.3513991904...|       0.0|\n",
              "+-----+--------------------+--------------------+--------------------+----------+\n",
              "only showing top 20 rows\n",
              "\n",
              "</div>"
            ]
          },
          "metadata": {
            "tags": [],
            "application/vnd.databricks.v1+output": {
              "addedWidgets": {},
              "arguments": {},
              "data": "<div class=\"ansiout\">+-----+--------------------+--------------------+--------------------+----------+\n|label|            features|       rawPrediction|         probability|prediction|\n+-----+--------------------+--------------------+--------------------+----------+\n|  0.0|(13424,[0,1,3,9,1...|[-573.08835749228...|[0.99999999999999...|       0.0|\n|  0.0|(13424,[0,1,7,8,1...|[-873.95742812119...|[1.0,2.9649021371...|       0.0|\n|  0.0|(13424,[0,1,7,8,1...|[-1171.6426529057...|[1.0,5.1497547762...|       0.0|\n|  0.0|(13424,[0,1,11,32...|[-868.36748032783...|[1.0,3.6385648521...|       0.0|\n|  0.0|(13424,[0,1,14,31...|[-216.92864328604...|[1.0,8.7138065557...|       0.0|\n|  0.0|(13424,[0,1,14,78...|[-691.08157937243...|[1.0,2.3399270281...|       0.0|\n|  0.0|(13424,[0,1,20,27...|[-968.05512069082...|[1.0,2.7771567289...|       0.0|\n|  0.0|(13424,[0,1,72,10...|[-715.65093388575...|[0.99999999999998...|       0.0|\n|  0.0|(13424,[0,1,874,1...|[-97.824792892547...|[0.99999997080170...|       0.0|\n|  0.0|(13424,[0,1,3657,...|[-144.11325601150...|[0.00328495529375...|       1.0|\n|  0.0|(13424,[0,2,3,8,2...|[-1585.9602051331...|[1.0,4.3897940519...|       0.0|\n|  0.0|(13424,[0,2,4,7,2...|[-516.52414549753...|[1.0,1.2355959478...|       0.0|\n|  0.0|(13424,[0,2,4,8,2...|[-1420.2329807604...|[1.0,1.5426409398...|       0.0|\n|  0.0|(13424,[0,2,4,11,...|[-1126.2024653362...|[1.0,4.9461966808...|       0.0|\n|  0.0|(13424,[0,2,4,40,...|[-1579.8039277163...|[0.99999196359776...|       0.0|\n|  0.0|(13424,[0,2,4,128...|[-640.36896628797...|[1.0,5.2622246686...|       0.0|\n|  0.0|(13424,[0,2,7,31,...|[-670.36172967697...|[1.0,2.5589078734...|       0.0|\n|  0.0|(13424,[0,2,7,43,...|[-594.33680467846...|[1.0,3.2284157456...|       0.0|\n|  0.0|(13424,[0,2,7,60,...|[-1334.7193752061...|[1.0,1.7425092899...|       0.0|\n|  0.0|(13424,[0,2,7,114...|[-456.30081350342...|[1.0,1.3513991904...|       0.0|\n+-----+--------------------+--------------------+--------------------+----------+\nonly showing top 20 rows\n\n</div>",
              "datasetInfos": [],
              "removedWidgets": [],
              "type": "html"
            }
          }
        }
      ]
    },
    {
      "cell_type": "code",
      "metadata": {
        "application/vnd.databricks.v1+cell": {
          "inputWidgets": {},
          "nuid": "6364cb77-e0c8-4d75-8cd0-3b8f89245f64",
          "showTitle": false,
          "title": ""
        },
        "id": "zb8iyRUIcJJE",
        "outputId": "4d394317-4c24-454f-888c-7193447f3c22"
      },
      "source": [
        "# So as to compare the label with the prediction and for this will use the multiclass classification evaluation technique\n",
        "from pyspark.ml.evaluation import MulticlassClassificationEvaluator\n",
        "acc_eval = MulticlassClassificationEvaluator()\n",
        "acc = acc_eval.evaluate(test_results)\n",
        "acc"
      ],
      "execution_count": null,
      "outputs": [
        {
          "output_type": "display_data",
          "data": {
            "text/html": [
              "<style scoped>\n",
              "  .ansiout {\n",
              "    display: block;\n",
              "    unicode-bidi: embed;\n",
              "    white-space: pre-wrap;\n",
              "    word-wrap: break-word;\n",
              "    word-break: break-all;\n",
              "    font-family: \"Source Code Pro\", \"Menlo\", monospace;;\n",
              "    font-size: 13px;\n",
              "    color: #555;\n",
              "    margin-left: 4px;\n",
              "    line-height: 19px;\n",
              "  }\n",
              "</style>\n",
              "<div class=\"ansiout\">Out[92]: 0.9176206379796041</div>"
            ]
          },
          "metadata": {
            "tags": [],
            "application/vnd.databricks.v1+output": {
              "addedWidgets": {},
              "arguments": {},
              "data": "<div class=\"ansiout\">Out[92]: 0.9176206379796041</div>",
              "datasetInfos": [],
              "removedWidgets": [],
              "type": "html"
            }
          }
        }
      ]
    },
    {
      "cell_type": "code",
      "metadata": {
        "application/vnd.databricks.v1+cell": {
          "inputWidgets": {},
          "nuid": "39fe4c91-9bec-415b-bbbd-9466c90d2591",
          "showTitle": false,
          "title": ""
        },
        "id": "m_1ODgQbcJJE",
        "outputId": "42205010-04b6-4f9d-a9fd-b5c20102804b"
      },
      "source": [
        "print('COMPLETED THE COUSE OF PYTHON AND SPARK FOR BIG-DATA WITH PYSPARK ON 19th FEBRUARY 2021')"
      ],
      "execution_count": null,
      "outputs": [
        {
          "output_type": "display_data",
          "data": {
            "text/html": [
              "<style scoped>\n",
              "  .ansiout {\n",
              "    display: block;\n",
              "    unicode-bidi: embed;\n",
              "    white-space: pre-wrap;\n",
              "    word-wrap: break-word;\n",
              "    word-break: break-all;\n",
              "    font-family: \"Source Code Pro\", \"Menlo\", monospace;;\n",
              "    font-size: 13px;\n",
              "    color: #555;\n",
              "    margin-left: 4px;\n",
              "    line-height: 19px;\n",
              "  }\n",
              "</style>\n",
              "<div class=\"ansiout\">COMPLETED THE COUSE OF PYTHON AND SPARK FOR BIG-DATA WITH PYSPARK ON 19th FEBRUARY 2021\n",
              "</div>"
            ]
          },
          "metadata": {
            "tags": [],
            "application/vnd.databricks.v1+output": {
              "addedWidgets": {},
              "arguments": {},
              "data": "<div class=\"ansiout\">COMPLETED THE COUSE OF PYTHON AND SPARK FOR BIG-DATA WITH PYSPARK ON 19th FEBRUARY 2021\n</div>",
              "datasetInfos": [],
              "removedWidgets": [],
              "type": "html"
            }
          }
        }
      ]
    },
    {
      "cell_type": "code",
      "metadata": {
        "application/vnd.databricks.v1+cell": {
          "inputWidgets": {},
          "nuid": "b97b1209-24d2-4a36-a745-97fb341fb9b0",
          "showTitle": false,
          "title": ""
        },
        "id": "SFrhctJ-cJJF",
        "outputId": "1c7c17db-9967-4b62-b584-08263469e24b"
      },
      "source": [
        ""
      ],
      "execution_count": null,
      "outputs": [
        {
          "output_type": "display_data",
          "data": {
            "text/html": [
              "<style scoped>\n",
              "  .ansiout {\n",
              "    display: block;\n",
              "    unicode-bidi: embed;\n",
              "    white-space: pre-wrap;\n",
              "    word-wrap: break-word;\n",
              "    word-break: break-all;\n",
              "    font-family: \"Source Code Pro\", \"Menlo\", monospace;;\n",
              "    font-size: 13px;\n",
              "    color: #555;\n",
              "    margin-left: 4px;\n",
              "    line-height: 19px;\n",
              "  }\n",
              "</style>"
            ]
          },
          "metadata": {
            "tags": [],
            "application/vnd.databricks.v1+output": {
              "arguments": {},
              "data": "",
              "errorSummary": "",
              "type": "ipynbError"
            }
          }
        }
      ]
    }
  ]
}